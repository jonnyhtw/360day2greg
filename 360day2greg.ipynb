{
 "cells": [
  {
   "cell_type": "markdown",
   "id": "6597af62",
   "metadata": {},
   "source": [
    "## convert daily mean 360-day calendar stuff to Gregorian"
   ]
  },
  {
   "cell_type": "markdown",
   "id": "fb6d2f05",
   "metadata": {},
   "source": [
    "## jonnyhtw/360day2greg is licensed under the GNU General Public License v3.0"
   ]
  },
  {
   "cell_type": "code",
   "execution_count": 216,
   "id": "93996c37",
   "metadata": {},
   "outputs": [],
   "source": [
    "import numpy as np\n",
    "import matplotlib.pyplot as plt\n",
    "import iris\n",
    "import xarray as xr\n",
    "import cartopy.crs as ccrs\n",
    "import cf_units as unit\n",
    "import warnings\n",
    "warnings.filterwarnings('ignore')\n",
    "from matplotlib.collections import PatchCollection\n",
    "from matplotlib.patches import Rectangle\n",
    "import cartopy\n",
    "import calendar\n",
    "import iris.plot as iplt\n",
    "import matplotlib.transforms as transforms\n",
    "import random\n",
    "import matplotlib.patches as patches\n",
    "import iris.quickplot as qplt\n",
    "from IPython.core.interactiveshell import InteractiveShell\n",
    "InteractiveShell.ast_node_interactivity = \"all\"\n",
    "import copy\n",
    "from tqdm import tqdm\n",
    "import datetime"
   ]
  },
  {
   "cell_type": "markdown",
   "id": "8ab7d445",
   "metadata": {},
   "source": [
    "## use method from http://loca.ucsd.edu/loca-calendar/ "
   ]
  },
  {
   "cell_type": "raw",
   "id": "00ea1d07",
   "metadata": {},
   "source": [
    "notes\n",
    "https://stackoverflow.com/questions/52702433/convert-calendar-using-iris    \n",
    "https://scitools.org.uk/iris/docs/v1.9.0/html/iris/iris/unit.html#iris.unit.Unit.date2num"
   ]
  },
  {
   "cell_type": "raw",
   "id": "15fbde27",
   "metadata": {},
   "source": [
    "vars\n",
    "\n",
    "precipitation_flux\n",
    "relative_humidity\n",
    "daily_max_temperature\n",
    "daily_min_temperature <---data is provided for this variable at\n",
    "net_surface_radiation\n",
    "surface_net_downward_longwave_flux\n",
    "surface_net_downward_shortwave_flux\n",
    "surface_downwelling_longwave_flux_in_air\n",
    "surface_downwelling_shortwave_flux_in_air\n",
    "air_pressure_at_sea_level\n",
    "wind_speed\n",
    "x_wind\n",
    "y_wind\n",
    "surface_upward_latent_heat_flux\n",
    "\n"
   ]
  },
  {
   "cell_type": "markdown",
   "id": "325f6172",
   "metadata": {},
   "source": [
    "## the following cell has variables for use in the 'papermill' python packge"
   ]
  },
  {
   "cell_type": "raw",
   "id": "3b97f1aa",
   "metadata": {},
   "source": [
    "NOTE THIS CELL IS 'RAW' I.E. NOT PYTHON CODE! :)\n",
    "\n",
    "export year=1971\n",
    "export var=daily_min_temperature\n",
    "papermill ./360day2greg.ipynb ./360day2greg-${var}-${year}.ipynb -p year $year -r var $var \n"
   ]
  },
  {
   "cell_type": "code",
   "execution_count": 289,
   "id": "2d41911c",
   "metadata": {
    "tags": [
     "parameters"
    ]
   },
   "outputs": [],
   "source": [
    "year = 1972\n",
    "var = 'daily_min_temperature'\n"
   ]
  },
  {
   "cell_type": "code",
   "execution_count": 290,
   "id": "b700b464",
   "metadata": {},
   "outputs": [],
   "source": [
    "if var == 'precipitation_flux':\n",
    "    units = r'[kg/m2/s]'\n",
    "if var == 'relative_humidity':\n",
    "    units = r'[%]'\n",
    "if var == 'daily_min_temperature':\n",
    "    units = r'[K]'\n",
    "if var == 'daily_max_temperature':\n",
    "    units = r'[K]'\n",
    "if var == 'net_surface_radiation':\n",
    "    units = r'[W/m2]'    \n",
    "if var == 'surface_net_downward_longwave_flux':\n",
    "    units = r'[W/m2]'\n",
    "if var == 'surface_net_downward_shortwave_flux':\n",
    "    units = r'[W/m2]'\n",
    "if var == 'surface_downwelling_longwave_flux_in_air':\n",
    "    units = r'[W/m2]'\n",
    "if var == 'surface_downwelling_shortwave_flux_in_air':\n",
    "    units = r'[W/m2]'\n",
    "if var == 'air_pressure_at_sea_level':\n",
    "    units = r'[Pa]'\n",
    "if var == 'wind_speed':\n",
    "    units = r'[m/s]'\n",
    "if var == 'x_wind':\n",
    "    units = r'[m/s]'\n",
    "if var == 'y_wind':\n",
    "    units = r'[Pa]'\n",
    "if var == 'surface_upward_latent_heat_flux':\n",
    "    units = r'[W/m2]'"
   ]
  },
  {
   "cell_type": "code",
   "execution_count": null,
   "id": "cf2d2c82",
   "metadata": {},
   "outputs": [],
   "source": []
  },
  {
   "cell_type": "code",
   "execution_count": 291,
   "id": "3e87fdf9",
   "metadata": {},
   "outputs": [],
   "source": [
    "path  = './'\n",
    "\n",
    "if not os.path.exists(path+'gregorian'):\n",
    "    print('creating gregorian folder')\n",
    "    os.makedirs(path+'gregorian')\n",
    "    \n",
    "if not os.path.exists(path+'gregorian/pdfs'):\n",
    "    print('creating pdfs folder')\n",
    "    os.makedirs(path+'gregorian/pdfs')\n",
    "    \n",
    "    "
   ]
  },
  {
   "cell_type": "code",
   "execution_count": 303,
   "id": "480af540",
   "metadata": {},
   "outputs": [],
   "source": [
    "cube = iris.load_cube(path+'daily_min_temperature-1971-1972.nc', var &\n",
    "                      iris.Constraint(time=lambda cell: cell.point.year == year)) \n"
   ]
  },
  {
   "cell_type": "code",
   "execution_count": 306,
   "id": "cc5e506b",
   "metadata": {},
   "outputs": [],
   "source": [
    "# notes on file preparation for github and zenodo\n",
    "\n",
    "# cdo selvar,daily_min_temperature one.nc two.nc\n",
    "\n",
    "# cdo selyear,1971,1972 two.nc three.nc\n",
    "\n",
    "# cube = iris.load('three.nc')\n",
    "\n",
    "# cube.attributes = None\n",
    "\n",
    "# cube.coord('projection_x_coordinate').rename('longitude')\n",
    "# cube.coord('projection_y_coordinate').rename('latitude')\n",
    "\n",
    "# iris.save(cube,'./daily_min_temperature-1971-1972.nc')\n"
   ]
  },
  {
   "cell_type": "code",
   "execution_count": null,
   "id": "c29fc95d",
   "metadata": {},
   "outputs": [],
   "source": []
  },
  {
   "cell_type": "code",
   "execution_count": null,
   "id": "8a8419e7",
   "metadata": {},
   "outputs": [],
   "source": []
  },
  {
   "cell_type": "code",
   "execution_count": 229,
   "id": "43c4621d",
   "metadata": {},
   "outputs": [
    {
     "name": "stderr",
     "output_type": "stream",
     "text": [
      "100%|███████████████████████████████████████████████████████████████████████████████████████████████████████| 360/360 [00:01<00:00, 239.16it/s]\n"
     ]
    }
   ],
   "source": [
    "split_cube = {}\n",
    "\n",
    "for i in tqdm(range(360)):\n",
    "    split_cube[str(i)] = copy.deepcopy(cube[i])"
   ]
  },
  {
   "cell_type": "code",
   "execution_count": 230,
   "id": "922ea7cd",
   "metadata": {},
   "outputs": [
    {
     "data": {
      "text/plain": [
       "dict_keys(['0', '1', '2', '3', '4', '5', '6', '7', '8', '9', '10', '11', '12', '13', '14', '15', '16', '17', '18', '19', '20', '21', '22', '23', '24', '25', '26', '27', '28', '29', '30', '31', '32', '33', '34', '35', '36', '37', '38', '39', '40', '41', '42', '43', '44', '45', '46', '47', '48', '49', '50', '51', '52', '53', '54', '55', '56', '57', '58', '59', '60', '61', '62', '63', '64', '65', '66', '67', '68', '69', '70', '71', '72', '73', '74', '75', '76', '77', '78', '79', '80', '81', '82', '83', '84', '85', '86', '87', '88', '89', '90', '91', '92', '93', '94', '95', '96', '97', '98', '99', '100', '101', '102', '103', '104', '105', '106', '107', '108', '109', '110', '111', '112', '113', '114', '115', '116', '117', '118', '119', '120', '121', '122', '123', '124', '125', '126', '127', '128', '129', '130', '131', '132', '133', '134', '135', '136', '137', '138', '139', '140', '141', '142', '143', '144', '145', '146', '147', '148', '149', '150', '151', '152', '153', '154', '155', '156', '157', '158', '159', '160', '161', '162', '163', '164', '165', '166', '167', '168', '169', '170', '171', '172', '173', '174', '175', '176', '177', '178', '179', '180', '181', '182', '183', '184', '185', '186', '187', '188', '189', '190', '191', '192', '193', '194', '195', '196', '197', '198', '199', '200', '201', '202', '203', '204', '205', '206', '207', '208', '209', '210', '211', '212', '213', '214', '215', '216', '217', '218', '219', '220', '221', '222', '223', '224', '225', '226', '227', '228', '229', '230', '231', '232', '233', '234', '235', '236', '237', '238', '239', '240', '241', '242', '243', '244', '245', '246', '247', '248', '249', '250', '251', '252', '253', '254', '255', '256', '257', '258', '259', '260', '261', '262', '263', '264', '265', '266', '267', '268', '269', '270', '271', '272', '273', '274', '275', '276', '277', '278', '279', '280', '281', '282', '283', '284', '285', '286', '287', '288', '289', '290', '291', '292', '293', '294', '295', '296', '297', '298', '299', '300', '301', '302', '303', '304', '305', '306', '307', '308', '309', '310', '311', '312', '313', '314', '315', '316', '317', '318', '319', '320', '321', '322', '323', '324', '325', '326', '327', '328', '329', '330', '331', '332', '333', '334', '335', '336', '337', '338', '339', '340', '341', '342', '343', '344', '345', '346', '347', '348', '349', '350', '351', '352', '353', '354', '355', '356', '357', '358', '359'])"
      ]
     },
     "execution_count": 230,
     "metadata": {},
     "output_type": "execute_result"
    }
   ],
   "source": [
    "split_cube.keys()"
   ]
  },
  {
   "cell_type": "code",
   "execution_count": 231,
   "id": "de1af36f",
   "metadata": {},
   "outputs": [
    {
     "data": {
      "text/plain": [
       "360"
      ]
     },
     "execution_count": 231,
     "metadata": {},
     "output_type": "execute_result"
    }
   ],
   "source": [
    "len(split_cube)\n"
   ]
  },
  {
   "cell_type": "raw",
   "id": "0e5e76a7",
   "metadata": {},
   "source": [
    "now split the year into 5 chunks of 72 days and add days accordingly..."
   ]
  },
  {
   "cell_type": "code",
   "execution_count": 232,
   "id": "cff6e8ee",
   "metadata": {},
   "outputs": [
    {
     "name": "stdout",
     "output_type": "stream",
     "text": [
      "[25, 81, 185, 224, 300]\n"
     ]
    }
   ],
   "source": [
    "random.seed(year)\n",
    "\n",
    "rands = []\n",
    "\n",
    "for i in range(5):\n",
    "\n",
    "    myrand = random.randrange(0 + i * 72, 72 + i * 72)\n",
    "    \n",
    "    if myrand == 359:\n",
    "        myrand -= 1 \n",
    "    \n",
    "    rands.append(myrand)\n",
    "\n",
    "print(rands)"
   ]
  },
  {
   "cell_type": "code",
   "execution_count": null,
   "id": "6e9df691",
   "metadata": {},
   "outputs": [],
   "source": []
  },
  {
   "cell_type": "code",
   "execution_count": 233,
   "id": "90491860",
   "metadata": {},
   "outputs": [],
   "source": [
    "u = unit.Unit('days since 0001-01-01 00:00:00', calendar='proleptic_gregorian')"
   ]
  },
  {
   "cell_type": "code",
   "execution_count": 234,
   "id": "a59055ed",
   "metadata": {},
   "outputs": [
    {
     "name": "stdout",
     "output_type": "stream",
     "text": [
      "0\n"
     ]
    },
    {
     "data": {
      "text/plain": [
       "<DimCoord: time / (days since 0001-01-01 00:00:00)  [0024-09-09 00:00:00]+bounds>"
      ]
     },
     "execution_count": 234,
     "metadata": {},
     "output_type": "execute_result"
    },
    {
     "data": {
      "text/plain": [
       "<DimCoord: time / (days since 0001-01-01 00:00:00)  [1971-01-01 00:00:00]+bounds>"
      ]
     },
     "execution_count": 234,
     "metadata": {},
     "output_type": "execute_result"
    },
    {
     "name": "stdout",
     "output_type": "stream",
     "text": [
      "1\n"
     ]
    },
    {
     "data": {
      "text/plain": [
       "<DimCoord: time / (days since 0001-01-01 00:00:00)  [0024-10-03 00:00:00]+bounds>"
      ]
     },
     "execution_count": 234,
     "metadata": {},
     "output_type": "execute_result"
    },
    {
     "data": {
      "text/plain": [
       "<DimCoord: time / (days since 0001-01-01 00:00:00)  [1971-01-02 00:00:00]+bounds>"
      ]
     },
     "execution_count": 234,
     "metadata": {},
     "output_type": "execute_result"
    },
    {
     "name": "stdout",
     "output_type": "stream",
     "text": [
      "2\n"
     ]
    },
    {
     "data": {
      "text/plain": [
       "<DimCoord: time / (days since 0001-01-01 00:00:00)  [0024-10-27 00:00:00]+bounds>"
      ]
     },
     "execution_count": 234,
     "metadata": {},
     "output_type": "execute_result"
    },
    {
     "data": {
      "text/plain": [
       "<DimCoord: time / (days since 0001-01-01 00:00:00)  [1971-01-03 00:00:00]+bounds>"
      ]
     },
     "execution_count": 234,
     "metadata": {},
     "output_type": "execute_result"
    },
    {
     "name": "stdout",
     "output_type": "stream",
     "text": [
      "3\n"
     ]
    },
    {
     "data": {
      "text/plain": [
       "<DimCoord: time / (days since 0001-01-01 00:00:00)  [0024-11-20 00:00:00]+bounds>"
      ]
     },
     "execution_count": 234,
     "metadata": {},
     "output_type": "execute_result"
    },
    {
     "data": {
      "text/plain": [
       "<DimCoord: time / (days since 0001-01-01 00:00:00)  [1971-01-04 00:00:00]+bounds>"
      ]
     },
     "execution_count": 234,
     "metadata": {},
     "output_type": "execute_result"
    },
    {
     "name": "stdout",
     "output_type": "stream",
     "text": [
      "4\n"
     ]
    },
    {
     "data": {
      "text/plain": [
       "<DimCoord: time / (days since 0001-01-01 00:00:00)  [0024-12-14 00:00:00]+bounds>"
      ]
     },
     "execution_count": 234,
     "metadata": {},
     "output_type": "execute_result"
    },
    {
     "data": {
      "text/plain": [
       "<DimCoord: time / (days since 0001-01-01 00:00:00)  [1971-01-05 00:00:00]+bounds>"
      ]
     },
     "execution_count": 234,
     "metadata": {},
     "output_type": "execute_result"
    },
    {
     "name": "stdout",
     "output_type": "stream",
     "text": [
      "5\n"
     ]
    },
    {
     "data": {
      "text/plain": [
       "<DimCoord: time / (days since 0001-01-01 00:00:00)  [0025-01-07 00:00:00]+bounds>"
      ]
     },
     "execution_count": 234,
     "metadata": {},
     "output_type": "execute_result"
    },
    {
     "data": {
      "text/plain": [
       "<DimCoord: time / (days since 0001-01-01 00:00:00)  [1971-01-06 00:00:00]+bounds>"
      ]
     },
     "execution_count": 234,
     "metadata": {},
     "output_type": "execute_result"
    },
    {
     "name": "stdout",
     "output_type": "stream",
     "text": [
      "6\n"
     ]
    },
    {
     "data": {
      "text/plain": [
       "<DimCoord: time / (days since 0001-01-01 00:00:00)  [0025-01-31 00:00:00]+bounds>"
      ]
     },
     "execution_count": 234,
     "metadata": {},
     "output_type": "execute_result"
    },
    {
     "data": {
      "text/plain": [
       "<DimCoord: time / (days since 0001-01-01 00:00:00)  [1971-01-07 00:00:00]+bounds>"
      ]
     },
     "execution_count": 234,
     "metadata": {},
     "output_type": "execute_result"
    },
    {
     "name": "stdout",
     "output_type": "stream",
     "text": [
      "7\n"
     ]
    },
    {
     "data": {
      "text/plain": [
       "<DimCoord: time / (days since 0001-01-01 00:00:00)  [0025-02-24 00:00:00]+bounds>"
      ]
     },
     "execution_count": 234,
     "metadata": {},
     "output_type": "execute_result"
    },
    {
     "data": {
      "text/plain": [
       "<DimCoord: time / (days since 0001-01-01 00:00:00)  [1971-01-08 00:00:00]+bounds>"
      ]
     },
     "execution_count": 234,
     "metadata": {},
     "output_type": "execute_result"
    },
    {
     "name": "stdout",
     "output_type": "stream",
     "text": [
      "8\n"
     ]
    },
    {
     "data": {
      "text/plain": [
       "<DimCoord: time / (days since 0001-01-01 00:00:00)  [0025-03-20 00:00:00]+bounds>"
      ]
     },
     "execution_count": 234,
     "metadata": {},
     "output_type": "execute_result"
    },
    {
     "data": {
      "text/plain": [
       "<DimCoord: time / (days since 0001-01-01 00:00:00)  [1971-01-09 00:00:00]+bounds>"
      ]
     },
     "execution_count": 234,
     "metadata": {},
     "output_type": "execute_result"
    },
    {
     "name": "stdout",
     "output_type": "stream",
     "text": [
      "9\n"
     ]
    },
    {
     "data": {
      "text/plain": [
       "<DimCoord: time / (days since 0001-01-01 00:00:00)  [0025-04-13 00:00:00]+bounds>"
      ]
     },
     "execution_count": 234,
     "metadata": {},
     "output_type": "execute_result"
    },
    {
     "data": {
      "text/plain": [
       "<DimCoord: time / (days since 0001-01-01 00:00:00)  [1971-01-10 00:00:00]+bounds>"
      ]
     },
     "execution_count": 234,
     "metadata": {},
     "output_type": "execute_result"
    },
    {
     "name": "stdout",
     "output_type": "stream",
     "text": [
      "10\n"
     ]
    },
    {
     "data": {
      "text/plain": [
       "<DimCoord: time / (days since 0001-01-01 00:00:00)  [0025-05-07 00:00:00]+bounds>"
      ]
     },
     "execution_count": 234,
     "metadata": {},
     "output_type": "execute_result"
    },
    {
     "data": {
      "text/plain": [
       "<DimCoord: time / (days since 0001-01-01 00:00:00)  [1971-01-11 00:00:00]+bounds>"
      ]
     },
     "execution_count": 234,
     "metadata": {},
     "output_type": "execute_result"
    },
    {
     "name": "stdout",
     "output_type": "stream",
     "text": [
      "11\n"
     ]
    },
    {
     "data": {
      "text/plain": [
       "<DimCoord: time / (days since 0001-01-01 00:00:00)  [0025-05-31 00:00:00]+bounds>"
      ]
     },
     "execution_count": 234,
     "metadata": {},
     "output_type": "execute_result"
    },
    {
     "data": {
      "text/plain": [
       "<DimCoord: time / (days since 0001-01-01 00:00:00)  [1971-01-12 00:00:00]+bounds>"
      ]
     },
     "execution_count": 234,
     "metadata": {},
     "output_type": "execute_result"
    },
    {
     "name": "stdout",
     "output_type": "stream",
     "text": [
      "12\n"
     ]
    },
    {
     "data": {
      "text/plain": [
       "<DimCoord: time / (days since 0001-01-01 00:00:00)  [0025-06-24 00:00:00]+bounds>"
      ]
     },
     "execution_count": 234,
     "metadata": {},
     "output_type": "execute_result"
    },
    {
     "data": {
      "text/plain": [
       "<DimCoord: time / (days since 0001-01-01 00:00:00)  [1971-01-13 00:00:00]+bounds>"
      ]
     },
     "execution_count": 234,
     "metadata": {},
     "output_type": "execute_result"
    },
    {
     "name": "stdout",
     "output_type": "stream",
     "text": [
      "13\n"
     ]
    },
    {
     "data": {
      "text/plain": [
       "<DimCoord: time / (days since 0001-01-01 00:00:00)  [0025-07-18 00:00:00]+bounds>"
      ]
     },
     "execution_count": 234,
     "metadata": {},
     "output_type": "execute_result"
    },
    {
     "data": {
      "text/plain": [
       "<DimCoord: time / (days since 0001-01-01 00:00:00)  [1971-01-14 00:00:00]+bounds>"
      ]
     },
     "execution_count": 234,
     "metadata": {},
     "output_type": "execute_result"
    },
    {
     "name": "stdout",
     "output_type": "stream",
     "text": [
      "14\n"
     ]
    },
    {
     "data": {
      "text/plain": [
       "<DimCoord: time / (days since 0001-01-01 00:00:00)  [0025-08-11 00:00:00]+bounds>"
      ]
     },
     "execution_count": 234,
     "metadata": {},
     "output_type": "execute_result"
    },
    {
     "data": {
      "text/plain": [
       "<DimCoord: time / (days since 0001-01-01 00:00:00)  [1971-01-15 00:00:00]+bounds>"
      ]
     },
     "execution_count": 234,
     "metadata": {},
     "output_type": "execute_result"
    },
    {
     "name": "stdout",
     "output_type": "stream",
     "text": [
      "15\n"
     ]
    },
    {
     "data": {
      "text/plain": [
       "<DimCoord: time / (days since 0001-01-01 00:00:00)  [0025-09-04 00:00:00]+bounds>"
      ]
     },
     "execution_count": 234,
     "metadata": {},
     "output_type": "execute_result"
    },
    {
     "data": {
      "text/plain": [
       "<DimCoord: time / (days since 0001-01-01 00:00:00)  [1971-01-16 00:00:00]+bounds>"
      ]
     },
     "execution_count": 234,
     "metadata": {},
     "output_type": "execute_result"
    },
    {
     "name": "stdout",
     "output_type": "stream",
     "text": [
      "16\n"
     ]
    },
    {
     "data": {
      "text/plain": [
       "<DimCoord: time / (days since 0001-01-01 00:00:00)  [0025-09-28 00:00:00]+bounds>"
      ]
     },
     "execution_count": 234,
     "metadata": {},
     "output_type": "execute_result"
    },
    {
     "data": {
      "text/plain": [
       "<DimCoord: time / (days since 0001-01-01 00:00:00)  [1971-01-17 00:00:00]+bounds>"
      ]
     },
     "execution_count": 234,
     "metadata": {},
     "output_type": "execute_result"
    },
    {
     "name": "stdout",
     "output_type": "stream",
     "text": [
      "17\n"
     ]
    },
    {
     "data": {
      "text/plain": [
       "<DimCoord: time / (days since 0001-01-01 00:00:00)  [0025-10-22 00:00:00]+bounds>"
      ]
     },
     "execution_count": 234,
     "metadata": {},
     "output_type": "execute_result"
    },
    {
     "data": {
      "text/plain": [
       "<DimCoord: time / (days since 0001-01-01 00:00:00)  [1971-01-18 00:00:00]+bounds>"
      ]
     },
     "execution_count": 234,
     "metadata": {},
     "output_type": "execute_result"
    },
    {
     "name": "stdout",
     "output_type": "stream",
     "text": [
      "18\n"
     ]
    },
    {
     "data": {
      "text/plain": [
       "<DimCoord: time / (days since 0001-01-01 00:00:00)  [0025-11-15 00:00:00]+bounds>"
      ]
     },
     "execution_count": 234,
     "metadata": {},
     "output_type": "execute_result"
    },
    {
     "data": {
      "text/plain": [
       "<DimCoord: time / (days since 0001-01-01 00:00:00)  [1971-01-19 00:00:00]+bounds>"
      ]
     },
     "execution_count": 234,
     "metadata": {},
     "output_type": "execute_result"
    },
    {
     "name": "stdout",
     "output_type": "stream",
     "text": [
      "19\n"
     ]
    },
    {
     "data": {
      "text/plain": [
       "<DimCoord: time / (days since 0001-01-01 00:00:00)  [0025-12-09 00:00:00]+bounds>"
      ]
     },
     "execution_count": 234,
     "metadata": {},
     "output_type": "execute_result"
    },
    {
     "data": {
      "text/plain": [
       "<DimCoord: time / (days since 0001-01-01 00:00:00)  [1971-01-20 00:00:00]+bounds>"
      ]
     },
     "execution_count": 234,
     "metadata": {},
     "output_type": "execute_result"
    },
    {
     "name": "stdout",
     "output_type": "stream",
     "text": [
      "20\n"
     ]
    },
    {
     "data": {
      "text/plain": [
       "<DimCoord: time / (days since 0001-01-01 00:00:00)  [0026-01-02 00:00:00]+bounds>"
      ]
     },
     "execution_count": 234,
     "metadata": {},
     "output_type": "execute_result"
    },
    {
     "data": {
      "text/plain": [
       "<DimCoord: time / (days since 0001-01-01 00:00:00)  [1971-01-21 00:00:00]+bounds>"
      ]
     },
     "execution_count": 234,
     "metadata": {},
     "output_type": "execute_result"
    },
    {
     "name": "stdout",
     "output_type": "stream",
     "text": [
      "21\n"
     ]
    },
    {
     "data": {
      "text/plain": [
       "<DimCoord: time / (days since 0001-01-01 00:00:00)  [0026-01-26 00:00:00]+bounds>"
      ]
     },
     "execution_count": 234,
     "metadata": {},
     "output_type": "execute_result"
    },
    {
     "data": {
      "text/plain": [
       "<DimCoord: time / (days since 0001-01-01 00:00:00)  [1971-01-22 00:00:00]+bounds>"
      ]
     },
     "execution_count": 234,
     "metadata": {},
     "output_type": "execute_result"
    },
    {
     "name": "stdout",
     "output_type": "stream",
     "text": [
      "22\n"
     ]
    },
    {
     "data": {
      "text/plain": [
       "<DimCoord: time / (days since 0001-01-01 00:00:00)  [0026-02-19 00:00:00]+bounds>"
      ]
     },
     "execution_count": 234,
     "metadata": {},
     "output_type": "execute_result"
    },
    {
     "data": {
      "text/plain": [
       "<DimCoord: time / (days since 0001-01-01 00:00:00)  [1971-01-23 00:00:00]+bounds>"
      ]
     },
     "execution_count": 234,
     "metadata": {},
     "output_type": "execute_result"
    },
    {
     "name": "stdout",
     "output_type": "stream",
     "text": [
      "23\n"
     ]
    },
    {
     "data": {
      "text/plain": [
       "<DimCoord: time / (days since 0001-01-01 00:00:00)  [0026-03-15 00:00:00]+bounds>"
      ]
     },
     "execution_count": 234,
     "metadata": {},
     "output_type": "execute_result"
    },
    {
     "data": {
      "text/plain": [
       "<DimCoord: time / (days since 0001-01-01 00:00:00)  [1971-01-24 00:00:00]+bounds>"
      ]
     },
     "execution_count": 234,
     "metadata": {},
     "output_type": "execute_result"
    },
    {
     "name": "stdout",
     "output_type": "stream",
     "text": [
      "24\n"
     ]
    },
    {
     "data": {
      "text/plain": [
       "<DimCoord: time / (days since 0001-01-01 00:00:00)  [0026-04-08 00:00:00]+bounds>"
      ]
     },
     "execution_count": 234,
     "metadata": {},
     "output_type": "execute_result"
    },
    {
     "data": {
      "text/plain": [
       "<DimCoord: time / (days since 0001-01-01 00:00:00)  [1971-01-25 00:00:00]+bounds>"
      ]
     },
     "execution_count": 234,
     "metadata": {},
     "output_type": "execute_result"
    },
    {
     "name": "stdout",
     "output_type": "stream",
     "text": [
      "25\n"
     ]
    },
    {
     "data": {
      "text/plain": [
       "<DimCoord: time / (days since 0001-01-01 00:00:00)  [0026-05-02 00:00:00]+bounds>"
      ]
     },
     "execution_count": 234,
     "metadata": {},
     "output_type": "execute_result"
    },
    {
     "data": {
      "text/plain": [
       "<DimCoord: time / (days since 0001-01-01 00:00:00)  [1971-01-26 00:00:00]+bounds>"
      ]
     },
     "execution_count": 234,
     "metadata": {},
     "output_type": "execute_result"
    },
    {
     "name": "stdout",
     "output_type": "stream",
     "text": [
      "26\n"
     ]
    },
    {
     "data": {
      "text/plain": [
       "<DimCoord: time / (days since 0001-01-01 00:00:00)  [0026-05-26 00:00:00]+bounds>"
      ]
     },
     "execution_count": 234,
     "metadata": {},
     "output_type": "execute_result"
    },
    {
     "data": {
      "text/plain": [
       "<DimCoord: time / (days since 0001-01-01 00:00:00)  [1971-01-27 00:00:00]+bounds>"
      ]
     },
     "execution_count": 234,
     "metadata": {},
     "output_type": "execute_result"
    },
    {
     "name": "stdout",
     "output_type": "stream",
     "text": [
      "27\n"
     ]
    },
    {
     "data": {
      "text/plain": [
       "<DimCoord: time / (days since 0001-01-01 00:00:00)  [0026-06-19 00:00:00]+bounds>"
      ]
     },
     "execution_count": 234,
     "metadata": {},
     "output_type": "execute_result"
    },
    {
     "data": {
      "text/plain": [
       "<DimCoord: time / (days since 0001-01-01 00:00:00)  [1971-01-28 00:00:00]+bounds>"
      ]
     },
     "execution_count": 234,
     "metadata": {},
     "output_type": "execute_result"
    },
    {
     "name": "stdout",
     "output_type": "stream",
     "text": [
      "28\n"
     ]
    },
    {
     "data": {
      "text/plain": [
       "<DimCoord: time / (days since 0001-01-01 00:00:00)  [0026-07-13 00:00:00]+bounds>"
      ]
     },
     "execution_count": 234,
     "metadata": {},
     "output_type": "execute_result"
    },
    {
     "data": {
      "text/plain": [
       "<DimCoord: time / (days since 0001-01-01 00:00:00)  [1971-01-29 00:00:00]+bounds>"
      ]
     },
     "execution_count": 234,
     "metadata": {},
     "output_type": "execute_result"
    },
    {
     "name": "stdout",
     "output_type": "stream",
     "text": [
      "29\n"
     ]
    },
    {
     "data": {
      "text/plain": [
       "<DimCoord: time / (days since 0001-01-01 00:00:00)  [0026-08-06 00:00:00]+bounds>"
      ]
     },
     "execution_count": 234,
     "metadata": {},
     "output_type": "execute_result"
    },
    {
     "data": {
      "text/plain": [
       "<DimCoord: time / (days since 0001-01-01 00:00:00)  [1971-01-30 00:00:00]+bounds>"
      ]
     },
     "execution_count": 234,
     "metadata": {},
     "output_type": "execute_result"
    },
    {
     "name": "stdout",
     "output_type": "stream",
     "text": [
      "30\n"
     ]
    },
    {
     "data": {
      "text/plain": [
       "<DimCoord: time / (days since 0001-01-01 00:00:00)  [0026-08-30 00:00:00]+bounds>"
      ]
     },
     "execution_count": 234,
     "metadata": {},
     "output_type": "execute_result"
    },
    {
     "data": {
      "text/plain": [
       "<DimCoord: time / (days since 0001-01-01 00:00:00)  [1971-01-31 00:00:00]+bounds>"
      ]
     },
     "execution_count": 234,
     "metadata": {},
     "output_type": "execute_result"
    },
    {
     "name": "stdout",
     "output_type": "stream",
     "text": [
      "31\n"
     ]
    },
    {
     "data": {
      "text/plain": [
       "<DimCoord: time / (days since 0001-01-01 00:00:00)  [0026-09-23 00:00:00]+bounds>"
      ]
     },
     "execution_count": 234,
     "metadata": {},
     "output_type": "execute_result"
    },
    {
     "data": {
      "text/plain": [
       "<DimCoord: time / (days since 0001-01-01 00:00:00)  [1971-02-01 00:00:00]+bounds>"
      ]
     },
     "execution_count": 234,
     "metadata": {},
     "output_type": "execute_result"
    },
    {
     "name": "stdout",
     "output_type": "stream",
     "text": [
      "32\n"
     ]
    },
    {
     "data": {
      "text/plain": [
       "<DimCoord: time / (days since 0001-01-01 00:00:00)  [0026-10-17 00:00:00]+bounds>"
      ]
     },
     "execution_count": 234,
     "metadata": {},
     "output_type": "execute_result"
    },
    {
     "data": {
      "text/plain": [
       "<DimCoord: time / (days since 0001-01-01 00:00:00)  [1971-02-02 00:00:00]+bounds>"
      ]
     },
     "execution_count": 234,
     "metadata": {},
     "output_type": "execute_result"
    },
    {
     "name": "stdout",
     "output_type": "stream",
     "text": [
      "33\n"
     ]
    },
    {
     "data": {
      "text/plain": [
       "<DimCoord: time / (days since 0001-01-01 00:00:00)  [0026-11-10 00:00:00]+bounds>"
      ]
     },
     "execution_count": 234,
     "metadata": {},
     "output_type": "execute_result"
    },
    {
     "data": {
      "text/plain": [
       "<DimCoord: time / (days since 0001-01-01 00:00:00)  [1971-02-03 00:00:00]+bounds>"
      ]
     },
     "execution_count": 234,
     "metadata": {},
     "output_type": "execute_result"
    },
    {
     "name": "stdout",
     "output_type": "stream",
     "text": [
      "34\n"
     ]
    },
    {
     "data": {
      "text/plain": [
       "<DimCoord: time / (days since 0001-01-01 00:00:00)  [0026-12-04 00:00:00]+bounds>"
      ]
     },
     "execution_count": 234,
     "metadata": {},
     "output_type": "execute_result"
    },
    {
     "data": {
      "text/plain": [
       "<DimCoord: time / (days since 0001-01-01 00:00:00)  [1971-02-04 00:00:00]+bounds>"
      ]
     },
     "execution_count": 234,
     "metadata": {},
     "output_type": "execute_result"
    },
    {
     "name": "stdout",
     "output_type": "stream",
     "text": [
      "35\n"
     ]
    },
    {
     "data": {
      "text/plain": [
       "<DimCoord: time / (days since 0001-01-01 00:00:00)  [0026-12-28 00:00:00]+bounds>"
      ]
     },
     "execution_count": 234,
     "metadata": {},
     "output_type": "execute_result"
    },
    {
     "data": {
      "text/plain": [
       "<DimCoord: time / (days since 0001-01-01 00:00:00)  [1971-02-05 00:00:00]+bounds>"
      ]
     },
     "execution_count": 234,
     "metadata": {},
     "output_type": "execute_result"
    },
    {
     "name": "stdout",
     "output_type": "stream",
     "text": [
      "36\n"
     ]
    },
    {
     "data": {
      "text/plain": [
       "<DimCoord: time / (days since 0001-01-01 00:00:00)  [0027-01-21 00:00:00]+bounds>"
      ]
     },
     "execution_count": 234,
     "metadata": {},
     "output_type": "execute_result"
    },
    {
     "data": {
      "text/plain": [
       "<DimCoord: time / (days since 0001-01-01 00:00:00)  [1971-02-06 00:00:00]+bounds>"
      ]
     },
     "execution_count": 234,
     "metadata": {},
     "output_type": "execute_result"
    },
    {
     "name": "stdout",
     "output_type": "stream",
     "text": [
      "37\n"
     ]
    },
    {
     "data": {
      "text/plain": [
       "<DimCoord: time / (days since 0001-01-01 00:00:00)  [0027-02-14 00:00:00]+bounds>"
      ]
     },
     "execution_count": 234,
     "metadata": {},
     "output_type": "execute_result"
    },
    {
     "data": {
      "text/plain": [
       "<DimCoord: time / (days since 0001-01-01 00:00:00)  [1971-02-07 00:00:00]+bounds>"
      ]
     },
     "execution_count": 234,
     "metadata": {},
     "output_type": "execute_result"
    },
    {
     "name": "stdout",
     "output_type": "stream",
     "text": [
      "38\n"
     ]
    },
    {
     "data": {
      "text/plain": [
       "<DimCoord: time / (days since 0001-01-01 00:00:00)  [0027-03-10 00:00:00]+bounds>"
      ]
     },
     "execution_count": 234,
     "metadata": {},
     "output_type": "execute_result"
    },
    {
     "data": {
      "text/plain": [
       "<DimCoord: time / (days since 0001-01-01 00:00:00)  [1971-02-08 00:00:00]+bounds>"
      ]
     },
     "execution_count": 234,
     "metadata": {},
     "output_type": "execute_result"
    },
    {
     "name": "stdout",
     "output_type": "stream",
     "text": [
      "39\n"
     ]
    },
    {
     "data": {
      "text/plain": [
       "<DimCoord: time / (days since 0001-01-01 00:00:00)  [0027-04-03 00:00:00]+bounds>"
      ]
     },
     "execution_count": 234,
     "metadata": {},
     "output_type": "execute_result"
    },
    {
     "data": {
      "text/plain": [
       "<DimCoord: time / (days since 0001-01-01 00:00:00)  [1971-02-09 00:00:00]+bounds>"
      ]
     },
     "execution_count": 234,
     "metadata": {},
     "output_type": "execute_result"
    },
    {
     "name": "stdout",
     "output_type": "stream",
     "text": [
      "40\n"
     ]
    },
    {
     "data": {
      "text/plain": [
       "<DimCoord: time / (days since 0001-01-01 00:00:00)  [0027-04-27 00:00:00]+bounds>"
      ]
     },
     "execution_count": 234,
     "metadata": {},
     "output_type": "execute_result"
    },
    {
     "data": {
      "text/plain": [
       "<DimCoord: time / (days since 0001-01-01 00:00:00)  [1971-02-10 00:00:00]+bounds>"
      ]
     },
     "execution_count": 234,
     "metadata": {},
     "output_type": "execute_result"
    },
    {
     "name": "stdout",
     "output_type": "stream",
     "text": [
      "41\n"
     ]
    },
    {
     "data": {
      "text/plain": [
       "<DimCoord: time / (days since 0001-01-01 00:00:00)  [0027-05-21 00:00:00]+bounds>"
      ]
     },
     "execution_count": 234,
     "metadata": {},
     "output_type": "execute_result"
    },
    {
     "data": {
      "text/plain": [
       "<DimCoord: time / (days since 0001-01-01 00:00:00)  [1971-02-11 00:00:00]+bounds>"
      ]
     },
     "execution_count": 234,
     "metadata": {},
     "output_type": "execute_result"
    },
    {
     "name": "stdout",
     "output_type": "stream",
     "text": [
      "42\n"
     ]
    },
    {
     "data": {
      "text/plain": [
       "<DimCoord: time / (days since 0001-01-01 00:00:00)  [0027-06-14 00:00:00]+bounds>"
      ]
     },
     "execution_count": 234,
     "metadata": {},
     "output_type": "execute_result"
    },
    {
     "data": {
      "text/plain": [
       "<DimCoord: time / (days since 0001-01-01 00:00:00)  [1971-02-12 00:00:00]+bounds>"
      ]
     },
     "execution_count": 234,
     "metadata": {},
     "output_type": "execute_result"
    },
    {
     "name": "stdout",
     "output_type": "stream",
     "text": [
      "43\n"
     ]
    },
    {
     "data": {
      "text/plain": [
       "<DimCoord: time / (days since 0001-01-01 00:00:00)  [0027-07-08 00:00:00]+bounds>"
      ]
     },
     "execution_count": 234,
     "metadata": {},
     "output_type": "execute_result"
    },
    {
     "data": {
      "text/plain": [
       "<DimCoord: time / (days since 0001-01-01 00:00:00)  [1971-02-13 00:00:00]+bounds>"
      ]
     },
     "execution_count": 234,
     "metadata": {},
     "output_type": "execute_result"
    },
    {
     "name": "stdout",
     "output_type": "stream",
     "text": [
      "44\n"
     ]
    },
    {
     "data": {
      "text/plain": [
       "<DimCoord: time / (days since 0001-01-01 00:00:00)  [0027-08-01 00:00:00]+bounds>"
      ]
     },
     "execution_count": 234,
     "metadata": {},
     "output_type": "execute_result"
    },
    {
     "data": {
      "text/plain": [
       "<DimCoord: time / (days since 0001-01-01 00:00:00)  [1971-02-14 00:00:00]+bounds>"
      ]
     },
     "execution_count": 234,
     "metadata": {},
     "output_type": "execute_result"
    },
    {
     "name": "stdout",
     "output_type": "stream",
     "text": [
      "45\n"
     ]
    },
    {
     "data": {
      "text/plain": [
       "<DimCoord: time / (days since 0001-01-01 00:00:00)  [0027-08-25 00:00:00]+bounds>"
      ]
     },
     "execution_count": 234,
     "metadata": {},
     "output_type": "execute_result"
    },
    {
     "data": {
      "text/plain": [
       "<DimCoord: time / (days since 0001-01-01 00:00:00)  [1971-02-15 00:00:00]+bounds>"
      ]
     },
     "execution_count": 234,
     "metadata": {},
     "output_type": "execute_result"
    },
    {
     "name": "stdout",
     "output_type": "stream",
     "text": [
      "46\n"
     ]
    },
    {
     "data": {
      "text/plain": [
       "<DimCoord: time / (days since 0001-01-01 00:00:00)  [0027-09-18 00:00:00]+bounds>"
      ]
     },
     "execution_count": 234,
     "metadata": {},
     "output_type": "execute_result"
    },
    {
     "data": {
      "text/plain": [
       "<DimCoord: time / (days since 0001-01-01 00:00:00)  [1971-02-16 00:00:00]+bounds>"
      ]
     },
     "execution_count": 234,
     "metadata": {},
     "output_type": "execute_result"
    },
    {
     "name": "stdout",
     "output_type": "stream",
     "text": [
      "47\n"
     ]
    },
    {
     "data": {
      "text/plain": [
       "<DimCoord: time / (days since 0001-01-01 00:00:00)  [0027-10-12 00:00:00]+bounds>"
      ]
     },
     "execution_count": 234,
     "metadata": {},
     "output_type": "execute_result"
    },
    {
     "data": {
      "text/plain": [
       "<DimCoord: time / (days since 0001-01-01 00:00:00)  [1971-02-17 00:00:00]+bounds>"
      ]
     },
     "execution_count": 234,
     "metadata": {},
     "output_type": "execute_result"
    },
    {
     "name": "stdout",
     "output_type": "stream",
     "text": [
      "48\n"
     ]
    },
    {
     "data": {
      "text/plain": [
       "<DimCoord: time / (days since 0001-01-01 00:00:00)  [0027-11-05 00:00:00]+bounds>"
      ]
     },
     "execution_count": 234,
     "metadata": {},
     "output_type": "execute_result"
    },
    {
     "data": {
      "text/plain": [
       "<DimCoord: time / (days since 0001-01-01 00:00:00)  [1971-02-18 00:00:00]+bounds>"
      ]
     },
     "execution_count": 234,
     "metadata": {},
     "output_type": "execute_result"
    },
    {
     "name": "stdout",
     "output_type": "stream",
     "text": [
      "49\n"
     ]
    },
    {
     "data": {
      "text/plain": [
       "<DimCoord: time / (days since 0001-01-01 00:00:00)  [0027-11-29 00:00:00]+bounds>"
      ]
     },
     "execution_count": 234,
     "metadata": {},
     "output_type": "execute_result"
    },
    {
     "data": {
      "text/plain": [
       "<DimCoord: time / (days since 0001-01-01 00:00:00)  [1971-02-19 00:00:00]+bounds>"
      ]
     },
     "execution_count": 234,
     "metadata": {},
     "output_type": "execute_result"
    },
    {
     "name": "stdout",
     "output_type": "stream",
     "text": [
      "50\n"
     ]
    },
    {
     "data": {
      "text/plain": [
       "<DimCoord: time / (days since 0001-01-01 00:00:00)  [0027-12-23 00:00:00]+bounds>"
      ]
     },
     "execution_count": 234,
     "metadata": {},
     "output_type": "execute_result"
    },
    {
     "data": {
      "text/plain": [
       "<DimCoord: time / (days since 0001-01-01 00:00:00)  [1971-02-20 00:00:00]+bounds>"
      ]
     },
     "execution_count": 234,
     "metadata": {},
     "output_type": "execute_result"
    },
    {
     "name": "stdout",
     "output_type": "stream",
     "text": [
      "51\n"
     ]
    },
    {
     "data": {
      "text/plain": [
       "<DimCoord: time / (days since 0001-01-01 00:00:00)  [0028-01-16 00:00:00]+bounds>"
      ]
     },
     "execution_count": 234,
     "metadata": {},
     "output_type": "execute_result"
    },
    {
     "data": {
      "text/plain": [
       "<DimCoord: time / (days since 0001-01-01 00:00:00)  [1971-02-21 00:00:00]+bounds>"
      ]
     },
     "execution_count": 234,
     "metadata": {},
     "output_type": "execute_result"
    },
    {
     "name": "stdout",
     "output_type": "stream",
     "text": [
      "52\n"
     ]
    },
    {
     "data": {
      "text/plain": [
       "<DimCoord: time / (days since 0001-01-01 00:00:00)  [0028-02-09 00:00:00]+bounds>"
      ]
     },
     "execution_count": 234,
     "metadata": {},
     "output_type": "execute_result"
    },
    {
     "data": {
      "text/plain": [
       "<DimCoord: time / (days since 0001-01-01 00:00:00)  [1971-02-22 00:00:00]+bounds>"
      ]
     },
     "execution_count": 234,
     "metadata": {},
     "output_type": "execute_result"
    },
    {
     "name": "stdout",
     "output_type": "stream",
     "text": [
      "53\n"
     ]
    },
    {
     "data": {
      "text/plain": [
       "<DimCoord: time / (days since 0001-01-01 00:00:00)  [0028-03-04 00:00:00]+bounds>"
      ]
     },
     "execution_count": 234,
     "metadata": {},
     "output_type": "execute_result"
    },
    {
     "data": {
      "text/plain": [
       "<DimCoord: time / (days since 0001-01-01 00:00:00)  [1971-02-23 00:00:00]+bounds>"
      ]
     },
     "execution_count": 234,
     "metadata": {},
     "output_type": "execute_result"
    },
    {
     "name": "stdout",
     "output_type": "stream",
     "text": [
      "54\n"
     ]
    },
    {
     "data": {
      "text/plain": [
       "<DimCoord: time / (days since 0001-01-01 00:00:00)  [0028-03-28 00:00:00]+bounds>"
      ]
     },
     "execution_count": 234,
     "metadata": {},
     "output_type": "execute_result"
    },
    {
     "data": {
      "text/plain": [
       "<DimCoord: time / (days since 0001-01-01 00:00:00)  [1971-02-24 00:00:00]+bounds>"
      ]
     },
     "execution_count": 234,
     "metadata": {},
     "output_type": "execute_result"
    },
    {
     "name": "stdout",
     "output_type": "stream",
     "text": [
      "55\n"
     ]
    },
    {
     "data": {
      "text/plain": [
       "<DimCoord: time / (days since 0001-01-01 00:00:00)  [0028-04-21 00:00:00]+bounds>"
      ]
     },
     "execution_count": 234,
     "metadata": {},
     "output_type": "execute_result"
    },
    {
     "data": {
      "text/plain": [
       "<DimCoord: time / (days since 0001-01-01 00:00:00)  [1971-02-25 00:00:00]+bounds>"
      ]
     },
     "execution_count": 234,
     "metadata": {},
     "output_type": "execute_result"
    },
    {
     "name": "stdout",
     "output_type": "stream",
     "text": [
      "56\n"
     ]
    },
    {
     "data": {
      "text/plain": [
       "<DimCoord: time / (days since 0001-01-01 00:00:00)  [0028-05-15 00:00:00]+bounds>"
      ]
     },
     "execution_count": 234,
     "metadata": {},
     "output_type": "execute_result"
    },
    {
     "data": {
      "text/plain": [
       "<DimCoord: time / (days since 0001-01-01 00:00:00)  [1971-02-26 00:00:00]+bounds>"
      ]
     },
     "execution_count": 234,
     "metadata": {},
     "output_type": "execute_result"
    },
    {
     "name": "stdout",
     "output_type": "stream",
     "text": [
      "57\n"
     ]
    },
    {
     "data": {
      "text/plain": [
       "<DimCoord: time / (days since 0001-01-01 00:00:00)  [0028-06-08 00:00:00]+bounds>"
      ]
     },
     "execution_count": 234,
     "metadata": {},
     "output_type": "execute_result"
    },
    {
     "data": {
      "text/plain": [
       "<DimCoord: time / (days since 0001-01-01 00:00:00)  [1971-02-27 00:00:00]+bounds>"
      ]
     },
     "execution_count": 234,
     "metadata": {},
     "output_type": "execute_result"
    },
    {
     "name": "stdout",
     "output_type": "stream",
     "text": [
      "58\n"
     ]
    },
    {
     "data": {
      "text/plain": [
       "<DimCoord: time / (days since 0001-01-01 00:00:00)  [0028-07-02 00:00:00]+bounds>"
      ]
     },
     "execution_count": 234,
     "metadata": {},
     "output_type": "execute_result"
    },
    {
     "data": {
      "text/plain": [
       "<DimCoord: time / (days since 0001-01-01 00:00:00)  [1971-02-28 00:00:00]+bounds>"
      ]
     },
     "execution_count": 234,
     "metadata": {},
     "output_type": "execute_result"
    },
    {
     "name": "stdout",
     "output_type": "stream",
     "text": [
      "59\n"
     ]
    },
    {
     "data": {
      "text/plain": [
       "<DimCoord: time / (days since 0001-01-01 00:00:00)  [0028-07-26 00:00:00]+bounds>"
      ]
     },
     "execution_count": 234,
     "metadata": {},
     "output_type": "execute_result"
    },
    {
     "data": {
      "text/plain": [
       "<DimCoord: time / (days since 0001-01-01 00:00:00)  [1971-03-01 00:00:00]+bounds>"
      ]
     },
     "execution_count": 234,
     "metadata": {},
     "output_type": "execute_result"
    },
    {
     "name": "stdout",
     "output_type": "stream",
     "text": [
      "60\n"
     ]
    },
    {
     "data": {
      "text/plain": [
       "<DimCoord: time / (days since 0001-01-01 00:00:00)  [0028-08-19 00:00:00]+bounds>"
      ]
     },
     "execution_count": 234,
     "metadata": {},
     "output_type": "execute_result"
    },
    {
     "data": {
      "text/plain": [
       "<DimCoord: time / (days since 0001-01-01 00:00:00)  [1971-03-02 00:00:00]+bounds>"
      ]
     },
     "execution_count": 234,
     "metadata": {},
     "output_type": "execute_result"
    },
    {
     "name": "stdout",
     "output_type": "stream",
     "text": [
      "61\n"
     ]
    },
    {
     "data": {
      "text/plain": [
       "<DimCoord: time / (days since 0001-01-01 00:00:00)  [0028-09-12 00:00:00]+bounds>"
      ]
     },
     "execution_count": 234,
     "metadata": {},
     "output_type": "execute_result"
    },
    {
     "data": {
      "text/plain": [
       "<DimCoord: time / (days since 0001-01-01 00:00:00)  [1971-03-03 00:00:00]+bounds>"
      ]
     },
     "execution_count": 234,
     "metadata": {},
     "output_type": "execute_result"
    },
    {
     "name": "stdout",
     "output_type": "stream",
     "text": [
      "62\n"
     ]
    },
    {
     "data": {
      "text/plain": [
       "<DimCoord: time / (days since 0001-01-01 00:00:00)  [0028-10-06 00:00:00]+bounds>"
      ]
     },
     "execution_count": 234,
     "metadata": {},
     "output_type": "execute_result"
    },
    {
     "data": {
      "text/plain": [
       "<DimCoord: time / (days since 0001-01-01 00:00:00)  [1971-03-04 00:00:00]+bounds>"
      ]
     },
     "execution_count": 234,
     "metadata": {},
     "output_type": "execute_result"
    },
    {
     "name": "stdout",
     "output_type": "stream",
     "text": [
      "63\n"
     ]
    },
    {
     "data": {
      "text/plain": [
       "<DimCoord: time / (days since 0001-01-01 00:00:00)  [0028-10-30 00:00:00]+bounds>"
      ]
     },
     "execution_count": 234,
     "metadata": {},
     "output_type": "execute_result"
    },
    {
     "data": {
      "text/plain": [
       "<DimCoord: time / (days since 0001-01-01 00:00:00)  [1971-03-05 00:00:00]+bounds>"
      ]
     },
     "execution_count": 234,
     "metadata": {},
     "output_type": "execute_result"
    },
    {
     "name": "stdout",
     "output_type": "stream",
     "text": [
      "64\n"
     ]
    },
    {
     "data": {
      "text/plain": [
       "<DimCoord: time / (days since 0001-01-01 00:00:00)  [0028-11-23 00:00:00]+bounds>"
      ]
     },
     "execution_count": 234,
     "metadata": {},
     "output_type": "execute_result"
    },
    {
     "data": {
      "text/plain": [
       "<DimCoord: time / (days since 0001-01-01 00:00:00)  [1971-03-06 00:00:00]+bounds>"
      ]
     },
     "execution_count": 234,
     "metadata": {},
     "output_type": "execute_result"
    },
    {
     "name": "stdout",
     "output_type": "stream",
     "text": [
      "65\n"
     ]
    },
    {
     "data": {
      "text/plain": [
       "<DimCoord: time / (days since 0001-01-01 00:00:00)  [0028-12-17 00:00:00]+bounds>"
      ]
     },
     "execution_count": 234,
     "metadata": {},
     "output_type": "execute_result"
    },
    {
     "data": {
      "text/plain": [
       "<DimCoord: time / (days since 0001-01-01 00:00:00)  [1971-03-07 00:00:00]+bounds>"
      ]
     },
     "execution_count": 234,
     "metadata": {},
     "output_type": "execute_result"
    },
    {
     "name": "stdout",
     "output_type": "stream",
     "text": [
      "66\n"
     ]
    },
    {
     "data": {
      "text/plain": [
       "<DimCoord: time / (days since 0001-01-01 00:00:00)  [0029-01-10 00:00:00]+bounds>"
      ]
     },
     "execution_count": 234,
     "metadata": {},
     "output_type": "execute_result"
    },
    {
     "data": {
      "text/plain": [
       "<DimCoord: time / (days since 0001-01-01 00:00:00)  [1971-03-08 00:00:00]+bounds>"
      ]
     },
     "execution_count": 234,
     "metadata": {},
     "output_type": "execute_result"
    },
    {
     "name": "stdout",
     "output_type": "stream",
     "text": [
      "67\n"
     ]
    },
    {
     "data": {
      "text/plain": [
       "<DimCoord: time / (days since 0001-01-01 00:00:00)  [0029-02-03 00:00:00]+bounds>"
      ]
     },
     "execution_count": 234,
     "metadata": {},
     "output_type": "execute_result"
    },
    {
     "data": {
      "text/plain": [
       "<DimCoord: time / (days since 0001-01-01 00:00:00)  [1971-03-09 00:00:00]+bounds>"
      ]
     },
     "execution_count": 234,
     "metadata": {},
     "output_type": "execute_result"
    },
    {
     "name": "stdout",
     "output_type": "stream",
     "text": [
      "68\n"
     ]
    },
    {
     "data": {
      "text/plain": [
       "<DimCoord: time / (days since 0001-01-01 00:00:00)  [0029-02-27 00:00:00]+bounds>"
      ]
     },
     "execution_count": 234,
     "metadata": {},
     "output_type": "execute_result"
    },
    {
     "data": {
      "text/plain": [
       "<DimCoord: time / (days since 0001-01-01 00:00:00)  [1971-03-10 00:00:00]+bounds>"
      ]
     },
     "execution_count": 234,
     "metadata": {},
     "output_type": "execute_result"
    },
    {
     "name": "stdout",
     "output_type": "stream",
     "text": [
      "69\n"
     ]
    },
    {
     "data": {
      "text/plain": [
       "<DimCoord: time / (days since 0001-01-01 00:00:00)  [0029-03-23 00:00:00]+bounds>"
      ]
     },
     "execution_count": 234,
     "metadata": {},
     "output_type": "execute_result"
    },
    {
     "data": {
      "text/plain": [
       "<DimCoord: time / (days since 0001-01-01 00:00:00)  [1971-03-11 00:00:00]+bounds>"
      ]
     },
     "execution_count": 234,
     "metadata": {},
     "output_type": "execute_result"
    },
    {
     "name": "stdout",
     "output_type": "stream",
     "text": [
      "70\n"
     ]
    },
    {
     "data": {
      "text/plain": [
       "<DimCoord: time / (days since 0001-01-01 00:00:00)  [0029-04-16 00:00:00]+bounds>"
      ]
     },
     "execution_count": 234,
     "metadata": {},
     "output_type": "execute_result"
    },
    {
     "data": {
      "text/plain": [
       "<DimCoord: time / (days since 0001-01-01 00:00:00)  [1971-03-12 00:00:00]+bounds>"
      ]
     },
     "execution_count": 234,
     "metadata": {},
     "output_type": "execute_result"
    },
    {
     "name": "stdout",
     "output_type": "stream",
     "text": [
      "71\n"
     ]
    },
    {
     "data": {
      "text/plain": [
       "<DimCoord: time / (days since 0001-01-01 00:00:00)  [0029-05-10 00:00:00]+bounds>"
      ]
     },
     "execution_count": 234,
     "metadata": {},
     "output_type": "execute_result"
    },
    {
     "data": {
      "text/plain": [
       "<DimCoord: time / (days since 0001-01-01 00:00:00)  [1971-03-13 00:00:00]+bounds>"
      ]
     },
     "execution_count": 234,
     "metadata": {},
     "output_type": "execute_result"
    },
    {
     "name": "stdout",
     "output_type": "stream",
     "text": [
      "72\n"
     ]
    },
    {
     "data": {
      "text/plain": [
       "<DimCoord: time / (days since 0001-01-01 00:00:00)  [0029-06-03 00:00:00]+bounds>"
      ]
     },
     "execution_count": 234,
     "metadata": {},
     "output_type": "execute_result"
    },
    {
     "data": {
      "text/plain": [
       "<DimCoord: time / (days since 0001-01-01 00:00:00)  [1971-03-14 00:00:00]+bounds>"
      ]
     },
     "execution_count": 234,
     "metadata": {},
     "output_type": "execute_result"
    },
    {
     "name": "stdout",
     "output_type": "stream",
     "text": [
      "73\n"
     ]
    },
    {
     "data": {
      "text/plain": [
       "<DimCoord: time / (days since 0001-01-01 00:00:00)  [0029-06-27 00:00:00]+bounds>"
      ]
     },
     "execution_count": 234,
     "metadata": {},
     "output_type": "execute_result"
    },
    {
     "data": {
      "text/plain": [
       "<DimCoord: time / (days since 0001-01-01 00:00:00)  [1971-03-15 00:00:00]+bounds>"
      ]
     },
     "execution_count": 234,
     "metadata": {},
     "output_type": "execute_result"
    },
    {
     "name": "stdout",
     "output_type": "stream",
     "text": [
      "74\n"
     ]
    },
    {
     "data": {
      "text/plain": [
       "<DimCoord: time / (days since 0001-01-01 00:00:00)  [0029-07-21 00:00:00]+bounds>"
      ]
     },
     "execution_count": 234,
     "metadata": {},
     "output_type": "execute_result"
    },
    {
     "data": {
      "text/plain": [
       "<DimCoord: time / (days since 0001-01-01 00:00:00)  [1971-03-16 00:00:00]+bounds>"
      ]
     },
     "execution_count": 234,
     "metadata": {},
     "output_type": "execute_result"
    },
    {
     "name": "stdout",
     "output_type": "stream",
     "text": [
      "75\n"
     ]
    },
    {
     "data": {
      "text/plain": [
       "<DimCoord: time / (days since 0001-01-01 00:00:00)  [0029-08-14 00:00:00]+bounds>"
      ]
     },
     "execution_count": 234,
     "metadata": {},
     "output_type": "execute_result"
    },
    {
     "data": {
      "text/plain": [
       "<DimCoord: time / (days since 0001-01-01 00:00:00)  [1971-03-17 00:00:00]+bounds>"
      ]
     },
     "execution_count": 234,
     "metadata": {},
     "output_type": "execute_result"
    },
    {
     "name": "stdout",
     "output_type": "stream",
     "text": [
      "76\n"
     ]
    },
    {
     "data": {
      "text/plain": [
       "<DimCoord: time / (days since 0001-01-01 00:00:00)  [0029-09-07 00:00:00]+bounds>"
      ]
     },
     "execution_count": 234,
     "metadata": {},
     "output_type": "execute_result"
    },
    {
     "data": {
      "text/plain": [
       "<DimCoord: time / (days since 0001-01-01 00:00:00)  [1971-03-18 00:00:00]+bounds>"
      ]
     },
     "execution_count": 234,
     "metadata": {},
     "output_type": "execute_result"
    },
    {
     "name": "stdout",
     "output_type": "stream",
     "text": [
      "77\n"
     ]
    },
    {
     "data": {
      "text/plain": [
       "<DimCoord: time / (days since 0001-01-01 00:00:00)  [0029-10-01 00:00:00]+bounds>"
      ]
     },
     "execution_count": 234,
     "metadata": {},
     "output_type": "execute_result"
    },
    {
     "data": {
      "text/plain": [
       "<DimCoord: time / (days since 0001-01-01 00:00:00)  [1971-03-19 00:00:00]+bounds>"
      ]
     },
     "execution_count": 234,
     "metadata": {},
     "output_type": "execute_result"
    },
    {
     "name": "stdout",
     "output_type": "stream",
     "text": [
      "78\n"
     ]
    },
    {
     "data": {
      "text/plain": [
       "<DimCoord: time / (days since 0001-01-01 00:00:00)  [0029-10-25 00:00:00]+bounds>"
      ]
     },
     "execution_count": 234,
     "metadata": {},
     "output_type": "execute_result"
    },
    {
     "data": {
      "text/plain": [
       "<DimCoord: time / (days since 0001-01-01 00:00:00)  [1971-03-20 00:00:00]+bounds>"
      ]
     },
     "execution_count": 234,
     "metadata": {},
     "output_type": "execute_result"
    },
    {
     "name": "stdout",
     "output_type": "stream",
     "text": [
      "79\n"
     ]
    },
    {
     "data": {
      "text/plain": [
       "<DimCoord: time / (days since 0001-01-01 00:00:00)  [0029-11-18 00:00:00]+bounds>"
      ]
     },
     "execution_count": 234,
     "metadata": {},
     "output_type": "execute_result"
    },
    {
     "data": {
      "text/plain": [
       "<DimCoord: time / (days since 0001-01-01 00:00:00)  [1971-03-21 00:00:00]+bounds>"
      ]
     },
     "execution_count": 234,
     "metadata": {},
     "output_type": "execute_result"
    },
    {
     "name": "stdout",
     "output_type": "stream",
     "text": [
      "80\n"
     ]
    },
    {
     "data": {
      "text/plain": [
       "<DimCoord: time / (days since 0001-01-01 00:00:00)  [0029-12-12 00:00:00]+bounds>"
      ]
     },
     "execution_count": 234,
     "metadata": {},
     "output_type": "execute_result"
    },
    {
     "data": {
      "text/plain": [
       "<DimCoord: time / (days since 0001-01-01 00:00:00)  [1971-03-22 00:00:00]+bounds>"
      ]
     },
     "execution_count": 234,
     "metadata": {},
     "output_type": "execute_result"
    },
    {
     "name": "stdout",
     "output_type": "stream",
     "text": [
      "81\n"
     ]
    },
    {
     "data": {
      "text/plain": [
       "<DimCoord: time / (days since 0001-01-01 00:00:00)  [0030-01-05 00:00:00]+bounds>"
      ]
     },
     "execution_count": 234,
     "metadata": {},
     "output_type": "execute_result"
    },
    {
     "data": {
      "text/plain": [
       "<DimCoord: time / (days since 0001-01-01 00:00:00)  [1971-03-23 00:00:00]+bounds>"
      ]
     },
     "execution_count": 234,
     "metadata": {},
     "output_type": "execute_result"
    },
    {
     "name": "stdout",
     "output_type": "stream",
     "text": [
      "82\n"
     ]
    },
    {
     "data": {
      "text/plain": [
       "<DimCoord: time / (days since 0001-01-01 00:00:00)  [0030-01-29 00:00:00]+bounds>"
      ]
     },
     "execution_count": 234,
     "metadata": {},
     "output_type": "execute_result"
    },
    {
     "data": {
      "text/plain": [
       "<DimCoord: time / (days since 0001-01-01 00:00:00)  [1971-03-24 00:00:00]+bounds>"
      ]
     },
     "execution_count": 234,
     "metadata": {},
     "output_type": "execute_result"
    },
    {
     "name": "stdout",
     "output_type": "stream",
     "text": [
      "83\n"
     ]
    },
    {
     "data": {
      "text/plain": [
       "<DimCoord: time / (days since 0001-01-01 00:00:00)  [0030-02-22 00:00:00]+bounds>"
      ]
     },
     "execution_count": 234,
     "metadata": {},
     "output_type": "execute_result"
    },
    {
     "data": {
      "text/plain": [
       "<DimCoord: time / (days since 0001-01-01 00:00:00)  [1971-03-25 00:00:00]+bounds>"
      ]
     },
     "execution_count": 234,
     "metadata": {},
     "output_type": "execute_result"
    },
    {
     "name": "stdout",
     "output_type": "stream",
     "text": [
      "84\n"
     ]
    },
    {
     "data": {
      "text/plain": [
       "<DimCoord: time / (days since 0001-01-01 00:00:00)  [0030-03-18 00:00:00]+bounds>"
      ]
     },
     "execution_count": 234,
     "metadata": {},
     "output_type": "execute_result"
    },
    {
     "data": {
      "text/plain": [
       "<DimCoord: time / (days since 0001-01-01 00:00:00)  [1971-03-26 00:00:00]+bounds>"
      ]
     },
     "execution_count": 234,
     "metadata": {},
     "output_type": "execute_result"
    },
    {
     "name": "stdout",
     "output_type": "stream",
     "text": [
      "85\n"
     ]
    },
    {
     "data": {
      "text/plain": [
       "<DimCoord: time / (days since 0001-01-01 00:00:00)  [0030-04-11 00:00:00]+bounds>"
      ]
     },
     "execution_count": 234,
     "metadata": {},
     "output_type": "execute_result"
    },
    {
     "data": {
      "text/plain": [
       "<DimCoord: time / (days since 0001-01-01 00:00:00)  [1971-03-27 00:00:00]+bounds>"
      ]
     },
     "execution_count": 234,
     "metadata": {},
     "output_type": "execute_result"
    },
    {
     "name": "stdout",
     "output_type": "stream",
     "text": [
      "86\n"
     ]
    },
    {
     "data": {
      "text/plain": [
       "<DimCoord: time / (days since 0001-01-01 00:00:00)  [0030-05-05 00:00:00]+bounds>"
      ]
     },
     "execution_count": 234,
     "metadata": {},
     "output_type": "execute_result"
    },
    {
     "data": {
      "text/plain": [
       "<DimCoord: time / (days since 0001-01-01 00:00:00)  [1971-03-28 00:00:00]+bounds>"
      ]
     },
     "execution_count": 234,
     "metadata": {},
     "output_type": "execute_result"
    },
    {
     "name": "stdout",
     "output_type": "stream",
     "text": [
      "87\n"
     ]
    },
    {
     "data": {
      "text/plain": [
       "<DimCoord: time / (days since 0001-01-01 00:00:00)  [0030-05-29 00:00:00]+bounds>"
      ]
     },
     "execution_count": 234,
     "metadata": {},
     "output_type": "execute_result"
    },
    {
     "data": {
      "text/plain": [
       "<DimCoord: time / (days since 0001-01-01 00:00:00)  [1971-03-29 00:00:00]+bounds>"
      ]
     },
     "execution_count": 234,
     "metadata": {},
     "output_type": "execute_result"
    },
    {
     "name": "stdout",
     "output_type": "stream",
     "text": [
      "88\n"
     ]
    },
    {
     "data": {
      "text/plain": [
       "<DimCoord: time / (days since 0001-01-01 00:00:00)  [0030-06-22 00:00:00]+bounds>"
      ]
     },
     "execution_count": 234,
     "metadata": {},
     "output_type": "execute_result"
    },
    {
     "data": {
      "text/plain": [
       "<DimCoord: time / (days since 0001-01-01 00:00:00)  [1971-03-30 00:00:00]+bounds>"
      ]
     },
     "execution_count": 234,
     "metadata": {},
     "output_type": "execute_result"
    },
    {
     "name": "stdout",
     "output_type": "stream",
     "text": [
      "89\n"
     ]
    },
    {
     "data": {
      "text/plain": [
       "<DimCoord: time / (days since 0001-01-01 00:00:00)  [0030-07-16 00:00:00]+bounds>"
      ]
     },
     "execution_count": 234,
     "metadata": {},
     "output_type": "execute_result"
    },
    {
     "data": {
      "text/plain": [
       "<DimCoord: time / (days since 0001-01-01 00:00:00)  [1971-03-31 00:00:00]+bounds>"
      ]
     },
     "execution_count": 234,
     "metadata": {},
     "output_type": "execute_result"
    },
    {
     "name": "stdout",
     "output_type": "stream",
     "text": [
      "90\n"
     ]
    },
    {
     "data": {
      "text/plain": [
       "<DimCoord: time / (days since 0001-01-01 00:00:00)  [0030-08-09 00:00:00]+bounds>"
      ]
     },
     "execution_count": 234,
     "metadata": {},
     "output_type": "execute_result"
    },
    {
     "data": {
      "text/plain": [
       "<DimCoord: time / (days since 0001-01-01 00:00:00)  [1971-04-01 00:00:00]+bounds>"
      ]
     },
     "execution_count": 234,
     "metadata": {},
     "output_type": "execute_result"
    },
    {
     "name": "stdout",
     "output_type": "stream",
     "text": [
      "91\n"
     ]
    },
    {
     "data": {
      "text/plain": [
       "<DimCoord: time / (days since 0001-01-01 00:00:00)  [0030-09-02 00:00:00]+bounds>"
      ]
     },
     "execution_count": 234,
     "metadata": {},
     "output_type": "execute_result"
    },
    {
     "data": {
      "text/plain": [
       "<DimCoord: time / (days since 0001-01-01 00:00:00)  [1971-04-02 00:00:00]+bounds>"
      ]
     },
     "execution_count": 234,
     "metadata": {},
     "output_type": "execute_result"
    },
    {
     "name": "stdout",
     "output_type": "stream",
     "text": [
      "92\n"
     ]
    },
    {
     "data": {
      "text/plain": [
       "<DimCoord: time / (days since 0001-01-01 00:00:00)  [0030-09-26 00:00:00]+bounds>"
      ]
     },
     "execution_count": 234,
     "metadata": {},
     "output_type": "execute_result"
    },
    {
     "data": {
      "text/plain": [
       "<DimCoord: time / (days since 0001-01-01 00:00:00)  [1971-04-03 00:00:00]+bounds>"
      ]
     },
     "execution_count": 234,
     "metadata": {},
     "output_type": "execute_result"
    },
    {
     "name": "stdout",
     "output_type": "stream",
     "text": [
      "93\n"
     ]
    },
    {
     "data": {
      "text/plain": [
       "<DimCoord: time / (days since 0001-01-01 00:00:00)  [0030-10-20 00:00:00]+bounds>"
      ]
     },
     "execution_count": 234,
     "metadata": {},
     "output_type": "execute_result"
    },
    {
     "data": {
      "text/plain": [
       "<DimCoord: time / (days since 0001-01-01 00:00:00)  [1971-04-04 00:00:00]+bounds>"
      ]
     },
     "execution_count": 234,
     "metadata": {},
     "output_type": "execute_result"
    },
    {
     "name": "stdout",
     "output_type": "stream",
     "text": [
      "94\n"
     ]
    },
    {
     "data": {
      "text/plain": [
       "<DimCoord: time / (days since 0001-01-01 00:00:00)  [0030-11-13 00:00:00]+bounds>"
      ]
     },
     "execution_count": 234,
     "metadata": {},
     "output_type": "execute_result"
    },
    {
     "data": {
      "text/plain": [
       "<DimCoord: time / (days since 0001-01-01 00:00:00)  [1971-04-05 00:00:00]+bounds>"
      ]
     },
     "execution_count": 234,
     "metadata": {},
     "output_type": "execute_result"
    },
    {
     "name": "stdout",
     "output_type": "stream",
     "text": [
      "95\n"
     ]
    },
    {
     "data": {
      "text/plain": [
       "<DimCoord: time / (days since 0001-01-01 00:00:00)  [0030-12-07 00:00:00]+bounds>"
      ]
     },
     "execution_count": 234,
     "metadata": {},
     "output_type": "execute_result"
    },
    {
     "data": {
      "text/plain": [
       "<DimCoord: time / (days since 0001-01-01 00:00:00)  [1971-04-06 00:00:00]+bounds>"
      ]
     },
     "execution_count": 234,
     "metadata": {},
     "output_type": "execute_result"
    },
    {
     "name": "stdout",
     "output_type": "stream",
     "text": [
      "96\n"
     ]
    },
    {
     "data": {
      "text/plain": [
       "<DimCoord: time / (days since 0001-01-01 00:00:00)  [0030-12-31 00:00:00]+bounds>"
      ]
     },
     "execution_count": 234,
     "metadata": {},
     "output_type": "execute_result"
    },
    {
     "data": {
      "text/plain": [
       "<DimCoord: time / (days since 0001-01-01 00:00:00)  [1971-04-07 00:00:00]+bounds>"
      ]
     },
     "execution_count": 234,
     "metadata": {},
     "output_type": "execute_result"
    },
    {
     "name": "stdout",
     "output_type": "stream",
     "text": [
      "97\n"
     ]
    },
    {
     "data": {
      "text/plain": [
       "<DimCoord: time / (days since 0001-01-01 00:00:00)  [0031-01-24 00:00:00]+bounds>"
      ]
     },
     "execution_count": 234,
     "metadata": {},
     "output_type": "execute_result"
    },
    {
     "data": {
      "text/plain": [
       "<DimCoord: time / (days since 0001-01-01 00:00:00)  [1971-04-08 00:00:00]+bounds>"
      ]
     },
     "execution_count": 234,
     "metadata": {},
     "output_type": "execute_result"
    },
    {
     "name": "stdout",
     "output_type": "stream",
     "text": [
      "98\n"
     ]
    },
    {
     "data": {
      "text/plain": [
       "<DimCoord: time / (days since 0001-01-01 00:00:00)  [0031-02-17 00:00:00]+bounds>"
      ]
     },
     "execution_count": 234,
     "metadata": {},
     "output_type": "execute_result"
    },
    {
     "data": {
      "text/plain": [
       "<DimCoord: time / (days since 0001-01-01 00:00:00)  [1971-04-09 00:00:00]+bounds>"
      ]
     },
     "execution_count": 234,
     "metadata": {},
     "output_type": "execute_result"
    },
    {
     "name": "stdout",
     "output_type": "stream",
     "text": [
      "99\n"
     ]
    },
    {
     "data": {
      "text/plain": [
       "<DimCoord: time / (days since 0001-01-01 00:00:00)  [0031-03-13 00:00:00]+bounds>"
      ]
     },
     "execution_count": 234,
     "metadata": {},
     "output_type": "execute_result"
    },
    {
     "data": {
      "text/plain": [
       "<DimCoord: time / (days since 0001-01-01 00:00:00)  [1971-04-10 00:00:00]+bounds>"
      ]
     },
     "execution_count": 234,
     "metadata": {},
     "output_type": "execute_result"
    },
    {
     "name": "stdout",
     "output_type": "stream",
     "text": [
      "100\n"
     ]
    },
    {
     "data": {
      "text/plain": [
       "<DimCoord: time / (days since 0001-01-01 00:00:00)  [0031-04-06 00:00:00]+bounds>"
      ]
     },
     "execution_count": 234,
     "metadata": {},
     "output_type": "execute_result"
    },
    {
     "data": {
      "text/plain": [
       "<DimCoord: time / (days since 0001-01-01 00:00:00)  [1971-04-11 00:00:00]+bounds>"
      ]
     },
     "execution_count": 234,
     "metadata": {},
     "output_type": "execute_result"
    },
    {
     "name": "stdout",
     "output_type": "stream",
     "text": [
      "101\n"
     ]
    },
    {
     "data": {
      "text/plain": [
       "<DimCoord: time / (days since 0001-01-01 00:00:00)  [0031-04-30 00:00:00]+bounds>"
      ]
     },
     "execution_count": 234,
     "metadata": {},
     "output_type": "execute_result"
    },
    {
     "data": {
      "text/plain": [
       "<DimCoord: time / (days since 0001-01-01 00:00:00)  [1971-04-12 00:00:00]+bounds>"
      ]
     },
     "execution_count": 234,
     "metadata": {},
     "output_type": "execute_result"
    },
    {
     "name": "stdout",
     "output_type": "stream",
     "text": [
      "102\n"
     ]
    },
    {
     "data": {
      "text/plain": [
       "<DimCoord: time / (days since 0001-01-01 00:00:00)  [0031-05-24 00:00:00]+bounds>"
      ]
     },
     "execution_count": 234,
     "metadata": {},
     "output_type": "execute_result"
    },
    {
     "data": {
      "text/plain": [
       "<DimCoord: time / (days since 0001-01-01 00:00:00)  [1971-04-13 00:00:00]+bounds>"
      ]
     },
     "execution_count": 234,
     "metadata": {},
     "output_type": "execute_result"
    },
    {
     "name": "stdout",
     "output_type": "stream",
     "text": [
      "103\n"
     ]
    },
    {
     "data": {
      "text/plain": [
       "<DimCoord: time / (days since 0001-01-01 00:00:00)  [0031-06-17 00:00:00]+bounds>"
      ]
     },
     "execution_count": 234,
     "metadata": {},
     "output_type": "execute_result"
    },
    {
     "data": {
      "text/plain": [
       "<DimCoord: time / (days since 0001-01-01 00:00:00)  [1971-04-14 00:00:00]+bounds>"
      ]
     },
     "execution_count": 234,
     "metadata": {},
     "output_type": "execute_result"
    },
    {
     "name": "stdout",
     "output_type": "stream",
     "text": [
      "104\n"
     ]
    },
    {
     "data": {
      "text/plain": [
       "<DimCoord: time / (days since 0001-01-01 00:00:00)  [0031-07-11 00:00:00]+bounds>"
      ]
     },
     "execution_count": 234,
     "metadata": {},
     "output_type": "execute_result"
    },
    {
     "data": {
      "text/plain": [
       "<DimCoord: time / (days since 0001-01-01 00:00:00)  [1971-04-15 00:00:00]+bounds>"
      ]
     },
     "execution_count": 234,
     "metadata": {},
     "output_type": "execute_result"
    },
    {
     "name": "stdout",
     "output_type": "stream",
     "text": [
      "105\n"
     ]
    },
    {
     "data": {
      "text/plain": [
       "<DimCoord: time / (days since 0001-01-01 00:00:00)  [0031-08-04 00:00:00]+bounds>"
      ]
     },
     "execution_count": 234,
     "metadata": {},
     "output_type": "execute_result"
    },
    {
     "data": {
      "text/plain": [
       "<DimCoord: time / (days since 0001-01-01 00:00:00)  [1971-04-16 00:00:00]+bounds>"
      ]
     },
     "execution_count": 234,
     "metadata": {},
     "output_type": "execute_result"
    },
    {
     "name": "stdout",
     "output_type": "stream",
     "text": [
      "106\n"
     ]
    },
    {
     "data": {
      "text/plain": [
       "<DimCoord: time / (days since 0001-01-01 00:00:00)  [0031-08-28 00:00:00]+bounds>"
      ]
     },
     "execution_count": 234,
     "metadata": {},
     "output_type": "execute_result"
    },
    {
     "data": {
      "text/plain": [
       "<DimCoord: time / (days since 0001-01-01 00:00:00)  [1971-04-17 00:00:00]+bounds>"
      ]
     },
     "execution_count": 234,
     "metadata": {},
     "output_type": "execute_result"
    },
    {
     "name": "stdout",
     "output_type": "stream",
     "text": [
      "107\n"
     ]
    },
    {
     "data": {
      "text/plain": [
       "<DimCoord: time / (days since 0001-01-01 00:00:00)  [0031-09-21 00:00:00]+bounds>"
      ]
     },
     "execution_count": 234,
     "metadata": {},
     "output_type": "execute_result"
    },
    {
     "data": {
      "text/plain": [
       "<DimCoord: time / (days since 0001-01-01 00:00:00)  [1971-04-18 00:00:00]+bounds>"
      ]
     },
     "execution_count": 234,
     "metadata": {},
     "output_type": "execute_result"
    },
    {
     "name": "stdout",
     "output_type": "stream",
     "text": [
      "108\n"
     ]
    },
    {
     "data": {
      "text/plain": [
       "<DimCoord: time / (days since 0001-01-01 00:00:00)  [0031-10-15 00:00:00]+bounds>"
      ]
     },
     "execution_count": 234,
     "metadata": {},
     "output_type": "execute_result"
    },
    {
     "data": {
      "text/plain": [
       "<DimCoord: time / (days since 0001-01-01 00:00:00)  [1971-04-19 00:00:00]+bounds>"
      ]
     },
     "execution_count": 234,
     "metadata": {},
     "output_type": "execute_result"
    },
    {
     "name": "stdout",
     "output_type": "stream",
     "text": [
      "109\n"
     ]
    },
    {
     "data": {
      "text/plain": [
       "<DimCoord: time / (days since 0001-01-01 00:00:00)  [0031-11-08 00:00:00]+bounds>"
      ]
     },
     "execution_count": 234,
     "metadata": {},
     "output_type": "execute_result"
    },
    {
     "data": {
      "text/plain": [
       "<DimCoord: time / (days since 0001-01-01 00:00:00)  [1971-04-20 00:00:00]+bounds>"
      ]
     },
     "execution_count": 234,
     "metadata": {},
     "output_type": "execute_result"
    },
    {
     "name": "stdout",
     "output_type": "stream",
     "text": [
      "110\n"
     ]
    },
    {
     "data": {
      "text/plain": [
       "<DimCoord: time / (days since 0001-01-01 00:00:00)  [0031-12-02 00:00:00]+bounds>"
      ]
     },
     "execution_count": 234,
     "metadata": {},
     "output_type": "execute_result"
    },
    {
     "data": {
      "text/plain": [
       "<DimCoord: time / (days since 0001-01-01 00:00:00)  [1971-04-21 00:00:00]+bounds>"
      ]
     },
     "execution_count": 234,
     "metadata": {},
     "output_type": "execute_result"
    },
    {
     "name": "stdout",
     "output_type": "stream",
     "text": [
      "111\n"
     ]
    },
    {
     "data": {
      "text/plain": [
       "<DimCoord: time / (days since 0001-01-01 00:00:00)  [0031-12-26 00:00:00]+bounds>"
      ]
     },
     "execution_count": 234,
     "metadata": {},
     "output_type": "execute_result"
    },
    {
     "data": {
      "text/plain": [
       "<DimCoord: time / (days since 0001-01-01 00:00:00)  [1971-04-22 00:00:00]+bounds>"
      ]
     },
     "execution_count": 234,
     "metadata": {},
     "output_type": "execute_result"
    },
    {
     "name": "stdout",
     "output_type": "stream",
     "text": [
      "112\n"
     ]
    },
    {
     "data": {
      "text/plain": [
       "<DimCoord: time / (days since 0001-01-01 00:00:00)  [0032-01-19 00:00:00]+bounds>"
      ]
     },
     "execution_count": 234,
     "metadata": {},
     "output_type": "execute_result"
    },
    {
     "data": {
      "text/plain": [
       "<DimCoord: time / (days since 0001-01-01 00:00:00)  [1971-04-23 00:00:00]+bounds>"
      ]
     },
     "execution_count": 234,
     "metadata": {},
     "output_type": "execute_result"
    },
    {
     "name": "stdout",
     "output_type": "stream",
     "text": [
      "113\n"
     ]
    },
    {
     "data": {
      "text/plain": [
       "<DimCoord: time / (days since 0001-01-01 00:00:00)  [0032-02-12 00:00:00]+bounds>"
      ]
     },
     "execution_count": 234,
     "metadata": {},
     "output_type": "execute_result"
    },
    {
     "data": {
      "text/plain": [
       "<DimCoord: time / (days since 0001-01-01 00:00:00)  [1971-04-24 00:00:00]+bounds>"
      ]
     },
     "execution_count": 234,
     "metadata": {},
     "output_type": "execute_result"
    },
    {
     "name": "stdout",
     "output_type": "stream",
     "text": [
      "114\n"
     ]
    },
    {
     "data": {
      "text/plain": [
       "<DimCoord: time / (days since 0001-01-01 00:00:00)  [0032-03-07 00:00:00]+bounds>"
      ]
     },
     "execution_count": 234,
     "metadata": {},
     "output_type": "execute_result"
    },
    {
     "data": {
      "text/plain": [
       "<DimCoord: time / (days since 0001-01-01 00:00:00)  [1971-04-25 00:00:00]+bounds>"
      ]
     },
     "execution_count": 234,
     "metadata": {},
     "output_type": "execute_result"
    },
    {
     "name": "stdout",
     "output_type": "stream",
     "text": [
      "115\n"
     ]
    },
    {
     "data": {
      "text/plain": [
       "<DimCoord: time / (days since 0001-01-01 00:00:00)  [0032-03-31 00:00:00]+bounds>"
      ]
     },
     "execution_count": 234,
     "metadata": {},
     "output_type": "execute_result"
    },
    {
     "data": {
      "text/plain": [
       "<DimCoord: time / (days since 0001-01-01 00:00:00)  [1971-04-26 00:00:00]+bounds>"
      ]
     },
     "execution_count": 234,
     "metadata": {},
     "output_type": "execute_result"
    },
    {
     "name": "stdout",
     "output_type": "stream",
     "text": [
      "116\n"
     ]
    },
    {
     "data": {
      "text/plain": [
       "<DimCoord: time / (days since 0001-01-01 00:00:00)  [0032-04-24 00:00:00]+bounds>"
      ]
     },
     "execution_count": 234,
     "metadata": {},
     "output_type": "execute_result"
    },
    {
     "data": {
      "text/plain": [
       "<DimCoord: time / (days since 0001-01-01 00:00:00)  [1971-04-27 00:00:00]+bounds>"
      ]
     },
     "execution_count": 234,
     "metadata": {},
     "output_type": "execute_result"
    },
    {
     "name": "stdout",
     "output_type": "stream",
     "text": [
      "117\n"
     ]
    },
    {
     "data": {
      "text/plain": [
       "<DimCoord: time / (days since 0001-01-01 00:00:00)  [0032-05-18 00:00:00]+bounds>"
      ]
     },
     "execution_count": 234,
     "metadata": {},
     "output_type": "execute_result"
    },
    {
     "data": {
      "text/plain": [
       "<DimCoord: time / (days since 0001-01-01 00:00:00)  [1971-04-28 00:00:00]+bounds>"
      ]
     },
     "execution_count": 234,
     "metadata": {},
     "output_type": "execute_result"
    },
    {
     "name": "stdout",
     "output_type": "stream",
     "text": [
      "118\n"
     ]
    },
    {
     "data": {
      "text/plain": [
       "<DimCoord: time / (days since 0001-01-01 00:00:00)  [0032-06-11 00:00:00]+bounds>"
      ]
     },
     "execution_count": 234,
     "metadata": {},
     "output_type": "execute_result"
    },
    {
     "data": {
      "text/plain": [
       "<DimCoord: time / (days since 0001-01-01 00:00:00)  [1971-04-29 00:00:00]+bounds>"
      ]
     },
     "execution_count": 234,
     "metadata": {},
     "output_type": "execute_result"
    },
    {
     "name": "stdout",
     "output_type": "stream",
     "text": [
      "119\n"
     ]
    },
    {
     "data": {
      "text/plain": [
       "<DimCoord: time / (days since 0001-01-01 00:00:00)  [0032-07-05 00:00:00]+bounds>"
      ]
     },
     "execution_count": 234,
     "metadata": {},
     "output_type": "execute_result"
    },
    {
     "data": {
      "text/plain": [
       "<DimCoord: time / (days since 0001-01-01 00:00:00)  [1971-04-30 00:00:00]+bounds>"
      ]
     },
     "execution_count": 234,
     "metadata": {},
     "output_type": "execute_result"
    },
    {
     "name": "stdout",
     "output_type": "stream",
     "text": [
      "120\n"
     ]
    },
    {
     "data": {
      "text/plain": [
       "<DimCoord: time / (days since 0001-01-01 00:00:00)  [0032-07-29 00:00:00]+bounds>"
      ]
     },
     "execution_count": 234,
     "metadata": {},
     "output_type": "execute_result"
    },
    {
     "data": {
      "text/plain": [
       "<DimCoord: time / (days since 0001-01-01 00:00:00)  [1971-05-01 00:00:00]+bounds>"
      ]
     },
     "execution_count": 234,
     "metadata": {},
     "output_type": "execute_result"
    },
    {
     "name": "stdout",
     "output_type": "stream",
     "text": [
      "121\n"
     ]
    },
    {
     "data": {
      "text/plain": [
       "<DimCoord: time / (days since 0001-01-01 00:00:00)  [0032-08-22 00:00:00]+bounds>"
      ]
     },
     "execution_count": 234,
     "metadata": {},
     "output_type": "execute_result"
    },
    {
     "data": {
      "text/plain": [
       "<DimCoord: time / (days since 0001-01-01 00:00:00)  [1971-05-02 00:00:00]+bounds>"
      ]
     },
     "execution_count": 234,
     "metadata": {},
     "output_type": "execute_result"
    },
    {
     "name": "stdout",
     "output_type": "stream",
     "text": [
      "122\n"
     ]
    },
    {
     "data": {
      "text/plain": [
       "<DimCoord: time / (days since 0001-01-01 00:00:00)  [0032-09-15 00:00:00]+bounds>"
      ]
     },
     "execution_count": 234,
     "metadata": {},
     "output_type": "execute_result"
    },
    {
     "data": {
      "text/plain": [
       "<DimCoord: time / (days since 0001-01-01 00:00:00)  [1971-05-03 00:00:00]+bounds>"
      ]
     },
     "execution_count": 234,
     "metadata": {},
     "output_type": "execute_result"
    },
    {
     "name": "stdout",
     "output_type": "stream",
     "text": [
      "123\n"
     ]
    },
    {
     "data": {
      "text/plain": [
       "<DimCoord: time / (days since 0001-01-01 00:00:00)  [0032-10-09 00:00:00]+bounds>"
      ]
     },
     "execution_count": 234,
     "metadata": {},
     "output_type": "execute_result"
    },
    {
     "data": {
      "text/plain": [
       "<DimCoord: time / (days since 0001-01-01 00:00:00)  [1971-05-04 00:00:00]+bounds>"
      ]
     },
     "execution_count": 234,
     "metadata": {},
     "output_type": "execute_result"
    },
    {
     "name": "stdout",
     "output_type": "stream",
     "text": [
      "124\n"
     ]
    },
    {
     "data": {
      "text/plain": [
       "<DimCoord: time / (days since 0001-01-01 00:00:00)  [0032-11-02 00:00:00]+bounds>"
      ]
     },
     "execution_count": 234,
     "metadata": {},
     "output_type": "execute_result"
    },
    {
     "data": {
      "text/plain": [
       "<DimCoord: time / (days since 0001-01-01 00:00:00)  [1971-05-05 00:00:00]+bounds>"
      ]
     },
     "execution_count": 234,
     "metadata": {},
     "output_type": "execute_result"
    },
    {
     "name": "stdout",
     "output_type": "stream",
     "text": [
      "125\n"
     ]
    },
    {
     "data": {
      "text/plain": [
       "<DimCoord: time / (days since 0001-01-01 00:00:00)  [0032-11-26 00:00:00]+bounds>"
      ]
     },
     "execution_count": 234,
     "metadata": {},
     "output_type": "execute_result"
    },
    {
     "data": {
      "text/plain": [
       "<DimCoord: time / (days since 0001-01-01 00:00:00)  [1971-05-06 00:00:00]+bounds>"
      ]
     },
     "execution_count": 234,
     "metadata": {},
     "output_type": "execute_result"
    },
    {
     "name": "stdout",
     "output_type": "stream",
     "text": [
      "126\n"
     ]
    },
    {
     "data": {
      "text/plain": [
       "<DimCoord: time / (days since 0001-01-01 00:00:00)  [0032-12-20 00:00:00]+bounds>"
      ]
     },
     "execution_count": 234,
     "metadata": {},
     "output_type": "execute_result"
    },
    {
     "data": {
      "text/plain": [
       "<DimCoord: time / (days since 0001-01-01 00:00:00)  [1971-05-07 00:00:00]+bounds>"
      ]
     },
     "execution_count": 234,
     "metadata": {},
     "output_type": "execute_result"
    },
    {
     "name": "stdout",
     "output_type": "stream",
     "text": [
      "127\n"
     ]
    },
    {
     "data": {
      "text/plain": [
       "<DimCoord: time / (days since 0001-01-01 00:00:00)  [0033-01-13 00:00:00]+bounds>"
      ]
     },
     "execution_count": 234,
     "metadata": {},
     "output_type": "execute_result"
    },
    {
     "data": {
      "text/plain": [
       "<DimCoord: time / (days since 0001-01-01 00:00:00)  [1971-05-08 00:00:00]+bounds>"
      ]
     },
     "execution_count": 234,
     "metadata": {},
     "output_type": "execute_result"
    },
    {
     "name": "stdout",
     "output_type": "stream",
     "text": [
      "128\n"
     ]
    },
    {
     "data": {
      "text/plain": [
       "<DimCoord: time / (days since 0001-01-01 00:00:00)  [0033-02-06 00:00:00]+bounds>"
      ]
     },
     "execution_count": 234,
     "metadata": {},
     "output_type": "execute_result"
    },
    {
     "data": {
      "text/plain": [
       "<DimCoord: time / (days since 0001-01-01 00:00:00)  [1971-05-09 00:00:00]+bounds>"
      ]
     },
     "execution_count": 234,
     "metadata": {},
     "output_type": "execute_result"
    },
    {
     "name": "stdout",
     "output_type": "stream",
     "text": [
      "129\n"
     ]
    },
    {
     "data": {
      "text/plain": [
       "<DimCoord: time / (days since 0001-01-01 00:00:00)  [0033-03-02 00:00:00]+bounds>"
      ]
     },
     "execution_count": 234,
     "metadata": {},
     "output_type": "execute_result"
    },
    {
     "data": {
      "text/plain": [
       "<DimCoord: time / (days since 0001-01-01 00:00:00)  [1971-05-10 00:00:00]+bounds>"
      ]
     },
     "execution_count": 234,
     "metadata": {},
     "output_type": "execute_result"
    },
    {
     "name": "stdout",
     "output_type": "stream",
     "text": [
      "130\n"
     ]
    },
    {
     "data": {
      "text/plain": [
       "<DimCoord: time / (days since 0001-01-01 00:00:00)  [0033-03-26 00:00:00]+bounds>"
      ]
     },
     "execution_count": 234,
     "metadata": {},
     "output_type": "execute_result"
    },
    {
     "data": {
      "text/plain": [
       "<DimCoord: time / (days since 0001-01-01 00:00:00)  [1971-05-11 00:00:00]+bounds>"
      ]
     },
     "execution_count": 234,
     "metadata": {},
     "output_type": "execute_result"
    },
    {
     "name": "stdout",
     "output_type": "stream",
     "text": [
      "131\n"
     ]
    },
    {
     "data": {
      "text/plain": [
       "<DimCoord: time / (days since 0001-01-01 00:00:00)  [0033-04-19 00:00:00]+bounds>"
      ]
     },
     "execution_count": 234,
     "metadata": {},
     "output_type": "execute_result"
    },
    {
     "data": {
      "text/plain": [
       "<DimCoord: time / (days since 0001-01-01 00:00:00)  [1971-05-12 00:00:00]+bounds>"
      ]
     },
     "execution_count": 234,
     "metadata": {},
     "output_type": "execute_result"
    },
    {
     "name": "stdout",
     "output_type": "stream",
     "text": [
      "132\n"
     ]
    },
    {
     "data": {
      "text/plain": [
       "<DimCoord: time / (days since 0001-01-01 00:00:00)  [0033-05-13 00:00:00]+bounds>"
      ]
     },
     "execution_count": 234,
     "metadata": {},
     "output_type": "execute_result"
    },
    {
     "data": {
      "text/plain": [
       "<DimCoord: time / (days since 0001-01-01 00:00:00)  [1971-05-13 00:00:00]+bounds>"
      ]
     },
     "execution_count": 234,
     "metadata": {},
     "output_type": "execute_result"
    },
    {
     "name": "stdout",
     "output_type": "stream",
     "text": [
      "133\n"
     ]
    },
    {
     "data": {
      "text/plain": [
       "<DimCoord: time / (days since 0001-01-01 00:00:00)  [0033-06-06 00:00:00]+bounds>"
      ]
     },
     "execution_count": 234,
     "metadata": {},
     "output_type": "execute_result"
    },
    {
     "data": {
      "text/plain": [
       "<DimCoord: time / (days since 0001-01-01 00:00:00)  [1971-05-14 00:00:00]+bounds>"
      ]
     },
     "execution_count": 234,
     "metadata": {},
     "output_type": "execute_result"
    },
    {
     "name": "stdout",
     "output_type": "stream",
     "text": [
      "134\n"
     ]
    },
    {
     "data": {
      "text/plain": [
       "<DimCoord: time / (days since 0001-01-01 00:00:00)  [0033-06-30 00:00:00]+bounds>"
      ]
     },
     "execution_count": 234,
     "metadata": {},
     "output_type": "execute_result"
    },
    {
     "data": {
      "text/plain": [
       "<DimCoord: time / (days since 0001-01-01 00:00:00)  [1971-05-15 00:00:00]+bounds>"
      ]
     },
     "execution_count": 234,
     "metadata": {},
     "output_type": "execute_result"
    },
    {
     "name": "stdout",
     "output_type": "stream",
     "text": [
      "135\n"
     ]
    },
    {
     "data": {
      "text/plain": [
       "<DimCoord: time / (days since 0001-01-01 00:00:00)  [0033-07-24 00:00:00]+bounds>"
      ]
     },
     "execution_count": 234,
     "metadata": {},
     "output_type": "execute_result"
    },
    {
     "data": {
      "text/plain": [
       "<DimCoord: time / (days since 0001-01-01 00:00:00)  [1971-05-16 00:00:00]+bounds>"
      ]
     },
     "execution_count": 234,
     "metadata": {},
     "output_type": "execute_result"
    },
    {
     "name": "stdout",
     "output_type": "stream",
     "text": [
      "136\n"
     ]
    },
    {
     "data": {
      "text/plain": [
       "<DimCoord: time / (days since 0001-01-01 00:00:00)  [0033-08-17 00:00:00]+bounds>"
      ]
     },
     "execution_count": 234,
     "metadata": {},
     "output_type": "execute_result"
    },
    {
     "data": {
      "text/plain": [
       "<DimCoord: time / (days since 0001-01-01 00:00:00)  [1971-05-17 00:00:00]+bounds>"
      ]
     },
     "execution_count": 234,
     "metadata": {},
     "output_type": "execute_result"
    },
    {
     "name": "stdout",
     "output_type": "stream",
     "text": [
      "137\n"
     ]
    },
    {
     "data": {
      "text/plain": [
       "<DimCoord: time / (days since 0001-01-01 00:00:00)  [0033-09-10 00:00:00]+bounds>"
      ]
     },
     "execution_count": 234,
     "metadata": {},
     "output_type": "execute_result"
    },
    {
     "data": {
      "text/plain": [
       "<DimCoord: time / (days since 0001-01-01 00:00:00)  [1971-05-18 00:00:00]+bounds>"
      ]
     },
     "execution_count": 234,
     "metadata": {},
     "output_type": "execute_result"
    },
    {
     "name": "stdout",
     "output_type": "stream",
     "text": [
      "138\n"
     ]
    },
    {
     "data": {
      "text/plain": [
       "<DimCoord: time / (days since 0001-01-01 00:00:00)  [0033-10-04 00:00:00]+bounds>"
      ]
     },
     "execution_count": 234,
     "metadata": {},
     "output_type": "execute_result"
    },
    {
     "data": {
      "text/plain": [
       "<DimCoord: time / (days since 0001-01-01 00:00:00)  [1971-05-19 00:00:00]+bounds>"
      ]
     },
     "execution_count": 234,
     "metadata": {},
     "output_type": "execute_result"
    },
    {
     "name": "stdout",
     "output_type": "stream",
     "text": [
      "139\n"
     ]
    },
    {
     "data": {
      "text/plain": [
       "<DimCoord: time / (days since 0001-01-01 00:00:00)  [0033-10-28 00:00:00]+bounds>"
      ]
     },
     "execution_count": 234,
     "metadata": {},
     "output_type": "execute_result"
    },
    {
     "data": {
      "text/plain": [
       "<DimCoord: time / (days since 0001-01-01 00:00:00)  [1971-05-20 00:00:00]+bounds>"
      ]
     },
     "execution_count": 234,
     "metadata": {},
     "output_type": "execute_result"
    },
    {
     "name": "stdout",
     "output_type": "stream",
     "text": [
      "140\n"
     ]
    },
    {
     "data": {
      "text/plain": [
       "<DimCoord: time / (days since 0001-01-01 00:00:00)  [0033-11-21 00:00:00]+bounds>"
      ]
     },
     "execution_count": 234,
     "metadata": {},
     "output_type": "execute_result"
    },
    {
     "data": {
      "text/plain": [
       "<DimCoord: time / (days since 0001-01-01 00:00:00)  [1971-05-21 00:00:00]+bounds>"
      ]
     },
     "execution_count": 234,
     "metadata": {},
     "output_type": "execute_result"
    },
    {
     "name": "stdout",
     "output_type": "stream",
     "text": [
      "141\n"
     ]
    },
    {
     "data": {
      "text/plain": [
       "<DimCoord: time / (days since 0001-01-01 00:00:00)  [0033-12-15 00:00:00]+bounds>"
      ]
     },
     "execution_count": 234,
     "metadata": {},
     "output_type": "execute_result"
    },
    {
     "data": {
      "text/plain": [
       "<DimCoord: time / (days since 0001-01-01 00:00:00)  [1971-05-22 00:00:00]+bounds>"
      ]
     },
     "execution_count": 234,
     "metadata": {},
     "output_type": "execute_result"
    },
    {
     "name": "stdout",
     "output_type": "stream",
     "text": [
      "142\n"
     ]
    },
    {
     "data": {
      "text/plain": [
       "<DimCoord: time / (days since 0001-01-01 00:00:00)  [0034-01-08 00:00:00]+bounds>"
      ]
     },
     "execution_count": 234,
     "metadata": {},
     "output_type": "execute_result"
    },
    {
     "data": {
      "text/plain": [
       "<DimCoord: time / (days since 0001-01-01 00:00:00)  [1971-05-23 00:00:00]+bounds>"
      ]
     },
     "execution_count": 234,
     "metadata": {},
     "output_type": "execute_result"
    },
    {
     "name": "stdout",
     "output_type": "stream",
     "text": [
      "143\n"
     ]
    },
    {
     "data": {
      "text/plain": [
       "<DimCoord: time / (days since 0001-01-01 00:00:00)  [0034-02-01 00:00:00]+bounds>"
      ]
     },
     "execution_count": 234,
     "metadata": {},
     "output_type": "execute_result"
    },
    {
     "data": {
      "text/plain": [
       "<DimCoord: time / (days since 0001-01-01 00:00:00)  [1971-05-24 00:00:00]+bounds>"
      ]
     },
     "execution_count": 234,
     "metadata": {},
     "output_type": "execute_result"
    },
    {
     "name": "stdout",
     "output_type": "stream",
     "text": [
      "144\n"
     ]
    },
    {
     "data": {
      "text/plain": [
       "<DimCoord: time / (days since 0001-01-01 00:00:00)  [0034-02-25 00:00:00]+bounds>"
      ]
     },
     "execution_count": 234,
     "metadata": {},
     "output_type": "execute_result"
    },
    {
     "data": {
      "text/plain": [
       "<DimCoord: time / (days since 0001-01-01 00:00:00)  [1971-05-25 00:00:00]+bounds>"
      ]
     },
     "execution_count": 234,
     "metadata": {},
     "output_type": "execute_result"
    },
    {
     "name": "stdout",
     "output_type": "stream",
     "text": [
      "145\n"
     ]
    },
    {
     "data": {
      "text/plain": [
       "<DimCoord: time / (days since 0001-01-01 00:00:00)  [0034-03-21 00:00:00]+bounds>"
      ]
     },
     "execution_count": 234,
     "metadata": {},
     "output_type": "execute_result"
    },
    {
     "data": {
      "text/plain": [
       "<DimCoord: time / (days since 0001-01-01 00:00:00)  [1971-05-26 00:00:00]+bounds>"
      ]
     },
     "execution_count": 234,
     "metadata": {},
     "output_type": "execute_result"
    },
    {
     "name": "stdout",
     "output_type": "stream",
     "text": [
      "146\n"
     ]
    },
    {
     "data": {
      "text/plain": [
       "<DimCoord: time / (days since 0001-01-01 00:00:00)  [0034-04-14 00:00:00]+bounds>"
      ]
     },
     "execution_count": 234,
     "metadata": {},
     "output_type": "execute_result"
    },
    {
     "data": {
      "text/plain": [
       "<DimCoord: time / (days since 0001-01-01 00:00:00)  [1971-05-27 00:00:00]+bounds>"
      ]
     },
     "execution_count": 234,
     "metadata": {},
     "output_type": "execute_result"
    },
    {
     "name": "stdout",
     "output_type": "stream",
     "text": [
      "147\n"
     ]
    },
    {
     "data": {
      "text/plain": [
       "<DimCoord: time / (days since 0001-01-01 00:00:00)  [0034-05-08 00:00:00]+bounds>"
      ]
     },
     "execution_count": 234,
     "metadata": {},
     "output_type": "execute_result"
    },
    {
     "data": {
      "text/plain": [
       "<DimCoord: time / (days since 0001-01-01 00:00:00)  [1971-05-28 00:00:00]+bounds>"
      ]
     },
     "execution_count": 234,
     "metadata": {},
     "output_type": "execute_result"
    },
    {
     "name": "stdout",
     "output_type": "stream",
     "text": [
      "148\n"
     ]
    },
    {
     "data": {
      "text/plain": [
       "<DimCoord: time / (days since 0001-01-01 00:00:00)  [0034-06-01 00:00:00]+bounds>"
      ]
     },
     "execution_count": 234,
     "metadata": {},
     "output_type": "execute_result"
    },
    {
     "data": {
      "text/plain": [
       "<DimCoord: time / (days since 0001-01-01 00:00:00)  [1971-05-29 00:00:00]+bounds>"
      ]
     },
     "execution_count": 234,
     "metadata": {},
     "output_type": "execute_result"
    },
    {
     "name": "stdout",
     "output_type": "stream",
     "text": [
      "149\n"
     ]
    },
    {
     "data": {
      "text/plain": [
       "<DimCoord: time / (days since 0001-01-01 00:00:00)  [0034-06-25 00:00:00]+bounds>"
      ]
     },
     "execution_count": 234,
     "metadata": {},
     "output_type": "execute_result"
    },
    {
     "data": {
      "text/plain": [
       "<DimCoord: time / (days since 0001-01-01 00:00:00)  [1971-05-30 00:00:00]+bounds>"
      ]
     },
     "execution_count": 234,
     "metadata": {},
     "output_type": "execute_result"
    },
    {
     "name": "stdout",
     "output_type": "stream",
     "text": [
      "150\n"
     ]
    },
    {
     "data": {
      "text/plain": [
       "<DimCoord: time / (days since 0001-01-01 00:00:00)  [0034-07-19 00:00:00]+bounds>"
      ]
     },
     "execution_count": 234,
     "metadata": {},
     "output_type": "execute_result"
    },
    {
     "data": {
      "text/plain": [
       "<DimCoord: time / (days since 0001-01-01 00:00:00)  [1971-05-31 00:00:00]+bounds>"
      ]
     },
     "execution_count": 234,
     "metadata": {},
     "output_type": "execute_result"
    },
    {
     "name": "stdout",
     "output_type": "stream",
     "text": [
      "151\n"
     ]
    },
    {
     "data": {
      "text/plain": [
       "<DimCoord: time / (days since 0001-01-01 00:00:00)  [0034-08-12 00:00:00]+bounds>"
      ]
     },
     "execution_count": 234,
     "metadata": {},
     "output_type": "execute_result"
    },
    {
     "data": {
      "text/plain": [
       "<DimCoord: time / (days since 0001-01-01 00:00:00)  [1971-06-01 00:00:00]+bounds>"
      ]
     },
     "execution_count": 234,
     "metadata": {},
     "output_type": "execute_result"
    },
    {
     "name": "stdout",
     "output_type": "stream",
     "text": [
      "152\n"
     ]
    },
    {
     "data": {
      "text/plain": [
       "<DimCoord: time / (days since 0001-01-01 00:00:00)  [0034-09-05 00:00:00]+bounds>"
      ]
     },
     "execution_count": 234,
     "metadata": {},
     "output_type": "execute_result"
    },
    {
     "data": {
      "text/plain": [
       "<DimCoord: time / (days since 0001-01-01 00:00:00)  [1971-06-02 00:00:00]+bounds>"
      ]
     },
     "execution_count": 234,
     "metadata": {},
     "output_type": "execute_result"
    },
    {
     "name": "stdout",
     "output_type": "stream",
     "text": [
      "153\n"
     ]
    },
    {
     "data": {
      "text/plain": [
       "<DimCoord: time / (days since 0001-01-01 00:00:00)  [0034-09-29 00:00:00]+bounds>"
      ]
     },
     "execution_count": 234,
     "metadata": {},
     "output_type": "execute_result"
    },
    {
     "data": {
      "text/plain": [
       "<DimCoord: time / (days since 0001-01-01 00:00:00)  [1971-06-03 00:00:00]+bounds>"
      ]
     },
     "execution_count": 234,
     "metadata": {},
     "output_type": "execute_result"
    },
    {
     "name": "stdout",
     "output_type": "stream",
     "text": [
      "154\n"
     ]
    },
    {
     "data": {
      "text/plain": [
       "<DimCoord: time / (days since 0001-01-01 00:00:00)  [0034-10-23 00:00:00]+bounds>"
      ]
     },
     "execution_count": 234,
     "metadata": {},
     "output_type": "execute_result"
    },
    {
     "data": {
      "text/plain": [
       "<DimCoord: time / (days since 0001-01-01 00:00:00)  [1971-06-04 00:00:00]+bounds>"
      ]
     },
     "execution_count": 234,
     "metadata": {},
     "output_type": "execute_result"
    },
    {
     "name": "stdout",
     "output_type": "stream",
     "text": [
      "155\n"
     ]
    },
    {
     "data": {
      "text/plain": [
       "<DimCoord: time / (days since 0001-01-01 00:00:00)  [0034-11-16 00:00:00]+bounds>"
      ]
     },
     "execution_count": 234,
     "metadata": {},
     "output_type": "execute_result"
    },
    {
     "data": {
      "text/plain": [
       "<DimCoord: time / (days since 0001-01-01 00:00:00)  [1971-06-05 00:00:00]+bounds>"
      ]
     },
     "execution_count": 234,
     "metadata": {},
     "output_type": "execute_result"
    },
    {
     "name": "stdout",
     "output_type": "stream",
     "text": [
      "156\n"
     ]
    },
    {
     "data": {
      "text/plain": [
       "<DimCoord: time / (days since 0001-01-01 00:00:00)  [0034-12-10 00:00:00]+bounds>"
      ]
     },
     "execution_count": 234,
     "metadata": {},
     "output_type": "execute_result"
    },
    {
     "data": {
      "text/plain": [
       "<DimCoord: time / (days since 0001-01-01 00:00:00)  [1971-06-06 00:00:00]+bounds>"
      ]
     },
     "execution_count": 234,
     "metadata": {},
     "output_type": "execute_result"
    },
    {
     "name": "stdout",
     "output_type": "stream",
     "text": [
      "157\n"
     ]
    },
    {
     "data": {
      "text/plain": [
       "<DimCoord: time / (days since 0001-01-01 00:00:00)  [0035-01-03 00:00:00]+bounds>"
      ]
     },
     "execution_count": 234,
     "metadata": {},
     "output_type": "execute_result"
    },
    {
     "data": {
      "text/plain": [
       "<DimCoord: time / (days since 0001-01-01 00:00:00)  [1971-06-07 00:00:00]+bounds>"
      ]
     },
     "execution_count": 234,
     "metadata": {},
     "output_type": "execute_result"
    },
    {
     "name": "stdout",
     "output_type": "stream",
     "text": [
      "158\n"
     ]
    },
    {
     "data": {
      "text/plain": [
       "<DimCoord: time / (days since 0001-01-01 00:00:00)  [0035-01-27 00:00:00]+bounds>"
      ]
     },
     "execution_count": 234,
     "metadata": {},
     "output_type": "execute_result"
    },
    {
     "data": {
      "text/plain": [
       "<DimCoord: time / (days since 0001-01-01 00:00:00)  [1971-06-08 00:00:00]+bounds>"
      ]
     },
     "execution_count": 234,
     "metadata": {},
     "output_type": "execute_result"
    },
    {
     "name": "stdout",
     "output_type": "stream",
     "text": [
      "159\n"
     ]
    },
    {
     "data": {
      "text/plain": [
       "<DimCoord: time / (days since 0001-01-01 00:00:00)  [0035-02-20 00:00:00]+bounds>"
      ]
     },
     "execution_count": 234,
     "metadata": {},
     "output_type": "execute_result"
    },
    {
     "data": {
      "text/plain": [
       "<DimCoord: time / (days since 0001-01-01 00:00:00)  [1971-06-09 00:00:00]+bounds>"
      ]
     },
     "execution_count": 234,
     "metadata": {},
     "output_type": "execute_result"
    },
    {
     "name": "stdout",
     "output_type": "stream",
     "text": [
      "160\n"
     ]
    },
    {
     "data": {
      "text/plain": [
       "<DimCoord: time / (days since 0001-01-01 00:00:00)  [0035-03-16 00:00:00]+bounds>"
      ]
     },
     "execution_count": 234,
     "metadata": {},
     "output_type": "execute_result"
    },
    {
     "data": {
      "text/plain": [
       "<DimCoord: time / (days since 0001-01-01 00:00:00)  [1971-06-10 00:00:00]+bounds>"
      ]
     },
     "execution_count": 234,
     "metadata": {},
     "output_type": "execute_result"
    },
    {
     "name": "stdout",
     "output_type": "stream",
     "text": [
      "161\n"
     ]
    },
    {
     "data": {
      "text/plain": [
       "<DimCoord: time / (days since 0001-01-01 00:00:00)  [0035-04-09 00:00:00]+bounds>"
      ]
     },
     "execution_count": 234,
     "metadata": {},
     "output_type": "execute_result"
    },
    {
     "data": {
      "text/plain": [
       "<DimCoord: time / (days since 0001-01-01 00:00:00)  [1971-06-11 00:00:00]+bounds>"
      ]
     },
     "execution_count": 234,
     "metadata": {},
     "output_type": "execute_result"
    },
    {
     "name": "stdout",
     "output_type": "stream",
     "text": [
      "162\n"
     ]
    },
    {
     "data": {
      "text/plain": [
       "<DimCoord: time / (days since 0001-01-01 00:00:00)  [0035-05-03 00:00:00]+bounds>"
      ]
     },
     "execution_count": 234,
     "metadata": {},
     "output_type": "execute_result"
    },
    {
     "data": {
      "text/plain": [
       "<DimCoord: time / (days since 0001-01-01 00:00:00)  [1971-06-12 00:00:00]+bounds>"
      ]
     },
     "execution_count": 234,
     "metadata": {},
     "output_type": "execute_result"
    },
    {
     "name": "stdout",
     "output_type": "stream",
     "text": [
      "163\n"
     ]
    },
    {
     "data": {
      "text/plain": [
       "<DimCoord: time / (days since 0001-01-01 00:00:00)  [0035-05-27 00:00:00]+bounds>"
      ]
     },
     "execution_count": 234,
     "metadata": {},
     "output_type": "execute_result"
    },
    {
     "data": {
      "text/plain": [
       "<DimCoord: time / (days since 0001-01-01 00:00:00)  [1971-06-13 00:00:00]+bounds>"
      ]
     },
     "execution_count": 234,
     "metadata": {},
     "output_type": "execute_result"
    },
    {
     "name": "stdout",
     "output_type": "stream",
     "text": [
      "164\n"
     ]
    },
    {
     "data": {
      "text/plain": [
       "<DimCoord: time / (days since 0001-01-01 00:00:00)  [0035-06-20 00:00:00]+bounds>"
      ]
     },
     "execution_count": 234,
     "metadata": {},
     "output_type": "execute_result"
    },
    {
     "data": {
      "text/plain": [
       "<DimCoord: time / (days since 0001-01-01 00:00:00)  [1971-06-14 00:00:00]+bounds>"
      ]
     },
     "execution_count": 234,
     "metadata": {},
     "output_type": "execute_result"
    },
    {
     "name": "stdout",
     "output_type": "stream",
     "text": [
      "165\n"
     ]
    },
    {
     "data": {
      "text/plain": [
       "<DimCoord: time / (days since 0001-01-01 00:00:00)  [0035-07-14 00:00:00]+bounds>"
      ]
     },
     "execution_count": 234,
     "metadata": {},
     "output_type": "execute_result"
    },
    {
     "data": {
      "text/plain": [
       "<DimCoord: time / (days since 0001-01-01 00:00:00)  [1971-06-15 00:00:00]+bounds>"
      ]
     },
     "execution_count": 234,
     "metadata": {},
     "output_type": "execute_result"
    },
    {
     "name": "stdout",
     "output_type": "stream",
     "text": [
      "166\n"
     ]
    },
    {
     "data": {
      "text/plain": [
       "<DimCoord: time / (days since 0001-01-01 00:00:00)  [0035-08-07 00:00:00]+bounds>"
      ]
     },
     "execution_count": 234,
     "metadata": {},
     "output_type": "execute_result"
    },
    {
     "data": {
      "text/plain": [
       "<DimCoord: time / (days since 0001-01-01 00:00:00)  [1971-06-16 00:00:00]+bounds>"
      ]
     },
     "execution_count": 234,
     "metadata": {},
     "output_type": "execute_result"
    },
    {
     "name": "stdout",
     "output_type": "stream",
     "text": [
      "167\n"
     ]
    },
    {
     "data": {
      "text/plain": [
       "<DimCoord: time / (days since 0001-01-01 00:00:00)  [0035-08-31 00:00:00]+bounds>"
      ]
     },
     "execution_count": 234,
     "metadata": {},
     "output_type": "execute_result"
    },
    {
     "data": {
      "text/plain": [
       "<DimCoord: time / (days since 0001-01-01 00:00:00)  [1971-06-17 00:00:00]+bounds>"
      ]
     },
     "execution_count": 234,
     "metadata": {},
     "output_type": "execute_result"
    },
    {
     "name": "stdout",
     "output_type": "stream",
     "text": [
      "168\n"
     ]
    },
    {
     "data": {
      "text/plain": [
       "<DimCoord: time / (days since 0001-01-01 00:00:00)  [0035-09-24 00:00:00]+bounds>"
      ]
     },
     "execution_count": 234,
     "metadata": {},
     "output_type": "execute_result"
    },
    {
     "data": {
      "text/plain": [
       "<DimCoord: time / (days since 0001-01-01 00:00:00)  [1971-06-18 00:00:00]+bounds>"
      ]
     },
     "execution_count": 234,
     "metadata": {},
     "output_type": "execute_result"
    },
    {
     "name": "stdout",
     "output_type": "stream",
     "text": [
      "169\n"
     ]
    },
    {
     "data": {
      "text/plain": [
       "<DimCoord: time / (days since 0001-01-01 00:00:00)  [0035-10-18 00:00:00]+bounds>"
      ]
     },
     "execution_count": 234,
     "metadata": {},
     "output_type": "execute_result"
    },
    {
     "data": {
      "text/plain": [
       "<DimCoord: time / (days since 0001-01-01 00:00:00)  [1971-06-19 00:00:00]+bounds>"
      ]
     },
     "execution_count": 234,
     "metadata": {},
     "output_type": "execute_result"
    },
    {
     "name": "stdout",
     "output_type": "stream",
     "text": [
      "170\n"
     ]
    },
    {
     "data": {
      "text/plain": [
       "<DimCoord: time / (days since 0001-01-01 00:00:00)  [0035-11-11 00:00:00]+bounds>"
      ]
     },
     "execution_count": 234,
     "metadata": {},
     "output_type": "execute_result"
    },
    {
     "data": {
      "text/plain": [
       "<DimCoord: time / (days since 0001-01-01 00:00:00)  [1971-06-20 00:00:00]+bounds>"
      ]
     },
     "execution_count": 234,
     "metadata": {},
     "output_type": "execute_result"
    },
    {
     "name": "stdout",
     "output_type": "stream",
     "text": [
      "171\n"
     ]
    },
    {
     "data": {
      "text/plain": [
       "<DimCoord: time / (days since 0001-01-01 00:00:00)  [0035-12-05 00:00:00]+bounds>"
      ]
     },
     "execution_count": 234,
     "metadata": {},
     "output_type": "execute_result"
    },
    {
     "data": {
      "text/plain": [
       "<DimCoord: time / (days since 0001-01-01 00:00:00)  [1971-06-21 00:00:00]+bounds>"
      ]
     },
     "execution_count": 234,
     "metadata": {},
     "output_type": "execute_result"
    },
    {
     "name": "stdout",
     "output_type": "stream",
     "text": [
      "172\n"
     ]
    },
    {
     "data": {
      "text/plain": [
       "<DimCoord: time / (days since 0001-01-01 00:00:00)  [0035-12-29 00:00:00]+bounds>"
      ]
     },
     "execution_count": 234,
     "metadata": {},
     "output_type": "execute_result"
    },
    {
     "data": {
      "text/plain": [
       "<DimCoord: time / (days since 0001-01-01 00:00:00)  [1971-06-22 00:00:00]+bounds>"
      ]
     },
     "execution_count": 234,
     "metadata": {},
     "output_type": "execute_result"
    },
    {
     "name": "stdout",
     "output_type": "stream",
     "text": [
      "173\n"
     ]
    },
    {
     "data": {
      "text/plain": [
       "<DimCoord: time / (days since 0001-01-01 00:00:00)  [0036-01-22 00:00:00]+bounds>"
      ]
     },
     "execution_count": 234,
     "metadata": {},
     "output_type": "execute_result"
    },
    {
     "data": {
      "text/plain": [
       "<DimCoord: time / (days since 0001-01-01 00:00:00)  [1971-06-23 00:00:00]+bounds>"
      ]
     },
     "execution_count": 234,
     "metadata": {},
     "output_type": "execute_result"
    },
    {
     "name": "stdout",
     "output_type": "stream",
     "text": [
      "174\n"
     ]
    },
    {
     "data": {
      "text/plain": [
       "<DimCoord: time / (days since 0001-01-01 00:00:00)  [0036-02-15 00:00:00]+bounds>"
      ]
     },
     "execution_count": 234,
     "metadata": {},
     "output_type": "execute_result"
    },
    {
     "data": {
      "text/plain": [
       "<DimCoord: time / (days since 0001-01-01 00:00:00)  [1971-06-24 00:00:00]+bounds>"
      ]
     },
     "execution_count": 234,
     "metadata": {},
     "output_type": "execute_result"
    },
    {
     "name": "stdout",
     "output_type": "stream",
     "text": [
      "175\n"
     ]
    },
    {
     "data": {
      "text/plain": [
       "<DimCoord: time / (days since 0001-01-01 00:00:00)  [0036-03-10 00:00:00]+bounds>"
      ]
     },
     "execution_count": 234,
     "metadata": {},
     "output_type": "execute_result"
    },
    {
     "data": {
      "text/plain": [
       "<DimCoord: time / (days since 0001-01-01 00:00:00)  [1971-06-25 00:00:00]+bounds>"
      ]
     },
     "execution_count": 234,
     "metadata": {},
     "output_type": "execute_result"
    },
    {
     "name": "stdout",
     "output_type": "stream",
     "text": [
      "176\n"
     ]
    },
    {
     "data": {
      "text/plain": [
       "<DimCoord: time / (days since 0001-01-01 00:00:00)  [0036-04-03 00:00:00]+bounds>"
      ]
     },
     "execution_count": 234,
     "metadata": {},
     "output_type": "execute_result"
    },
    {
     "data": {
      "text/plain": [
       "<DimCoord: time / (days since 0001-01-01 00:00:00)  [1971-06-26 00:00:00]+bounds>"
      ]
     },
     "execution_count": 234,
     "metadata": {},
     "output_type": "execute_result"
    },
    {
     "name": "stdout",
     "output_type": "stream",
     "text": [
      "177\n"
     ]
    },
    {
     "data": {
      "text/plain": [
       "<DimCoord: time / (days since 0001-01-01 00:00:00)  [0036-04-27 00:00:00]+bounds>"
      ]
     },
     "execution_count": 234,
     "metadata": {},
     "output_type": "execute_result"
    },
    {
     "data": {
      "text/plain": [
       "<DimCoord: time / (days since 0001-01-01 00:00:00)  [1971-06-27 00:00:00]+bounds>"
      ]
     },
     "execution_count": 234,
     "metadata": {},
     "output_type": "execute_result"
    },
    {
     "name": "stdout",
     "output_type": "stream",
     "text": [
      "178\n"
     ]
    },
    {
     "data": {
      "text/plain": [
       "<DimCoord: time / (days since 0001-01-01 00:00:00)  [0036-05-21 00:00:00]+bounds>"
      ]
     },
     "execution_count": 234,
     "metadata": {},
     "output_type": "execute_result"
    },
    {
     "data": {
      "text/plain": [
       "<DimCoord: time / (days since 0001-01-01 00:00:00)  [1971-06-28 00:00:00]+bounds>"
      ]
     },
     "execution_count": 234,
     "metadata": {},
     "output_type": "execute_result"
    },
    {
     "name": "stdout",
     "output_type": "stream",
     "text": [
      "179\n"
     ]
    },
    {
     "data": {
      "text/plain": [
       "<DimCoord: time / (days since 0001-01-01 00:00:00)  [0036-06-14 00:00:00]+bounds>"
      ]
     },
     "execution_count": 234,
     "metadata": {},
     "output_type": "execute_result"
    },
    {
     "data": {
      "text/plain": [
       "<DimCoord: time / (days since 0001-01-01 00:00:00)  [1971-06-29 00:00:00]+bounds>"
      ]
     },
     "execution_count": 234,
     "metadata": {},
     "output_type": "execute_result"
    },
    {
     "name": "stdout",
     "output_type": "stream",
     "text": [
      "180\n"
     ]
    },
    {
     "data": {
      "text/plain": [
       "<DimCoord: time / (days since 0001-01-01 00:00:00)  [0036-07-08 00:00:00]+bounds>"
      ]
     },
     "execution_count": 234,
     "metadata": {},
     "output_type": "execute_result"
    },
    {
     "data": {
      "text/plain": [
       "<DimCoord: time / (days since 0001-01-01 00:00:00)  [1971-06-30 00:00:00]+bounds>"
      ]
     },
     "execution_count": 234,
     "metadata": {},
     "output_type": "execute_result"
    },
    {
     "name": "stdout",
     "output_type": "stream",
     "text": [
      "181\n"
     ]
    },
    {
     "data": {
      "text/plain": [
       "<DimCoord: time / (days since 0001-01-01 00:00:00)  [0036-08-01 00:00:00]+bounds>"
      ]
     },
     "execution_count": 234,
     "metadata": {},
     "output_type": "execute_result"
    },
    {
     "data": {
      "text/plain": [
       "<DimCoord: time / (days since 0001-01-01 00:00:00)  [1971-07-01 00:00:00]+bounds>"
      ]
     },
     "execution_count": 234,
     "metadata": {},
     "output_type": "execute_result"
    },
    {
     "name": "stdout",
     "output_type": "stream",
     "text": [
      "182\n"
     ]
    },
    {
     "data": {
      "text/plain": [
       "<DimCoord: time / (days since 0001-01-01 00:00:00)  [0036-08-25 00:00:00]+bounds>"
      ]
     },
     "execution_count": 234,
     "metadata": {},
     "output_type": "execute_result"
    },
    {
     "data": {
      "text/plain": [
       "<DimCoord: time / (days since 0001-01-01 00:00:00)  [1971-07-02 00:00:00]+bounds>"
      ]
     },
     "execution_count": 234,
     "metadata": {},
     "output_type": "execute_result"
    },
    {
     "name": "stdout",
     "output_type": "stream",
     "text": [
      "183\n"
     ]
    },
    {
     "data": {
      "text/plain": [
       "<DimCoord: time / (days since 0001-01-01 00:00:00)  [0036-09-18 00:00:00]+bounds>"
      ]
     },
     "execution_count": 234,
     "metadata": {},
     "output_type": "execute_result"
    },
    {
     "data": {
      "text/plain": [
       "<DimCoord: time / (days since 0001-01-01 00:00:00)  [1971-07-03 00:00:00]+bounds>"
      ]
     },
     "execution_count": 234,
     "metadata": {},
     "output_type": "execute_result"
    },
    {
     "name": "stdout",
     "output_type": "stream",
     "text": [
      "184\n"
     ]
    },
    {
     "data": {
      "text/plain": [
       "<DimCoord: time / (days since 0001-01-01 00:00:00)  [0036-10-12 00:00:00]+bounds>"
      ]
     },
     "execution_count": 234,
     "metadata": {},
     "output_type": "execute_result"
    },
    {
     "data": {
      "text/plain": [
       "<DimCoord: time / (days since 0001-01-01 00:00:00)  [1971-07-04 00:00:00]+bounds>"
      ]
     },
     "execution_count": 234,
     "metadata": {},
     "output_type": "execute_result"
    },
    {
     "name": "stdout",
     "output_type": "stream",
     "text": [
      "185\n"
     ]
    },
    {
     "data": {
      "text/plain": [
       "<DimCoord: time / (days since 0001-01-01 00:00:00)  [0036-11-05 00:00:00]+bounds>"
      ]
     },
     "execution_count": 234,
     "metadata": {},
     "output_type": "execute_result"
    },
    {
     "data": {
      "text/plain": [
       "<DimCoord: time / (days since 0001-01-01 00:00:00)  [1971-07-05 00:00:00]+bounds>"
      ]
     },
     "execution_count": 234,
     "metadata": {},
     "output_type": "execute_result"
    },
    {
     "name": "stdout",
     "output_type": "stream",
     "text": [
      "186\n"
     ]
    },
    {
     "data": {
      "text/plain": [
       "<DimCoord: time / (days since 0001-01-01 00:00:00)  [0036-11-29 00:00:00]+bounds>"
      ]
     },
     "execution_count": 234,
     "metadata": {},
     "output_type": "execute_result"
    },
    {
     "data": {
      "text/plain": [
       "<DimCoord: time / (days since 0001-01-01 00:00:00)  [1971-07-06 00:00:00]+bounds>"
      ]
     },
     "execution_count": 234,
     "metadata": {},
     "output_type": "execute_result"
    },
    {
     "name": "stdout",
     "output_type": "stream",
     "text": [
      "187\n"
     ]
    },
    {
     "data": {
      "text/plain": [
       "<DimCoord: time / (days since 0001-01-01 00:00:00)  [0036-12-23 00:00:00]+bounds>"
      ]
     },
     "execution_count": 234,
     "metadata": {},
     "output_type": "execute_result"
    },
    {
     "data": {
      "text/plain": [
       "<DimCoord: time / (days since 0001-01-01 00:00:00)  [1971-07-07 00:00:00]+bounds>"
      ]
     },
     "execution_count": 234,
     "metadata": {},
     "output_type": "execute_result"
    },
    {
     "name": "stdout",
     "output_type": "stream",
     "text": [
      "188\n"
     ]
    },
    {
     "data": {
      "text/plain": [
       "<DimCoord: time / (days since 0001-01-01 00:00:00)  [0037-01-16 00:00:00]+bounds>"
      ]
     },
     "execution_count": 234,
     "metadata": {},
     "output_type": "execute_result"
    },
    {
     "data": {
      "text/plain": [
       "<DimCoord: time / (days since 0001-01-01 00:00:00)  [1971-07-08 00:00:00]+bounds>"
      ]
     },
     "execution_count": 234,
     "metadata": {},
     "output_type": "execute_result"
    },
    {
     "name": "stdout",
     "output_type": "stream",
     "text": [
      "189\n"
     ]
    },
    {
     "data": {
      "text/plain": [
       "<DimCoord: time / (days since 0001-01-01 00:00:00)  [0037-02-09 00:00:00]+bounds>"
      ]
     },
     "execution_count": 234,
     "metadata": {},
     "output_type": "execute_result"
    },
    {
     "data": {
      "text/plain": [
       "<DimCoord: time / (days since 0001-01-01 00:00:00)  [1971-07-09 00:00:00]+bounds>"
      ]
     },
     "execution_count": 234,
     "metadata": {},
     "output_type": "execute_result"
    },
    {
     "name": "stdout",
     "output_type": "stream",
     "text": [
      "190\n"
     ]
    },
    {
     "data": {
      "text/plain": [
       "<DimCoord: time / (days since 0001-01-01 00:00:00)  [0037-03-05 00:00:00]+bounds>"
      ]
     },
     "execution_count": 234,
     "metadata": {},
     "output_type": "execute_result"
    },
    {
     "data": {
      "text/plain": [
       "<DimCoord: time / (days since 0001-01-01 00:00:00)  [1971-07-10 00:00:00]+bounds>"
      ]
     },
     "execution_count": 234,
     "metadata": {},
     "output_type": "execute_result"
    },
    {
     "name": "stdout",
     "output_type": "stream",
     "text": [
      "191\n"
     ]
    },
    {
     "data": {
      "text/plain": [
       "<DimCoord: time / (days since 0001-01-01 00:00:00)  [0037-03-29 00:00:00]+bounds>"
      ]
     },
     "execution_count": 234,
     "metadata": {},
     "output_type": "execute_result"
    },
    {
     "data": {
      "text/plain": [
       "<DimCoord: time / (days since 0001-01-01 00:00:00)  [1971-07-11 00:00:00]+bounds>"
      ]
     },
     "execution_count": 234,
     "metadata": {},
     "output_type": "execute_result"
    },
    {
     "name": "stdout",
     "output_type": "stream",
     "text": [
      "192\n"
     ]
    },
    {
     "data": {
      "text/plain": [
       "<DimCoord: time / (days since 0001-01-01 00:00:00)  [0037-04-22 00:00:00]+bounds>"
      ]
     },
     "execution_count": 234,
     "metadata": {},
     "output_type": "execute_result"
    },
    {
     "data": {
      "text/plain": [
       "<DimCoord: time / (days since 0001-01-01 00:00:00)  [1971-07-12 00:00:00]+bounds>"
      ]
     },
     "execution_count": 234,
     "metadata": {},
     "output_type": "execute_result"
    },
    {
     "name": "stdout",
     "output_type": "stream",
     "text": [
      "193\n"
     ]
    },
    {
     "data": {
      "text/plain": [
       "<DimCoord: time / (days since 0001-01-01 00:00:00)  [0037-05-16 00:00:00]+bounds>"
      ]
     },
     "execution_count": 234,
     "metadata": {},
     "output_type": "execute_result"
    },
    {
     "data": {
      "text/plain": [
       "<DimCoord: time / (days since 0001-01-01 00:00:00)  [1971-07-13 00:00:00]+bounds>"
      ]
     },
     "execution_count": 234,
     "metadata": {},
     "output_type": "execute_result"
    },
    {
     "name": "stdout",
     "output_type": "stream",
     "text": [
      "194\n"
     ]
    },
    {
     "data": {
      "text/plain": [
       "<DimCoord: time / (days since 0001-01-01 00:00:00)  [0037-06-09 00:00:00]+bounds>"
      ]
     },
     "execution_count": 234,
     "metadata": {},
     "output_type": "execute_result"
    },
    {
     "data": {
      "text/plain": [
       "<DimCoord: time / (days since 0001-01-01 00:00:00)  [1971-07-14 00:00:00]+bounds>"
      ]
     },
     "execution_count": 234,
     "metadata": {},
     "output_type": "execute_result"
    },
    {
     "name": "stdout",
     "output_type": "stream",
     "text": [
      "195\n"
     ]
    },
    {
     "data": {
      "text/plain": [
       "<DimCoord: time / (days since 0001-01-01 00:00:00)  [0037-07-03 00:00:00]+bounds>"
      ]
     },
     "execution_count": 234,
     "metadata": {},
     "output_type": "execute_result"
    },
    {
     "data": {
      "text/plain": [
       "<DimCoord: time / (days since 0001-01-01 00:00:00)  [1971-07-15 00:00:00]+bounds>"
      ]
     },
     "execution_count": 234,
     "metadata": {},
     "output_type": "execute_result"
    },
    {
     "name": "stdout",
     "output_type": "stream",
     "text": [
      "196\n"
     ]
    },
    {
     "data": {
      "text/plain": [
       "<DimCoord: time / (days since 0001-01-01 00:00:00)  [0037-07-27 00:00:00]+bounds>"
      ]
     },
     "execution_count": 234,
     "metadata": {},
     "output_type": "execute_result"
    },
    {
     "data": {
      "text/plain": [
       "<DimCoord: time / (days since 0001-01-01 00:00:00)  [1971-07-16 00:00:00]+bounds>"
      ]
     },
     "execution_count": 234,
     "metadata": {},
     "output_type": "execute_result"
    },
    {
     "name": "stdout",
     "output_type": "stream",
     "text": [
      "197\n"
     ]
    },
    {
     "data": {
      "text/plain": [
       "<DimCoord: time / (days since 0001-01-01 00:00:00)  [0037-08-20 00:00:00]+bounds>"
      ]
     },
     "execution_count": 234,
     "metadata": {},
     "output_type": "execute_result"
    },
    {
     "data": {
      "text/plain": [
       "<DimCoord: time / (days since 0001-01-01 00:00:00)  [1971-07-17 00:00:00]+bounds>"
      ]
     },
     "execution_count": 234,
     "metadata": {},
     "output_type": "execute_result"
    },
    {
     "name": "stdout",
     "output_type": "stream",
     "text": [
      "198\n"
     ]
    },
    {
     "data": {
      "text/plain": [
       "<DimCoord: time / (days since 0001-01-01 00:00:00)  [0037-09-13 00:00:00]+bounds>"
      ]
     },
     "execution_count": 234,
     "metadata": {},
     "output_type": "execute_result"
    },
    {
     "data": {
      "text/plain": [
       "<DimCoord: time / (days since 0001-01-01 00:00:00)  [1971-07-18 00:00:00]+bounds>"
      ]
     },
     "execution_count": 234,
     "metadata": {},
     "output_type": "execute_result"
    },
    {
     "name": "stdout",
     "output_type": "stream",
     "text": [
      "199\n"
     ]
    },
    {
     "data": {
      "text/plain": [
       "<DimCoord: time / (days since 0001-01-01 00:00:00)  [0037-10-07 00:00:00]+bounds>"
      ]
     },
     "execution_count": 234,
     "metadata": {},
     "output_type": "execute_result"
    },
    {
     "data": {
      "text/plain": [
       "<DimCoord: time / (days since 0001-01-01 00:00:00)  [1971-07-19 00:00:00]+bounds>"
      ]
     },
     "execution_count": 234,
     "metadata": {},
     "output_type": "execute_result"
    },
    {
     "name": "stdout",
     "output_type": "stream",
     "text": [
      "200\n"
     ]
    },
    {
     "data": {
      "text/plain": [
       "<DimCoord: time / (days since 0001-01-01 00:00:00)  [0037-10-31 00:00:00]+bounds>"
      ]
     },
     "execution_count": 234,
     "metadata": {},
     "output_type": "execute_result"
    },
    {
     "data": {
      "text/plain": [
       "<DimCoord: time / (days since 0001-01-01 00:00:00)  [1971-07-20 00:00:00]+bounds>"
      ]
     },
     "execution_count": 234,
     "metadata": {},
     "output_type": "execute_result"
    },
    {
     "name": "stdout",
     "output_type": "stream",
     "text": [
      "201\n"
     ]
    },
    {
     "data": {
      "text/plain": [
       "<DimCoord: time / (days since 0001-01-01 00:00:00)  [0037-11-24 00:00:00]+bounds>"
      ]
     },
     "execution_count": 234,
     "metadata": {},
     "output_type": "execute_result"
    },
    {
     "data": {
      "text/plain": [
       "<DimCoord: time / (days since 0001-01-01 00:00:00)  [1971-07-21 00:00:00]+bounds>"
      ]
     },
     "execution_count": 234,
     "metadata": {},
     "output_type": "execute_result"
    },
    {
     "name": "stdout",
     "output_type": "stream",
     "text": [
      "202\n"
     ]
    },
    {
     "data": {
      "text/plain": [
       "<DimCoord: time / (days since 0001-01-01 00:00:00)  [0037-12-18 00:00:00]+bounds>"
      ]
     },
     "execution_count": 234,
     "metadata": {},
     "output_type": "execute_result"
    },
    {
     "data": {
      "text/plain": [
       "<DimCoord: time / (days since 0001-01-01 00:00:00)  [1971-07-22 00:00:00]+bounds>"
      ]
     },
     "execution_count": 234,
     "metadata": {},
     "output_type": "execute_result"
    },
    {
     "name": "stdout",
     "output_type": "stream",
     "text": [
      "203\n"
     ]
    },
    {
     "data": {
      "text/plain": [
       "<DimCoord: time / (days since 0001-01-01 00:00:00)  [0038-01-11 00:00:00]+bounds>"
      ]
     },
     "execution_count": 234,
     "metadata": {},
     "output_type": "execute_result"
    },
    {
     "data": {
      "text/plain": [
       "<DimCoord: time / (days since 0001-01-01 00:00:00)  [1971-07-23 00:00:00]+bounds>"
      ]
     },
     "execution_count": 234,
     "metadata": {},
     "output_type": "execute_result"
    },
    {
     "name": "stdout",
     "output_type": "stream",
     "text": [
      "204\n"
     ]
    },
    {
     "data": {
      "text/plain": [
       "<DimCoord: time / (days since 0001-01-01 00:00:00)  [0038-02-04 00:00:00]+bounds>"
      ]
     },
     "execution_count": 234,
     "metadata": {},
     "output_type": "execute_result"
    },
    {
     "data": {
      "text/plain": [
       "<DimCoord: time / (days since 0001-01-01 00:00:00)  [1971-07-24 00:00:00]+bounds>"
      ]
     },
     "execution_count": 234,
     "metadata": {},
     "output_type": "execute_result"
    },
    {
     "name": "stdout",
     "output_type": "stream",
     "text": [
      "205\n"
     ]
    },
    {
     "data": {
      "text/plain": [
       "<DimCoord: time / (days since 0001-01-01 00:00:00)  [0038-02-28 00:00:00]+bounds>"
      ]
     },
     "execution_count": 234,
     "metadata": {},
     "output_type": "execute_result"
    },
    {
     "data": {
      "text/plain": [
       "<DimCoord: time / (days since 0001-01-01 00:00:00)  [1971-07-25 00:00:00]+bounds>"
      ]
     },
     "execution_count": 234,
     "metadata": {},
     "output_type": "execute_result"
    },
    {
     "name": "stdout",
     "output_type": "stream",
     "text": [
      "206\n"
     ]
    },
    {
     "data": {
      "text/plain": [
       "<DimCoord: time / (days since 0001-01-01 00:00:00)  [0038-03-24 00:00:00]+bounds>"
      ]
     },
     "execution_count": 234,
     "metadata": {},
     "output_type": "execute_result"
    },
    {
     "data": {
      "text/plain": [
       "<DimCoord: time / (days since 0001-01-01 00:00:00)  [1971-07-26 00:00:00]+bounds>"
      ]
     },
     "execution_count": 234,
     "metadata": {},
     "output_type": "execute_result"
    },
    {
     "name": "stdout",
     "output_type": "stream",
     "text": [
      "207\n"
     ]
    },
    {
     "data": {
      "text/plain": [
       "<DimCoord: time / (days since 0001-01-01 00:00:00)  [0038-04-17 00:00:00]+bounds>"
      ]
     },
     "execution_count": 234,
     "metadata": {},
     "output_type": "execute_result"
    },
    {
     "data": {
      "text/plain": [
       "<DimCoord: time / (days since 0001-01-01 00:00:00)  [1971-07-27 00:00:00]+bounds>"
      ]
     },
     "execution_count": 234,
     "metadata": {},
     "output_type": "execute_result"
    },
    {
     "name": "stdout",
     "output_type": "stream",
     "text": [
      "208\n"
     ]
    },
    {
     "data": {
      "text/plain": [
       "<DimCoord: time / (days since 0001-01-01 00:00:00)  [0038-05-11 00:00:00]+bounds>"
      ]
     },
     "execution_count": 234,
     "metadata": {},
     "output_type": "execute_result"
    },
    {
     "data": {
      "text/plain": [
       "<DimCoord: time / (days since 0001-01-01 00:00:00)  [1971-07-28 00:00:00]+bounds>"
      ]
     },
     "execution_count": 234,
     "metadata": {},
     "output_type": "execute_result"
    },
    {
     "name": "stdout",
     "output_type": "stream",
     "text": [
      "209\n"
     ]
    },
    {
     "data": {
      "text/plain": [
       "<DimCoord: time / (days since 0001-01-01 00:00:00)  [0038-06-04 00:00:00]+bounds>"
      ]
     },
     "execution_count": 234,
     "metadata": {},
     "output_type": "execute_result"
    },
    {
     "data": {
      "text/plain": [
       "<DimCoord: time / (days since 0001-01-01 00:00:00)  [1971-07-29 00:00:00]+bounds>"
      ]
     },
     "execution_count": 234,
     "metadata": {},
     "output_type": "execute_result"
    },
    {
     "name": "stdout",
     "output_type": "stream",
     "text": [
      "210\n"
     ]
    },
    {
     "data": {
      "text/plain": [
       "<DimCoord: time / (days since 0001-01-01 00:00:00)  [0038-06-28 00:00:00]+bounds>"
      ]
     },
     "execution_count": 234,
     "metadata": {},
     "output_type": "execute_result"
    },
    {
     "data": {
      "text/plain": [
       "<DimCoord: time / (days since 0001-01-01 00:00:00)  [1971-07-30 00:00:00]+bounds>"
      ]
     },
     "execution_count": 234,
     "metadata": {},
     "output_type": "execute_result"
    },
    {
     "name": "stdout",
     "output_type": "stream",
     "text": [
      "211\n"
     ]
    },
    {
     "data": {
      "text/plain": [
       "<DimCoord: time / (days since 0001-01-01 00:00:00)  [0038-07-22 00:00:00]+bounds>"
      ]
     },
     "execution_count": 234,
     "metadata": {},
     "output_type": "execute_result"
    },
    {
     "data": {
      "text/plain": [
       "<DimCoord: time / (days since 0001-01-01 00:00:00)  [1971-07-31 00:00:00]+bounds>"
      ]
     },
     "execution_count": 234,
     "metadata": {},
     "output_type": "execute_result"
    },
    {
     "name": "stdout",
     "output_type": "stream",
     "text": [
      "212\n"
     ]
    },
    {
     "data": {
      "text/plain": [
       "<DimCoord: time / (days since 0001-01-01 00:00:00)  [0038-08-15 00:00:00]+bounds>"
      ]
     },
     "execution_count": 234,
     "metadata": {},
     "output_type": "execute_result"
    },
    {
     "data": {
      "text/plain": [
       "<DimCoord: time / (days since 0001-01-01 00:00:00)  [1971-08-01 00:00:00]+bounds>"
      ]
     },
     "execution_count": 234,
     "metadata": {},
     "output_type": "execute_result"
    },
    {
     "name": "stdout",
     "output_type": "stream",
     "text": [
      "213\n"
     ]
    },
    {
     "data": {
      "text/plain": [
       "<DimCoord: time / (days since 0001-01-01 00:00:00)  [0038-09-08 00:00:00]+bounds>"
      ]
     },
     "execution_count": 234,
     "metadata": {},
     "output_type": "execute_result"
    },
    {
     "data": {
      "text/plain": [
       "<DimCoord: time / (days since 0001-01-01 00:00:00)  [1971-08-02 00:00:00]+bounds>"
      ]
     },
     "execution_count": 234,
     "metadata": {},
     "output_type": "execute_result"
    },
    {
     "name": "stdout",
     "output_type": "stream",
     "text": [
      "214\n"
     ]
    },
    {
     "data": {
      "text/plain": [
       "<DimCoord: time / (days since 0001-01-01 00:00:00)  [0038-10-02 00:00:00]+bounds>"
      ]
     },
     "execution_count": 234,
     "metadata": {},
     "output_type": "execute_result"
    },
    {
     "data": {
      "text/plain": [
       "<DimCoord: time / (days since 0001-01-01 00:00:00)  [1971-08-03 00:00:00]+bounds>"
      ]
     },
     "execution_count": 234,
     "metadata": {},
     "output_type": "execute_result"
    },
    {
     "name": "stdout",
     "output_type": "stream",
     "text": [
      "215\n"
     ]
    },
    {
     "data": {
      "text/plain": [
       "<DimCoord: time / (days since 0001-01-01 00:00:00)  [0038-10-26 00:00:00]+bounds>"
      ]
     },
     "execution_count": 234,
     "metadata": {},
     "output_type": "execute_result"
    },
    {
     "data": {
      "text/plain": [
       "<DimCoord: time / (days since 0001-01-01 00:00:00)  [1971-08-04 00:00:00]+bounds>"
      ]
     },
     "execution_count": 234,
     "metadata": {},
     "output_type": "execute_result"
    },
    {
     "name": "stdout",
     "output_type": "stream",
     "text": [
      "216\n"
     ]
    },
    {
     "data": {
      "text/plain": [
       "<DimCoord: time / (days since 0001-01-01 00:00:00)  [0038-11-19 00:00:00]+bounds>"
      ]
     },
     "execution_count": 234,
     "metadata": {},
     "output_type": "execute_result"
    },
    {
     "data": {
      "text/plain": [
       "<DimCoord: time / (days since 0001-01-01 00:00:00)  [1971-08-05 00:00:00]+bounds>"
      ]
     },
     "execution_count": 234,
     "metadata": {},
     "output_type": "execute_result"
    },
    {
     "name": "stdout",
     "output_type": "stream",
     "text": [
      "217\n"
     ]
    },
    {
     "data": {
      "text/plain": [
       "<DimCoord: time / (days since 0001-01-01 00:00:00)  [0038-12-13 00:00:00]+bounds>"
      ]
     },
     "execution_count": 234,
     "metadata": {},
     "output_type": "execute_result"
    },
    {
     "data": {
      "text/plain": [
       "<DimCoord: time / (days since 0001-01-01 00:00:00)  [1971-08-06 00:00:00]+bounds>"
      ]
     },
     "execution_count": 234,
     "metadata": {},
     "output_type": "execute_result"
    },
    {
     "name": "stdout",
     "output_type": "stream",
     "text": [
      "218\n"
     ]
    },
    {
     "data": {
      "text/plain": [
       "<DimCoord: time / (days since 0001-01-01 00:00:00)  [0039-01-06 00:00:00]+bounds>"
      ]
     },
     "execution_count": 234,
     "metadata": {},
     "output_type": "execute_result"
    },
    {
     "data": {
      "text/plain": [
       "<DimCoord: time / (days since 0001-01-01 00:00:00)  [1971-08-07 00:00:00]+bounds>"
      ]
     },
     "execution_count": 234,
     "metadata": {},
     "output_type": "execute_result"
    },
    {
     "name": "stdout",
     "output_type": "stream",
     "text": [
      "219\n"
     ]
    },
    {
     "data": {
      "text/plain": [
       "<DimCoord: time / (days since 0001-01-01 00:00:00)  [0039-01-30 00:00:00]+bounds>"
      ]
     },
     "execution_count": 234,
     "metadata": {},
     "output_type": "execute_result"
    },
    {
     "data": {
      "text/plain": [
       "<DimCoord: time / (days since 0001-01-01 00:00:00)  [1971-08-08 00:00:00]+bounds>"
      ]
     },
     "execution_count": 234,
     "metadata": {},
     "output_type": "execute_result"
    },
    {
     "name": "stdout",
     "output_type": "stream",
     "text": [
      "220\n"
     ]
    },
    {
     "data": {
      "text/plain": [
       "<DimCoord: time / (days since 0001-01-01 00:00:00)  [0039-02-23 00:00:00]+bounds>"
      ]
     },
     "execution_count": 234,
     "metadata": {},
     "output_type": "execute_result"
    },
    {
     "data": {
      "text/plain": [
       "<DimCoord: time / (days since 0001-01-01 00:00:00)  [1971-08-09 00:00:00]+bounds>"
      ]
     },
     "execution_count": 234,
     "metadata": {},
     "output_type": "execute_result"
    },
    {
     "name": "stdout",
     "output_type": "stream",
     "text": [
      "221\n"
     ]
    },
    {
     "data": {
      "text/plain": [
       "<DimCoord: time / (days since 0001-01-01 00:00:00)  [0039-03-19 00:00:00]+bounds>"
      ]
     },
     "execution_count": 234,
     "metadata": {},
     "output_type": "execute_result"
    },
    {
     "data": {
      "text/plain": [
       "<DimCoord: time / (days since 0001-01-01 00:00:00)  [1971-08-10 00:00:00]+bounds>"
      ]
     },
     "execution_count": 234,
     "metadata": {},
     "output_type": "execute_result"
    },
    {
     "name": "stdout",
     "output_type": "stream",
     "text": [
      "222\n"
     ]
    },
    {
     "data": {
      "text/plain": [
       "<DimCoord: time / (days since 0001-01-01 00:00:00)  [0039-04-12 00:00:00]+bounds>"
      ]
     },
     "execution_count": 234,
     "metadata": {},
     "output_type": "execute_result"
    },
    {
     "data": {
      "text/plain": [
       "<DimCoord: time / (days since 0001-01-01 00:00:00)  [1971-08-11 00:00:00]+bounds>"
      ]
     },
     "execution_count": 234,
     "metadata": {},
     "output_type": "execute_result"
    },
    {
     "name": "stdout",
     "output_type": "stream",
     "text": [
      "223\n"
     ]
    },
    {
     "data": {
      "text/plain": [
       "<DimCoord: time / (days since 0001-01-01 00:00:00)  [0039-05-06 00:00:00]+bounds>"
      ]
     },
     "execution_count": 234,
     "metadata": {},
     "output_type": "execute_result"
    },
    {
     "data": {
      "text/plain": [
       "<DimCoord: time / (days since 0001-01-01 00:00:00)  [1971-08-12 00:00:00]+bounds>"
      ]
     },
     "execution_count": 234,
     "metadata": {},
     "output_type": "execute_result"
    },
    {
     "name": "stdout",
     "output_type": "stream",
     "text": [
      "224\n"
     ]
    },
    {
     "data": {
      "text/plain": [
       "<DimCoord: time / (days since 0001-01-01 00:00:00)  [0039-05-30 00:00:00]+bounds>"
      ]
     },
     "execution_count": 234,
     "metadata": {},
     "output_type": "execute_result"
    },
    {
     "data": {
      "text/plain": [
       "<DimCoord: time / (days since 0001-01-01 00:00:00)  [1971-08-13 00:00:00]+bounds>"
      ]
     },
     "execution_count": 234,
     "metadata": {},
     "output_type": "execute_result"
    },
    {
     "name": "stdout",
     "output_type": "stream",
     "text": [
      "225\n"
     ]
    },
    {
     "data": {
      "text/plain": [
       "<DimCoord: time / (days since 0001-01-01 00:00:00)  [0039-06-23 00:00:00]+bounds>"
      ]
     },
     "execution_count": 234,
     "metadata": {},
     "output_type": "execute_result"
    },
    {
     "data": {
      "text/plain": [
       "<DimCoord: time / (days since 0001-01-01 00:00:00)  [1971-08-14 00:00:00]+bounds>"
      ]
     },
     "execution_count": 234,
     "metadata": {},
     "output_type": "execute_result"
    },
    {
     "name": "stdout",
     "output_type": "stream",
     "text": [
      "226\n"
     ]
    },
    {
     "data": {
      "text/plain": [
       "<DimCoord: time / (days since 0001-01-01 00:00:00)  [0039-07-17 00:00:00]+bounds>"
      ]
     },
     "execution_count": 234,
     "metadata": {},
     "output_type": "execute_result"
    },
    {
     "data": {
      "text/plain": [
       "<DimCoord: time / (days since 0001-01-01 00:00:00)  [1971-08-15 00:00:00]+bounds>"
      ]
     },
     "execution_count": 234,
     "metadata": {},
     "output_type": "execute_result"
    },
    {
     "name": "stdout",
     "output_type": "stream",
     "text": [
      "227\n"
     ]
    },
    {
     "data": {
      "text/plain": [
       "<DimCoord: time / (days since 0001-01-01 00:00:00)  [0039-08-10 00:00:00]+bounds>"
      ]
     },
     "execution_count": 234,
     "metadata": {},
     "output_type": "execute_result"
    },
    {
     "data": {
      "text/plain": [
       "<DimCoord: time / (days since 0001-01-01 00:00:00)  [1971-08-16 00:00:00]+bounds>"
      ]
     },
     "execution_count": 234,
     "metadata": {},
     "output_type": "execute_result"
    },
    {
     "name": "stdout",
     "output_type": "stream",
     "text": [
      "228\n"
     ]
    },
    {
     "data": {
      "text/plain": [
       "<DimCoord: time / (days since 0001-01-01 00:00:00)  [0039-09-03 00:00:00]+bounds>"
      ]
     },
     "execution_count": 234,
     "metadata": {},
     "output_type": "execute_result"
    },
    {
     "data": {
      "text/plain": [
       "<DimCoord: time / (days since 0001-01-01 00:00:00)  [1971-08-17 00:00:00]+bounds>"
      ]
     },
     "execution_count": 234,
     "metadata": {},
     "output_type": "execute_result"
    },
    {
     "name": "stdout",
     "output_type": "stream",
     "text": [
      "229\n"
     ]
    },
    {
     "data": {
      "text/plain": [
       "<DimCoord: time / (days since 0001-01-01 00:00:00)  [0039-09-27 00:00:00]+bounds>"
      ]
     },
     "execution_count": 234,
     "metadata": {},
     "output_type": "execute_result"
    },
    {
     "data": {
      "text/plain": [
       "<DimCoord: time / (days since 0001-01-01 00:00:00)  [1971-08-18 00:00:00]+bounds>"
      ]
     },
     "execution_count": 234,
     "metadata": {},
     "output_type": "execute_result"
    },
    {
     "name": "stdout",
     "output_type": "stream",
     "text": [
      "230\n"
     ]
    },
    {
     "data": {
      "text/plain": [
       "<DimCoord: time / (days since 0001-01-01 00:00:00)  [0039-10-21 00:00:00]+bounds>"
      ]
     },
     "execution_count": 234,
     "metadata": {},
     "output_type": "execute_result"
    },
    {
     "data": {
      "text/plain": [
       "<DimCoord: time / (days since 0001-01-01 00:00:00)  [1971-08-19 00:00:00]+bounds>"
      ]
     },
     "execution_count": 234,
     "metadata": {},
     "output_type": "execute_result"
    },
    {
     "name": "stdout",
     "output_type": "stream",
     "text": [
      "231\n"
     ]
    },
    {
     "data": {
      "text/plain": [
       "<DimCoord: time / (days since 0001-01-01 00:00:00)  [0039-11-14 00:00:00]+bounds>"
      ]
     },
     "execution_count": 234,
     "metadata": {},
     "output_type": "execute_result"
    },
    {
     "data": {
      "text/plain": [
       "<DimCoord: time / (days since 0001-01-01 00:00:00)  [1971-08-20 00:00:00]+bounds>"
      ]
     },
     "execution_count": 234,
     "metadata": {},
     "output_type": "execute_result"
    },
    {
     "name": "stdout",
     "output_type": "stream",
     "text": [
      "232\n"
     ]
    },
    {
     "data": {
      "text/plain": [
       "<DimCoord: time / (days since 0001-01-01 00:00:00)  [0039-12-08 00:00:00]+bounds>"
      ]
     },
     "execution_count": 234,
     "metadata": {},
     "output_type": "execute_result"
    },
    {
     "data": {
      "text/plain": [
       "<DimCoord: time / (days since 0001-01-01 00:00:00)  [1971-08-21 00:00:00]+bounds>"
      ]
     },
     "execution_count": 234,
     "metadata": {},
     "output_type": "execute_result"
    },
    {
     "name": "stdout",
     "output_type": "stream",
     "text": [
      "233\n"
     ]
    },
    {
     "data": {
      "text/plain": [
       "<DimCoord: time / (days since 0001-01-01 00:00:00)  [0040-01-01 00:00:00]+bounds>"
      ]
     },
     "execution_count": 234,
     "metadata": {},
     "output_type": "execute_result"
    },
    {
     "data": {
      "text/plain": [
       "<DimCoord: time / (days since 0001-01-01 00:00:00)  [1971-08-22 00:00:00]+bounds>"
      ]
     },
     "execution_count": 234,
     "metadata": {},
     "output_type": "execute_result"
    },
    {
     "name": "stdout",
     "output_type": "stream",
     "text": [
      "234\n"
     ]
    },
    {
     "data": {
      "text/plain": [
       "<DimCoord: time / (days since 0001-01-01 00:00:00)  [0040-01-25 00:00:00]+bounds>"
      ]
     },
     "execution_count": 234,
     "metadata": {},
     "output_type": "execute_result"
    },
    {
     "data": {
      "text/plain": [
       "<DimCoord: time / (days since 0001-01-01 00:00:00)  [1971-08-23 00:00:00]+bounds>"
      ]
     },
     "execution_count": 234,
     "metadata": {},
     "output_type": "execute_result"
    },
    {
     "name": "stdout",
     "output_type": "stream",
     "text": [
      "235\n"
     ]
    },
    {
     "data": {
      "text/plain": [
       "<DimCoord: time / (days since 0001-01-01 00:00:00)  [0040-02-18 00:00:00]+bounds>"
      ]
     },
     "execution_count": 234,
     "metadata": {},
     "output_type": "execute_result"
    },
    {
     "data": {
      "text/plain": [
       "<DimCoord: time / (days since 0001-01-01 00:00:00)  [1971-08-24 00:00:00]+bounds>"
      ]
     },
     "execution_count": 234,
     "metadata": {},
     "output_type": "execute_result"
    },
    {
     "name": "stdout",
     "output_type": "stream",
     "text": [
      "236\n"
     ]
    },
    {
     "data": {
      "text/plain": [
       "<DimCoord: time / (days since 0001-01-01 00:00:00)  [0040-03-13 00:00:00]+bounds>"
      ]
     },
     "execution_count": 234,
     "metadata": {},
     "output_type": "execute_result"
    },
    {
     "data": {
      "text/plain": [
       "<DimCoord: time / (days since 0001-01-01 00:00:00)  [1971-08-25 00:00:00]+bounds>"
      ]
     },
     "execution_count": 234,
     "metadata": {},
     "output_type": "execute_result"
    },
    {
     "name": "stdout",
     "output_type": "stream",
     "text": [
      "237\n"
     ]
    },
    {
     "data": {
      "text/plain": [
       "<DimCoord: time / (days since 0001-01-01 00:00:00)  [0040-04-06 00:00:00]+bounds>"
      ]
     },
     "execution_count": 234,
     "metadata": {},
     "output_type": "execute_result"
    },
    {
     "data": {
      "text/plain": [
       "<DimCoord: time / (days since 0001-01-01 00:00:00)  [1971-08-26 00:00:00]+bounds>"
      ]
     },
     "execution_count": 234,
     "metadata": {},
     "output_type": "execute_result"
    },
    {
     "name": "stdout",
     "output_type": "stream",
     "text": [
      "238\n"
     ]
    },
    {
     "data": {
      "text/plain": [
       "<DimCoord: time / (days since 0001-01-01 00:00:00)  [0040-04-30 00:00:00]+bounds>"
      ]
     },
     "execution_count": 234,
     "metadata": {},
     "output_type": "execute_result"
    },
    {
     "data": {
      "text/plain": [
       "<DimCoord: time / (days since 0001-01-01 00:00:00)  [1971-08-27 00:00:00]+bounds>"
      ]
     },
     "execution_count": 234,
     "metadata": {},
     "output_type": "execute_result"
    },
    {
     "name": "stdout",
     "output_type": "stream",
     "text": [
      "239\n"
     ]
    },
    {
     "data": {
      "text/plain": [
       "<DimCoord: time / (days since 0001-01-01 00:00:00)  [0040-05-24 00:00:00]+bounds>"
      ]
     },
     "execution_count": 234,
     "metadata": {},
     "output_type": "execute_result"
    },
    {
     "data": {
      "text/plain": [
       "<DimCoord: time / (days since 0001-01-01 00:00:00)  [1971-08-28 00:00:00]+bounds>"
      ]
     },
     "execution_count": 234,
     "metadata": {},
     "output_type": "execute_result"
    },
    {
     "name": "stdout",
     "output_type": "stream",
     "text": [
      "240\n"
     ]
    },
    {
     "data": {
      "text/plain": [
       "<DimCoord: time / (days since 0001-01-01 00:00:00)  [0040-06-17 00:00:00]+bounds>"
      ]
     },
     "execution_count": 234,
     "metadata": {},
     "output_type": "execute_result"
    },
    {
     "data": {
      "text/plain": [
       "<DimCoord: time / (days since 0001-01-01 00:00:00)  [1971-08-29 00:00:00]+bounds>"
      ]
     },
     "execution_count": 234,
     "metadata": {},
     "output_type": "execute_result"
    },
    {
     "name": "stdout",
     "output_type": "stream",
     "text": [
      "241\n"
     ]
    },
    {
     "data": {
      "text/plain": [
       "<DimCoord: time / (days since 0001-01-01 00:00:00)  [0040-07-11 00:00:00]+bounds>"
      ]
     },
     "execution_count": 234,
     "metadata": {},
     "output_type": "execute_result"
    },
    {
     "data": {
      "text/plain": [
       "<DimCoord: time / (days since 0001-01-01 00:00:00)  [1971-08-30 00:00:00]+bounds>"
      ]
     },
     "execution_count": 234,
     "metadata": {},
     "output_type": "execute_result"
    },
    {
     "name": "stdout",
     "output_type": "stream",
     "text": [
      "242\n"
     ]
    },
    {
     "data": {
      "text/plain": [
       "<DimCoord: time / (days since 0001-01-01 00:00:00)  [0040-08-04 00:00:00]+bounds>"
      ]
     },
     "execution_count": 234,
     "metadata": {},
     "output_type": "execute_result"
    },
    {
     "data": {
      "text/plain": [
       "<DimCoord: time / (days since 0001-01-01 00:00:00)  [1971-08-31 00:00:00]+bounds>"
      ]
     },
     "execution_count": 234,
     "metadata": {},
     "output_type": "execute_result"
    },
    {
     "name": "stdout",
     "output_type": "stream",
     "text": [
      "243\n"
     ]
    },
    {
     "data": {
      "text/plain": [
       "<DimCoord: time / (days since 0001-01-01 00:00:00)  [0040-08-28 00:00:00]+bounds>"
      ]
     },
     "execution_count": 234,
     "metadata": {},
     "output_type": "execute_result"
    },
    {
     "data": {
      "text/plain": [
       "<DimCoord: time / (days since 0001-01-01 00:00:00)  [1971-09-01 00:00:00]+bounds>"
      ]
     },
     "execution_count": 234,
     "metadata": {},
     "output_type": "execute_result"
    },
    {
     "name": "stdout",
     "output_type": "stream",
     "text": [
      "244\n"
     ]
    },
    {
     "data": {
      "text/plain": [
       "<DimCoord: time / (days since 0001-01-01 00:00:00)  [0040-09-21 00:00:00]+bounds>"
      ]
     },
     "execution_count": 234,
     "metadata": {},
     "output_type": "execute_result"
    },
    {
     "data": {
      "text/plain": [
       "<DimCoord: time / (days since 0001-01-01 00:00:00)  [1971-09-02 00:00:00]+bounds>"
      ]
     },
     "execution_count": 234,
     "metadata": {},
     "output_type": "execute_result"
    },
    {
     "name": "stdout",
     "output_type": "stream",
     "text": [
      "245\n"
     ]
    },
    {
     "data": {
      "text/plain": [
       "<DimCoord: time / (days since 0001-01-01 00:00:00)  [0040-10-15 00:00:00]+bounds>"
      ]
     },
     "execution_count": 234,
     "metadata": {},
     "output_type": "execute_result"
    },
    {
     "data": {
      "text/plain": [
       "<DimCoord: time / (days since 0001-01-01 00:00:00)  [1971-09-03 00:00:00]+bounds>"
      ]
     },
     "execution_count": 234,
     "metadata": {},
     "output_type": "execute_result"
    },
    {
     "name": "stdout",
     "output_type": "stream",
     "text": [
      "246\n"
     ]
    },
    {
     "data": {
      "text/plain": [
       "<DimCoord: time / (days since 0001-01-01 00:00:00)  [0040-11-08 00:00:00]+bounds>"
      ]
     },
     "execution_count": 234,
     "metadata": {},
     "output_type": "execute_result"
    },
    {
     "data": {
      "text/plain": [
       "<DimCoord: time / (days since 0001-01-01 00:00:00)  [1971-09-04 00:00:00]+bounds>"
      ]
     },
     "execution_count": 234,
     "metadata": {},
     "output_type": "execute_result"
    },
    {
     "name": "stdout",
     "output_type": "stream",
     "text": [
      "247\n"
     ]
    },
    {
     "data": {
      "text/plain": [
       "<DimCoord: time / (days since 0001-01-01 00:00:00)  [0040-12-02 00:00:00]+bounds>"
      ]
     },
     "execution_count": 234,
     "metadata": {},
     "output_type": "execute_result"
    },
    {
     "data": {
      "text/plain": [
       "<DimCoord: time / (days since 0001-01-01 00:00:00)  [1971-09-05 00:00:00]+bounds>"
      ]
     },
     "execution_count": 234,
     "metadata": {},
     "output_type": "execute_result"
    },
    {
     "name": "stdout",
     "output_type": "stream",
     "text": [
      "248\n"
     ]
    },
    {
     "data": {
      "text/plain": [
       "<DimCoord: time / (days since 0001-01-01 00:00:00)  [0040-12-26 00:00:00]+bounds>"
      ]
     },
     "execution_count": 234,
     "metadata": {},
     "output_type": "execute_result"
    },
    {
     "data": {
      "text/plain": [
       "<DimCoord: time / (days since 0001-01-01 00:00:00)  [1971-09-06 00:00:00]+bounds>"
      ]
     },
     "execution_count": 234,
     "metadata": {},
     "output_type": "execute_result"
    },
    {
     "name": "stdout",
     "output_type": "stream",
     "text": [
      "249\n"
     ]
    },
    {
     "data": {
      "text/plain": [
       "<DimCoord: time / (days since 0001-01-01 00:00:00)  [0041-01-19 00:00:00]+bounds>"
      ]
     },
     "execution_count": 234,
     "metadata": {},
     "output_type": "execute_result"
    },
    {
     "data": {
      "text/plain": [
       "<DimCoord: time / (days since 0001-01-01 00:00:00)  [1971-09-07 00:00:00]+bounds>"
      ]
     },
     "execution_count": 234,
     "metadata": {},
     "output_type": "execute_result"
    },
    {
     "name": "stdout",
     "output_type": "stream",
     "text": [
      "250\n"
     ]
    },
    {
     "data": {
      "text/plain": [
       "<DimCoord: time / (days since 0001-01-01 00:00:00)  [0041-02-12 00:00:00]+bounds>"
      ]
     },
     "execution_count": 234,
     "metadata": {},
     "output_type": "execute_result"
    },
    {
     "data": {
      "text/plain": [
       "<DimCoord: time / (days since 0001-01-01 00:00:00)  [1971-09-08 00:00:00]+bounds>"
      ]
     },
     "execution_count": 234,
     "metadata": {},
     "output_type": "execute_result"
    },
    {
     "name": "stdout",
     "output_type": "stream",
     "text": [
      "251\n"
     ]
    },
    {
     "data": {
      "text/plain": [
       "<DimCoord: time / (days since 0001-01-01 00:00:00)  [0041-03-08 00:00:00]+bounds>"
      ]
     },
     "execution_count": 234,
     "metadata": {},
     "output_type": "execute_result"
    },
    {
     "data": {
      "text/plain": [
       "<DimCoord: time / (days since 0001-01-01 00:00:00)  [1971-09-09 00:00:00]+bounds>"
      ]
     },
     "execution_count": 234,
     "metadata": {},
     "output_type": "execute_result"
    },
    {
     "name": "stdout",
     "output_type": "stream",
     "text": [
      "252\n"
     ]
    },
    {
     "data": {
      "text/plain": [
       "<DimCoord: time / (days since 0001-01-01 00:00:00)  [0041-04-01 00:00:00]+bounds>"
      ]
     },
     "execution_count": 234,
     "metadata": {},
     "output_type": "execute_result"
    },
    {
     "data": {
      "text/plain": [
       "<DimCoord: time / (days since 0001-01-01 00:00:00)  [1971-09-10 00:00:00]+bounds>"
      ]
     },
     "execution_count": 234,
     "metadata": {},
     "output_type": "execute_result"
    },
    {
     "name": "stdout",
     "output_type": "stream",
     "text": [
      "253\n"
     ]
    },
    {
     "data": {
      "text/plain": [
       "<DimCoord: time / (days since 0001-01-01 00:00:00)  [0041-04-25 00:00:00]+bounds>"
      ]
     },
     "execution_count": 234,
     "metadata": {},
     "output_type": "execute_result"
    },
    {
     "data": {
      "text/plain": [
       "<DimCoord: time / (days since 0001-01-01 00:00:00)  [1971-09-11 00:00:00]+bounds>"
      ]
     },
     "execution_count": 234,
     "metadata": {},
     "output_type": "execute_result"
    },
    {
     "name": "stdout",
     "output_type": "stream",
     "text": [
      "254\n"
     ]
    },
    {
     "data": {
      "text/plain": [
       "<DimCoord: time / (days since 0001-01-01 00:00:00)  [0041-05-19 00:00:00]+bounds>"
      ]
     },
     "execution_count": 234,
     "metadata": {},
     "output_type": "execute_result"
    },
    {
     "data": {
      "text/plain": [
       "<DimCoord: time / (days since 0001-01-01 00:00:00)  [1971-09-12 00:00:00]+bounds>"
      ]
     },
     "execution_count": 234,
     "metadata": {},
     "output_type": "execute_result"
    },
    {
     "name": "stdout",
     "output_type": "stream",
     "text": [
      "255\n"
     ]
    },
    {
     "data": {
      "text/plain": [
       "<DimCoord: time / (days since 0001-01-01 00:00:00)  [0041-06-12 00:00:00]+bounds>"
      ]
     },
     "execution_count": 234,
     "metadata": {},
     "output_type": "execute_result"
    },
    {
     "data": {
      "text/plain": [
       "<DimCoord: time / (days since 0001-01-01 00:00:00)  [1971-09-13 00:00:00]+bounds>"
      ]
     },
     "execution_count": 234,
     "metadata": {},
     "output_type": "execute_result"
    },
    {
     "name": "stdout",
     "output_type": "stream",
     "text": [
      "256\n"
     ]
    },
    {
     "data": {
      "text/plain": [
       "<DimCoord: time / (days since 0001-01-01 00:00:00)  [0041-07-06 00:00:00]+bounds>"
      ]
     },
     "execution_count": 234,
     "metadata": {},
     "output_type": "execute_result"
    },
    {
     "data": {
      "text/plain": [
       "<DimCoord: time / (days since 0001-01-01 00:00:00)  [1971-09-14 00:00:00]+bounds>"
      ]
     },
     "execution_count": 234,
     "metadata": {},
     "output_type": "execute_result"
    },
    {
     "name": "stdout",
     "output_type": "stream",
     "text": [
      "257\n"
     ]
    },
    {
     "data": {
      "text/plain": [
       "<DimCoord: time / (days since 0001-01-01 00:00:00)  [0041-07-30 00:00:00]+bounds>"
      ]
     },
     "execution_count": 234,
     "metadata": {},
     "output_type": "execute_result"
    },
    {
     "data": {
      "text/plain": [
       "<DimCoord: time / (days since 0001-01-01 00:00:00)  [1971-09-15 00:00:00]+bounds>"
      ]
     },
     "execution_count": 234,
     "metadata": {},
     "output_type": "execute_result"
    },
    {
     "name": "stdout",
     "output_type": "stream",
     "text": [
      "258\n"
     ]
    },
    {
     "data": {
      "text/plain": [
       "<DimCoord: time / (days since 0001-01-01 00:00:00)  [0041-08-23 00:00:00]+bounds>"
      ]
     },
     "execution_count": 234,
     "metadata": {},
     "output_type": "execute_result"
    },
    {
     "data": {
      "text/plain": [
       "<DimCoord: time / (days since 0001-01-01 00:00:00)  [1971-09-16 00:00:00]+bounds>"
      ]
     },
     "execution_count": 234,
     "metadata": {},
     "output_type": "execute_result"
    },
    {
     "name": "stdout",
     "output_type": "stream",
     "text": [
      "259\n"
     ]
    },
    {
     "data": {
      "text/plain": [
       "<DimCoord: time / (days since 0001-01-01 00:00:00)  [0041-09-16 00:00:00]+bounds>"
      ]
     },
     "execution_count": 234,
     "metadata": {},
     "output_type": "execute_result"
    },
    {
     "data": {
      "text/plain": [
       "<DimCoord: time / (days since 0001-01-01 00:00:00)  [1971-09-17 00:00:00]+bounds>"
      ]
     },
     "execution_count": 234,
     "metadata": {},
     "output_type": "execute_result"
    },
    {
     "name": "stdout",
     "output_type": "stream",
     "text": [
      "260\n"
     ]
    },
    {
     "data": {
      "text/plain": [
       "<DimCoord: time / (days since 0001-01-01 00:00:00)  [0041-10-10 00:00:00]+bounds>"
      ]
     },
     "execution_count": 234,
     "metadata": {},
     "output_type": "execute_result"
    },
    {
     "data": {
      "text/plain": [
       "<DimCoord: time / (days since 0001-01-01 00:00:00)  [1971-09-18 00:00:00]+bounds>"
      ]
     },
     "execution_count": 234,
     "metadata": {},
     "output_type": "execute_result"
    },
    {
     "name": "stdout",
     "output_type": "stream",
     "text": [
      "261\n"
     ]
    },
    {
     "data": {
      "text/plain": [
       "<DimCoord: time / (days since 0001-01-01 00:00:00)  [0041-11-03 00:00:00]+bounds>"
      ]
     },
     "execution_count": 234,
     "metadata": {},
     "output_type": "execute_result"
    },
    {
     "data": {
      "text/plain": [
       "<DimCoord: time / (days since 0001-01-01 00:00:00)  [1971-09-19 00:00:00]+bounds>"
      ]
     },
     "execution_count": 234,
     "metadata": {},
     "output_type": "execute_result"
    },
    {
     "name": "stdout",
     "output_type": "stream",
     "text": [
      "262\n"
     ]
    },
    {
     "data": {
      "text/plain": [
       "<DimCoord: time / (days since 0001-01-01 00:00:00)  [0041-11-27 00:00:00]+bounds>"
      ]
     },
     "execution_count": 234,
     "metadata": {},
     "output_type": "execute_result"
    },
    {
     "data": {
      "text/plain": [
       "<DimCoord: time / (days since 0001-01-01 00:00:00)  [1971-09-20 00:00:00]+bounds>"
      ]
     },
     "execution_count": 234,
     "metadata": {},
     "output_type": "execute_result"
    },
    {
     "name": "stdout",
     "output_type": "stream",
     "text": [
      "263\n"
     ]
    },
    {
     "data": {
      "text/plain": [
       "<DimCoord: time / (days since 0001-01-01 00:00:00)  [0041-12-21 00:00:00]+bounds>"
      ]
     },
     "execution_count": 234,
     "metadata": {},
     "output_type": "execute_result"
    },
    {
     "data": {
      "text/plain": [
       "<DimCoord: time / (days since 0001-01-01 00:00:00)  [1971-09-21 00:00:00]+bounds>"
      ]
     },
     "execution_count": 234,
     "metadata": {},
     "output_type": "execute_result"
    },
    {
     "name": "stdout",
     "output_type": "stream",
     "text": [
      "264\n"
     ]
    },
    {
     "data": {
      "text/plain": [
       "<DimCoord: time / (days since 0001-01-01 00:00:00)  [0042-01-14 00:00:00]+bounds>"
      ]
     },
     "execution_count": 234,
     "metadata": {},
     "output_type": "execute_result"
    },
    {
     "data": {
      "text/plain": [
       "<DimCoord: time / (days since 0001-01-01 00:00:00)  [1971-09-22 00:00:00]+bounds>"
      ]
     },
     "execution_count": 234,
     "metadata": {},
     "output_type": "execute_result"
    },
    {
     "name": "stdout",
     "output_type": "stream",
     "text": [
      "265\n"
     ]
    },
    {
     "data": {
      "text/plain": [
       "<DimCoord: time / (days since 0001-01-01 00:00:00)  [0042-02-07 00:00:00]+bounds>"
      ]
     },
     "execution_count": 234,
     "metadata": {},
     "output_type": "execute_result"
    },
    {
     "data": {
      "text/plain": [
       "<DimCoord: time / (days since 0001-01-01 00:00:00)  [1971-09-23 00:00:00]+bounds>"
      ]
     },
     "execution_count": 234,
     "metadata": {},
     "output_type": "execute_result"
    },
    {
     "name": "stdout",
     "output_type": "stream",
     "text": [
      "266\n"
     ]
    },
    {
     "data": {
      "text/plain": [
       "<DimCoord: time / (days since 0001-01-01 00:00:00)  [0042-03-03 00:00:00]+bounds>"
      ]
     },
     "execution_count": 234,
     "metadata": {},
     "output_type": "execute_result"
    },
    {
     "data": {
      "text/plain": [
       "<DimCoord: time / (days since 0001-01-01 00:00:00)  [1971-09-24 00:00:00]+bounds>"
      ]
     },
     "execution_count": 234,
     "metadata": {},
     "output_type": "execute_result"
    },
    {
     "name": "stdout",
     "output_type": "stream",
     "text": [
      "267\n"
     ]
    },
    {
     "data": {
      "text/plain": [
       "<DimCoord: time / (days since 0001-01-01 00:00:00)  [0042-03-27 00:00:00]+bounds>"
      ]
     },
     "execution_count": 234,
     "metadata": {},
     "output_type": "execute_result"
    },
    {
     "data": {
      "text/plain": [
       "<DimCoord: time / (days since 0001-01-01 00:00:00)  [1971-09-25 00:00:00]+bounds>"
      ]
     },
     "execution_count": 234,
     "metadata": {},
     "output_type": "execute_result"
    },
    {
     "name": "stdout",
     "output_type": "stream",
     "text": [
      "268\n"
     ]
    },
    {
     "data": {
      "text/plain": [
       "<DimCoord: time / (days since 0001-01-01 00:00:00)  [0042-04-20 00:00:00]+bounds>"
      ]
     },
     "execution_count": 234,
     "metadata": {},
     "output_type": "execute_result"
    },
    {
     "data": {
      "text/plain": [
       "<DimCoord: time / (days since 0001-01-01 00:00:00)  [1971-09-26 00:00:00]+bounds>"
      ]
     },
     "execution_count": 234,
     "metadata": {},
     "output_type": "execute_result"
    },
    {
     "name": "stdout",
     "output_type": "stream",
     "text": [
      "269\n"
     ]
    },
    {
     "data": {
      "text/plain": [
       "<DimCoord: time / (days since 0001-01-01 00:00:00)  [0042-05-14 00:00:00]+bounds>"
      ]
     },
     "execution_count": 234,
     "metadata": {},
     "output_type": "execute_result"
    },
    {
     "data": {
      "text/plain": [
       "<DimCoord: time / (days since 0001-01-01 00:00:00)  [1971-09-27 00:00:00]+bounds>"
      ]
     },
     "execution_count": 234,
     "metadata": {},
     "output_type": "execute_result"
    },
    {
     "name": "stdout",
     "output_type": "stream",
     "text": [
      "270\n"
     ]
    },
    {
     "data": {
      "text/plain": [
       "<DimCoord: time / (days since 0001-01-01 00:00:00)  [0042-06-07 00:00:00]+bounds>"
      ]
     },
     "execution_count": 234,
     "metadata": {},
     "output_type": "execute_result"
    },
    {
     "data": {
      "text/plain": [
       "<DimCoord: time / (days since 0001-01-01 00:00:00)  [1971-09-28 00:00:00]+bounds>"
      ]
     },
     "execution_count": 234,
     "metadata": {},
     "output_type": "execute_result"
    },
    {
     "name": "stdout",
     "output_type": "stream",
     "text": [
      "271\n"
     ]
    },
    {
     "data": {
      "text/plain": [
       "<DimCoord: time / (days since 0001-01-01 00:00:00)  [0042-07-01 00:00:00]+bounds>"
      ]
     },
     "execution_count": 234,
     "metadata": {},
     "output_type": "execute_result"
    },
    {
     "data": {
      "text/plain": [
       "<DimCoord: time / (days since 0001-01-01 00:00:00)  [1971-09-29 00:00:00]+bounds>"
      ]
     },
     "execution_count": 234,
     "metadata": {},
     "output_type": "execute_result"
    },
    {
     "name": "stdout",
     "output_type": "stream",
     "text": [
      "272\n"
     ]
    },
    {
     "data": {
      "text/plain": [
       "<DimCoord: time / (days since 0001-01-01 00:00:00)  [0042-07-25 00:00:00]+bounds>"
      ]
     },
     "execution_count": 234,
     "metadata": {},
     "output_type": "execute_result"
    },
    {
     "data": {
      "text/plain": [
       "<DimCoord: time / (days since 0001-01-01 00:00:00)  [1971-09-30 00:00:00]+bounds>"
      ]
     },
     "execution_count": 234,
     "metadata": {},
     "output_type": "execute_result"
    },
    {
     "name": "stdout",
     "output_type": "stream",
     "text": [
      "273\n"
     ]
    },
    {
     "data": {
      "text/plain": [
       "<DimCoord: time / (days since 0001-01-01 00:00:00)  [0042-08-18 00:00:00]+bounds>"
      ]
     },
     "execution_count": 234,
     "metadata": {},
     "output_type": "execute_result"
    },
    {
     "data": {
      "text/plain": [
       "<DimCoord: time / (days since 0001-01-01 00:00:00)  [1971-10-01 00:00:00]+bounds>"
      ]
     },
     "execution_count": 234,
     "metadata": {},
     "output_type": "execute_result"
    },
    {
     "name": "stdout",
     "output_type": "stream",
     "text": [
      "274\n"
     ]
    },
    {
     "data": {
      "text/plain": [
       "<DimCoord: time / (days since 0001-01-01 00:00:00)  [0042-09-11 00:00:00]+bounds>"
      ]
     },
     "execution_count": 234,
     "metadata": {},
     "output_type": "execute_result"
    },
    {
     "data": {
      "text/plain": [
       "<DimCoord: time / (days since 0001-01-01 00:00:00)  [1971-10-02 00:00:00]+bounds>"
      ]
     },
     "execution_count": 234,
     "metadata": {},
     "output_type": "execute_result"
    },
    {
     "name": "stdout",
     "output_type": "stream",
     "text": [
      "275\n"
     ]
    },
    {
     "data": {
      "text/plain": [
       "<DimCoord: time / (days since 0001-01-01 00:00:00)  [0042-10-05 00:00:00]+bounds>"
      ]
     },
     "execution_count": 234,
     "metadata": {},
     "output_type": "execute_result"
    },
    {
     "data": {
      "text/plain": [
       "<DimCoord: time / (days since 0001-01-01 00:00:00)  [1971-10-03 00:00:00]+bounds>"
      ]
     },
     "execution_count": 234,
     "metadata": {},
     "output_type": "execute_result"
    },
    {
     "name": "stdout",
     "output_type": "stream",
     "text": [
      "276\n"
     ]
    },
    {
     "data": {
      "text/plain": [
       "<DimCoord: time / (days since 0001-01-01 00:00:00)  [0042-10-29 00:00:00]+bounds>"
      ]
     },
     "execution_count": 234,
     "metadata": {},
     "output_type": "execute_result"
    },
    {
     "data": {
      "text/plain": [
       "<DimCoord: time / (days since 0001-01-01 00:00:00)  [1971-10-04 00:00:00]+bounds>"
      ]
     },
     "execution_count": 234,
     "metadata": {},
     "output_type": "execute_result"
    },
    {
     "name": "stdout",
     "output_type": "stream",
     "text": [
      "277\n"
     ]
    },
    {
     "data": {
      "text/plain": [
       "<DimCoord: time / (days since 0001-01-01 00:00:00)  [0042-11-22 00:00:00]+bounds>"
      ]
     },
     "execution_count": 234,
     "metadata": {},
     "output_type": "execute_result"
    },
    {
     "data": {
      "text/plain": [
       "<DimCoord: time / (days since 0001-01-01 00:00:00)  [1971-10-05 00:00:00]+bounds>"
      ]
     },
     "execution_count": 234,
     "metadata": {},
     "output_type": "execute_result"
    },
    {
     "name": "stdout",
     "output_type": "stream",
     "text": [
      "278\n"
     ]
    },
    {
     "data": {
      "text/plain": [
       "<DimCoord: time / (days since 0001-01-01 00:00:00)  [0042-12-16 00:00:00]+bounds>"
      ]
     },
     "execution_count": 234,
     "metadata": {},
     "output_type": "execute_result"
    },
    {
     "data": {
      "text/plain": [
       "<DimCoord: time / (days since 0001-01-01 00:00:00)  [1971-10-06 00:00:00]+bounds>"
      ]
     },
     "execution_count": 234,
     "metadata": {},
     "output_type": "execute_result"
    },
    {
     "name": "stdout",
     "output_type": "stream",
     "text": [
      "279\n"
     ]
    },
    {
     "data": {
      "text/plain": [
       "<DimCoord: time / (days since 0001-01-01 00:00:00)  [0043-01-09 00:00:00]+bounds>"
      ]
     },
     "execution_count": 234,
     "metadata": {},
     "output_type": "execute_result"
    },
    {
     "data": {
      "text/plain": [
       "<DimCoord: time / (days since 0001-01-01 00:00:00)  [1971-10-07 00:00:00]+bounds>"
      ]
     },
     "execution_count": 234,
     "metadata": {},
     "output_type": "execute_result"
    },
    {
     "name": "stdout",
     "output_type": "stream",
     "text": [
      "280\n"
     ]
    },
    {
     "data": {
      "text/plain": [
       "<DimCoord: time / (days since 0001-01-01 00:00:00)  [0043-02-02 00:00:00]+bounds>"
      ]
     },
     "execution_count": 234,
     "metadata": {},
     "output_type": "execute_result"
    },
    {
     "data": {
      "text/plain": [
       "<DimCoord: time / (days since 0001-01-01 00:00:00)  [1971-10-08 00:00:00]+bounds>"
      ]
     },
     "execution_count": 234,
     "metadata": {},
     "output_type": "execute_result"
    },
    {
     "name": "stdout",
     "output_type": "stream",
     "text": [
      "281\n"
     ]
    },
    {
     "data": {
      "text/plain": [
       "<DimCoord: time / (days since 0001-01-01 00:00:00)  [0043-02-26 00:00:00]+bounds>"
      ]
     },
     "execution_count": 234,
     "metadata": {},
     "output_type": "execute_result"
    },
    {
     "data": {
      "text/plain": [
       "<DimCoord: time / (days since 0001-01-01 00:00:00)  [1971-10-09 00:00:00]+bounds>"
      ]
     },
     "execution_count": 234,
     "metadata": {},
     "output_type": "execute_result"
    },
    {
     "name": "stdout",
     "output_type": "stream",
     "text": [
      "282\n"
     ]
    },
    {
     "data": {
      "text/plain": [
       "<DimCoord: time / (days since 0001-01-01 00:00:00)  [0043-03-22 00:00:00]+bounds>"
      ]
     },
     "execution_count": 234,
     "metadata": {},
     "output_type": "execute_result"
    },
    {
     "data": {
      "text/plain": [
       "<DimCoord: time / (days since 0001-01-01 00:00:00)  [1971-10-10 00:00:00]+bounds>"
      ]
     },
     "execution_count": 234,
     "metadata": {},
     "output_type": "execute_result"
    },
    {
     "name": "stdout",
     "output_type": "stream",
     "text": [
      "283\n"
     ]
    },
    {
     "data": {
      "text/plain": [
       "<DimCoord: time / (days since 0001-01-01 00:00:00)  [0043-04-15 00:00:00]+bounds>"
      ]
     },
     "execution_count": 234,
     "metadata": {},
     "output_type": "execute_result"
    },
    {
     "data": {
      "text/plain": [
       "<DimCoord: time / (days since 0001-01-01 00:00:00)  [1971-10-11 00:00:00]+bounds>"
      ]
     },
     "execution_count": 234,
     "metadata": {},
     "output_type": "execute_result"
    },
    {
     "name": "stdout",
     "output_type": "stream",
     "text": [
      "284\n"
     ]
    },
    {
     "data": {
      "text/plain": [
       "<DimCoord: time / (days since 0001-01-01 00:00:00)  [0043-05-09 00:00:00]+bounds>"
      ]
     },
     "execution_count": 234,
     "metadata": {},
     "output_type": "execute_result"
    },
    {
     "data": {
      "text/plain": [
       "<DimCoord: time / (days since 0001-01-01 00:00:00)  [1971-10-12 00:00:00]+bounds>"
      ]
     },
     "execution_count": 234,
     "metadata": {},
     "output_type": "execute_result"
    },
    {
     "name": "stdout",
     "output_type": "stream",
     "text": [
      "285\n"
     ]
    },
    {
     "data": {
      "text/plain": [
       "<DimCoord: time / (days since 0001-01-01 00:00:00)  [0043-06-02 00:00:00]+bounds>"
      ]
     },
     "execution_count": 234,
     "metadata": {},
     "output_type": "execute_result"
    },
    {
     "data": {
      "text/plain": [
       "<DimCoord: time / (days since 0001-01-01 00:00:00)  [1971-10-13 00:00:00]+bounds>"
      ]
     },
     "execution_count": 234,
     "metadata": {},
     "output_type": "execute_result"
    },
    {
     "name": "stdout",
     "output_type": "stream",
     "text": [
      "286\n"
     ]
    },
    {
     "data": {
      "text/plain": [
       "<DimCoord: time / (days since 0001-01-01 00:00:00)  [0043-06-26 00:00:00]+bounds>"
      ]
     },
     "execution_count": 234,
     "metadata": {},
     "output_type": "execute_result"
    },
    {
     "data": {
      "text/plain": [
       "<DimCoord: time / (days since 0001-01-01 00:00:00)  [1971-10-14 00:00:00]+bounds>"
      ]
     },
     "execution_count": 234,
     "metadata": {},
     "output_type": "execute_result"
    },
    {
     "name": "stdout",
     "output_type": "stream",
     "text": [
      "287\n"
     ]
    },
    {
     "data": {
      "text/plain": [
       "<DimCoord: time / (days since 0001-01-01 00:00:00)  [0043-07-20 00:00:00]+bounds>"
      ]
     },
     "execution_count": 234,
     "metadata": {},
     "output_type": "execute_result"
    },
    {
     "data": {
      "text/plain": [
       "<DimCoord: time / (days since 0001-01-01 00:00:00)  [1971-10-15 00:00:00]+bounds>"
      ]
     },
     "execution_count": 234,
     "metadata": {},
     "output_type": "execute_result"
    },
    {
     "name": "stdout",
     "output_type": "stream",
     "text": [
      "288\n"
     ]
    },
    {
     "data": {
      "text/plain": [
       "<DimCoord: time / (days since 0001-01-01 00:00:00)  [0043-08-13 00:00:00]+bounds>"
      ]
     },
     "execution_count": 234,
     "metadata": {},
     "output_type": "execute_result"
    },
    {
     "data": {
      "text/plain": [
       "<DimCoord: time / (days since 0001-01-01 00:00:00)  [1971-10-16 00:00:00]+bounds>"
      ]
     },
     "execution_count": 234,
     "metadata": {},
     "output_type": "execute_result"
    },
    {
     "name": "stdout",
     "output_type": "stream",
     "text": [
      "289\n"
     ]
    },
    {
     "data": {
      "text/plain": [
       "<DimCoord: time / (days since 0001-01-01 00:00:00)  [0043-09-06 00:00:00]+bounds>"
      ]
     },
     "execution_count": 234,
     "metadata": {},
     "output_type": "execute_result"
    },
    {
     "data": {
      "text/plain": [
       "<DimCoord: time / (days since 0001-01-01 00:00:00)  [1971-10-17 00:00:00]+bounds>"
      ]
     },
     "execution_count": 234,
     "metadata": {},
     "output_type": "execute_result"
    },
    {
     "name": "stdout",
     "output_type": "stream",
     "text": [
      "290\n"
     ]
    },
    {
     "data": {
      "text/plain": [
       "<DimCoord: time / (days since 0001-01-01 00:00:00)  [0043-09-30 00:00:00]+bounds>"
      ]
     },
     "execution_count": 234,
     "metadata": {},
     "output_type": "execute_result"
    },
    {
     "data": {
      "text/plain": [
       "<DimCoord: time / (days since 0001-01-01 00:00:00)  [1971-10-18 00:00:00]+bounds>"
      ]
     },
     "execution_count": 234,
     "metadata": {},
     "output_type": "execute_result"
    },
    {
     "name": "stdout",
     "output_type": "stream",
     "text": [
      "291\n"
     ]
    },
    {
     "data": {
      "text/plain": [
       "<DimCoord: time / (days since 0001-01-01 00:00:00)  [0043-10-24 00:00:00]+bounds>"
      ]
     },
     "execution_count": 234,
     "metadata": {},
     "output_type": "execute_result"
    },
    {
     "data": {
      "text/plain": [
       "<DimCoord: time / (days since 0001-01-01 00:00:00)  [1971-10-19 00:00:00]+bounds>"
      ]
     },
     "execution_count": 234,
     "metadata": {},
     "output_type": "execute_result"
    },
    {
     "name": "stdout",
     "output_type": "stream",
     "text": [
      "292\n"
     ]
    },
    {
     "data": {
      "text/plain": [
       "<DimCoord: time / (days since 0001-01-01 00:00:00)  [0043-11-17 00:00:00]+bounds>"
      ]
     },
     "execution_count": 234,
     "metadata": {},
     "output_type": "execute_result"
    },
    {
     "data": {
      "text/plain": [
       "<DimCoord: time / (days since 0001-01-01 00:00:00)  [1971-10-20 00:00:00]+bounds>"
      ]
     },
     "execution_count": 234,
     "metadata": {},
     "output_type": "execute_result"
    },
    {
     "name": "stdout",
     "output_type": "stream",
     "text": [
      "293\n"
     ]
    },
    {
     "data": {
      "text/plain": [
       "<DimCoord: time / (days since 0001-01-01 00:00:00)  [0043-12-11 00:00:00]+bounds>"
      ]
     },
     "execution_count": 234,
     "metadata": {},
     "output_type": "execute_result"
    },
    {
     "data": {
      "text/plain": [
       "<DimCoord: time / (days since 0001-01-01 00:00:00)  [1971-10-21 00:00:00]+bounds>"
      ]
     },
     "execution_count": 234,
     "metadata": {},
     "output_type": "execute_result"
    },
    {
     "name": "stdout",
     "output_type": "stream",
     "text": [
      "294\n"
     ]
    },
    {
     "data": {
      "text/plain": [
       "<DimCoord: time / (days since 0001-01-01 00:00:00)  [0044-01-04 00:00:00]+bounds>"
      ]
     },
     "execution_count": 234,
     "metadata": {},
     "output_type": "execute_result"
    },
    {
     "data": {
      "text/plain": [
       "<DimCoord: time / (days since 0001-01-01 00:00:00)  [1971-10-22 00:00:00]+bounds>"
      ]
     },
     "execution_count": 234,
     "metadata": {},
     "output_type": "execute_result"
    },
    {
     "name": "stdout",
     "output_type": "stream",
     "text": [
      "295\n"
     ]
    },
    {
     "data": {
      "text/plain": [
       "<DimCoord: time / (days since 0001-01-01 00:00:00)  [0044-01-28 00:00:00]+bounds>"
      ]
     },
     "execution_count": 234,
     "metadata": {},
     "output_type": "execute_result"
    },
    {
     "data": {
      "text/plain": [
       "<DimCoord: time / (days since 0001-01-01 00:00:00)  [1971-10-23 00:00:00]+bounds>"
      ]
     },
     "execution_count": 234,
     "metadata": {},
     "output_type": "execute_result"
    },
    {
     "name": "stdout",
     "output_type": "stream",
     "text": [
      "296\n"
     ]
    },
    {
     "data": {
      "text/plain": [
       "<DimCoord: time / (days since 0001-01-01 00:00:00)  [0044-02-21 00:00:00]+bounds>"
      ]
     },
     "execution_count": 234,
     "metadata": {},
     "output_type": "execute_result"
    },
    {
     "data": {
      "text/plain": [
       "<DimCoord: time / (days since 0001-01-01 00:00:00)  [1971-10-24 00:00:00]+bounds>"
      ]
     },
     "execution_count": 234,
     "metadata": {},
     "output_type": "execute_result"
    },
    {
     "name": "stdout",
     "output_type": "stream",
     "text": [
      "297\n"
     ]
    },
    {
     "data": {
      "text/plain": [
       "<DimCoord: time / (days since 0001-01-01 00:00:00)  [0044-03-16 00:00:00]+bounds>"
      ]
     },
     "execution_count": 234,
     "metadata": {},
     "output_type": "execute_result"
    },
    {
     "data": {
      "text/plain": [
       "<DimCoord: time / (days since 0001-01-01 00:00:00)  [1971-10-25 00:00:00]+bounds>"
      ]
     },
     "execution_count": 234,
     "metadata": {},
     "output_type": "execute_result"
    },
    {
     "name": "stdout",
     "output_type": "stream",
     "text": [
      "298\n"
     ]
    },
    {
     "data": {
      "text/plain": [
       "<DimCoord: time / (days since 0001-01-01 00:00:00)  [0044-04-09 00:00:00]+bounds>"
      ]
     },
     "execution_count": 234,
     "metadata": {},
     "output_type": "execute_result"
    },
    {
     "data": {
      "text/plain": [
       "<DimCoord: time / (days since 0001-01-01 00:00:00)  [1971-10-26 00:00:00]+bounds>"
      ]
     },
     "execution_count": 234,
     "metadata": {},
     "output_type": "execute_result"
    },
    {
     "name": "stdout",
     "output_type": "stream",
     "text": [
      "299\n"
     ]
    },
    {
     "data": {
      "text/plain": [
       "<DimCoord: time / (days since 0001-01-01 00:00:00)  [0044-05-03 00:00:00]+bounds>"
      ]
     },
     "execution_count": 234,
     "metadata": {},
     "output_type": "execute_result"
    },
    {
     "data": {
      "text/plain": [
       "<DimCoord: time / (days since 0001-01-01 00:00:00)  [1971-10-27 00:00:00]+bounds>"
      ]
     },
     "execution_count": 234,
     "metadata": {},
     "output_type": "execute_result"
    },
    {
     "name": "stdout",
     "output_type": "stream",
     "text": [
      "300\n"
     ]
    },
    {
     "data": {
      "text/plain": [
       "<DimCoord: time / (days since 0001-01-01 00:00:00)  [0044-05-27 00:00:00]+bounds>"
      ]
     },
     "execution_count": 234,
     "metadata": {},
     "output_type": "execute_result"
    },
    {
     "data": {
      "text/plain": [
       "<DimCoord: time / (days since 0001-01-01 00:00:00)  [1971-10-28 00:00:00]+bounds>"
      ]
     },
     "execution_count": 234,
     "metadata": {},
     "output_type": "execute_result"
    },
    {
     "name": "stdout",
     "output_type": "stream",
     "text": [
      "301\n"
     ]
    },
    {
     "data": {
      "text/plain": [
       "<DimCoord: time / (days since 0001-01-01 00:00:00)  [0044-06-20 00:00:00]+bounds>"
      ]
     },
     "execution_count": 234,
     "metadata": {},
     "output_type": "execute_result"
    },
    {
     "data": {
      "text/plain": [
       "<DimCoord: time / (days since 0001-01-01 00:00:00)  [1971-10-29 00:00:00]+bounds>"
      ]
     },
     "execution_count": 234,
     "metadata": {},
     "output_type": "execute_result"
    },
    {
     "name": "stdout",
     "output_type": "stream",
     "text": [
      "302\n"
     ]
    },
    {
     "data": {
      "text/plain": [
       "<DimCoord: time / (days since 0001-01-01 00:00:00)  [0044-07-14 00:00:00]+bounds>"
      ]
     },
     "execution_count": 234,
     "metadata": {},
     "output_type": "execute_result"
    },
    {
     "data": {
      "text/plain": [
       "<DimCoord: time / (days since 0001-01-01 00:00:00)  [1971-10-30 00:00:00]+bounds>"
      ]
     },
     "execution_count": 234,
     "metadata": {},
     "output_type": "execute_result"
    },
    {
     "name": "stdout",
     "output_type": "stream",
     "text": [
      "303\n"
     ]
    },
    {
     "data": {
      "text/plain": [
       "<DimCoord: time / (days since 0001-01-01 00:00:00)  [0044-08-07 00:00:00]+bounds>"
      ]
     },
     "execution_count": 234,
     "metadata": {},
     "output_type": "execute_result"
    },
    {
     "data": {
      "text/plain": [
       "<DimCoord: time / (days since 0001-01-01 00:00:00)  [1971-10-31 00:00:00]+bounds>"
      ]
     },
     "execution_count": 234,
     "metadata": {},
     "output_type": "execute_result"
    },
    {
     "name": "stdout",
     "output_type": "stream",
     "text": [
      "304\n"
     ]
    },
    {
     "data": {
      "text/plain": [
       "<DimCoord: time / (days since 0001-01-01 00:00:00)  [0044-08-31 00:00:00]+bounds>"
      ]
     },
     "execution_count": 234,
     "metadata": {},
     "output_type": "execute_result"
    },
    {
     "data": {
      "text/plain": [
       "<DimCoord: time / (days since 0001-01-01 00:00:00)  [1971-11-01 00:00:00]+bounds>"
      ]
     },
     "execution_count": 234,
     "metadata": {},
     "output_type": "execute_result"
    },
    {
     "name": "stdout",
     "output_type": "stream",
     "text": [
      "305\n"
     ]
    },
    {
     "data": {
      "text/plain": [
       "<DimCoord: time / (days since 0001-01-01 00:00:00)  [0044-09-24 00:00:00]+bounds>"
      ]
     },
     "execution_count": 234,
     "metadata": {},
     "output_type": "execute_result"
    },
    {
     "data": {
      "text/plain": [
       "<DimCoord: time / (days since 0001-01-01 00:00:00)  [1971-11-02 00:00:00]+bounds>"
      ]
     },
     "execution_count": 234,
     "metadata": {},
     "output_type": "execute_result"
    },
    {
     "name": "stdout",
     "output_type": "stream",
     "text": [
      "306\n"
     ]
    },
    {
     "data": {
      "text/plain": [
       "<DimCoord: time / (days since 0001-01-01 00:00:00)  [0044-10-18 00:00:00]+bounds>"
      ]
     },
     "execution_count": 234,
     "metadata": {},
     "output_type": "execute_result"
    },
    {
     "data": {
      "text/plain": [
       "<DimCoord: time / (days since 0001-01-01 00:00:00)  [1971-11-03 00:00:00]+bounds>"
      ]
     },
     "execution_count": 234,
     "metadata": {},
     "output_type": "execute_result"
    },
    {
     "name": "stdout",
     "output_type": "stream",
     "text": [
      "307\n"
     ]
    },
    {
     "data": {
      "text/plain": [
       "<DimCoord: time / (days since 0001-01-01 00:00:00)  [0044-11-11 00:00:00]+bounds>"
      ]
     },
     "execution_count": 234,
     "metadata": {},
     "output_type": "execute_result"
    },
    {
     "data": {
      "text/plain": [
       "<DimCoord: time / (days since 0001-01-01 00:00:00)  [1971-11-04 00:00:00]+bounds>"
      ]
     },
     "execution_count": 234,
     "metadata": {},
     "output_type": "execute_result"
    },
    {
     "name": "stdout",
     "output_type": "stream",
     "text": [
      "308\n"
     ]
    },
    {
     "data": {
      "text/plain": [
       "<DimCoord: time / (days since 0001-01-01 00:00:00)  [0044-12-05 00:00:00]+bounds>"
      ]
     },
     "execution_count": 234,
     "metadata": {},
     "output_type": "execute_result"
    },
    {
     "data": {
      "text/plain": [
       "<DimCoord: time / (days since 0001-01-01 00:00:00)  [1971-11-05 00:00:00]+bounds>"
      ]
     },
     "execution_count": 234,
     "metadata": {},
     "output_type": "execute_result"
    },
    {
     "name": "stdout",
     "output_type": "stream",
     "text": [
      "309\n"
     ]
    },
    {
     "data": {
      "text/plain": [
       "<DimCoord: time / (days since 0001-01-01 00:00:00)  [0044-12-29 00:00:00]+bounds>"
      ]
     },
     "execution_count": 234,
     "metadata": {},
     "output_type": "execute_result"
    },
    {
     "data": {
      "text/plain": [
       "<DimCoord: time / (days since 0001-01-01 00:00:00)  [1971-11-06 00:00:00]+bounds>"
      ]
     },
     "execution_count": 234,
     "metadata": {},
     "output_type": "execute_result"
    },
    {
     "name": "stdout",
     "output_type": "stream",
     "text": [
      "310\n"
     ]
    },
    {
     "data": {
      "text/plain": [
       "<DimCoord: time / (days since 0001-01-01 00:00:00)  [0045-01-22 00:00:00]+bounds>"
      ]
     },
     "execution_count": 234,
     "metadata": {},
     "output_type": "execute_result"
    },
    {
     "data": {
      "text/plain": [
       "<DimCoord: time / (days since 0001-01-01 00:00:00)  [1971-11-07 00:00:00]+bounds>"
      ]
     },
     "execution_count": 234,
     "metadata": {},
     "output_type": "execute_result"
    },
    {
     "name": "stdout",
     "output_type": "stream",
     "text": [
      "311\n"
     ]
    },
    {
     "data": {
      "text/plain": [
       "<DimCoord: time / (days since 0001-01-01 00:00:00)  [0045-02-15 00:00:00]+bounds>"
      ]
     },
     "execution_count": 234,
     "metadata": {},
     "output_type": "execute_result"
    },
    {
     "data": {
      "text/plain": [
       "<DimCoord: time / (days since 0001-01-01 00:00:00)  [1971-11-08 00:00:00]+bounds>"
      ]
     },
     "execution_count": 234,
     "metadata": {},
     "output_type": "execute_result"
    },
    {
     "name": "stdout",
     "output_type": "stream",
     "text": [
      "312\n"
     ]
    },
    {
     "data": {
      "text/plain": [
       "<DimCoord: time / (days since 0001-01-01 00:00:00)  [0045-03-11 00:00:00]+bounds>"
      ]
     },
     "execution_count": 234,
     "metadata": {},
     "output_type": "execute_result"
    },
    {
     "data": {
      "text/plain": [
       "<DimCoord: time / (days since 0001-01-01 00:00:00)  [1971-11-09 00:00:00]+bounds>"
      ]
     },
     "execution_count": 234,
     "metadata": {},
     "output_type": "execute_result"
    },
    {
     "name": "stdout",
     "output_type": "stream",
     "text": [
      "313\n"
     ]
    },
    {
     "data": {
      "text/plain": [
       "<DimCoord: time / (days since 0001-01-01 00:00:00)  [0045-04-04 00:00:00]+bounds>"
      ]
     },
     "execution_count": 234,
     "metadata": {},
     "output_type": "execute_result"
    },
    {
     "data": {
      "text/plain": [
       "<DimCoord: time / (days since 0001-01-01 00:00:00)  [1971-11-10 00:00:00]+bounds>"
      ]
     },
     "execution_count": 234,
     "metadata": {},
     "output_type": "execute_result"
    },
    {
     "name": "stdout",
     "output_type": "stream",
     "text": [
      "314\n"
     ]
    },
    {
     "data": {
      "text/plain": [
       "<DimCoord: time / (days since 0001-01-01 00:00:00)  [0045-04-28 00:00:00]+bounds>"
      ]
     },
     "execution_count": 234,
     "metadata": {},
     "output_type": "execute_result"
    },
    {
     "data": {
      "text/plain": [
       "<DimCoord: time / (days since 0001-01-01 00:00:00)  [1971-11-11 00:00:00]+bounds>"
      ]
     },
     "execution_count": 234,
     "metadata": {},
     "output_type": "execute_result"
    },
    {
     "name": "stdout",
     "output_type": "stream",
     "text": [
      "315\n"
     ]
    },
    {
     "data": {
      "text/plain": [
       "<DimCoord: time / (days since 0001-01-01 00:00:00)  [0045-05-22 00:00:00]+bounds>"
      ]
     },
     "execution_count": 234,
     "metadata": {},
     "output_type": "execute_result"
    },
    {
     "data": {
      "text/plain": [
       "<DimCoord: time / (days since 0001-01-01 00:00:00)  [1971-11-12 00:00:00]+bounds>"
      ]
     },
     "execution_count": 234,
     "metadata": {},
     "output_type": "execute_result"
    },
    {
     "name": "stdout",
     "output_type": "stream",
     "text": [
      "316\n"
     ]
    },
    {
     "data": {
      "text/plain": [
       "<DimCoord: time / (days since 0001-01-01 00:00:00)  [0045-06-15 00:00:00]+bounds>"
      ]
     },
     "execution_count": 234,
     "metadata": {},
     "output_type": "execute_result"
    },
    {
     "data": {
      "text/plain": [
       "<DimCoord: time / (days since 0001-01-01 00:00:00)  [1971-11-13 00:00:00]+bounds>"
      ]
     },
     "execution_count": 234,
     "metadata": {},
     "output_type": "execute_result"
    },
    {
     "name": "stdout",
     "output_type": "stream",
     "text": [
      "317\n"
     ]
    },
    {
     "data": {
      "text/plain": [
       "<DimCoord: time / (days since 0001-01-01 00:00:00)  [0045-07-09 00:00:00]+bounds>"
      ]
     },
     "execution_count": 234,
     "metadata": {},
     "output_type": "execute_result"
    },
    {
     "data": {
      "text/plain": [
       "<DimCoord: time / (days since 0001-01-01 00:00:00)  [1971-11-14 00:00:00]+bounds>"
      ]
     },
     "execution_count": 234,
     "metadata": {},
     "output_type": "execute_result"
    },
    {
     "name": "stdout",
     "output_type": "stream",
     "text": [
      "318\n"
     ]
    },
    {
     "data": {
      "text/plain": [
       "<DimCoord: time / (days since 0001-01-01 00:00:00)  [0045-08-02 00:00:00]+bounds>"
      ]
     },
     "execution_count": 234,
     "metadata": {},
     "output_type": "execute_result"
    },
    {
     "data": {
      "text/plain": [
       "<DimCoord: time / (days since 0001-01-01 00:00:00)  [1971-11-15 00:00:00]+bounds>"
      ]
     },
     "execution_count": 234,
     "metadata": {},
     "output_type": "execute_result"
    },
    {
     "name": "stdout",
     "output_type": "stream",
     "text": [
      "319\n"
     ]
    },
    {
     "data": {
      "text/plain": [
       "<DimCoord: time / (days since 0001-01-01 00:00:00)  [0045-08-26 00:00:00]+bounds>"
      ]
     },
     "execution_count": 234,
     "metadata": {},
     "output_type": "execute_result"
    },
    {
     "data": {
      "text/plain": [
       "<DimCoord: time / (days since 0001-01-01 00:00:00)  [1971-11-16 00:00:00]+bounds>"
      ]
     },
     "execution_count": 234,
     "metadata": {},
     "output_type": "execute_result"
    },
    {
     "name": "stdout",
     "output_type": "stream",
     "text": [
      "320\n"
     ]
    },
    {
     "data": {
      "text/plain": [
       "<DimCoord: time / (days since 0001-01-01 00:00:00)  [0045-09-19 00:00:00]+bounds>"
      ]
     },
     "execution_count": 234,
     "metadata": {},
     "output_type": "execute_result"
    },
    {
     "data": {
      "text/plain": [
       "<DimCoord: time / (days since 0001-01-01 00:00:00)  [1971-11-17 00:00:00]+bounds>"
      ]
     },
     "execution_count": 234,
     "metadata": {},
     "output_type": "execute_result"
    },
    {
     "name": "stdout",
     "output_type": "stream",
     "text": [
      "321\n"
     ]
    },
    {
     "data": {
      "text/plain": [
       "<DimCoord: time / (days since 0001-01-01 00:00:00)  [0045-10-13 00:00:00]+bounds>"
      ]
     },
     "execution_count": 234,
     "metadata": {},
     "output_type": "execute_result"
    },
    {
     "data": {
      "text/plain": [
       "<DimCoord: time / (days since 0001-01-01 00:00:00)  [1971-11-18 00:00:00]+bounds>"
      ]
     },
     "execution_count": 234,
     "metadata": {},
     "output_type": "execute_result"
    },
    {
     "name": "stdout",
     "output_type": "stream",
     "text": [
      "322\n"
     ]
    },
    {
     "data": {
      "text/plain": [
       "<DimCoord: time / (days since 0001-01-01 00:00:00)  [0045-11-06 00:00:00]+bounds>"
      ]
     },
     "execution_count": 234,
     "metadata": {},
     "output_type": "execute_result"
    },
    {
     "data": {
      "text/plain": [
       "<DimCoord: time / (days since 0001-01-01 00:00:00)  [1971-11-19 00:00:00]+bounds>"
      ]
     },
     "execution_count": 234,
     "metadata": {},
     "output_type": "execute_result"
    },
    {
     "name": "stdout",
     "output_type": "stream",
     "text": [
      "323\n"
     ]
    },
    {
     "data": {
      "text/plain": [
       "<DimCoord: time / (days since 0001-01-01 00:00:00)  [0045-11-30 00:00:00]+bounds>"
      ]
     },
     "execution_count": 234,
     "metadata": {},
     "output_type": "execute_result"
    },
    {
     "data": {
      "text/plain": [
       "<DimCoord: time / (days since 0001-01-01 00:00:00)  [1971-11-20 00:00:00]+bounds>"
      ]
     },
     "execution_count": 234,
     "metadata": {},
     "output_type": "execute_result"
    },
    {
     "name": "stdout",
     "output_type": "stream",
     "text": [
      "324\n"
     ]
    },
    {
     "data": {
      "text/plain": [
       "<DimCoord: time / (days since 0001-01-01 00:00:00)  [0045-12-24 00:00:00]+bounds>"
      ]
     },
     "execution_count": 234,
     "metadata": {},
     "output_type": "execute_result"
    },
    {
     "data": {
      "text/plain": [
       "<DimCoord: time / (days since 0001-01-01 00:00:00)  [1971-11-21 00:00:00]+bounds>"
      ]
     },
     "execution_count": 234,
     "metadata": {},
     "output_type": "execute_result"
    },
    {
     "name": "stdout",
     "output_type": "stream",
     "text": [
      "325\n"
     ]
    },
    {
     "data": {
      "text/plain": [
       "<DimCoord: time / (days since 0001-01-01 00:00:00)  [0046-01-17 00:00:00]+bounds>"
      ]
     },
     "execution_count": 234,
     "metadata": {},
     "output_type": "execute_result"
    },
    {
     "data": {
      "text/plain": [
       "<DimCoord: time / (days since 0001-01-01 00:00:00)  [1971-11-22 00:00:00]+bounds>"
      ]
     },
     "execution_count": 234,
     "metadata": {},
     "output_type": "execute_result"
    },
    {
     "name": "stdout",
     "output_type": "stream",
     "text": [
      "326\n"
     ]
    },
    {
     "data": {
      "text/plain": [
       "<DimCoord: time / (days since 0001-01-01 00:00:00)  [0046-02-10 00:00:00]+bounds>"
      ]
     },
     "execution_count": 234,
     "metadata": {},
     "output_type": "execute_result"
    },
    {
     "data": {
      "text/plain": [
       "<DimCoord: time / (days since 0001-01-01 00:00:00)  [1971-11-23 00:00:00]+bounds>"
      ]
     },
     "execution_count": 234,
     "metadata": {},
     "output_type": "execute_result"
    },
    {
     "name": "stdout",
     "output_type": "stream",
     "text": [
      "327\n"
     ]
    },
    {
     "data": {
      "text/plain": [
       "<DimCoord: time / (days since 0001-01-01 00:00:00)  [0046-03-06 00:00:00]+bounds>"
      ]
     },
     "execution_count": 234,
     "metadata": {},
     "output_type": "execute_result"
    },
    {
     "data": {
      "text/plain": [
       "<DimCoord: time / (days since 0001-01-01 00:00:00)  [1971-11-24 00:00:00]+bounds>"
      ]
     },
     "execution_count": 234,
     "metadata": {},
     "output_type": "execute_result"
    },
    {
     "name": "stdout",
     "output_type": "stream",
     "text": [
      "328\n"
     ]
    },
    {
     "data": {
      "text/plain": [
       "<DimCoord: time / (days since 0001-01-01 00:00:00)  [0046-03-30 00:00:00]+bounds>"
      ]
     },
     "execution_count": 234,
     "metadata": {},
     "output_type": "execute_result"
    },
    {
     "data": {
      "text/plain": [
       "<DimCoord: time / (days since 0001-01-01 00:00:00)  [1971-11-25 00:00:00]+bounds>"
      ]
     },
     "execution_count": 234,
     "metadata": {},
     "output_type": "execute_result"
    },
    {
     "name": "stdout",
     "output_type": "stream",
     "text": [
      "329\n"
     ]
    },
    {
     "data": {
      "text/plain": [
       "<DimCoord: time / (days since 0001-01-01 00:00:00)  [0046-04-23 00:00:00]+bounds>"
      ]
     },
     "execution_count": 234,
     "metadata": {},
     "output_type": "execute_result"
    },
    {
     "data": {
      "text/plain": [
       "<DimCoord: time / (days since 0001-01-01 00:00:00)  [1971-11-26 00:00:00]+bounds>"
      ]
     },
     "execution_count": 234,
     "metadata": {},
     "output_type": "execute_result"
    },
    {
     "name": "stdout",
     "output_type": "stream",
     "text": [
      "330\n"
     ]
    },
    {
     "data": {
      "text/plain": [
       "<DimCoord: time / (days since 0001-01-01 00:00:00)  [0046-05-17 00:00:00]+bounds>"
      ]
     },
     "execution_count": 234,
     "metadata": {},
     "output_type": "execute_result"
    },
    {
     "data": {
      "text/plain": [
       "<DimCoord: time / (days since 0001-01-01 00:00:00)  [1971-11-27 00:00:00]+bounds>"
      ]
     },
     "execution_count": 234,
     "metadata": {},
     "output_type": "execute_result"
    },
    {
     "name": "stdout",
     "output_type": "stream",
     "text": [
      "331\n"
     ]
    },
    {
     "data": {
      "text/plain": [
       "<DimCoord: time / (days since 0001-01-01 00:00:00)  [0046-06-10 00:00:00]+bounds>"
      ]
     },
     "execution_count": 234,
     "metadata": {},
     "output_type": "execute_result"
    },
    {
     "data": {
      "text/plain": [
       "<DimCoord: time / (days since 0001-01-01 00:00:00)  [1971-11-28 00:00:00]+bounds>"
      ]
     },
     "execution_count": 234,
     "metadata": {},
     "output_type": "execute_result"
    },
    {
     "name": "stdout",
     "output_type": "stream",
     "text": [
      "332\n"
     ]
    },
    {
     "data": {
      "text/plain": [
       "<DimCoord: time / (days since 0001-01-01 00:00:00)  [0046-07-04 00:00:00]+bounds>"
      ]
     },
     "execution_count": 234,
     "metadata": {},
     "output_type": "execute_result"
    },
    {
     "data": {
      "text/plain": [
       "<DimCoord: time / (days since 0001-01-01 00:00:00)  [1971-11-29 00:00:00]+bounds>"
      ]
     },
     "execution_count": 234,
     "metadata": {},
     "output_type": "execute_result"
    },
    {
     "name": "stdout",
     "output_type": "stream",
     "text": [
      "333\n"
     ]
    },
    {
     "data": {
      "text/plain": [
       "<DimCoord: time / (days since 0001-01-01 00:00:00)  [0046-07-28 00:00:00]+bounds>"
      ]
     },
     "execution_count": 234,
     "metadata": {},
     "output_type": "execute_result"
    },
    {
     "data": {
      "text/plain": [
       "<DimCoord: time / (days since 0001-01-01 00:00:00)  [1971-11-30 00:00:00]+bounds>"
      ]
     },
     "execution_count": 234,
     "metadata": {},
     "output_type": "execute_result"
    },
    {
     "name": "stdout",
     "output_type": "stream",
     "text": [
      "334\n"
     ]
    },
    {
     "data": {
      "text/plain": [
       "<DimCoord: time / (days since 0001-01-01 00:00:00)  [0046-08-21 00:00:00]+bounds>"
      ]
     },
     "execution_count": 234,
     "metadata": {},
     "output_type": "execute_result"
    },
    {
     "data": {
      "text/plain": [
       "<DimCoord: time / (days since 0001-01-01 00:00:00)  [1971-12-01 00:00:00]+bounds>"
      ]
     },
     "execution_count": 234,
     "metadata": {},
     "output_type": "execute_result"
    },
    {
     "name": "stdout",
     "output_type": "stream",
     "text": [
      "335\n"
     ]
    },
    {
     "data": {
      "text/plain": [
       "<DimCoord: time / (days since 0001-01-01 00:00:00)  [0046-09-14 00:00:00]+bounds>"
      ]
     },
     "execution_count": 234,
     "metadata": {},
     "output_type": "execute_result"
    },
    {
     "data": {
      "text/plain": [
       "<DimCoord: time / (days since 0001-01-01 00:00:00)  [1971-12-02 00:00:00]+bounds>"
      ]
     },
     "execution_count": 234,
     "metadata": {},
     "output_type": "execute_result"
    },
    {
     "name": "stdout",
     "output_type": "stream",
     "text": [
      "336\n"
     ]
    },
    {
     "data": {
      "text/plain": [
       "<DimCoord: time / (days since 0001-01-01 00:00:00)  [0046-10-08 00:00:00]+bounds>"
      ]
     },
     "execution_count": 234,
     "metadata": {},
     "output_type": "execute_result"
    },
    {
     "data": {
      "text/plain": [
       "<DimCoord: time / (days since 0001-01-01 00:00:00)  [1971-12-03 00:00:00]+bounds>"
      ]
     },
     "execution_count": 234,
     "metadata": {},
     "output_type": "execute_result"
    },
    {
     "name": "stdout",
     "output_type": "stream",
     "text": [
      "337\n"
     ]
    },
    {
     "data": {
      "text/plain": [
       "<DimCoord: time / (days since 0001-01-01 00:00:00)  [0046-11-01 00:00:00]+bounds>"
      ]
     },
     "execution_count": 234,
     "metadata": {},
     "output_type": "execute_result"
    },
    {
     "data": {
      "text/plain": [
       "<DimCoord: time / (days since 0001-01-01 00:00:00)  [1971-12-04 00:00:00]+bounds>"
      ]
     },
     "execution_count": 234,
     "metadata": {},
     "output_type": "execute_result"
    },
    {
     "name": "stdout",
     "output_type": "stream",
     "text": [
      "338\n"
     ]
    },
    {
     "data": {
      "text/plain": [
       "<DimCoord: time / (days since 0001-01-01 00:00:00)  [0046-11-25 00:00:00]+bounds>"
      ]
     },
     "execution_count": 234,
     "metadata": {},
     "output_type": "execute_result"
    },
    {
     "data": {
      "text/plain": [
       "<DimCoord: time / (days since 0001-01-01 00:00:00)  [1971-12-05 00:00:00]+bounds>"
      ]
     },
     "execution_count": 234,
     "metadata": {},
     "output_type": "execute_result"
    },
    {
     "name": "stdout",
     "output_type": "stream",
     "text": [
      "339\n"
     ]
    },
    {
     "data": {
      "text/plain": [
       "<DimCoord: time / (days since 0001-01-01 00:00:00)  [0046-12-19 00:00:00]+bounds>"
      ]
     },
     "execution_count": 234,
     "metadata": {},
     "output_type": "execute_result"
    },
    {
     "data": {
      "text/plain": [
       "<DimCoord: time / (days since 0001-01-01 00:00:00)  [1971-12-06 00:00:00]+bounds>"
      ]
     },
     "execution_count": 234,
     "metadata": {},
     "output_type": "execute_result"
    },
    {
     "name": "stdout",
     "output_type": "stream",
     "text": [
      "340\n"
     ]
    },
    {
     "data": {
      "text/plain": [
       "<DimCoord: time / (days since 0001-01-01 00:00:00)  [0047-01-12 00:00:00]+bounds>"
      ]
     },
     "execution_count": 234,
     "metadata": {},
     "output_type": "execute_result"
    },
    {
     "data": {
      "text/plain": [
       "<DimCoord: time / (days since 0001-01-01 00:00:00)  [1971-12-07 00:00:00]+bounds>"
      ]
     },
     "execution_count": 234,
     "metadata": {},
     "output_type": "execute_result"
    },
    {
     "name": "stdout",
     "output_type": "stream",
     "text": [
      "341\n"
     ]
    },
    {
     "data": {
      "text/plain": [
       "<DimCoord: time / (days since 0001-01-01 00:00:00)  [0047-02-05 00:00:00]+bounds>"
      ]
     },
     "execution_count": 234,
     "metadata": {},
     "output_type": "execute_result"
    },
    {
     "data": {
      "text/plain": [
       "<DimCoord: time / (days since 0001-01-01 00:00:00)  [1971-12-08 00:00:00]+bounds>"
      ]
     },
     "execution_count": 234,
     "metadata": {},
     "output_type": "execute_result"
    },
    {
     "name": "stdout",
     "output_type": "stream",
     "text": [
      "342\n"
     ]
    },
    {
     "data": {
      "text/plain": [
       "<DimCoord: time / (days since 0001-01-01 00:00:00)  [0047-03-01 00:00:00]+bounds>"
      ]
     },
     "execution_count": 234,
     "metadata": {},
     "output_type": "execute_result"
    },
    {
     "data": {
      "text/plain": [
       "<DimCoord: time / (days since 0001-01-01 00:00:00)  [1971-12-09 00:00:00]+bounds>"
      ]
     },
     "execution_count": 234,
     "metadata": {},
     "output_type": "execute_result"
    },
    {
     "name": "stdout",
     "output_type": "stream",
     "text": [
      "343\n"
     ]
    },
    {
     "data": {
      "text/plain": [
       "<DimCoord: time / (days since 0001-01-01 00:00:00)  [0047-03-25 00:00:00]+bounds>"
      ]
     },
     "execution_count": 234,
     "metadata": {},
     "output_type": "execute_result"
    },
    {
     "data": {
      "text/plain": [
       "<DimCoord: time / (days since 0001-01-01 00:00:00)  [1971-12-10 00:00:00]+bounds>"
      ]
     },
     "execution_count": 234,
     "metadata": {},
     "output_type": "execute_result"
    },
    {
     "name": "stdout",
     "output_type": "stream",
     "text": [
      "344\n"
     ]
    },
    {
     "data": {
      "text/plain": [
       "<DimCoord: time / (days since 0001-01-01 00:00:00)  [0047-04-18 00:00:00]+bounds>"
      ]
     },
     "execution_count": 234,
     "metadata": {},
     "output_type": "execute_result"
    },
    {
     "data": {
      "text/plain": [
       "<DimCoord: time / (days since 0001-01-01 00:00:00)  [1971-12-11 00:00:00]+bounds>"
      ]
     },
     "execution_count": 234,
     "metadata": {},
     "output_type": "execute_result"
    },
    {
     "name": "stdout",
     "output_type": "stream",
     "text": [
      "345\n"
     ]
    },
    {
     "data": {
      "text/plain": [
       "<DimCoord: time / (days since 0001-01-01 00:00:00)  [0047-05-12 00:00:00]+bounds>"
      ]
     },
     "execution_count": 234,
     "metadata": {},
     "output_type": "execute_result"
    },
    {
     "data": {
      "text/plain": [
       "<DimCoord: time / (days since 0001-01-01 00:00:00)  [1971-12-12 00:00:00]+bounds>"
      ]
     },
     "execution_count": 234,
     "metadata": {},
     "output_type": "execute_result"
    },
    {
     "name": "stdout",
     "output_type": "stream",
     "text": [
      "346\n"
     ]
    },
    {
     "data": {
      "text/plain": [
       "<DimCoord: time / (days since 0001-01-01 00:00:00)  [0047-06-05 00:00:00]+bounds>"
      ]
     },
     "execution_count": 234,
     "metadata": {},
     "output_type": "execute_result"
    },
    {
     "data": {
      "text/plain": [
       "<DimCoord: time / (days since 0001-01-01 00:00:00)  [1971-12-13 00:00:00]+bounds>"
      ]
     },
     "execution_count": 234,
     "metadata": {},
     "output_type": "execute_result"
    },
    {
     "name": "stdout",
     "output_type": "stream",
     "text": [
      "347\n"
     ]
    },
    {
     "data": {
      "text/plain": [
       "<DimCoord: time / (days since 0001-01-01 00:00:00)  [0047-06-29 00:00:00]+bounds>"
      ]
     },
     "execution_count": 234,
     "metadata": {},
     "output_type": "execute_result"
    },
    {
     "data": {
      "text/plain": [
       "<DimCoord: time / (days since 0001-01-01 00:00:00)  [1971-12-14 00:00:00]+bounds>"
      ]
     },
     "execution_count": 234,
     "metadata": {},
     "output_type": "execute_result"
    },
    {
     "name": "stdout",
     "output_type": "stream",
     "text": [
      "348\n"
     ]
    },
    {
     "data": {
      "text/plain": [
       "<DimCoord: time / (days since 0001-01-01 00:00:00)  [0047-07-23 00:00:00]+bounds>"
      ]
     },
     "execution_count": 234,
     "metadata": {},
     "output_type": "execute_result"
    },
    {
     "data": {
      "text/plain": [
       "<DimCoord: time / (days since 0001-01-01 00:00:00)  [1971-12-15 00:00:00]+bounds>"
      ]
     },
     "execution_count": 234,
     "metadata": {},
     "output_type": "execute_result"
    },
    {
     "name": "stdout",
     "output_type": "stream",
     "text": [
      "349\n"
     ]
    },
    {
     "data": {
      "text/plain": [
       "<DimCoord: time / (days since 0001-01-01 00:00:00)  [0047-08-16 00:00:00]+bounds>"
      ]
     },
     "execution_count": 234,
     "metadata": {},
     "output_type": "execute_result"
    },
    {
     "data": {
      "text/plain": [
       "<DimCoord: time / (days since 0001-01-01 00:00:00)  [1971-12-16 00:00:00]+bounds>"
      ]
     },
     "execution_count": 234,
     "metadata": {},
     "output_type": "execute_result"
    },
    {
     "name": "stdout",
     "output_type": "stream",
     "text": [
      "350\n"
     ]
    },
    {
     "data": {
      "text/plain": [
       "<DimCoord: time / (days since 0001-01-01 00:00:00)  [0047-09-09 00:00:00]+bounds>"
      ]
     },
     "execution_count": 234,
     "metadata": {},
     "output_type": "execute_result"
    },
    {
     "data": {
      "text/plain": [
       "<DimCoord: time / (days since 0001-01-01 00:00:00)  [1971-12-17 00:00:00]+bounds>"
      ]
     },
     "execution_count": 234,
     "metadata": {},
     "output_type": "execute_result"
    },
    {
     "name": "stdout",
     "output_type": "stream",
     "text": [
      "351\n"
     ]
    },
    {
     "data": {
      "text/plain": [
       "<DimCoord: time / (days since 0001-01-01 00:00:00)  [0047-10-03 00:00:00]+bounds>"
      ]
     },
     "execution_count": 234,
     "metadata": {},
     "output_type": "execute_result"
    },
    {
     "data": {
      "text/plain": [
       "<DimCoord: time / (days since 0001-01-01 00:00:00)  [1971-12-18 00:00:00]+bounds>"
      ]
     },
     "execution_count": 234,
     "metadata": {},
     "output_type": "execute_result"
    },
    {
     "name": "stdout",
     "output_type": "stream",
     "text": [
      "352\n"
     ]
    },
    {
     "data": {
      "text/plain": [
       "<DimCoord: time / (days since 0001-01-01 00:00:00)  [0047-10-27 00:00:00]+bounds>"
      ]
     },
     "execution_count": 234,
     "metadata": {},
     "output_type": "execute_result"
    },
    {
     "data": {
      "text/plain": [
       "<DimCoord: time / (days since 0001-01-01 00:00:00)  [1971-12-19 00:00:00]+bounds>"
      ]
     },
     "execution_count": 234,
     "metadata": {},
     "output_type": "execute_result"
    },
    {
     "name": "stdout",
     "output_type": "stream",
     "text": [
      "353\n"
     ]
    },
    {
     "data": {
      "text/plain": [
       "<DimCoord: time / (days since 0001-01-01 00:00:00)  [0047-11-20 00:00:00]+bounds>"
      ]
     },
     "execution_count": 234,
     "metadata": {},
     "output_type": "execute_result"
    },
    {
     "data": {
      "text/plain": [
       "<DimCoord: time / (days since 0001-01-01 00:00:00)  [1971-12-20 00:00:00]+bounds>"
      ]
     },
     "execution_count": 234,
     "metadata": {},
     "output_type": "execute_result"
    },
    {
     "name": "stdout",
     "output_type": "stream",
     "text": [
      "354\n"
     ]
    },
    {
     "data": {
      "text/plain": [
       "<DimCoord: time / (days since 0001-01-01 00:00:00)  [0047-12-14 00:00:00]+bounds>"
      ]
     },
     "execution_count": 234,
     "metadata": {},
     "output_type": "execute_result"
    },
    {
     "data": {
      "text/plain": [
       "<DimCoord: time / (days since 0001-01-01 00:00:00)  [1971-12-21 00:00:00]+bounds>"
      ]
     },
     "execution_count": 234,
     "metadata": {},
     "output_type": "execute_result"
    },
    {
     "name": "stdout",
     "output_type": "stream",
     "text": [
      "355\n"
     ]
    },
    {
     "data": {
      "text/plain": [
       "<DimCoord: time / (days since 0001-01-01 00:00:00)  [0048-01-07 00:00:00]+bounds>"
      ]
     },
     "execution_count": 234,
     "metadata": {},
     "output_type": "execute_result"
    },
    {
     "data": {
      "text/plain": [
       "<DimCoord: time / (days since 0001-01-01 00:00:00)  [1971-12-22 00:00:00]+bounds>"
      ]
     },
     "execution_count": 234,
     "metadata": {},
     "output_type": "execute_result"
    },
    {
     "name": "stdout",
     "output_type": "stream",
     "text": [
      "356\n"
     ]
    },
    {
     "data": {
      "text/plain": [
       "<DimCoord: time / (days since 0001-01-01 00:00:00)  [0048-01-31 00:00:00]+bounds>"
      ]
     },
     "execution_count": 234,
     "metadata": {},
     "output_type": "execute_result"
    },
    {
     "data": {
      "text/plain": [
       "<DimCoord: time / (days since 0001-01-01 00:00:00)  [1971-12-23 00:00:00]+bounds>"
      ]
     },
     "execution_count": 234,
     "metadata": {},
     "output_type": "execute_result"
    },
    {
     "name": "stdout",
     "output_type": "stream",
     "text": [
      "357\n"
     ]
    },
    {
     "data": {
      "text/plain": [
       "<DimCoord: time / (days since 0001-01-01 00:00:00)  [0048-02-24 00:00:00]+bounds>"
      ]
     },
     "execution_count": 234,
     "metadata": {},
     "output_type": "execute_result"
    },
    {
     "data": {
      "text/plain": [
       "<DimCoord: time / (days since 0001-01-01 00:00:00)  [1971-12-24 00:00:00]+bounds>"
      ]
     },
     "execution_count": 234,
     "metadata": {},
     "output_type": "execute_result"
    },
    {
     "name": "stdout",
     "output_type": "stream",
     "text": [
      "358\n"
     ]
    },
    {
     "data": {
      "text/plain": [
       "<DimCoord: time / (days since 0001-01-01 00:00:00)  [0048-03-19 00:00:00]+bounds>"
      ]
     },
     "execution_count": 234,
     "metadata": {},
     "output_type": "execute_result"
    },
    {
     "data": {
      "text/plain": [
       "<DimCoord: time / (days since 0001-01-01 00:00:00)  [1971-12-25 00:00:00]+bounds>"
      ]
     },
     "execution_count": 234,
     "metadata": {},
     "output_type": "execute_result"
    },
    {
     "name": "stdout",
     "output_type": "stream",
     "text": [
      "359\n"
     ]
    },
    {
     "data": {
      "text/plain": [
       "<DimCoord: time / (days since 0001-01-01 00:00:00)  [0048-04-12 00:00:00]+bounds>"
      ]
     },
     "execution_count": 234,
     "metadata": {},
     "output_type": "execute_result"
    },
    {
     "data": {
      "text/plain": [
       "<DimCoord: time / (days since 0001-01-01 00:00:00)  [1971-12-26 00:00:00]+bounds>"
      ]
     },
     "execution_count": 234,
     "metadata": {},
     "output_type": "execute_result"
    }
   ],
   "source": [
    "counter = 0\n",
    "\n",
    "for month in range(12):\n",
    "\n",
    "    for day in range(30):\n",
    "        \n",
    "        print(counter)\n",
    "        \n",
    "        #following 2 lines from https://stackoverflow.com/a/53373130/6288682\n",
    "        tcoord = split_cube[str(counter)].coord('time')\n",
    "        tcoord.units = unit.Unit('days since 0001-01-01 00:00:00', calendar='proleptic_gregorian')\n",
    "\n",
    "        split_cube[str(counter)].coord('time')\n",
    "\n",
    "        split_cube[str(counter)].coord('time').points =  u.date2num(datetime.datetime(year, 1, 1)) + counter\n",
    "        split_cube[str(counter)].coord('time')\n",
    "        \n",
    "        counter += 1"
   ]
  },
  {
   "cell_type": "code",
   "execution_count": 235,
   "id": "0912ff90",
   "metadata": {},
   "outputs": [
    {
     "data": {
      "text/plain": [
       "[25, 81, 185, 224, 300]"
      ]
     },
     "execution_count": 235,
     "metadata": {},
     "output_type": "execute_result"
    }
   ],
   "source": [
    "rands"
   ]
  },
  {
   "cell_type": "code",
   "execution_count": null,
   "id": "5d1be006",
   "metadata": {},
   "outputs": [],
   "source": []
  },
  {
   "cell_type": "code",
   "execution_count": 236,
   "id": "6a24cce1",
   "metadata": {},
   "outputs": [
    {
     "name": "stderr",
     "output_type": "stream",
     "text": [
      "100%|████████████████████████████████████████████████████████████████████████████████████████████████████████████| 5/5 [00:00<00:00, 13.85it/s]\n"
     ]
    }
   ],
   "source": [
    "split_cube_shifted = {}\n",
    "\n",
    "for j in tqdm(range(5)):\n",
    "\n",
    "    for i in range(72*j,72*(j+1)):\n",
    "\n",
    "        if i < rands[j]:\n",
    "\n",
    "            split_cube_shifted[str(i+j).zfill(3)] = copy.deepcopy(split_cube[str(i)])\n",
    "\n",
    "        if i == rands[j]:\n",
    "\n",
    "            pass\n",
    "\n",
    "        if i >= rands[j]:\n",
    "\n",
    "            split_cube_shifted[str(i+j+1).zfill(3)] = copy.deepcopy(split_cube[str(i)])\n",
    "\n",
    "\n",
    "    split_cube_shifted[str(rands[j]+j).zfill(3)] = ( copy.deepcopy(split_cube[str(rands[j])]) +\n",
    "                                          copy.deepcopy(split_cube[str(rands[j]+1)]) )/2."
   ]
  },
  {
   "cell_type": "code",
   "execution_count": 237,
   "id": "f11eb50b",
   "metadata": {},
   "outputs": [
    {
     "data": {
      "text/plain": [
       "360"
      ]
     },
     "execution_count": 237,
     "metadata": {},
     "output_type": "execute_result"
    },
    {
     "data": {
      "text/plain": [
       "365"
      ]
     },
     "execution_count": 237,
     "metadata": {},
     "output_type": "execute_result"
    }
   ],
   "source": [
    "len(split_cube)\n",
    "len(split_cube_shifted)\n"
   ]
  },
  {
   "cell_type": "code",
   "execution_count": 238,
   "id": "0c34bb81",
   "metadata": {},
   "outputs": [
    {
     "data": {
      "text/plain": [
       "[25, 81, 185, 224, 300]"
      ]
     },
     "execution_count": 238,
     "metadata": {},
     "output_type": "execute_result"
    }
   ],
   "source": [
    "rands"
   ]
  },
  {
   "cell_type": "code",
   "execution_count": 239,
   "id": "c7cd9483",
   "metadata": {},
   "outputs": [
    {
     "data": {
      "text/plain": [
       "dict_keys(['000', '001', '002', '003', '004', '005', '006', '007', '008', '009', '010', '011', '012', '013', '014', '015', '016', '017', '018', '019', '020', '021', '022', '023', '024', '026', '027', '028', '029', '030', '031', '032', '033', '034', '035', '036', '037', '038', '039', '040', '041', '042', '043', '044', '045', '046', '047', '048', '049', '050', '051', '052', '053', '054', '055', '056', '057', '058', '059', '060', '061', '062', '063', '064', '065', '066', '067', '068', '069', '070', '071', '072', '025', '073', '074', '075', '076', '077', '078', '079', '080', '081', '083', '084', '085', '086', '087', '088', '089', '090', '091', '092', '093', '094', '095', '096', '097', '098', '099', '100', '101', '102', '103', '104', '105', '106', '107', '108', '109', '110', '111', '112', '113', '114', '115', '116', '117', '118', '119', '120', '121', '122', '123', '124', '125', '126', '127', '128', '129', '130', '131', '132', '133', '134', '135', '136', '137', '138', '139', '140', '141', '142', '143', '144', '145', '082', '146', '147', '148', '149', '150', '151', '152', '153', '154', '155', '156', '157', '158', '159', '160', '161', '162', '163', '164', '165', '166', '167', '168', '169', '170', '171', '172', '173', '174', '175', '176', '177', '178', '179', '180', '181', '182', '183', '184', '185', '186', '188', '189', '190', '191', '192', '193', '194', '195', '196', '197', '198', '199', '200', '201', '202', '203', '204', '205', '206', '207', '208', '209', '210', '211', '212', '213', '214', '215', '216', '217', '218', '187', '219', '220', '221', '222', '223', '224', '225', '226', '228', '229', '230', '231', '232', '233', '234', '235', '236', '237', '238', '239', '240', '241', '242', '243', '244', '245', '246', '247', '248', '249', '250', '251', '252', '253', '254', '255', '256', '257', '258', '259', '260', '261', '262', '263', '264', '265', '266', '267', '268', '269', '270', '271', '272', '273', '274', '275', '276', '277', '278', '279', '280', '281', '282', '283', '284', '285', '286', '287', '288', '289', '290', '291', '227', '292', '293', '294', '295', '296', '297', '298', '299', '300', '301', '302', '303', '305', '306', '307', '308', '309', '310', '311', '312', '313', '314', '315', '316', '317', '318', '319', '320', '321', '322', '323', '324', '325', '326', '327', '328', '329', '330', '331', '332', '333', '334', '335', '336', '337', '338', '339', '340', '341', '342', '343', '344', '345', '346', '347', '348', '349', '350', '351', '352', '353', '354', '355', '356', '357', '358', '359', '360', '361', '362', '363', '364', '304'])"
      ]
     },
     "execution_count": 239,
     "metadata": {},
     "output_type": "execute_result"
    }
   ],
   "source": [
    "split_cube_shifted.keys()\n"
   ]
  },
  {
   "cell_type": "code",
   "execution_count": 240,
   "id": "f08e02e1",
   "metadata": {},
   "outputs": [],
   "source": [
    "split_cube_shifted_ordered = {}"
   ]
  },
  {
   "cell_type": "code",
   "execution_count": 241,
   "id": "fb894545",
   "metadata": {},
   "outputs": [
    {
     "name": "stderr",
     "output_type": "stream",
     "text": [
      "100%|████████████████████████████████████████████████████████████████████████████████████████████████████| 365/365 [00:00<00:00, 413650.62it/s]\n"
     ]
    }
   ],
   "source": [
    "for i in tqdm(range(365)):\n",
    "    split_cube_shifted_ordered[str(i).zfill(3)] = split_cube_shifted[str(i).zfill(3)]"
   ]
  },
  {
   "cell_type": "code",
   "execution_count": null,
   "id": "a0a6802a",
   "metadata": {},
   "outputs": [],
   "source": []
  },
  {
   "cell_type": "code",
   "execution_count": 242,
   "id": "09d2ad40",
   "metadata": {},
   "outputs": [
    {
     "data": {
      "text/plain": [
       "dict_keys(['000', '001', '002', '003', '004', '005', '006', '007', '008', '009', '010', '011', '012', '013', '014', '015', '016', '017', '018', '019', '020', '021', '022', '023', '024', '025', '026', '027', '028', '029', '030', '031', '032', '033', '034', '035', '036', '037', '038', '039', '040', '041', '042', '043', '044', '045', '046', '047', '048', '049', '050', '051', '052', '053', '054', '055', '056', '057', '058', '059', '060', '061', '062', '063', '064', '065', '066', '067', '068', '069', '070', '071', '072', '073', '074', '075', '076', '077', '078', '079', '080', '081', '082', '083', '084', '085', '086', '087', '088', '089', '090', '091', '092', '093', '094', '095', '096', '097', '098', '099', '100', '101', '102', '103', '104', '105', '106', '107', '108', '109', '110', '111', '112', '113', '114', '115', '116', '117', '118', '119', '120', '121', '122', '123', '124', '125', '126', '127', '128', '129', '130', '131', '132', '133', '134', '135', '136', '137', '138', '139', '140', '141', '142', '143', '144', '145', '146', '147', '148', '149', '150', '151', '152', '153', '154', '155', '156', '157', '158', '159', '160', '161', '162', '163', '164', '165', '166', '167', '168', '169', '170', '171', '172', '173', '174', '175', '176', '177', '178', '179', '180', '181', '182', '183', '184', '185', '186', '187', '188', '189', '190', '191', '192', '193', '194', '195', '196', '197', '198', '199', '200', '201', '202', '203', '204', '205', '206', '207', '208', '209', '210', '211', '212', '213', '214', '215', '216', '217', '218', '219', '220', '221', '222', '223', '224', '225', '226', '227', '228', '229', '230', '231', '232', '233', '234', '235', '236', '237', '238', '239', '240', '241', '242', '243', '244', '245', '246', '247', '248', '249', '250', '251', '252', '253', '254', '255', '256', '257', '258', '259', '260', '261', '262', '263', '264', '265', '266', '267', '268', '269', '270', '271', '272', '273', '274', '275', '276', '277', '278', '279', '280', '281', '282', '283', '284', '285', '286', '287', '288', '289', '290', '291', '292', '293', '294', '295', '296', '297', '298', '299', '300', '301', '302', '303', '304', '305', '306', '307', '308', '309', '310', '311', '312', '313', '314', '315', '316', '317', '318', '319', '320', '321', '322', '323', '324', '325', '326', '327', '328', '329', '330', '331', '332', '333', '334', '335', '336', '337', '338', '339', '340', '341', '342', '343', '344', '345', '346', '347', '348', '349', '350', '351', '352', '353', '354', '355', '356', '357', '358', '359', '360', '361', '362', '363', '364'])"
      ]
     },
     "execution_count": 242,
     "metadata": {},
     "output_type": "execute_result"
    }
   ],
   "source": [
    "split_cube_shifted_ordered.keys()"
   ]
  },
  {
   "cell_type": "code",
   "execution_count": 243,
   "id": "57a768ba",
   "metadata": {},
   "outputs": [
    {
     "name": "stdout",
     "output_type": "stream",
     "text": [
      "[cftime.DatetimeProlepticGregorian(1971, 1, 1, 0, 0, 0, 0, has_year_zero=True)]\n"
     ]
    }
   ],
   "source": [
    "time = list(split_cube.values())[0].coord('time')\n",
    "dates = time.units.num2date(time.points)\n",
    "print(dates)"
   ]
  },
  {
   "cell_type": "code",
   "execution_count": 244,
   "id": "9d7e8dc4",
   "metadata": {},
   "outputs": [
    {
     "name": "stderr",
     "output_type": "stream",
     "text": [
      "100%|████████████████████████████████████████████████████████████████████████████████████████████████████████| 360/360 [00:05<00:00, 61.39it/s]\n",
      "100%|████████████████████████████████████████████████████████████████████████████████████████████████████████| 365/365 [00:05<00:00, 62.74it/s]\n",
      "100%|████████████████████████████████████████████████████████████████████████████████████████████████████████| 365/365 [00:06<00:00, 59.99it/s]\n"
     ]
    },
    {
     "data": {
      "image/png": "[encoded data removed]",
      "text/plain": [
       "<Figure size 432x288 with 1 Axes>"
      ]
     },
     "metadata": {
      "needs_background": "light"
     },
     "output_type": "display_data"
    }
   ],
   "source": [
    "series = []\n",
    "\n",
    "for i in tqdm(range(360)):\n",
    "    series.append(list(split_cube.values())[i].collapsed(('latitude','longitude'),iris.analysis.MEAN).data)\n",
    "    \n",
    "plt.plot( series,'-')\n",
    "\n",
    "#\n",
    "\n",
    "series_shifted = []\n",
    "\n",
    "\n",
    "for i in tqdm(range(365)):\n",
    "    series_shifted.append(list(split_cube_shifted.values())[i].\\\n",
    "                  collapsed(('latitude','longitude'),iris.analysis.MEAN).data)\n",
    "   \n",
    "plt.plot( series_shifted,'-')\n",
    "\n",
    "#\n",
    "\n",
    "series_shifted_ordered = []\n",
    "\n",
    "for i in tqdm(range(365)):\n",
    "    series_shifted_ordered.append(list(split_cube_shifted_ordered.values())[i].\\\n",
    "                  collapsed(('latitude','longitude'),iris.analysis.MEAN).data)\n",
    "      \n",
    "plt.plot( series_shifted_ordered,'-')\n",
    "\n",
    "plt.show();"
   ]
  },
  {
   "cell_type": "raw",
   "id": "a2f1bf3c",
   "metadata": {},
   "source": [
    "make sure series are different (both outputs from next cell should be False)..."
   ]
  },
  {
   "cell_type": "code",
   "execution_count": 245,
   "id": "3e536380",
   "metadata": {},
   "outputs": [
    {
     "data": {
      "text/plain": [
       "False"
      ]
     },
     "execution_count": 245,
     "metadata": {},
     "output_type": "execute_result"
    },
    {
     "data": {
      "text/plain": [
       "False"
      ]
     },
     "execution_count": 245,
     "metadata": {},
     "output_type": "execute_result"
    }
   ],
   "source": [
    "series == series_shifted\n",
    "series_shifted == series_shifted_ordered"
   ]
  },
  {
   "cell_type": "code",
   "execution_count": 246,
   "id": "2bf501a1",
   "metadata": {},
   "outputs": [
    {
     "data": {
      "image/png": "[encoded data removed]",
      "text/plain": [
       "<Figure size 1080x720 with 1 Axes>"
      ]
     },
     "metadata": {
      "needs_background": "light"
     },
     "output_type": "display_data"
    }
   ],
   "source": [
    "fig = plt.figure(figsize=[15,10])\n",
    "\n",
    "plt.plot(series,'k-',label = 'series')\n",
    "plt.plot(series_shifted,'k--',label = 'series_shifted')\n",
    "plt.plot(series_shifted_ordered,'k:', label = 'series_shifted_ordered')\n",
    "\n",
    "for i in range(5):\n",
    "\n",
    "    plt.plot(rands[i], \n",
    "         list(split_cube.values())[rands[i]].collapsed(('latitude','longitude'),iris.analysis.MEAN).data,\n",
    "        'Xk',alpha=1, markersize = 20,)\n",
    "    \n",
    "plt.legend()\n",
    "\n",
    "plt.show();"
   ]
  },
  {
   "cell_type": "code",
   "execution_count": 247,
   "id": "c7f82b57",
   "metadata": {},
   "outputs": [],
   "source": [
    "fontsize = 20\n",
    "\n",
    "latmin = -50\n",
    "latmax = -30\n",
    "lonmin = 165\n",
    "lonmax = 180\n"
   ]
  },
  {
   "cell_type": "code",
   "execution_count": 278,
   "id": "27ffbb4c",
   "metadata": {},
   "outputs": [
    {
     "data": {
      "image/png": "[encoded data removed]",
      "text/plain": [
       "<Figure size 1080x720 with 1 Axes>"
      ]
     },
     "metadata": {
      "needs_background": "light"
     },
     "output_type": "display_data"
    }
   ],
   "source": [
    "fig = plt.figure(figsize=[15,10])\n",
    "\n",
    "ax = plt.subplot(1,1,1)\n",
    "\n",
    "plt.plot(series,'b-',label = 'Original data', alpha = 0.25, linewidth = 5)\n",
    "plt.plot(series_shifted_ordered,'r-', label = 'Modified data')\n",
    "\n",
    "lims = ax.get_ylim()\n",
    "\n",
    "for i in range(5):\n",
    "\n",
    "    if i == 0:\n",
    "    \n",
    "        label = 'Random dates in each of the five\\n72 day periods in a 360 day year'\n",
    "    \n",
    "    else:\n",
    "        label = '_nolegend_'\n",
    "    plt.plot(rands[i], \n",
    "         list(split_cube.values())[rands[i]].collapsed(('latitude','longitude'),iris.analysis.MEAN).data,\n",
    "        'Xk',alpha=1, markersize = 20,label = label)\n",
    "    \n",
    "plt.legend(borderpad = 1, loc = 'upper left')\n",
    "\n",
    "plt.ticklabel_format(axis='y', style='sci', scilimits=(0,0))\n",
    "\n",
    "# plt.gca().set_ylim(top=295)\n",
    "\n",
    "\n",
    "# for j in range(5):\n",
    "#     p1 = patches.FancyArrowPatch((0*(j==0)+rands[j-1]*(j>0), 294), (rands[j], 294),\n",
    "#                              arrowstyle='<->', mutation_scale=20)\n",
    "#     ax.add_patch(p1)\n",
    "\n",
    "# p1 = patches.FancyArrowPatch((rands[-1], 294), (365, 294),\n",
    "#                          arrowstyle='<->', mutation_scale=20)\n",
    "# ax.add_patch(p1)\n",
    "\n",
    "trans = transforms.blended_transform_factory(ax.transData, ax.transAxes)    \n",
    "    \n",
    "midpoints = (np.array(rands[1:]) + np.array(rands[:-1])) / 2\n",
    "ax.text(rands[0]/2,1.05,'no lag',ha = 'center', fontsize = fontsize*0.5,transform=trans)\n",
    "\n",
    "\n",
    "for j in range(4):\n",
    "    ax.text(midpoints[j],1.05,str(j+1)+' day lag',ha = 'center',transform = trans)\n",
    "ax.text(rands[-1]+(365-rands[-1])/2,1.05,str(len(rands))+' day lag',ha = 'center', fontsize = fontsize*0.5, \n",
    "       transform=trans)\n",
    "\n",
    "\n",
    "# plt.grid()\n",
    "\n",
    "plt.xticks(fontsize=fontsize)\n",
    "plt.yticks(fontsize=fontsize)\n",
    "\n",
    "plt.xlabel('day of year', fontsize = fontsize)\n",
    "plt.ylabel('area mean of '+var+' \\nfor '+str(year)+' '+units,fontsize = fontsize)\n",
    "\n",
    "\n",
    "rect = Rectangle((rands[0],lims[0]),rands[1]-rands[0],lims[1]-lims[0], alpha = 0.1)\n",
    "ax.add_patch(rect)\n",
    "\n",
    "rect = Rectangle((rands[2],lims[0]),rands[3]-rands[2],lims[1]-lims[0], alpha = 0.1)\n",
    "ax.add_patch(rect)\n",
    "\n",
    "rect = Rectangle((rands[4],lims[0]),365-rands[4],lims[1]-lims[0], alpha = 0.1)\n",
    "ax.add_patch(rect)\n",
    "\n",
    "\n",
    "plt.xlim([0,365])\n",
    "\n",
    "plt.text(0.99,0.97,'created at '+str(datetime.datetime.now().replace(microsecond=0).isoformat()),\n",
    "         transform = ax.transAxes,ha = 'right')\n",
    "\n",
    "filenamestring = path+'/gregorian/pdfs/'+var+\\\n",
    "          '-'+str(year)+\\\n",
    "          '-360-to-365-day-calendar.pdf'\n",
    "\n",
    "\n",
    "plt.text(0.99,0.03, os.path.basename(filenamestring), transform = ax.transAxes, ha = 'right')\n",
    "\n",
    "\n",
    "plt.savefig(filenamestring)\n",
    "\n",
    "\n",
    "plt.show();\n",
    "\n"
   ]
  },
  {
   "cell_type": "code",
   "execution_count": null,
   "id": "89defe07",
   "metadata": {},
   "outputs": [],
   "source": []
  },
  {
   "cell_type": "code",
   "execution_count": 252,
   "id": "aa5b96ff",
   "metadata": {},
   "outputs": [],
   "source": [
    "split_cube_shifted_ordered[str(rands[0]).zfill(3)].add_aux_coord(iris.coords.AuxCoord(0, long_name='time'))\n",
    "split_cube_shifted_ordered[str(rands[1]+1).zfill(3)].add_aux_coord(iris.coords.AuxCoord(0, long_name='time'))\n",
    "split_cube_shifted_ordered[str(rands[2]+2).zfill(3)].add_aux_coord(iris.coords.AuxCoord(0, long_name='time'))\n",
    "split_cube_shifted_ordered[str(rands[3]+3).zfill(3)].add_aux_coord(iris.coords.AuxCoord(0, long_name='time'))\n",
    "split_cube_shifted_ordered[str(rands[4]+4).zfill(3)].add_aux_coord(iris.coords.AuxCoord(0, long_name='time'))\n"
   ]
  },
  {
   "cell_type": "code",
   "execution_count": 253,
   "id": "53cdef5c",
   "metadata": {},
   "outputs": [
    {
     "name": "stderr",
     "output_type": "stream",
     "text": [
      "100%|██████████████████████████████████████████████████████████████████████████████████████████████████████| 365/365 [00:00<00:00, 8238.60it/s]\n"
     ]
    }
   ],
   "source": [
    "for i in tqdm(range(len(split_cube_shifted_ordered))):\n",
    "    \n",
    "    tcoord = split_cube_shifted_ordered[str(i).zfill(3)].coord('time')\n",
    "    tcoord.units = unit.Unit('days since 0001-01-01 00:00:00', calendar='proleptic_gregorian')\n",
    "\n",
    "    split_cube_shifted_ordered[str(i).zfill(3)].coord('time').points  = \\\n",
    "    u.date2num(datetime.datetime(year, 1, 1)) + i\n",
    "    \n",
    "    split_cube_shifted_ordered[str(i).zfill(3)].coord('time').bounds = None\n",
    "    \n"
   ]
  },
  {
   "cell_type": "code",
   "execution_count": 254,
   "id": "eb938ee6",
   "metadata": {},
   "outputs": [
    {
     "data": {
      "text/plain": [
       "<DimCoord: time / (days since 0001-01-01 00:00:00)  [1971-01-01 00:00:00]>"
      ]
     },
     "execution_count": 254,
     "metadata": {},
     "output_type": "execute_result"
    }
   ],
   "source": [
    "split_cube_shifted_ordered['000'].coord('time')"
   ]
  },
  {
   "cell_type": "raw",
   "id": "f851c980",
   "metadata": {},
   "source": [
    "this next cell is to make sure/illustrate that the 1st and last days of the year are 1/1 and 31/12 respectively\n",
    "for non-leap years and 1/1 and 30/12 respectively for leap years."
   ]
  },
  {
   "cell_type": "code",
   "execution_count": 255,
   "id": "cf8d5fcb",
   "metadata": {},
   "outputs": [
    {
     "name": "stdout",
     "output_type": "stream",
     "text": [
      "DimCoord :  time / (days since 0001-01-01 00:00:00, proleptic_gregorian calendar)\n",
      "    points: [1971-01-01 00:00:00]\n",
      "    shape: (1,)\n",
      "    dtype: int64\n",
      "    standard_name: 'time'\n",
      "    var_name: 'time'\n",
      "--\n",
      "DimCoord :  time / (days since 0001-01-01 00:00:00, proleptic_gregorian calendar)\n",
      "    points: [1971-12-31 00:00:00]\n",
      "    shape: (1,)\n",
      "    dtype: int64\n",
      "    standard_name: 'time'\n",
      "    var_name: 'time'\n"
     ]
    }
   ],
   "source": [
    "print(list(split_cube_shifted_ordered.values())[0].coord('time'))\n",
    "print('--')\n",
    "print(list(split_cube_shifted_ordered.values())[-1].coord('time'))\n"
   ]
  },
  {
   "cell_type": "raw",
   "id": "1a988b8a",
   "metadata": {},
   "source": [
    "this next cell is to make sure/illustrate that feb 29th isn't there... "
   ]
  },
  {
   "cell_type": "code",
   "execution_count": 256,
   "id": "a269d58e",
   "metadata": {},
   "outputs": [
    {
     "data": {
      "text/plain": [
       "2"
      ]
     },
     "execution_count": 256,
     "metadata": {},
     "output_type": "execute_result"
    },
    {
     "data": {
      "text/plain": [
       "28"
      ]
     },
     "execution_count": 256,
     "metadata": {},
     "output_type": "execute_result"
    },
    {
     "name": "stdout",
     "output_type": "stream",
     "text": [
      "--\n"
     ]
    },
    {
     "data": {
      "text/plain": [
       "3"
      ]
     },
     "execution_count": 256,
     "metadata": {},
     "output_type": "execute_result"
    },
    {
     "data": {
      "text/plain": [
       "1"
      ]
     },
     "execution_count": 256,
     "metadata": {},
     "output_type": "execute_result"
    },
    {
     "name": "stdout",
     "output_type": "stream",
     "text": [
      "--\n"
     ]
    }
   ],
   "source": [
    "for i in range(58,60):\n",
    "\n",
    "    u.num2date(split_cube_shifted_ordered[str(i).zfill(3)].coord('time').points)[0].month\n",
    "    u.num2date(split_cube_shifted_ordered[str(i).zfill(3)].coord('time').points)[0].day\n",
    "    print('--')\n",
    "    "
   ]
  },
  {
   "cell_type": "code",
   "execution_count": 257,
   "id": "6d1b7d70",
   "metadata": {},
   "outputs": [
    {
     "data": {
      "text/plain": [
       "1971"
      ]
     },
     "execution_count": 257,
     "metadata": {},
     "output_type": "execute_result"
    }
   ],
   "source": [
    "year"
   ]
  },
  {
   "cell_type": "code",
   "execution_count": 279,
   "id": "a0073f13",
   "metadata": {},
   "outputs": [
    {
     "name": "stderr",
     "output_type": "stream",
     "text": [
      "  0%|▎                                                                                                         | 1/365 [00:00<00:56,  6.45it/s]"
     ]
    },
    {
     "name": "stdout",
     "output_type": "stream",
     "text": [
      ".//gregorian/daily_min_temperature-1971-01-01-gregorian.nc\n",
      ".//gregorian/daily_min_temperature-1971-01-02-gregorian.nc\n",
      ".//gregorian/daily_min_temperature-1971-01-03-gregorian.nc\n"
     ]
    },
    {
     "name": "stderr",
     "output_type": "stream",
     "text": [
      "  2%|██                                                                                                        | 7/365 [00:00<00:17, 20.40it/s]"
     ]
    },
    {
     "name": "stdout",
     "output_type": "stream",
     "text": [
      ".//gregorian/daily_min_temperature-1971-01-04-gregorian.nc\n",
      ".//gregorian/daily_min_temperature-1971-01-05-gregorian.nc\n",
      ".//gregorian/daily_min_temperature-1971-01-06-gregorian.nc\n",
      ".//gregorian/daily_min_temperature-1971-01-07-gregorian.nc\n",
      ".//gregorian/daily_min_temperature-1971-01-08-gregorian.nc\n",
      ".//gregorian/daily_min_temperature-1971-01-09-gregorian.nc\n"
     ]
    },
    {
     "name": "stderr",
     "output_type": "stream",
     "text": [
      "  4%|███▋                                                                                                     | 13/365 [00:00<00:14, 24.65it/s]"
     ]
    },
    {
     "name": "stdout",
     "output_type": "stream",
     "text": [
      ".//gregorian/daily_min_temperature-1971-01-10-gregorian.nc\n",
      ".//gregorian/daily_min_temperature-1971-01-11-gregorian.nc\n",
      ".//gregorian/daily_min_temperature-1971-01-12-gregorian.nc\n",
      ".//gregorian/daily_min_temperature-1971-01-13-gregorian.nc\n",
      ".//gregorian/daily_min_temperature-1971-01-14-gregorian.nc\n",
      ".//gregorian/daily_min_temperature-1971-01-15-gregorian.nc\n"
     ]
    },
    {
     "name": "stderr",
     "output_type": "stream",
     "text": [
      "  5%|█████▍                                                                                                   | 19/365 [00:00<00:12, 26.77it/s]"
     ]
    },
    {
     "name": "stdout",
     "output_type": "stream",
     "text": [
      ".//gregorian/daily_min_temperature-1971-01-16-gregorian.nc\n",
      ".//gregorian/daily_min_temperature-1971-01-17-gregorian.nc\n",
      ".//gregorian/daily_min_temperature-1971-01-18-gregorian.nc\n",
      ".//gregorian/daily_min_temperature-1971-01-19-gregorian.nc\n",
      ".//gregorian/daily_min_temperature-1971-01-20-gregorian.nc\n",
      ".//gregorian/daily_min_temperature-1971-01-21-gregorian.nc\n"
     ]
    },
    {
     "name": "stderr",
     "output_type": "stream",
     "text": [
      "  7%|███████▍                                                                                                 | 26/365 [00:01<00:16, 20.91it/s]"
     ]
    },
    {
     "name": "stdout",
     "output_type": "stream",
     "text": [
      ".//gregorian/daily_min_temperature-1971-01-22-gregorian.nc\n",
      ".//gregorian/daily_min_temperature-1971-01-23-gregorian.nc\n",
      ".//gregorian/daily_min_temperature-1971-01-24-gregorian.nc\n",
      ".//gregorian/daily_min_temperature-1971-01-25-gregorian.nc\n",
      ".//gregorian/daily_min_temperature-1971-01-26-gregorian.nc\n",
      ".//gregorian/daily_min_temperature-1971-01-27-gregorian.nc\n",
      ".//gregorian/daily_min_temperature-1971-01-28-gregorian.nc\n"
     ]
    },
    {
     "name": "stderr",
     "output_type": "stream",
     "text": [
      "  9%|█████████▍                                                                                               | 33/365 [00:01<00:13, 24.40it/s]"
     ]
    },
    {
     "name": "stdout",
     "output_type": "stream",
     "text": [
      ".//gregorian/daily_min_temperature-1971-01-29-gregorian.nc\n",
      ".//gregorian/daily_min_temperature-1971-01-30-gregorian.nc\n",
      ".//gregorian/daily_min_temperature-1971-01-31-gregorian.nc\n",
      ".//gregorian/daily_min_temperature-1971-02-01-gregorian.nc\n",
      ".//gregorian/daily_min_temperature-1971-02-02-gregorian.nc\n",
      ".//gregorian/daily_min_temperature-1971-02-03-gregorian.nc\n"
     ]
    },
    {
     "name": "stderr",
     "output_type": "stream",
     "text": [
      " 11%|███████████▏                                                                                             | 39/365 [00:01<00:12, 25.62it/s]"
     ]
    },
    {
     "name": "stdout",
     "output_type": "stream",
     "text": [
      ".//gregorian/daily_min_temperature-1971-02-04-gregorian.nc\n",
      ".//gregorian/daily_min_temperature-1971-02-05-gregorian.nc\n",
      ".//gregorian/daily_min_temperature-1971-02-06-gregorian.nc\n",
      ".//gregorian/daily_min_temperature-1971-02-07-gregorian.nc\n",
      ".//gregorian/daily_min_temperature-1971-02-08-gregorian.nc\n",
      ".//gregorian/daily_min_temperature-1971-02-09-gregorian.nc\n"
     ]
    },
    {
     "name": "stderr",
     "output_type": "stream",
     "text": [
      "\r",
      " 12%|████████████▎                                                                                            | 43/365 [00:01<00:11, 27.05it/s]"
     ]
    },
    {
     "name": "stdout",
     "output_type": "stream",
     "text": [
      ".//gregorian/daily_min_temperature-1971-02-10-gregorian.nc\n",
      ".//gregorian/daily_min_temperature-1971-02-11-gregorian.nc\n",
      ".//gregorian/daily_min_temperature-1971-02-12-gregorian.nc\n",
      ".//gregorian/daily_min_temperature-1971-02-13-gregorian.nc\n",
      ".//gregorian/daily_min_temperature-1971-02-14-gregorian.nc\n",
      ".//gregorian/daily_min_temperature-1971-02-15-gregorian.nc\n"
     ]
    },
    {
     "name": "stderr",
     "output_type": "stream",
     "text": [
      " 13%|██████████████                                                                                           | 49/365 [00:02<00:12, 25.66it/s]"
     ]
    },
    {
     "name": "stdout",
     "output_type": "stream",
     "text": [
      ".//gregorian/daily_min_temperature-1971-02-16-gregorian.nc\n",
      ".//gregorian/daily_min_temperature-1971-02-17-gregorian.nc\n",
      ".//gregorian/daily_min_temperature-1971-02-18-gregorian.nc\n",
      ".//gregorian/daily_min_temperature-1971-02-19-gregorian.nc\n",
      ".//gregorian/daily_min_temperature-1971-02-20-gregorian.nc\n",
      ".//gregorian/daily_min_temperature-1971-02-21-gregorian.nc\n"
     ]
    },
    {
     "name": "stderr",
     "output_type": "stream",
     "text": [
      " 15%|███████████████▊                                                                                         | 55/365 [00:02<00:11, 26.17it/s]"
     ]
    },
    {
     "name": "stdout",
     "output_type": "stream",
     "text": [
      ".//gregorian/daily_min_temperature-1971-02-22-gregorian.nc\n",
      ".//gregorian/daily_min_temperature-1971-02-23-gregorian.nc\n",
      ".//gregorian/daily_min_temperature-1971-02-24-gregorian.nc\n",
      ".//gregorian/daily_min_temperature-1971-02-25-gregorian.nc\n",
      ".//gregorian/daily_min_temperature-1971-02-26-gregorian.nc\n",
      ".//gregorian/daily_min_temperature-1971-02-27-gregorian.nc\n"
     ]
    },
    {
     "name": "stderr",
     "output_type": "stream",
     "text": [
      " 17%|█████████████████▊                                                                                       | 62/365 [00:02<00:10, 27.80it/s]"
     ]
    },
    {
     "name": "stdout",
     "output_type": "stream",
     "text": [
      ".//gregorian/daily_min_temperature-1971-02-28-gregorian.nc\n",
      ".//gregorian/daily_min_temperature-1971-03-01-gregorian.nc\n",
      ".//gregorian/daily_min_temperature-1971-03-02-gregorian.nc\n",
      ".//gregorian/daily_min_temperature-1971-03-03-gregorian.nc\n",
      ".//gregorian/daily_min_temperature-1971-03-04-gregorian.nc\n",
      ".//gregorian/daily_min_temperature-1971-03-05-gregorian.nc\n",
      ".//gregorian/daily_min_temperature-1971-03-06-gregorian.nc\n"
     ]
    },
    {
     "name": "stderr",
     "output_type": "stream",
     "text": [
      " 19%|████████████████████▍                                                                                    | 71/365 [00:02<00:10, 28.30it/s]"
     ]
    },
    {
     "name": "stdout",
     "output_type": "stream",
     "text": [
      ".//gregorian/daily_min_temperature-1971-03-07-gregorian.nc\n",
      ".//gregorian/daily_min_temperature-1971-03-08-gregorian.nc\n",
      ".//gregorian/daily_min_temperature-1971-03-09-gregorian.nc\n",
      ".//gregorian/daily_min_temperature-1971-03-10-gregorian.nc\n",
      ".//gregorian/daily_min_temperature-1971-03-11-gregorian.nc\n",
      ".//gregorian/daily_min_temperature-1971-03-12-gregorian.nc\n"
     ]
    },
    {
     "name": "stderr",
     "output_type": "stream",
     "text": [
      "\r",
      " 21%|█████████████████████▌                                                                                   | 75/365 [00:02<00:09, 29.64it/s]"
     ]
    },
    {
     "name": "stdout",
     "output_type": "stream",
     "text": [
      ".//gregorian/daily_min_temperature-1971-03-13-gregorian.nc\n",
      ".//gregorian/daily_min_temperature-1971-03-14-gregorian.nc\n",
      ".//gregorian/daily_min_temperature-1971-03-15-gregorian.nc\n",
      ".//gregorian/daily_min_temperature-1971-03-16-gregorian.nc\n",
      ".//gregorian/daily_min_temperature-1971-03-17-gregorian.nc\n",
      ".//gregorian/daily_min_temperature-1971-03-18-gregorian.nc\n",
      ".//gregorian/daily_min_temperature-1971-03-19-gregorian.nc\n",
      ".//gregorian/daily_min_temperature-1971-03-20-gregorian.nc\n"
     ]
    },
    {
     "name": "stderr",
     "output_type": "stream",
     "text": [
      " 23%|███████████████████████▉                                                                                 | 83/365 [00:03<00:09, 30.49it/s]"
     ]
    },
    {
     "name": "stdout",
     "output_type": "stream",
     "text": [
      ".//gregorian/daily_min_temperature-1971-03-21-gregorian.nc\n",
      ".//gregorian/daily_min_temperature-1971-03-22-gregorian.nc\n",
      ".//gregorian/daily_min_temperature-1971-03-23-gregorian.nc\n",
      ".//gregorian/daily_min_temperature-1971-03-24-gregorian.nc\n",
      ".//gregorian/daily_min_temperature-1971-03-25-gregorian.nc\n",
      ".//gregorian/daily_min_temperature-1971-03-26-gregorian.nc\n",
      ".//gregorian/daily_min_temperature-1971-03-27-gregorian.nc\n"
     ]
    },
    {
     "name": "stderr",
     "output_type": "stream",
     "text": [
      " 25%|██████████████████████████▏                                                                              | 91/365 [00:03<00:09, 29.59it/s]"
     ]
    },
    {
     "name": "stdout",
     "output_type": "stream",
     "text": [
      ".//gregorian/daily_min_temperature-1971-03-28-gregorian.nc\n",
      ".//gregorian/daily_min_temperature-1971-03-29-gregorian.nc\n",
      ".//gregorian/daily_min_temperature-1971-03-30-gregorian.nc\n",
      ".//gregorian/daily_min_temperature-1971-03-31-gregorian.nc\n",
      ".//gregorian/daily_min_temperature-1971-04-01-gregorian.nc\n",
      ".//gregorian/daily_min_temperature-1971-04-02-gregorian.nc\n"
     ]
    },
    {
     "name": "stderr",
     "output_type": "stream",
     "text": [
      "\r",
      " 26%|███████████████████████████                                                                              | 94/365 [00:03<00:11, 24.33it/s]"
     ]
    },
    {
     "name": "stdout",
     "output_type": "stream",
     "text": [
      ".//gregorian/daily_min_temperature-1971-04-03-gregorian.nc\n",
      ".//gregorian/daily_min_temperature-1971-04-04-gregorian.nc\n",
      ".//gregorian/daily_min_temperature-1971-04-05-gregorian.nc\n",
      ".//gregorian/daily_min_temperature-1971-04-06-gregorian.nc\n",
      ".//gregorian/daily_min_temperature-1971-04-07-gregorian.nc\n"
     ]
    },
    {
     "name": "stderr",
     "output_type": "stream",
     "text": [
      " 28%|████████████████████████████▊                                                                           | 101/365 [00:03<00:10, 26.32it/s]"
     ]
    },
    {
     "name": "stdout",
     "output_type": "stream",
     "text": [
      ".//gregorian/daily_min_temperature-1971-04-08-gregorian.nc\n",
      ".//gregorian/daily_min_temperature-1971-04-09-gregorian.nc\n",
      ".//gregorian/daily_min_temperature-1971-04-10-gregorian.nc\n",
      ".//gregorian/daily_min_temperature-1971-04-11-gregorian.nc\n",
      ".//gregorian/daily_min_temperature-1971-04-12-gregorian.nc\n",
      ".//gregorian/daily_min_temperature-1971-04-13-gregorian.nc\n",
      ".//gregorian/daily_min_temperature-1971-04-14-gregorian.nc\n"
     ]
    },
    {
     "name": "stderr",
     "output_type": "stream",
     "text": [
      " 30%|███████████████████████████████                                                                         | 109/365 [00:04<00:08, 28.71it/s]"
     ]
    },
    {
     "name": "stdout",
     "output_type": "stream",
     "text": [
      ".//gregorian/daily_min_temperature-1971-04-15-gregorian.nc\n",
      ".//gregorian/daily_min_temperature-1971-04-16-gregorian.nc\n",
      ".//gregorian/daily_min_temperature-1971-04-17-gregorian.nc\n",
      ".//gregorian/daily_min_temperature-1971-04-18-gregorian.nc\n",
      ".//gregorian/daily_min_temperature-1971-04-19-gregorian.nc\n",
      ".//gregorian/daily_min_temperature-1971-04-20-gregorian.nc\n"
     ]
    },
    {
     "name": "stderr",
     "output_type": "stream",
     "text": [
      "\r",
      " 31%|███████████████████████████████▉                                                                        | 112/365 [00:04<00:09, 27.26it/s]"
     ]
    },
    {
     "name": "stdout",
     "output_type": "stream",
     "text": [
      ".//gregorian/daily_min_temperature-1971-04-21-gregorian.nc\n",
      ".//gregorian/daily_min_temperature-1971-04-22-gregorian.nc\n",
      ".//gregorian/daily_min_temperature-1971-04-23-gregorian.nc\n",
      ".//gregorian/daily_min_temperature-1971-04-24-gregorian.nc\n",
      ".//gregorian/daily_min_temperature-1971-04-25-gregorian.nc\n",
      ".//gregorian/daily_min_temperature-1971-04-26-gregorian.nc\n"
     ]
    },
    {
     "name": "stderr",
     "output_type": "stream",
     "text": [
      " 33%|█████████████████████████████████▉                                                                      | 119/365 [00:04<00:08, 28.21it/s]"
     ]
    },
    {
     "name": "stdout",
     "output_type": "stream",
     "text": [
      ".//gregorian/daily_min_temperature-1971-04-27-gregorian.nc\n",
      ".//gregorian/daily_min_temperature-1971-04-28-gregorian.nc\n",
      ".//gregorian/daily_min_temperature-1971-04-29-gregorian.nc\n",
      ".//gregorian/daily_min_temperature-1971-04-30-gregorian.nc\n",
      ".//gregorian/daily_min_temperature-1971-05-01-gregorian.nc\n",
      ".//gregorian/daily_min_temperature-1971-05-02-gregorian.nc\n",
      ".//gregorian/daily_min_temperature-1971-05-03-gregorian.nc\n"
     ]
    },
    {
     "name": "stderr",
     "output_type": "stream",
     "text": [
      " 35%|███████████████████████████████████▉                                                                    | 126/365 [00:04<00:09, 25.69it/s]"
     ]
    },
    {
     "name": "stdout",
     "output_type": "stream",
     "text": [
      ".//gregorian/daily_min_temperature-1971-05-04-gregorian.nc\n",
      ".//gregorian/daily_min_temperature-1971-05-05-gregorian.nc\n",
      ".//gregorian/daily_min_temperature-1971-05-06-gregorian.nc\n",
      ".//gregorian/daily_min_temperature-1971-05-07-gregorian.nc\n",
      ".//gregorian/daily_min_temperature-1971-05-08-gregorian.nc\n",
      ".//gregorian/daily_min_temperature-1971-05-09-gregorian.nc\n"
     ]
    },
    {
     "name": "stderr",
     "output_type": "stream",
     "text": [
      " 36%|█████████████████████████████████████▉                                                                  | 133/365 [00:05<00:08, 26.54it/s]"
     ]
    },
    {
     "name": "stdout",
     "output_type": "stream",
     "text": [
      ".//gregorian/daily_min_temperature-1971-05-10-gregorian.nc\n",
      ".//gregorian/daily_min_temperature-1971-05-11-gregorian.nc\n",
      ".//gregorian/daily_min_temperature-1971-05-12-gregorian.nc\n",
      ".//gregorian/daily_min_temperature-1971-05-13-gregorian.nc\n",
      ".//gregorian/daily_min_temperature-1971-05-14-gregorian.nc\n",
      ".//gregorian/daily_min_temperature-1971-05-15-gregorian.nc\n"
     ]
    },
    {
     "name": "stderr",
     "output_type": "stream",
     "text": [
      " 38%|███████████████████████████████████████▉                                                                | 140/365 [00:05<00:08, 27.66it/s]"
     ]
    },
    {
     "name": "stdout",
     "output_type": "stream",
     "text": [
      ".//gregorian/daily_min_temperature-1971-05-16-gregorian.nc\n",
      ".//gregorian/daily_min_temperature-1971-05-17-gregorian.nc\n",
      ".//gregorian/daily_min_temperature-1971-05-18-gregorian.nc\n",
      ".//gregorian/daily_min_temperature-1971-05-19-gregorian.nc\n",
      ".//gregorian/daily_min_temperature-1971-05-20-gregorian.nc\n",
      ".//gregorian/daily_min_temperature-1971-05-21-gregorian.nc\n",
      ".//gregorian/daily_min_temperature-1971-05-22-gregorian.nc\n"
     ]
    },
    {
     "name": "stderr",
     "output_type": "stream",
     "text": [
      " 40%|█████████████████████████████████████████▉                                                              | 147/365 [00:05<00:07, 28.73it/s]"
     ]
    },
    {
     "name": "stdout",
     "output_type": "stream",
     "text": [
      ".//gregorian/daily_min_temperature-1971-05-23-gregorian.nc\n",
      ".//gregorian/daily_min_temperature-1971-05-24-gregorian.nc\n",
      ".//gregorian/daily_min_temperature-1971-05-25-gregorian.nc\n",
      ".//gregorian/daily_min_temperature-1971-05-26-gregorian.nc\n",
      ".//gregorian/daily_min_temperature-1971-05-27-gregorian.nc\n",
      ".//gregorian/daily_min_temperature-1971-05-28-gregorian.nc\n",
      ".//gregorian/daily_min_temperature-1971-05-29-gregorian.nc\n"
     ]
    },
    {
     "name": "stderr",
     "output_type": "stream",
     "text": [
      " 42%|███████████████████████████████████████████▌                                                            | 153/365 [00:05<00:07, 26.61it/s]"
     ]
    },
    {
     "name": "stdout",
     "output_type": "stream",
     "text": [
      ".//gregorian/daily_min_temperature-1971-05-30-gregorian.nc\n",
      ".//gregorian/daily_min_temperature-1971-05-31-gregorian.nc\n",
      ".//gregorian/daily_min_temperature-1971-06-01-gregorian.nc\n",
      ".//gregorian/daily_min_temperature-1971-06-02-gregorian.nc\n",
      ".//gregorian/daily_min_temperature-1971-06-03-gregorian.nc\n",
      ".//gregorian/daily_min_temperature-1971-06-04-gregorian.nc\n"
     ]
    },
    {
     "name": "stderr",
     "output_type": "stream",
     "text": [
      " 44%|█████████████████████████████████████████████▎                                                          | 159/365 [00:06<00:08, 25.71it/s]"
     ]
    },
    {
     "name": "stdout",
     "output_type": "stream",
     "text": [
      ".//gregorian/daily_min_temperature-1971-06-05-gregorian.nc\n",
      ".//gregorian/daily_min_temperature-1971-06-06-gregorian.nc\n",
      ".//gregorian/daily_min_temperature-1971-06-07-gregorian.nc\n",
      ".//gregorian/daily_min_temperature-1971-06-08-gregorian.nc\n",
      ".//gregorian/daily_min_temperature-1971-06-09-gregorian.nc\n",
      ".//gregorian/daily_min_temperature-1971-06-10-gregorian.nc\n"
     ]
    },
    {
     "name": "stderr",
     "output_type": "stream",
     "text": [
      " 45%|███████████████████████████████████████████████                                                         | 165/365 [00:06<00:07, 27.43it/s]"
     ]
    },
    {
     "name": "stdout",
     "output_type": "stream",
     "text": [
      ".//gregorian/daily_min_temperature-1971-06-11-gregorian.nc\n",
      ".//gregorian/daily_min_temperature-1971-06-12-gregorian.nc\n",
      ".//gregorian/daily_min_temperature-1971-06-13-gregorian.nc\n",
      ".//gregorian/daily_min_temperature-1971-06-14-gregorian.nc\n",
      ".//gregorian/daily_min_temperature-1971-06-15-gregorian.nc\n"
     ]
    },
    {
     "name": "stderr",
     "output_type": "stream",
     "text": [
      " 47%|████████████████████████████████████████████████▋                                                       | 171/365 [00:06<00:10, 18.78it/s]"
     ]
    },
    {
     "name": "stdout",
     "output_type": "stream",
     "text": [
      ".//gregorian/daily_min_temperature-1971-06-16-gregorian.nc\n",
      ".//gregorian/daily_min_temperature-1971-06-17-gregorian.nc\n",
      ".//gregorian/daily_min_temperature-1971-06-18-gregorian.nc\n",
      ".//gregorian/daily_min_temperature-1971-06-19-gregorian.nc\n",
      ".//gregorian/daily_min_temperature-1971-06-20-gregorian.nc\n",
      ".//gregorian/daily_min_temperature-1971-06-21-gregorian.nc\n"
     ]
    },
    {
     "name": "stderr",
     "output_type": "stream",
     "text": [
      " 48%|██████████████████████████████████████████████████▍                                                     | 177/365 [00:06<00:08, 22.70it/s]"
     ]
    },
    {
     "name": "stdout",
     "output_type": "stream",
     "text": [
      ".//gregorian/daily_min_temperature-1971-06-22-gregorian.nc\n",
      ".//gregorian/daily_min_temperature-1971-06-23-gregorian.nc\n",
      ".//gregorian/daily_min_temperature-1971-06-24-gregorian.nc\n",
      ".//gregorian/daily_min_temperature-1971-06-25-gregorian.nc\n",
      ".//gregorian/daily_min_temperature-1971-06-26-gregorian.nc\n",
      ".//gregorian/daily_min_temperature-1971-06-27-gregorian.nc\n"
     ]
    },
    {
     "name": "stderr",
     "output_type": "stream",
     "text": [
      " 50%|████████████████████████████████████████████████████▏                                                   | 183/365 [00:07<00:07, 23.82it/s]"
     ]
    },
    {
     "name": "stdout",
     "output_type": "stream",
     "text": [
      ".//gregorian/daily_min_temperature-1971-06-28-gregorian.nc\n",
      ".//gregorian/daily_min_temperature-1971-06-29-gregorian.nc\n",
      ".//gregorian/daily_min_temperature-1971-06-30-gregorian.nc\n",
      ".//gregorian/daily_min_temperature-1971-07-01-gregorian.nc\n",
      ".//gregorian/daily_min_temperature-1971-07-02-gregorian.nc\n",
      ".//gregorian/daily_min_temperature-1971-07-03-gregorian.nc\n"
     ]
    },
    {
     "name": "stderr",
     "output_type": "stream",
     "text": [
      " 52%|█████████████████████████████████████████████████████▊                                                  | 189/365 [00:07<00:06, 26.05it/s]"
     ]
    },
    {
     "name": "stdout",
     "output_type": "stream",
     "text": [
      ".//gregorian/daily_min_temperature-1971-07-04-gregorian.nc\n",
      ".//gregorian/daily_min_temperature-1971-07-05-gregorian.nc\n",
      ".//gregorian/daily_min_temperature-1971-07-06-gregorian.nc\n",
      ".//gregorian/daily_min_temperature-1971-07-07-gregorian.nc\n",
      ".//gregorian/daily_min_temperature-1971-07-08-gregorian.nc\n",
      ".//gregorian/daily_min_temperature-1971-07-09-gregorian.nc\n",
      ".//gregorian/daily_min_temperature-1971-07-10-gregorian.nc\n"
     ]
    },
    {
     "name": "stderr",
     "output_type": "stream",
     "text": [
      " 53%|███████████████████████████████████████████████████████▌                                                | 195/365 [00:07<00:06, 25.14it/s]"
     ]
    },
    {
     "name": "stdout",
     "output_type": "stream",
     "text": [
      ".//gregorian/daily_min_temperature-1971-07-11-gregorian.nc\n",
      ".//gregorian/daily_min_temperature-1971-07-12-gregorian.nc\n",
      ".//gregorian/daily_min_temperature-1971-07-13-gregorian.nc\n",
      ".//gregorian/daily_min_temperature-1971-07-14-gregorian.nc\n",
      ".//gregorian/daily_min_temperature-1971-07-15-gregorian.nc\n"
     ]
    },
    {
     "name": "stderr",
     "output_type": "stream",
     "text": [
      "\r",
      " 54%|████████████████████████████████████████████████████████▍                                               | 198/365 [00:07<00:07, 22.04it/s]"
     ]
    },
    {
     "name": "stdout",
     "output_type": "stream",
     "text": [
      ".//gregorian/daily_min_temperature-1971-07-16-gregorian.nc\n",
      ".//gregorian/daily_min_temperature-1971-07-17-gregorian.nc\n",
      ".//gregorian/daily_min_temperature-1971-07-18-gregorian.nc\n",
      ".//gregorian/daily_min_temperature-1971-07-19-gregorian.nc\n",
      ".//gregorian/daily_min_temperature-1971-07-20-gregorian.nc\n"
     ]
    },
    {
     "name": "stderr",
     "output_type": "stream",
     "text": [
      " 56%|██████████████████████████████████████████████████████████▏                                             | 204/365 [00:08<00:06, 23.78it/s]"
     ]
    },
    {
     "name": "stdout",
     "output_type": "stream",
     "text": [
      ".//gregorian/daily_min_temperature-1971-07-21-gregorian.nc\n",
      ".//gregorian/daily_min_temperature-1971-07-22-gregorian.nc\n",
      ".//gregorian/daily_min_temperature-1971-07-23-gregorian.nc\n",
      ".//gregorian/daily_min_temperature-1971-07-24-gregorian.nc\n",
      ".//gregorian/daily_min_temperature-1971-07-25-gregorian.nc\n",
      ".//gregorian/daily_min_temperature-1971-07-26-gregorian.nc\n",
      ".//gregorian/daily_min_temperature-1971-07-27-gregorian.nc\n"
     ]
    },
    {
     "name": "stderr",
     "output_type": "stream",
     "text": [
      " 59%|████████████████████████████████████████████████████████████▉                                           | 214/365 [00:08<00:05, 27.25it/s]"
     ]
    },
    {
     "name": "stdout",
     "output_type": "stream",
     "text": [
      ".//gregorian/daily_min_temperature-1971-07-28-gregorian.nc\n",
      ".//gregorian/daily_min_temperature-1971-07-29-gregorian.nc\n",
      ".//gregorian/daily_min_temperature-1971-07-30-gregorian.nc\n",
      ".//gregorian/daily_min_temperature-1971-07-31-gregorian.nc\n",
      ".//gregorian/daily_min_temperature-1971-08-01-gregorian.nc\n",
      ".//gregorian/daily_min_temperature-1971-08-02-gregorian.nc\n",
      ".//gregorian/daily_min_temperature-1971-08-03-gregorian.nc\n"
     ]
    },
    {
     "name": "stderr",
     "output_type": "stream",
     "text": [
      "\r",
      " 60%|██████████████████████████████████████████████████████████████                                          | 218/365 [00:08<00:05, 29.21it/s]"
     ]
    },
    {
     "name": "stdout",
     "output_type": "stream",
     "text": [
      ".//gregorian/daily_min_temperature-1971-08-04-gregorian.nc\n",
      ".//gregorian/daily_min_temperature-1971-08-05-gregorian.nc\n",
      ".//gregorian/daily_min_temperature-1971-08-06-gregorian.nc\n",
      ".//gregorian/daily_min_temperature-1971-08-07-gregorian.nc\n",
      ".//gregorian/daily_min_temperature-1971-08-08-gregorian.nc\n",
      ".//gregorian/daily_min_temperature-1971-08-09-gregorian.nc\n",
      ".//gregorian/daily_min_temperature-1971-08-10-gregorian.nc\n"
     ]
    },
    {
     "name": "stderr",
     "output_type": "stream",
     "text": [
      " 62%|████████████████████████████████████████████████████████████████▍                                       | 226/365 [00:08<00:04, 30.11it/s]"
     ]
    },
    {
     "name": "stdout",
     "output_type": "stream",
     "text": [
      ".//gregorian/daily_min_temperature-1971-08-11-gregorian.nc\n",
      ".//gregorian/daily_min_temperature-1971-08-12-gregorian.nc\n",
      ".//gregorian/daily_min_temperature-1971-08-13-gregorian.nc\n",
      ".//gregorian/daily_min_temperature-1971-08-14-gregorian.nc\n",
      ".//gregorian/daily_min_temperature-1971-08-15-gregorian.nc\n",
      ".//gregorian/daily_min_temperature-1971-08-16-gregorian.nc\n",
      ".//gregorian/daily_min_temperature-1971-08-17-gregorian.nc\n"
     ]
    },
    {
     "name": "stderr",
     "output_type": "stream",
     "text": [
      "\r",
      " 63%|█████████████████████████████████████████████████████████████████▌                                      | 230/365 [00:08<00:04, 30.12it/s]"
     ]
    },
    {
     "name": "stdout",
     "output_type": "stream",
     "text": [
      ".//gregorian/daily_min_temperature-1971-08-18-gregorian.nc\n",
      ".//gregorian/daily_min_temperature-1971-08-19-gregorian.nc\n",
      ".//gregorian/daily_min_temperature-1971-08-20-gregorian.nc\n",
      ".//gregorian/daily_min_temperature-1971-08-21-gregorian.nc\n",
      ".//gregorian/daily_min_temperature-1971-08-22-gregorian.nc\n"
     ]
    },
    {
     "name": "stderr",
     "output_type": "stream",
     "text": [
      " 65%|███████████████████████████████████████████████████████████████████▌                                    | 237/365 [00:09<00:04, 27.39it/s]"
     ]
    },
    {
     "name": "stdout",
     "output_type": "stream",
     "text": [
      ".//gregorian/daily_min_temperature-1971-08-23-gregorian.nc\n",
      ".//gregorian/daily_min_temperature-1971-08-24-gregorian.nc\n",
      ".//gregorian/daily_min_temperature-1971-08-25-gregorian.nc\n",
      ".//gregorian/daily_min_temperature-1971-08-26-gregorian.nc\n",
      ".//gregorian/daily_min_temperature-1971-08-27-gregorian.nc\n",
      ".//gregorian/daily_min_temperature-1971-08-28-gregorian.nc\n"
     ]
    },
    {
     "name": "stderr",
     "output_type": "stream",
     "text": [
      " 67%|█████████████████████████████████████████████████████████████████████▏                                  | 243/365 [00:09<00:04, 26.64it/s]"
     ]
    },
    {
     "name": "stdout",
     "output_type": "stream",
     "text": [
      ".//gregorian/daily_min_temperature-1971-08-29-gregorian.nc\n",
      ".//gregorian/daily_min_temperature-1971-08-30-gregorian.nc\n",
      ".//gregorian/daily_min_temperature-1971-08-31-gregorian.nc\n",
      ".//gregorian/daily_min_temperature-1971-09-01-gregorian.nc\n",
      ".//gregorian/daily_min_temperature-1971-09-02-gregorian.nc\n",
      ".//gregorian/daily_min_temperature-1971-09-03-gregorian.nc\n"
     ]
    },
    {
     "name": "stderr",
     "output_type": "stream",
     "text": [
      " 68%|███████████████████████████████████████████████████████████████████████▏                                | 250/365 [00:09<00:04, 28.37it/s]"
     ]
    },
    {
     "name": "stdout",
     "output_type": "stream",
     "text": [
      ".//gregorian/daily_min_temperature-1971-09-04-gregorian.nc\n",
      ".//gregorian/daily_min_temperature-1971-09-05-gregorian.nc\n",
      ".//gregorian/daily_min_temperature-1971-09-06-gregorian.nc\n",
      ".//gregorian/daily_min_temperature-1971-09-07-gregorian.nc\n",
      ".//gregorian/daily_min_temperature-1971-09-08-gregorian.nc\n",
      ".//gregorian/daily_min_temperature-1971-09-09-gregorian.nc\n",
      ".//gregorian/daily_min_temperature-1971-09-10-gregorian.nc\n"
     ]
    },
    {
     "name": "stderr",
     "output_type": "stream",
     "text": [
      " 70%|████████████████████████████████████████████████████████████████████████▉                               | 256/365 [00:09<00:03, 27.57it/s]"
     ]
    },
    {
     "name": "stdout",
     "output_type": "stream",
     "text": [
      ".//gregorian/daily_min_temperature-1971-09-11-gregorian.nc\n",
      ".//gregorian/daily_min_temperature-1971-09-12-gregorian.nc\n",
      ".//gregorian/daily_min_temperature-1971-09-13-gregorian.nc\n",
      ".//gregorian/daily_min_temperature-1971-09-14-gregorian.nc\n",
      ".//gregorian/daily_min_temperature-1971-09-15-gregorian.nc\n",
      ".//gregorian/daily_min_temperature-1971-09-16-gregorian.nc\n",
      ".//gregorian/daily_min_temperature-1971-09-17-gregorian.nc\n"
     ]
    },
    {
     "name": "stderr",
     "output_type": "stream",
     "text": [
      " 72%|███████████████████████████████████████████████████████████████████████████▏                            | 264/365 [00:10<00:03, 29.04it/s]"
     ]
    },
    {
     "name": "stdout",
     "output_type": "stream",
     "text": [
      ".//gregorian/daily_min_temperature-1971-09-18-gregorian.nc\n",
      ".//gregorian/daily_min_temperature-1971-09-19-gregorian.nc\n",
      ".//gregorian/daily_min_temperature-1971-09-20-gregorian.nc\n",
      ".//gregorian/daily_min_temperature-1971-09-21-gregorian.nc\n",
      ".//gregorian/daily_min_temperature-1971-09-22-gregorian.nc\n",
      ".//gregorian/daily_min_temperature-1971-09-23-gregorian.nc\n",
      ".//gregorian/daily_min_temperature-1971-09-24-gregorian.nc\n"
     ]
    },
    {
     "name": "stderr",
     "output_type": "stream",
     "text": [
      " 74%|████████████████████████████████████████████████████████████████████████████▉                           | 270/365 [00:10<00:03, 26.28it/s]"
     ]
    },
    {
     "name": "stdout",
     "output_type": "stream",
     "text": [
      ".//gregorian/daily_min_temperature-1971-09-25-gregorian.nc\n",
      ".//gregorian/daily_min_temperature-1971-09-26-gregorian.nc\n",
      ".//gregorian/daily_min_temperature-1971-09-27-gregorian.nc\n",
      ".//gregorian/daily_min_temperature-1971-09-28-gregorian.nc\n",
      ".//gregorian/daily_min_temperature-1971-09-29-gregorian.nc\n",
      ".//gregorian/daily_min_temperature-1971-09-30-gregorian.nc\n"
     ]
    },
    {
     "name": "stderr",
     "output_type": "stream",
     "text": [
      " 76%|██████████████████████████████████████████████████████████████████████████████▉                         | 277/365 [00:10<00:03, 26.21it/s]"
     ]
    },
    {
     "name": "stdout",
     "output_type": "stream",
     "text": [
      ".//gregorian/daily_min_temperature-1971-10-01-gregorian.nc\n",
      ".//gregorian/daily_min_temperature-1971-10-02-gregorian.nc\n",
      ".//gregorian/daily_min_temperature-1971-10-03-gregorian.nc\n",
      ".//gregorian/daily_min_temperature-1971-10-04-gregorian.nc\n",
      ".//gregorian/daily_min_temperature-1971-10-05-gregorian.nc\n",
      ".//gregorian/daily_min_temperature-1971-10-06-gregorian.nc\n"
     ]
    },
    {
     "name": "stderr",
     "output_type": "stream",
     "text": [
      "\r",
      " 77%|███████████████████████████████████████████████████████████████████████████████▊                        | 280/365 [00:10<00:03, 26.91it/s]"
     ]
    },
    {
     "name": "stdout",
     "output_type": "stream",
     "text": [
      ".//gregorian/daily_min_temperature-1971-10-07-gregorian.nc\n",
      ".//gregorian/daily_min_temperature-1971-10-08-gregorian.nc\n",
      ".//gregorian/daily_min_temperature-1971-10-09-gregorian.nc\n"
     ]
    },
    {
     "name": "stderr",
     "output_type": "stream",
     "text": [
      " 78%|█████████████████████████████████████████████████████████████████████████████████▍                      | 286/365 [00:11<00:04, 18.31it/s]"
     ]
    },
    {
     "name": "stdout",
     "output_type": "stream",
     "text": [
      ".//gregorian/daily_min_temperature-1971-10-10-gregorian.nc\n",
      ".//gregorian/daily_min_temperature-1971-10-11-gregorian.nc\n",
      ".//gregorian/daily_min_temperature-1971-10-12-gregorian.nc\n",
      ".//gregorian/daily_min_temperature-1971-10-13-gregorian.nc\n",
      ".//gregorian/daily_min_temperature-1971-10-14-gregorian.nc\n"
     ]
    },
    {
     "name": "stderr",
     "output_type": "stream",
     "text": [
      " 80%|███████████████████████████████████████████████████████████████████████████████████▍                    | 293/365 [00:11<00:03, 23.69it/s]"
     ]
    },
    {
     "name": "stdout",
     "output_type": "stream",
     "text": [
      ".//gregorian/daily_min_temperature-1971-10-15-gregorian.nc\n",
      ".//gregorian/daily_min_temperature-1971-10-16-gregorian.nc\n",
      ".//gregorian/daily_min_temperature-1971-10-17-gregorian.nc\n",
      ".//gregorian/daily_min_temperature-1971-10-18-gregorian.nc\n",
      ".//gregorian/daily_min_temperature-1971-10-19-gregorian.nc\n",
      ".//gregorian/daily_min_temperature-1971-10-20-gregorian.nc\n",
      ".//gregorian/daily_min_temperature-1971-10-21-gregorian.nc\n"
     ]
    },
    {
     "name": "stderr",
     "output_type": "stream",
     "text": [
      "\r",
      " 81%|████████████████████████████████████████████████████████████████████████████████████▌                   | 297/365 [00:11<00:02, 26.24it/s]"
     ]
    },
    {
     "name": "stdout",
     "output_type": "stream",
     "text": [
      ".//gregorian/daily_min_temperature-1971-10-22-gregorian.nc\n",
      ".//gregorian/daily_min_temperature-1971-10-23-gregorian.nc\n",
      ".//gregorian/daily_min_temperature-1971-10-24-gregorian.nc\n",
      ".//gregorian/daily_min_temperature-1971-10-25-gregorian.nc\n",
      ".//gregorian/daily_min_temperature-1971-10-26-gregorian.nc\n",
      ".//gregorian/daily_min_temperature-1971-10-27-gregorian.nc\n",
      ".//gregorian/daily_min_temperature-1971-10-28-gregorian.nc\n"
     ]
    },
    {
     "name": "stderr",
     "output_type": "stream",
     "text": [
      " 84%|██████████████████████████████████████████████████████████████████████████████████████▉                 | 305/365 [00:11<00:02, 26.96it/s]"
     ]
    },
    {
     "name": "stdout",
     "output_type": "stream",
     "text": [
      ".//gregorian/daily_min_temperature-1971-10-29-gregorian.nc\n",
      ".//gregorian/daily_min_temperature-1971-10-30-gregorian.nc\n",
      ".//gregorian/daily_min_temperature-1971-10-31-gregorian.nc\n",
      ".//gregorian/daily_min_temperature-1971-11-01-gregorian.nc\n",
      ".//gregorian/daily_min_temperature-1971-11-02-gregorian.nc\n",
      ".//gregorian/daily_min_temperature-1971-11-03-gregorian.nc\n",
      ".//gregorian/daily_min_temperature-1971-11-04-gregorian.nc\n"
     ]
    },
    {
     "name": "stderr",
     "output_type": "stream",
     "text": [
      " 85%|████████████████████████████████████████████████████████████████████████████████████████▌               | 311/365 [00:12<00:02, 26.77it/s]"
     ]
    },
    {
     "name": "stdout",
     "output_type": "stream",
     "text": [
      ".//gregorian/daily_min_temperature-1971-11-05-gregorian.nc\n",
      ".//gregorian/daily_min_temperature-1971-11-06-gregorian.nc\n",
      ".//gregorian/daily_min_temperature-1971-11-07-gregorian.nc\n",
      ".//gregorian/daily_min_temperature-1971-11-08-gregorian.nc\n",
      ".//gregorian/daily_min_temperature-1971-11-09-gregorian.nc\n",
      ".//gregorian/daily_min_temperature-1971-11-10-gregorian.nc\n"
     ]
    },
    {
     "name": "stderr",
     "output_type": "stream",
     "text": [
      " 87%|██████████████████████████████████████████████████████████████████████████████████████████▎             | 317/365 [00:12<00:01, 26.46it/s]"
     ]
    },
    {
     "name": "stdout",
     "output_type": "stream",
     "text": [
      ".//gregorian/daily_min_temperature-1971-11-11-gregorian.nc\n",
      ".//gregorian/daily_min_temperature-1971-11-12-gregorian.nc\n",
      ".//gregorian/daily_min_temperature-1971-11-13-gregorian.nc\n",
      ".//gregorian/daily_min_temperature-1971-11-14-gregorian.nc\n",
      ".//gregorian/daily_min_temperature-1971-11-15-gregorian.nc\n",
      ".//gregorian/daily_min_temperature-1971-11-16-gregorian.nc\n",
      ".//gregorian/daily_min_temperature-1971-11-17-gregorian.nc\n"
     ]
    },
    {
     "name": "stderr",
     "output_type": "stream",
     "text": [
      " 89%|████████████████████████████████████████████████████████████████████████████████████████████▌           | 325/365 [00:12<00:01, 29.41it/s]"
     ]
    },
    {
     "name": "stdout",
     "output_type": "stream",
     "text": [
      ".//gregorian/daily_min_temperature-1971-11-18-gregorian.nc\n",
      ".//gregorian/daily_min_temperature-1971-11-19-gregorian.nc\n",
      ".//gregorian/daily_min_temperature-1971-11-20-gregorian.nc\n",
      ".//gregorian/daily_min_temperature-1971-11-21-gregorian.nc\n",
      ".//gregorian/daily_min_temperature-1971-11-22-gregorian.nc\n",
      ".//gregorian/daily_min_temperature-1971-11-23-gregorian.nc\n",
      ".//gregorian/daily_min_temperature-1971-11-24-gregorian.nc\n"
     ]
    },
    {
     "name": "stderr",
     "output_type": "stream",
     "text": [
      " 91%|██████████████████████████████████████████████████████████████████████████████████████████████▌         | 332/365 [00:12<00:01, 29.79it/s]"
     ]
    },
    {
     "name": "stdout",
     "output_type": "stream",
     "text": [
      ".//gregorian/daily_min_temperature-1971-11-25-gregorian.nc\n",
      ".//gregorian/daily_min_temperature-1971-11-26-gregorian.nc\n",
      ".//gregorian/daily_min_temperature-1971-11-27-gregorian.nc\n",
      ".//gregorian/daily_min_temperature-1971-11-28-gregorian.nc\n",
      ".//gregorian/daily_min_temperature-1971-11-29-gregorian.nc\n",
      ".//gregorian/daily_min_temperature-1971-11-30-gregorian.nc\n",
      ".//gregorian/daily_min_temperature-1971-12-01-gregorian.nc\n"
     ]
    },
    {
     "name": "stderr",
     "output_type": "stream",
     "text": [
      " 93%|████████████████████████████████████████████████████████████████████████████████████████████████▉       | 340/365 [00:13<00:00, 31.73it/s]"
     ]
    },
    {
     "name": "stdout",
     "output_type": "stream",
     "text": [
      ".//gregorian/daily_min_temperature-1971-12-02-gregorian.nc\n",
      ".//gregorian/daily_min_temperature-1971-12-03-gregorian.nc\n",
      ".//gregorian/daily_min_temperature-1971-12-04-gregorian.nc\n",
      ".//gregorian/daily_min_temperature-1971-12-05-gregorian.nc\n",
      ".//gregorian/daily_min_temperature-1971-12-06-gregorian.nc\n",
      ".//gregorian/daily_min_temperature-1971-12-07-gregorian.nc\n",
      ".//gregorian/daily_min_temperature-1971-12-08-gregorian.nc\n",
      ".//gregorian/daily_min_temperature-1971-12-09-gregorian.nc\n"
     ]
    },
    {
     "name": "stderr",
     "output_type": "stream",
     "text": [
      " 95%|███████████████████████████████████████████████████████████████████████████████████████████████████▏    | 348/365 [00:13<00:00, 33.39it/s]"
     ]
    },
    {
     "name": "stdout",
     "output_type": "stream",
     "text": [
      ".//gregorian/daily_min_temperature-1971-12-10-gregorian.nc\n",
      ".//gregorian/daily_min_temperature-1971-12-11-gregorian.nc\n",
      ".//gregorian/daily_min_temperature-1971-12-12-gregorian.nc\n",
      ".//gregorian/daily_min_temperature-1971-12-13-gregorian.nc\n",
      ".//gregorian/daily_min_temperature-1971-12-14-gregorian.nc\n",
      ".//gregorian/daily_min_temperature-1971-12-15-gregorian.nc\n",
      ".//gregorian/daily_min_temperature-1971-12-16-gregorian.nc\n",
      ".//gregorian/daily_min_temperature-1971-12-17-gregorian.nc\n"
     ]
    },
    {
     "name": "stderr",
     "output_type": "stream",
     "text": [
      " 98%|█████████████████████████████████████████████████████████████████████████████████████████████████████▍  | 356/365 [00:13<00:00, 30.50it/s]"
     ]
    },
    {
     "name": "stdout",
     "output_type": "stream",
     "text": [
      ".//gregorian/daily_min_temperature-1971-12-18-gregorian.nc\n",
      ".//gregorian/daily_min_temperature-1971-12-19-gregorian.nc\n",
      ".//gregorian/daily_min_temperature-1971-12-20-gregorian.nc\n",
      ".//gregorian/daily_min_temperature-1971-12-21-gregorian.nc\n",
      ".//gregorian/daily_min_temperature-1971-12-22-gregorian.nc\n",
      ".//gregorian/daily_min_temperature-1971-12-23-gregorian.nc\n",
      ".//gregorian/daily_min_temperature-1971-12-24-gregorian.nc\n"
     ]
    },
    {
     "name": "stderr",
     "output_type": "stream",
     "text": [
      "100%|████████████████████████████████████████████████████████████████████████████████████████████████████████| 365/365 [00:13<00:00, 26.43it/s]"
     ]
    },
    {
     "name": "stdout",
     "output_type": "stream",
     "text": [
      ".//gregorian/daily_min_temperature-1971-12-25-gregorian.nc\n",
      ".//gregorian/daily_min_temperature-1971-12-26-gregorian.nc\n",
      ".//gregorian/daily_min_temperature-1971-12-27-gregorian.nc\n",
      ".//gregorian/daily_min_temperature-1971-12-28-gregorian.nc\n",
      ".//gregorian/daily_min_temperature-1971-12-29-gregorian.nc\n",
      ".//gregorian/daily_min_temperature-1971-12-30-gregorian.nc\n",
      ".//gregorian/daily_min_temperature-1971-12-31-gregorian.nc\n"
     ]
    },
    {
     "name": "stderr",
     "output_type": "stream",
     "text": [
      "\n"
     ]
    }
   ],
   "source": [
    "if calendar.isleap(year) == False:\n",
    "\n",
    "    cube_for_saving = copy.deepcopy(split_cube_shifted_ordered)\n",
    "\n",
    "    for i in tqdm(range(len(cube_for_saving))):\n",
    "\n",
    "        cube_for_saving[str(i).zfill(3)] = iris.util.new_axis(cube_for_saving[str(i).zfill(3)],'time')\n",
    "\n",
    "        file_for_saving = path+'/gregorian/'+\\\n",
    "                  var+\\\n",
    "          '-'+str(u.num2date(cube_for_saving[str(i).zfill(3)].coord('time').points)[0].year)+\\\n",
    "          '-'+str(u.num2date(cube_for_saving[str(i).zfill(3)].coord('time').points)[0].month).zfill(2)+\\\n",
    "          '-'+str(u.num2date(cube_for_saving[str(i).zfill(3)].coord('time').points)[0].day).zfill(2)+\\\n",
    "          '-gregorian.nc'\n",
    "\n",
    "        print(file_for_saving)    \n",
    "            \n",
    "        iris.save(cube_for_saving[str(i).zfill(3)],file_for_saving)\n",
    "    \n"
   ]
  },
  {
   "cell_type": "markdown",
   "id": "fec05880",
   "metadata": {},
   "source": [
    "## leap years..."
   ]
  },
  {
   "cell_type": "code",
   "execution_count": 259,
   "id": "ad38b82f",
   "metadata": {},
   "outputs": [
    {
     "name": "stdout",
     "output_type": "stream",
     "text": [
      "this isn't a leap year so nothing more to do\n"
     ]
    }
   ],
   "source": [
    "if calendar.isleap(year):\n",
    "    print('this is a leap year so need to insert february 29th')\n",
    "else:\n",
    "    print('this isn\\'t a leap year so nothing more to do')\n",
    "\n"
   ]
  },
  {
   "cell_type": "raw",
   "id": "6b44c86d",
   "metadata": {},
   "source": [
    "need to shift everything from 29th february (inclusive) onward 1 day forward"
   ]
  },
  {
   "cell_type": "code",
   "execution_count": 260,
   "id": "e6564ac9",
   "metadata": {},
   "outputs": [],
   "source": [
    "if calendar.isleap(year) == True:\n",
    "\n",
    "    split_cube_shifted_ordered_leap = {}\n",
    "\n",
    "    for i in tqdm(range(365)):\n",
    "\n",
    "        if i <= 58:\n",
    "\n",
    "            split_cube_shifted_ordered_leap[str(i).zfill(3)] = \\\n",
    "                copy.deepcopy(split_cube_shifted_ordered[str(i).zfill(3)])\n",
    "\n",
    "        else:\n",
    "\n",
    "            split_cube_shifted_ordered_leap[str(i+1).zfill(3)] = \\\n",
    "            copy.deepcopy(split_cube_shifted_ordered[str(i).zfill(3)])\n",
    "\n"
   ]
  },
  {
   "cell_type": "code",
   "execution_count": 261,
   "id": "4650b583",
   "metadata": {},
   "outputs": [],
   "source": [
    "if calendar.isleap(year) == True:\n",
    "    print(split_cube_shifted_ordered_leap.keys())"
   ]
  },
  {
   "cell_type": "raw",
   "id": "ca9becb1",
   "metadata": {},
   "source": [
    "now interpolate between 28/2 and 1/3 to give 29/2"
   ]
  },
  {
   "cell_type": "code",
   "execution_count": 262,
   "id": "e4e3a789",
   "metadata": {},
   "outputs": [],
   "source": [
    "if calendar.isleap(year) == True:\n",
    "\n",
    "    split_cube_shifted_ordered_leap['059'] = ( copy.deepcopy(split_cube_shifted_ordered_leap['058']) +\n",
    "                                          copy.deepcopy(split_cube_shifted_ordered_leap['060']) )/2."
   ]
  },
  {
   "cell_type": "code",
   "execution_count": 263,
   "id": "4bdd3917",
   "metadata": {},
   "outputs": [],
   "source": [
    "if calendar.isleap(year) == True:\n",
    "\n",
    "    split_cube_shifted_ordered_leap.keys()"
   ]
  },
  {
   "cell_type": "code",
   "execution_count": 264,
   "id": "5ab49bee",
   "metadata": {},
   "outputs": [],
   "source": [
    "if calendar.isleap(year) == True:\n",
    "\n",
    "    split_cube_shifted_ordered_leap_ordered = {}"
   ]
  },
  {
   "cell_type": "code",
   "execution_count": 265,
   "id": "ebc06045",
   "metadata": {},
   "outputs": [],
   "source": [
    "if calendar.isleap(year) == True:\n",
    "\n",
    "    for i in tqdm(range(366)):\n",
    "        split_cube_shifted_ordered_leap_ordered[str(i).zfill(3)] = \\\n",
    "            split_cube_shifted_ordered_leap[str(i).zfill(3)] "
   ]
  },
  {
   "cell_type": "code",
   "execution_count": 266,
   "id": "c99d33d5",
   "metadata": {},
   "outputs": [],
   "source": [
    "if calendar.isleap(year) == True:\n",
    "\n",
    "    print(split_cube_shifted_ordered_leap_ordered.keys())"
   ]
  },
  {
   "cell_type": "code",
   "execution_count": 267,
   "id": "5af52c03",
   "metadata": {},
   "outputs": [],
   "source": [
    "if calendar.isleap(year) == True:\n",
    "\n",
    "    split_cube_shifted_ordered_leap_ordered[str(59).zfill(3)].\\\n",
    "        add_aux_coord(iris.coords.AuxCoord(0, long_name='time'))\n"
   ]
  },
  {
   "cell_type": "code",
   "execution_count": 268,
   "id": "e0a17c6d",
   "metadata": {},
   "outputs": [],
   "source": [
    "if calendar.isleap(year) == True:\n",
    "\n",
    "    for i in tqdm(range(len(split_cube_shifted_ordered_leap_ordered))):\n",
    "\n",
    "        tcoord = split_cube_shifted_ordered_leap_ordered[str(i).zfill(3)].coord('time')\n",
    "        tcoord.units = unit.Unit('days since 0001-01-01 00:00:00', calendar='proleptic_gregorian')\n",
    "\n",
    "        split_cube_shifted_ordered_leap_ordered[str(i).zfill(3)].coord('time').points  = \\\n",
    "        u.date2num(datetime.datetime(year, 1, 1)) + i\n",
    "\n",
    "        split_cube_shifted_ordered_leap_ordered[str(i).zfill(3)].coord('time').bounds = None"
   ]
  },
  {
   "cell_type": "raw",
   "id": "d1df2232",
   "metadata": {},
   "source": [
    "this next cell is to make sure/illustrate that the 1st and last days of the year are 1/1 and 31/12 respectively\n",
    "for non-leap years and 1/1 and 30/12 respectively for leap years."
   ]
  },
  {
   "cell_type": "code",
   "execution_count": 269,
   "id": "af279a4c",
   "metadata": {},
   "outputs": [],
   "source": [
    "if calendar.isleap(year) == True:\n",
    "\n",
    "    print(list(split_cube_shifted_ordered_leap_ordered.values())[0].coord('time'))\n",
    "    print('--')\n",
    "    print(list(split_cube_shifted_ordered_leap_ordered.values())[-1].coord('time'))\n"
   ]
  },
  {
   "cell_type": "raw",
   "id": "b0f0a50e",
   "metadata": {},
   "source": [
    "this next cell is to make sure/illustrate that feb 29th is there... "
   ]
  },
  {
   "cell_type": "code",
   "execution_count": 270,
   "id": "a1b9b669",
   "metadata": {},
   "outputs": [],
   "source": [
    "if calendar.isleap(year) == True:\n",
    "\n",
    "    for i in range(58,61):\n",
    "\n",
    "        u.num2date(split_cube_shifted_ordered_leap_ordered[str(i).zfill(3)].coord('time').points)[0].month\n",
    "        u.num2date(split_cube_shifted_ordered_leap_ordered[str(i).zfill(3)].coord('time').points)[0].day\n",
    "        print('--')\n"
   ]
  },
  {
   "cell_type": "code",
   "execution_count": 271,
   "id": "ef9ec33f",
   "metadata": {},
   "outputs": [],
   "source": [
    "if calendar.isleap(year) == True:\n",
    "\n",
    "    series_shifted_ordered = []\n",
    "\n",
    "    for i in tqdm(range(365)):\n",
    "        series_shifted_ordered.append(list(split_cube_shifted_ordered.values())[i].\\\n",
    "                      collapsed(('latitude','longitude'),iris.analysis.MEAN).data)\n",
    "\n",
    "    plt.plot(series_shifted_ordered)\n",
    "\n",
    "    #\n",
    "\n",
    "    series_shifted_ordered_leap_ordered = []\n",
    "\n",
    "    for i in tqdm(range(366)):\n",
    "        series_shifted_ordered_leap_ordered.append(list(split_cube_shifted_ordered_leap_ordered.values())[i].\\\n",
    "                      collapsed(('latitude','longitude'),iris.analysis.MEAN).data)\n",
    "\n",
    "    plt.plot(series_shifted_ordered_leap_ordered)\n",
    "\n",
    "plt.show();\n"
   ]
  },
  {
   "cell_type": "code",
   "execution_count": 272,
   "id": "843b613c",
   "metadata": {},
   "outputs": [],
   "source": [
    "if calendar.isleap(year) == True:\n",
    "\n",
    "    len(series_shifted_ordered)\n",
    "    len(series_shifted_ordered_leap_ordered)\n"
   ]
  },
  {
   "cell_type": "code",
   "execution_count": 273,
   "id": "afb8832b",
   "metadata": {},
   "outputs": [],
   "source": [
    "if calendar.isleap(year) == True:\n",
    "\n",
    "    fig = plt.figure(figsize=[15,10])\n",
    "\n",
    "    plt.plot(series_shifted_ordered,'k-',label = 'without leap day')\n",
    "    plt.plot(series_shifted_ordered_leap_ordered,'k--',label = 'with leap day')\n",
    "\n",
    "    plt.legend()\n",
    "\n",
    "plt.show();"
   ]
  },
  {
   "cell_type": "code",
   "execution_count": 274,
   "id": "5ae8419d",
   "metadata": {},
   "outputs": [],
   "source": [
    "if calendar.isleap(year) == True:\n",
    "\n",
    "    fig = plt.figure(figsize=[15,10])\n",
    "\n",
    "    ax = plt.subplot(1,1,1)\n",
    "\n",
    "    plt.plot(series_shifted_ordered,'b-',label = '365 day data', alpha = 0.25, linewidth = 5)\n",
    "    plt.plot(series_shifted_ordered_leap_ordered,'r-', label = '366 day data')\n",
    "\n",
    "    label = '29th February'\n",
    "    plt.plot(58, \n",
    "             list(split_cube_shifted_ordered.values())[58].collapsed(('latitude','longitude'),\n",
    "                                                                     iris.analysis.MEAN).data,\n",
    "            'Xk',alpha=1, markersize = 20,label = label)\n",
    "\n",
    "    plt.legend(borderpad = 1, loc = 'upper left')\n",
    "\n",
    "\n",
    "\n",
    "#     plt.grid()\n",
    "\n",
    "    plt.xticks(fontsize=fontsize)\n",
    "    plt.yticks(fontsize=fontsize)\n",
    "\n",
    "    \n",
    "    plt.xlabel('day of year', fontsize = fontsize)\n",
    "    plt.ylabel('area mean of '+var+' \\nfor '+str(year)+' '+units,fontsize = fontsize)\n",
    "    plt.ticklabel_format(axis='y', style='sci', scilimits=(0,0))\n",
    "\n",
    "    # inset axes....\n",
    "    axins = ax.inset_axes([0.35, 0.4, 0.3, 0.2])\n",
    "    axins.plot(np.arange(50,70),series_shifted_ordered[50:70],'b-',label = 'Original data', alpha = 0.25, linewidth = 5)\n",
    "    axins.plot(np.arange(50,70),series_shifted_ordered_leap_ordered[50:70],'r-', label = 'Modified data')\n",
    "    \n",
    "    axins.set_xticklabels([])\n",
    "    axins.set_yticklabels([])\n",
    "\n",
    "    rect = Rectangle((0,lims[0]),58,lims[1]-lims[0], alpha = 0.1)\n",
    "    ax.add_patch(rect)\n",
    "\n",
    "    plt.text(0.99,0.97,'created at '+str(datetime.datetime.now().replace(microsecond=0).isoformat()),\n",
    "         transform = ax.transAxes,ha = 'right')\n",
    "   \n",
    "\n",
    "    plt.xlim([0,366])\n",
    "\n",
    "\n",
    "    plt.title('Inset shows zoom in on February 29th to illustrate insertion of leap-day')\n",
    "    \n",
    "    filenamestring = path+'/gregorian/pdfs/'+var+\\\n",
    "              '-'+str(year)+\\\n",
    "              '-365-to-366-day-calendar.pdf'\n",
    "\n",
    "\n",
    "    plt.text(0.99,0.03, os.path.basename(filenamestring), transform = ax.transAxes, ha = 'right')\n",
    "\n",
    "    plt.savefig(filenamestring)\n",
    "\n",
    "\n",
    "plt.show();"
   ]
  },
  {
   "cell_type": "code",
   "execution_count": 275,
   "id": "a13a355f",
   "metadata": {},
   "outputs": [
    {
     "data": {
      "text/plain": [
       "array([0, 2, 4])"
      ]
     },
     "execution_count": 275,
     "metadata": {},
     "output_type": "execute_result"
    }
   ],
   "source": [
    "np.arange(0,6,2)"
   ]
  },
  {
   "cell_type": "code",
   "execution_count": 276,
   "id": "077b1fd7",
   "metadata": {},
   "outputs": [],
   "source": [
    "if calendar.isleap(year) == True:\n",
    "\n",
    "    cube_for_saving = copy.deepcopy(split_cube_shifted_ordered_leap_ordered)\n",
    "\n",
    "    for i in tqdm(range(len(cube_for_saving))):\n",
    "\n",
    "        cube_for_saving[str(i).zfill(3)] = iris.util.new_axis(cube_for_saving[str(i).zfill(3)],'time')\n",
    "\n",
    "        file_for_saving = path+'/gregorian/'+\\\n",
    "                  var+\\\n",
    "          '-'+str(u.num2date(cube_for_saving[str(i).zfill(3)].coord('time').points)[0].year)+\\\n",
    "          '-'+str(u.num2date(cube_for_saving[str(i).zfill(3)].coord('time').points)[0].month).zfill(2)+\\\n",
    "          '-'+str(u.num2date(cube_for_saving[str(i).zfill(3)].coord('time').points)[0].day).zfill(2)+\\\n",
    "          '-gregorian.nc'\n",
    "        \n",
    "        iris.save(cube_for_saving[str(i).zfill(3)],file_for_saving      )\n",
    "\n"
   ]
  },
  {
   "cell_type": "markdown",
   "id": "1f733aad",
   "metadata": {},
   "source": [
    "## now use cdo mergetime to create single files"
   ]
  },
  {
   "cell_type": "raw",
   "id": "d0e516e3",
   "metadata": {},
   "source": [
    "export year=1971\n",
    "export var=daily_min_temperature\n",
    "cdo -O mergetime ${var}-${year}-??-??-gregorian.nc ${var}-${year}-gregorian.nc\n",
    "rm ${var}-${year}-??-??-gregorian.nc"
   ]
  },
  {
   "cell_type": "code",
   "execution_count": null,
   "id": "2930d113",
   "metadata": {},
   "outputs": [],
   "source": []
  },
  {
   "cell_type": "code",
   "execution_count": null,
   "id": "2dc8392e",
   "metadata": {},
   "outputs": [],
   "source": []
  },
  {
   "cell_type": "code",
   "execution_count": null,
   "id": "edf8330a",
   "metadata": {},
   "outputs": [],
   "source": []
  },
  {
   "cell_type": "code",
   "execution_count": null,
   "id": "5be8f106",
   "metadata": {},
   "outputs": [],
   "source": []
  }
 ],
 "metadata": {
  "celltoolbar": "Tags",
  "kernelspec": {
   "display_name": "Python 3 (ipykernel)",
   "language": "python",
   "name": "python3"
  },
  "language_info": {
   "codemirror_mode": {
    "name": "ipython",
    "version": 3
   },
   "file_extension": ".py",
   "mimetype": "text/x-python",
   "name": "python",
   "nbconvert_exporter": "python",
   "pygments_lexer": "ipython3",
   "version": "3.10.4"
  }
 },
 "nbformat": 4,
 "nbformat_minor": 5
}
