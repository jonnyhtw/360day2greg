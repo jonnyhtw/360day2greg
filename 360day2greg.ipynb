{
 "cells": [
  {
   "cell_type": "code",
   "execution_count": 7,
   "id": "f4804bee",
   "metadata": {},
   "outputs": [
    {
     "name": "stdout",
     "output_type": "stream",
     "text": [
      "The autotime extension is already loaded. To reload it, use:\n",
      "  %reload_ext autotime\n",
      "time: 630 µs (started: 2023-06-07 03:52:49 +00:00)\n"
     ]
    }
   ],
   "source": [
    "%load_ext autotime"
   ]
  },
  {
   "cell_type": "markdown",
   "id": "6597af62",
   "metadata": {},
   "source": [
    "## convert daily mean 360-day calendar stuff to Gregorian"
   ]
  },
  {
   "cell_type": "markdown",
   "id": "fb6d2f05",
   "metadata": {},
   "source": [
    "## jonnyhtw/360day2greg is licensed under the GNU General Public License v3.0"
   ]
  },
  {
   "cell_type": "code",
   "execution_count": 8,
   "id": "93996c37",
   "metadata": {},
   "outputs": [
    {
     "name": "stdout",
     "output_type": "stream",
     "text": [
      "time: 3.8 ms (started: 2023-06-07 03:52:49 +00:00)\n"
     ]
    }
   ],
   "source": [
    "import numpy as np\n",
    "import matplotlib.pyplot as plt\n",
    "import iris\n",
    "import xarray as xr\n",
    "import cartopy.crs as ccrs\n",
    "import cf_units as unit\n",
    "import warnings\n",
    "warnings.filterwarnings('ignore')\n",
    "from matplotlib.collections import PatchCollection\n",
    "from matplotlib.patches import Rectangle\n",
    "import cartopy\n",
    "import calendar\n",
    "import iris.plot as iplt\n",
    "import matplotlib.transforms as transforms\n",
    "import random\n",
    "import matplotlib.patches as patches\n",
    "import iris.quickplot as qplt\n",
    "import os\n",
    "from IPython.core.interactiveshell import InteractiveShell\n",
    "InteractiveShell.ast_node_interactivity = \"all\"\n",
    "import copy\n",
    "from tqdm import tqdm\n",
    "import datetime"
   ]
  },
  {
   "cell_type": "markdown",
   "id": "8ab7d445",
   "metadata": {},
   "source": [
    "## use method from http://loca.ucsd.edu/loca-calendar/ "
   ]
  },
  {
   "cell_type": "raw",
   "id": "00ea1d07",
   "metadata": {},
   "source": [
    "notes\n",
    "https://stackoverflow.com/questions/52702433/convert-calendar-using-iris    \n",
    "https://scitools.org.uk/iris/docs/v1.9.0/html/iris/iris/unit.html#iris.unit.Unit.date2num"
   ]
  },
  {
   "cell_type": "raw",
   "id": "15fbde27",
   "metadata": {},
   "source": [
    "vars\n",
    "\n",
    "precipitation_flux\n",
    "relative_humidity\n",
    "daily_max_temperature\n",
    "daily_min_temperature <---data is provided for this variable at\n",
    "net_surface_radiation\n",
    "surface_net_downward_longwave_flux\n",
    "surface_net_downward_shortwave_flux\n",
    "surface_downwelling_longwave_flux_in_air\n",
    "surface_downwelling_shortwave_flux_in_air\n",
    "air_pressure_at_sea_level\n",
    "wind_speed\n",
    "x_wind\n",
    "y_wind\n",
    "surface_upward_latent_heat_flux\n",
    "\n"
   ]
  },
  {
   "cell_type": "markdown",
   "id": "325f6172",
   "metadata": {},
   "source": [
    "## the following cell has variables for use in the 'papermill' python packge"
   ]
  },
  {
   "cell_type": "raw",
   "id": "3b97f1aa",
   "metadata": {},
   "source": [
    "NOTE THIS CELL IS 'RAW' EXAMPLE BASH SCRIPT I.E. NOT PYTHON CODE! :)\n",
    "\n",
    "export year=1971; export var=air_temperature; papermill ./360day2greg.ipynb ./360day2greg-${var}-${year}.ipynb -p year $year -r var $var \n"
   ]
  },
  {
   "cell_type": "code",
   "execution_count": 9,
   "id": "2d41911c",
   "metadata": {
    "tags": [
     "parameters"
    ]
   },
   "outputs": [
    {
     "name": "stdout",
     "output_type": "stream",
     "text": [
      "time: 458 µs (started: 2023-06-07 03:52:49 +00:00)\n"
     ]
    }
   ],
   "source": [
    "year = 1972\n",
    "var = 'air_temperature'\n"
   ]
  },
  {
   "cell_type": "code",
   "execution_count": 10,
   "id": "b700b464",
   "metadata": {},
   "outputs": [
    {
     "name": "stdout",
     "output_type": "stream",
     "text": [
      "time: 14.2 ms (started: 2023-06-07 03:52:49 +00:00)\n"
     ]
    }
   ],
   "source": [
    "if var == 'air_temperature':\n",
    "    units = r'[K]'\n"
   ]
  },
  {
   "cell_type": "code",
   "execution_count": null,
   "id": "cf2d2c82",
   "metadata": {},
   "outputs": [],
   "source": []
  },
  {
   "cell_type": "code",
   "execution_count": 11,
   "id": "c7f82b57",
   "metadata": {},
   "outputs": [
    {
     "name": "stdout",
     "output_type": "stream",
     "text": [
      "time: 14.4 ms (started: 2023-06-07 03:52:49 +00:00)\n"
     ]
    }
   ],
   "source": [
    "fontsize = 20\n",
    "\n",
    "latmin = -50\n",
    "latmax = -30\n",
    "lonmin = 165\n",
    "lonmax = 180\n"
   ]
  },
  {
   "cell_type": "code",
   "execution_count": 12,
   "id": "f08fe40c",
   "metadata": {},
   "outputs": [
    {
     "data": {
      "text/plain": [
       "'/scale_wlg_persistent/filesets/project/niwa00013/williamsjh/360day2greg'"
      ]
     },
     "execution_count": 12,
     "metadata": {},
     "output_type": "execute_result"
    },
    {
     "name": "stdout",
     "output_type": "stream",
     "text": [
      "time: 7.94 ms (started: 2023-06-07 03:52:49 +00:00)\n"
     ]
    }
   ],
   "source": [
    "pwd"
   ]
  },
  {
   "cell_type": "code",
   "execution_count": 13,
   "id": "3e87fdf9",
   "metadata": {},
   "outputs": [
    {
     "name": "stdout",
     "output_type": "stream",
     "text": [
      "time: 8.86 ms (started: 2023-06-07 03:52:49 +00:00)\n"
     ]
    }
   ],
   "source": [
    "#go to the 360day2greg directory...\n",
    "path  = './'\n",
    "\n",
    "if not os.path.exists(path+'gregorian'):\n",
    "    print('creating gregorian folder')\n",
    "    os.makedirs(path+'gregorian')\n",
    "    \n",
    "if not os.path.exists(path+'gregorian/pdfs'):\n",
    "    print('creating pdfs folder')\n",
    "    os.makedirs(path+'gregorian/pdfs')\n",
    "    \n",
    "    "
   ]
  },
  {
   "cell_type": "code",
   "execution_count": 14,
   "id": "480af540",
   "metadata": {},
   "outputs": [
    {
     "name": "stdout",
     "output_type": "stream",
     "text": [
      "time: 10.3 s (started: 2023-06-07 03:52:49 +00:00)\n"
     ]
    }
   ],
   "source": [
    "cube = iris.load_cube(path+'tasmin_day_UKESM1-0-LL_histSST-1950HC'+\n",
    "      '_r1i1p1f2_gn_19500101-20141230.nc', \n",
    "      var &\n",
    "      iris.Constraint(time=lambda cell: cell.point.year == year)).\\\n",
    "intersection(latitude = (latmin,latmax),\n",
    "             longitude = (lonmin,lonmax))"
   ]
  },
  {
   "cell_type": "code",
   "execution_count": 15,
   "id": "bddbd105",
   "metadata": {},
   "outputs": [
    {
     "data": {
      "text/html": [
       "\n",
       "<style>\n",
       "  a.iris {\n",
       "      text-decoration: none !important;\n",
       "  }\n",
       "  table.iris {\n",
       "      white-space: pre;\n",
       "      border: 1px solid;\n",
       "      border-color: #9c9c9c;\n",
       "      font-family: monaco, monospace;\n",
       "  }\n",
       "  th.iris {\n",
       "      background: #303f3f;\n",
       "      color: #e0e0e0;\n",
       "      border-left: 1px solid;\n",
       "      border-color: #9c9c9c;\n",
       "      font-size: 1.05em;\n",
       "      min-width: 50px;\n",
       "      max-width: 125px;\n",
       "  }\n",
       "  tr.iris :first-child {\n",
       "      border-right: 1px solid #9c9c9c !important;\n",
       "  }\n",
       "  td.iris-title {\n",
       "      background: #d5dcdf;\n",
       "      border-top: 1px solid #9c9c9c;\n",
       "      font-weight: bold;\n",
       "  }\n",
       "  .iris-word-cell {\n",
       "      text-align: left !important;\n",
       "      white-space: pre;\n",
       "  }\n",
       "  .iris-subheading-cell {\n",
       "      padding-left: 2em !important;\n",
       "  }\n",
       "  .iris-inclusion-cell {\n",
       "      padding-right: 1em !important;\n",
       "  }\n",
       "  .iris-panel-body {\n",
       "      padding-top: 0px;\n",
       "  }\n",
       "  .iris-panel-title {\n",
       "      padding-left: 3em;\n",
       "  }\n",
       "  .iris-panel-title {\n",
       "      margin-top: 7px;\n",
       "  }\n",
       "</style>\n",
       "<table class=\"iris\" id=\"46916625674304\">\n",
       "    <tr class=\"iris\">\n",
       "<th class=\"iris iris-word-cell\">Air Temperature (K)</th>\n",
       "<th class=\"iris iris-word-cell\">time</th>\n",
       "<th class=\"iris iris-word-cell\">latitude</th>\n",
       "<th class=\"iris iris-word-cell\">longitude</th>\n",
       "</tr>\n",
       "    <tr class=\"iris\">\n",
       "<td class=\"iris-word-cell iris-subheading-cell\">Shape</td>\n",
       "<td class=\"iris iris-inclusion-cell\">360</td>\n",
       "<td class=\"iris iris-inclusion-cell\">18</td>\n",
       "<td class=\"iris iris-inclusion-cell\">10</td>\n",
       "</tr>\n",
       "    <tr class=\"iris\">\n",
       "    <td class=\"iris-title iris-word-cell\">Dimension coordinates</td>\n",
       "    <td class=\"iris-title\"></td>\n",
       "    <td class=\"iris-title\"></td>\n",
       "    <td class=\"iris-title\"></td>\n",
       "</tr>\n",
       "<tr class=\"iris\">\n",
       "    <td class=\"iris-word-cell iris-subheading-cell\">\ttime</td>\n",
       "    <td class=\"iris-inclusion-cell\">x</td>\n",
       "    <td class=\"iris-inclusion-cell\">-</td>\n",
       "    <td class=\"iris-inclusion-cell\">-</td>\n",
       "</tr>\n",
       "<tr class=\"iris\">\n",
       "    <td class=\"iris-word-cell iris-subheading-cell\">\tlatitude</td>\n",
       "    <td class=\"iris-inclusion-cell\">-</td>\n",
       "    <td class=\"iris-inclusion-cell\">x</td>\n",
       "    <td class=\"iris-inclusion-cell\">-</td>\n",
       "</tr>\n",
       "<tr class=\"iris\">\n",
       "    <td class=\"iris-word-cell iris-subheading-cell\">\tlongitude</td>\n",
       "    <td class=\"iris-inclusion-cell\">-</td>\n",
       "    <td class=\"iris-inclusion-cell\">-</td>\n",
       "    <td class=\"iris-inclusion-cell\">x</td>\n",
       "</tr>\n",
       "<tr class=\"iris\">\n",
       "    <td class=\"iris-title iris-word-cell\">Scalar coordinates</td>\n",
       "    <td class=\"iris-title\"></td>\n",
       "    <td class=\"iris-title\"></td>\n",
       "    <td class=\"iris-title\"><br>height                      1.5 m</td>\n",
       "</tr>\n",
       "<tr class=\"iris\">\n",
       "    <td class=\"iris-title iris-word-cell\">Cell methods</td>\n",
       "    <td class=\"iris-title\"></td>\n",
       "    <td class=\"iris-title\"></td>\n",
       "    <td class=\"iris-title\"></td>\n",
       "</tr>\n",
       "<tr class=\"iris\">\n",
       "    <td class=\"iris-word-cell iris-subheading-cell\">\tmean                        area</td>\n",
       "    <td class=\"iris-word-cell\" colspan=\"3\"></td>\n",
       "</tr>\n",
       "<tr class=\"iris\">\n",
       "    <td class=\"iris-word-cell iris-subheading-cell\">\tminimum                     time</td>\n",
       "    <td class=\"iris-word-cell\" colspan=\"3\"></td>\n",
       "</tr>\n",
       "<tr class=\"iris\">\n",
       "    <td class=\"iris-title iris-word-cell\">Attributes</td>\n",
       "    <td class=\"iris-title\"></td>\n",
       "    <td class=\"iris-title\"></td>\n",
       "    <td class=\"iris-title\"><br>Conventions                 &#x27;CF-1.7 CMIP-6.2&#x27;<br>activity_id                 &#x27;AerChemMIP&#x27;<br>branch_method               &#x27;standard&#x27;<br>branch_time_in_child        36000.0<br>branch_time_in_parent       36000.0<br>cmor_version                &#x27;3.4.0&#x27;<br>comment                     &quot;minimum near-surface (usually, 2 meter) air temperature (add cell_method...</td>\n",
       "</tr>\n",
       "<tr class=\"iris\">\n",
       "    <td class=\"iris-word-cell iris-subheading-cell\">\tcreation_date               &#x27;2020-01-24T01</td>\n",
       "    <td class=\"iris-word-cell\" colspan=\"3\">0:43Z&#x27;<br>cv_version                  &#x27;6.2.37.5&#x27;<br>data_specs_version          &#x27;01.00.29&#x27;<br>experiment                  &#x27;historical SSTs and historical forcing, but with 1950 halocarbon concentrations....<br>experiment_id               &#x27;histSST-1950HC&#x27;<br>external_variables          &#x27;areacella&#x27;<br>forcing_index               2<br>frequency                   &#x27;day&#x27;</td>\n",
       "</tr>\n",
       "<tr class=\"iris\">\n",
       "    <td class=\"iris-word-cell iris-subheading-cell\">\tfurther_info_url            &#x27;https</td>\n",
       "    <td class=\"iris-word-cell\" colspan=\"3\">/furtherinfo.es-doc.org/CMIP6.NIWA.UKESM1-0-LL.histSST-1950HC....<br>grid                        &#x27;Native N96 grid; 192 x 144 longitude/latitude&#x27;<br>grid_label                  &#x27;gn&#x27;</td>\n",
       "</tr>\n",
       "<tr class=\"iris\">\n",
       "    <td class=\"iris-word-cell iris-subheading-cell\">\thistory                     &quot;2020-01-24T01</td>\n",
       "    <td class=\"iris-word-cell\" colspan=\"3\">0:43Z altered by CMOR: Treated scalar dimension: &#x27;height&#x27;....<br>initialization_index        1<br>institution                 &#x27;National Institute of Water and Atmospheric Research, Hataitai, Wellington...<br>institution_id              &#x27;NIWA&#x27;<br>license                     &#x27;CMIP6 model data produced by the National Institute of Water and Atmospheric...<br>mip_era                     &#x27;CMIP6&#x27;<br>mo_runid                    &#x27;u-bm459&#x27;<br>nominal_resolution          &#x27;250 km&#x27;</td>\n",
       "</tr>\n",
       "<tr class=\"iris\">\n",
       "    <td class=\"iris-word-cell iris-subheading-cell\">\toriginal_name               &#x27;mo</td>\n",
       "    <td class=\"iris-word-cell\" colspan=\"3\">(stash: m01s03i236, lbproc: 4096)&#x27;<br>parent_activity_id          &#x27;AerChemMIP&#x27;<br>parent_experiment_id        &#x27;histSST&#x27;<br>parent_mip_era              &#x27;CMIP6&#x27;<br>parent_source_id            &#x27;UKESM1-0-LL&#x27;<br>parent_time_units           &#x27;days since 1850-01-01-00-00-00&#x27;<br>parent_variant_label        &#x27;r1i1p1f2&#x27;<br>physics_index               1<br>product                     &#x27;model-output&#x27;<br>realization_index           1<br>realm                       &#x27;atmos&#x27;</td>\n",
       "</tr>\n",
       "<tr class=\"iris\">\n",
       "    <td class=\"iris-word-cell iris-subheading-cell\">\tsource                      &#x27;UKESM1.0-LL (2018)</td>\n",
       "    <td class=\"iris-word-cell\" colspan=\"3\">\\naerosol: UKCA-GLOMAP-mode\\natmos: MetUM-HadGEM3-GA7.1...<br>source_id                   &#x27;UKESM1-0-LL&#x27;<br>source_type                 &#x27;AGCM AER CHEM&#x27;<br>sub_experiment              &#x27;none&#x27;<br>sub_experiment_id           &#x27;none&#x27;<br>table_id                    &#x27;day&#x27;</td>\n",
       "</tr>\n",
       "<tr class=\"iris\">\n",
       "    <td class=\"iris-word-cell iris-subheading-cell\">\ttable_info                  &#x27;Creation Date</td>\n",
       "    <td class=\"iris-word-cell\" colspan=\"3\">13 December 2018) MD5:f0588f7f55b5732b17302f8d9d0d7b8c...<br>title                       &#x27;UKESM1-0-LL output prepared for CMIP6&#x27;</td>\n",
       "</tr>\n",
       "<tr class=\"iris\">\n",
       "    <td class=\"iris-word-cell iris-subheading-cell\">\ttracking_id                 &#x27;hdl</td>\n",
       "    <td class=\"iris-word-cell\" colspan=\"3\">1.14100/440b353c-12af-4f33-ab0f-28a6b5503ae8&#x27;<br>variable_id                 &#x27;tasmin&#x27;<br>variable_name               &#x27;tasmin&#x27;<br>variant_label               &#x27;r1i1p1f2&#x27;</td>\n",
       "</tr>\n",
       "</table>\n",
       "        "
      ],
      "text/plain": [
       "<iris 'Cube' of air_temperature / (K) (time: 360; latitude: 18; longitude: 10)>"
      ]
     },
     "execution_count": 15,
     "metadata": {},
     "output_type": "execute_result"
    },
    {
     "name": "stdout",
     "output_type": "stream",
     "text": [
      "time: 102 ms (started: 2023-06-07 03:52:59 +00:00)\n"
     ]
    }
   ],
   "source": [
    "cube"
   ]
  },
  {
   "cell_type": "code",
   "execution_count": 16,
   "id": "646bc794",
   "metadata": {},
   "outputs": [
    {
     "data": {
      "image/png": "[encoded data removed]",
      "text/plain": [
       "<Figure size 432x288 with 2 Axes>"
      ]
     },
     "metadata": {
      "needs_background": "light"
     },
     "output_type": "display_data"
    },
    {
     "name": "stdout",
     "output_type": "stream",
     "text": [
      "time: 2.43 s (started: 2023-06-07 03:52:59 +00:00)\n"
     ]
    }
   ],
   "source": [
    "ax = plt.subplot(1,1,1,projection = ccrs.PlateCarree(central_longitude=180))\n",
    "ax.coastlines()\n",
    "qplt.pcolormesh(cube[0])\n",
    "plt.show();"
   ]
  },
  {
   "cell_type": "code",
   "execution_count": null,
   "id": "c29fc95d",
   "metadata": {},
   "outputs": [],
   "source": []
  },
  {
   "cell_type": "code",
   "execution_count": null,
   "id": "8a8419e7",
   "metadata": {},
   "outputs": [],
   "source": []
  },
  {
   "cell_type": "code",
   "execution_count": 17,
   "id": "43c4621d",
   "metadata": {},
   "outputs": [
    {
     "name": "stderr",
     "output_type": "stream",
     "text": [
      "100%|███████████████████████████████████████████████████████████████████████████| 360/360 [00:01<00:00, 236.71it/s]"
     ]
    },
    {
     "name": "stdout",
     "output_type": "stream",
     "text": [
      "time: 1.55 s (started: 2023-06-07 03:53:02 +00:00)\n"
     ]
    },
    {
     "name": "stderr",
     "output_type": "stream",
     "text": [
      "\n"
     ]
    }
   ],
   "source": [
    "split_cube = {}\n",
    "\n",
    "for i in tqdm(range(360)):\n",
    "    split_cube[str(i)] = copy.deepcopy(cube[i])"
   ]
  },
  {
   "cell_type": "code",
   "execution_count": 18,
   "id": "922ea7cd",
   "metadata": {},
   "outputs": [
    {
     "data": {
      "text/plain": [
       "dict_keys(['0', '1', '2', '3', '4', '5', '6', '7', '8', '9', '10', '11', '12', '13', '14', '15', '16', '17', '18', '19', '20', '21', '22', '23', '24', '25', '26', '27', '28', '29', '30', '31', '32', '33', '34', '35', '36', '37', '38', '39', '40', '41', '42', '43', '44', '45', '46', '47', '48', '49', '50', '51', '52', '53', '54', '55', '56', '57', '58', '59', '60', '61', '62', '63', '64', '65', '66', '67', '68', '69', '70', '71', '72', '73', '74', '75', '76', '77', '78', '79', '80', '81', '82', '83', '84', '85', '86', '87', '88', '89', '90', '91', '92', '93', '94', '95', '96', '97', '98', '99', '100', '101', '102', '103', '104', '105', '106', '107', '108', '109', '110', '111', '112', '113', '114', '115', '116', '117', '118', '119', '120', '121', '122', '123', '124', '125', '126', '127', '128', '129', '130', '131', '132', '133', '134', '135', '136', '137', '138', '139', '140', '141', '142', '143', '144', '145', '146', '147', '148', '149', '150', '151', '152', '153', '154', '155', '156', '157', '158', '159', '160', '161', '162', '163', '164', '165', '166', '167', '168', '169', '170', '171', '172', '173', '174', '175', '176', '177', '178', '179', '180', '181', '182', '183', '184', '185', '186', '187', '188', '189', '190', '191', '192', '193', '194', '195', '196', '197', '198', '199', '200', '201', '202', '203', '204', '205', '206', '207', '208', '209', '210', '211', '212', '213', '214', '215', '216', '217', '218', '219', '220', '221', '222', '223', '224', '225', '226', '227', '228', '229', '230', '231', '232', '233', '234', '235', '236', '237', '238', '239', '240', '241', '242', '243', '244', '245', '246', '247', '248', '249', '250', '251', '252', '253', '254', '255', '256', '257', '258', '259', '260', '261', '262', '263', '264', '265', '266', '267', '268', '269', '270', '271', '272', '273', '274', '275', '276', '277', '278', '279', '280', '281', '282', '283', '284', '285', '286', '287', '288', '289', '290', '291', '292', '293', '294', '295', '296', '297', '298', '299', '300', '301', '302', '303', '304', '305', '306', '307', '308', '309', '310', '311', '312', '313', '314', '315', '316', '317', '318', '319', '320', '321', '322', '323', '324', '325', '326', '327', '328', '329', '330', '331', '332', '333', '334', '335', '336', '337', '338', '339', '340', '341', '342', '343', '344', '345', '346', '347', '348', '349', '350', '351', '352', '353', '354', '355', '356', '357', '358', '359'])"
      ]
     },
     "execution_count": 18,
     "metadata": {},
     "output_type": "execute_result"
    },
    {
     "name": "stdout",
     "output_type": "stream",
     "text": [
      "time: 4.81 ms (started: 2023-06-07 03:53:03 +00:00)\n"
     ]
    }
   ],
   "source": [
    "split_cube.keys()"
   ]
  },
  {
   "cell_type": "code",
   "execution_count": 19,
   "id": "de1af36f",
   "metadata": {},
   "outputs": [
    {
     "data": {
      "text/plain": [
       "360"
      ]
     },
     "execution_count": 19,
     "metadata": {},
     "output_type": "execute_result"
    },
    {
     "name": "stdout",
     "output_type": "stream",
     "text": [
      "time: 2.94 ms (started: 2023-06-07 03:53:03 +00:00)\n"
     ]
    }
   ],
   "source": [
    "len(split_cube)\n"
   ]
  },
  {
   "cell_type": "raw",
   "id": "0e5e76a7",
   "metadata": {},
   "source": [
    "now split the year into 5 chunks of 72 days and add days accordingly..."
   ]
  },
  {
   "cell_type": "code",
   "execution_count": 20,
   "id": "cff6e8ee",
   "metadata": {},
   "outputs": [
    {
     "name": "stdout",
     "output_type": "stream",
     "text": [
      "[27, 109, 158, 218, 328]\n",
      "time: 948 µs (started: 2023-06-07 03:53:03 +00:00)\n"
     ]
    }
   ],
   "source": [
    "random.seed(year)\n",
    "\n",
    "rands = []\n",
    "\n",
    "for i in range(5):\n",
    "\n",
    "    myrand = random.randrange(0 + i * 72, 72 + i * 72)\n",
    "    \n",
    "    if myrand == 359:\n",
    "        myrand -= 1 \n",
    "    \n",
    "    rands.append(myrand)\n",
    "\n",
    "print(rands)"
   ]
  },
  {
   "cell_type": "code",
   "execution_count": null,
   "id": "6e9df691",
   "metadata": {},
   "outputs": [],
   "source": []
  },
  {
   "cell_type": "code",
   "execution_count": 21,
   "id": "90491860",
   "metadata": {},
   "outputs": [
    {
     "name": "stdout",
     "output_type": "stream",
     "text": [
      "time: 671 µs (started: 2023-06-07 03:53:03 +00:00)\n"
     ]
    }
   ],
   "source": [
    "u = unit.Unit('days since 0001-01-01 00:00:00', calendar='proleptic_gregorian')"
   ]
  },
  {
   "cell_type": "code",
   "execution_count": 22,
   "id": "a59055ed",
   "metadata": {},
   "outputs": [
    {
     "name": "stdout",
     "output_type": "stream",
     "text": [
      "0\n"
     ]
    },
    {
     "data": {
      "text/plain": [
       "<DimCoord: time / (days since 0001-01-01 00:00:00)  [0121-04-02 12:00:00]+bounds>"
      ]
     },
     "execution_count": 22,
     "metadata": {},
     "output_type": "execute_result"
    },
    {
     "data": {
      "text/plain": [
       "<DimCoord: time / (days since 0001-01-01 00:00:00)  [1972-01-01 00:00:00]+bounds>"
      ]
     },
     "execution_count": 22,
     "metadata": {},
     "output_type": "execute_result"
    },
    {
     "name": "stdout",
     "output_type": "stream",
     "text": [
      "1\n"
     ]
    },
    {
     "data": {
      "text/plain": [
       "<DimCoord: time / (days since 0001-01-01 00:00:00)  [0121-04-03 12:00:00]+bounds>"
      ]
     },
     "execution_count": 22,
     "metadata": {},
     "output_type": "execute_result"
    },
    {
     "data": {
      "text/plain": [
       "<DimCoord: time / (days since 0001-01-01 00:00:00)  [1972-01-02 00:00:00]+bounds>"
      ]
     },
     "execution_count": 22,
     "metadata": {},
     "output_type": "execute_result"
    },
    {
     "name": "stdout",
     "output_type": "stream",
     "text": [
      "2\n"
     ]
    },
    {
     "data": {
      "text/plain": [
       "<DimCoord: time / (days since 0001-01-01 00:00:00)  [0121-04-04 12:00:00]+bounds>"
      ]
     },
     "execution_count": 22,
     "metadata": {},
     "output_type": "execute_result"
    },
    {
     "data": {
      "text/plain": [
       "<DimCoord: time / (days since 0001-01-01 00:00:00)  [1972-01-03 00:00:00]+bounds>"
      ]
     },
     "execution_count": 22,
     "metadata": {},
     "output_type": "execute_result"
    },
    {
     "name": "stdout",
     "output_type": "stream",
     "text": [
      "3\n"
     ]
    },
    {
     "data": {
      "text/plain": [
       "<DimCoord: time / (days since 0001-01-01 00:00:00)  [0121-04-05 12:00:00]+bounds>"
      ]
     },
     "execution_count": 22,
     "metadata": {},
     "output_type": "execute_result"
    },
    {
     "data": {
      "text/plain": [
       "<DimCoord: time / (days since 0001-01-01 00:00:00)  [1972-01-04 00:00:00]+bounds>"
      ]
     },
     "execution_count": 22,
     "metadata": {},
     "output_type": "execute_result"
    },
    {
     "name": "stdout",
     "output_type": "stream",
     "text": [
      "4\n"
     ]
    },
    {
     "data": {
      "text/plain": [
       "<DimCoord: time / (days since 0001-01-01 00:00:00)  [0121-04-06 12:00:00]+bounds>"
      ]
     },
     "execution_count": 22,
     "metadata": {},
     "output_type": "execute_result"
    },
    {
     "data": {
      "text/plain": [
       "<DimCoord: time / (days since 0001-01-01 00:00:00)  [1972-01-05 00:00:00]+bounds>"
      ]
     },
     "execution_count": 22,
     "metadata": {},
     "output_type": "execute_result"
    },
    {
     "name": "stdout",
     "output_type": "stream",
     "text": [
      "5\n"
     ]
    },
    {
     "data": {
      "text/plain": [
       "<DimCoord: time / (days since 0001-01-01 00:00:00)  [0121-04-07 12:00:00]+bounds>"
      ]
     },
     "execution_count": 22,
     "metadata": {},
     "output_type": "execute_result"
    },
    {
     "data": {
      "text/plain": [
       "<DimCoord: time / (days since 0001-01-01 00:00:00)  [1972-01-06 00:00:00]+bounds>"
      ]
     },
     "execution_count": 22,
     "metadata": {},
     "output_type": "execute_result"
    },
    {
     "name": "stdout",
     "output_type": "stream",
     "text": [
      "6\n"
     ]
    },
    {
     "data": {
      "text/plain": [
       "<DimCoord: time / (days since 0001-01-01 00:00:00)  [0121-04-08 12:00:00]+bounds>"
      ]
     },
     "execution_count": 22,
     "metadata": {},
     "output_type": "execute_result"
    },
    {
     "data": {
      "text/plain": [
       "<DimCoord: time / (days since 0001-01-01 00:00:00)  [1972-01-07 00:00:00]+bounds>"
      ]
     },
     "execution_count": 22,
     "metadata": {},
     "output_type": "execute_result"
    },
    {
     "name": "stdout",
     "output_type": "stream",
     "text": [
      "7\n"
     ]
    },
    {
     "data": {
      "text/plain": [
       "<DimCoord: time / (days since 0001-01-01 00:00:00)  [0121-04-09 12:00:00]+bounds>"
      ]
     },
     "execution_count": 22,
     "metadata": {},
     "output_type": "execute_result"
    },
    {
     "data": {
      "text/plain": [
       "<DimCoord: time / (days since 0001-01-01 00:00:00)  [1972-01-08 00:00:00]+bounds>"
      ]
     },
     "execution_count": 22,
     "metadata": {},
     "output_type": "execute_result"
    },
    {
     "name": "stdout",
     "output_type": "stream",
     "text": [
      "8\n"
     ]
    },
    {
     "data": {
      "text/plain": [
       "<DimCoord: time / (days since 0001-01-01 00:00:00)  [0121-04-10 12:00:00]+bounds>"
      ]
     },
     "execution_count": 22,
     "metadata": {},
     "output_type": "execute_result"
    },
    {
     "data": {
      "text/plain": [
       "<DimCoord: time / (days since 0001-01-01 00:00:00)  [1972-01-09 00:00:00]+bounds>"
      ]
     },
     "execution_count": 22,
     "metadata": {},
     "output_type": "execute_result"
    },
    {
     "name": "stdout",
     "output_type": "stream",
     "text": [
      "9\n"
     ]
    },
    {
     "data": {
      "text/plain": [
       "<DimCoord: time / (days since 0001-01-01 00:00:00)  [0121-04-11 12:00:00]+bounds>"
      ]
     },
     "execution_count": 22,
     "metadata": {},
     "output_type": "execute_result"
    },
    {
     "data": {
      "text/plain": [
       "<DimCoord: time / (days since 0001-01-01 00:00:00)  [1972-01-10 00:00:00]+bounds>"
      ]
     },
     "execution_count": 22,
     "metadata": {},
     "output_type": "execute_result"
    },
    {
     "name": "stdout",
     "output_type": "stream",
     "text": [
      "10\n"
     ]
    },
    {
     "data": {
      "text/plain": [
       "<DimCoord: time / (days since 0001-01-01 00:00:00)  [0121-04-12 12:00:00]+bounds>"
      ]
     },
     "execution_count": 22,
     "metadata": {},
     "output_type": "execute_result"
    },
    {
     "data": {
      "text/plain": [
       "<DimCoord: time / (days since 0001-01-01 00:00:00)  [1972-01-11 00:00:00]+bounds>"
      ]
     },
     "execution_count": 22,
     "metadata": {},
     "output_type": "execute_result"
    },
    {
     "name": "stdout",
     "output_type": "stream",
     "text": [
      "11\n"
     ]
    },
    {
     "data": {
      "text/plain": [
       "<DimCoord: time / (days since 0001-01-01 00:00:00)  [0121-04-13 12:00:00]+bounds>"
      ]
     },
     "execution_count": 22,
     "metadata": {},
     "output_type": "execute_result"
    },
    {
     "data": {
      "text/plain": [
       "<DimCoord: time / (days since 0001-01-01 00:00:00)  [1972-01-12 00:00:00]+bounds>"
      ]
     },
     "execution_count": 22,
     "metadata": {},
     "output_type": "execute_result"
    },
    {
     "name": "stdout",
     "output_type": "stream",
     "text": [
      "12\n"
     ]
    },
    {
     "data": {
      "text/plain": [
       "<DimCoord: time / (days since 0001-01-01 00:00:00)  [0121-04-14 12:00:00]+bounds>"
      ]
     },
     "execution_count": 22,
     "metadata": {},
     "output_type": "execute_result"
    },
    {
     "data": {
      "text/plain": [
       "<DimCoord: time / (days since 0001-01-01 00:00:00)  [1972-01-13 00:00:00]+bounds>"
      ]
     },
     "execution_count": 22,
     "metadata": {},
     "output_type": "execute_result"
    },
    {
     "name": "stdout",
     "output_type": "stream",
     "text": [
      "13\n"
     ]
    },
    {
     "data": {
      "text/plain": [
       "<DimCoord: time / (days since 0001-01-01 00:00:00)  [0121-04-15 12:00:00]+bounds>"
      ]
     },
     "execution_count": 22,
     "metadata": {},
     "output_type": "execute_result"
    },
    {
     "data": {
      "text/plain": [
       "<DimCoord: time / (days since 0001-01-01 00:00:00)  [1972-01-14 00:00:00]+bounds>"
      ]
     },
     "execution_count": 22,
     "metadata": {},
     "output_type": "execute_result"
    },
    {
     "name": "stdout",
     "output_type": "stream",
     "text": [
      "14\n"
     ]
    },
    {
     "data": {
      "text/plain": [
       "<DimCoord: time / (days since 0001-01-01 00:00:00)  [0121-04-16 12:00:00]+bounds>"
      ]
     },
     "execution_count": 22,
     "metadata": {},
     "output_type": "execute_result"
    },
    {
     "data": {
      "text/plain": [
       "<DimCoord: time / (days since 0001-01-01 00:00:00)  [1972-01-15 00:00:00]+bounds>"
      ]
     },
     "execution_count": 22,
     "metadata": {},
     "output_type": "execute_result"
    },
    {
     "name": "stdout",
     "output_type": "stream",
     "text": [
      "15\n"
     ]
    },
    {
     "data": {
      "text/plain": [
       "<DimCoord: time / (days since 0001-01-01 00:00:00)  [0121-04-17 12:00:00]+bounds>"
      ]
     },
     "execution_count": 22,
     "metadata": {},
     "output_type": "execute_result"
    },
    {
     "data": {
      "text/plain": [
       "<DimCoord: time / (days since 0001-01-01 00:00:00)  [1972-01-16 00:00:00]+bounds>"
      ]
     },
     "execution_count": 22,
     "metadata": {},
     "output_type": "execute_result"
    },
    {
     "name": "stdout",
     "output_type": "stream",
     "text": [
      "16\n"
     ]
    },
    {
     "data": {
      "text/plain": [
       "<DimCoord: time / (days since 0001-01-01 00:00:00)  [0121-04-18 12:00:00]+bounds>"
      ]
     },
     "execution_count": 22,
     "metadata": {},
     "output_type": "execute_result"
    },
    {
     "data": {
      "text/plain": [
       "<DimCoord: time / (days since 0001-01-01 00:00:00)  [1972-01-17 00:00:00]+bounds>"
      ]
     },
     "execution_count": 22,
     "metadata": {},
     "output_type": "execute_result"
    },
    {
     "name": "stdout",
     "output_type": "stream",
     "text": [
      "17\n"
     ]
    },
    {
     "data": {
      "text/plain": [
       "<DimCoord: time / (days since 0001-01-01 00:00:00)  [0121-04-19 12:00:00]+bounds>"
      ]
     },
     "execution_count": 22,
     "metadata": {},
     "output_type": "execute_result"
    },
    {
     "data": {
      "text/plain": [
       "<DimCoord: time / (days since 0001-01-01 00:00:00)  [1972-01-18 00:00:00]+bounds>"
      ]
     },
     "execution_count": 22,
     "metadata": {},
     "output_type": "execute_result"
    },
    {
     "name": "stdout",
     "output_type": "stream",
     "text": [
      "18\n"
     ]
    },
    {
     "data": {
      "text/plain": [
       "<DimCoord: time / (days since 0001-01-01 00:00:00)  [0121-04-20 12:00:00]+bounds>"
      ]
     },
     "execution_count": 22,
     "metadata": {},
     "output_type": "execute_result"
    },
    {
     "data": {
      "text/plain": [
       "<DimCoord: time / (days since 0001-01-01 00:00:00)  [1972-01-19 00:00:00]+bounds>"
      ]
     },
     "execution_count": 22,
     "metadata": {},
     "output_type": "execute_result"
    },
    {
     "name": "stdout",
     "output_type": "stream",
     "text": [
      "19\n"
     ]
    },
    {
     "data": {
      "text/plain": [
       "<DimCoord: time / (days since 0001-01-01 00:00:00)  [0121-04-21 12:00:00]+bounds>"
      ]
     },
     "execution_count": 22,
     "metadata": {},
     "output_type": "execute_result"
    },
    {
     "data": {
      "text/plain": [
       "<DimCoord: time / (days since 0001-01-01 00:00:00)  [1972-01-20 00:00:00]+bounds>"
      ]
     },
     "execution_count": 22,
     "metadata": {},
     "output_type": "execute_result"
    },
    {
     "name": "stdout",
     "output_type": "stream",
     "text": [
      "20\n"
     ]
    },
    {
     "data": {
      "text/plain": [
       "<DimCoord: time / (days since 0001-01-01 00:00:00)  [0121-04-22 12:00:00]+bounds>"
      ]
     },
     "execution_count": 22,
     "metadata": {},
     "output_type": "execute_result"
    },
    {
     "data": {
      "text/plain": [
       "<DimCoord: time / (days since 0001-01-01 00:00:00)  [1972-01-21 00:00:00]+bounds>"
      ]
     },
     "execution_count": 22,
     "metadata": {},
     "output_type": "execute_result"
    },
    {
     "name": "stdout",
     "output_type": "stream",
     "text": [
      "21\n"
     ]
    },
    {
     "data": {
      "text/plain": [
       "<DimCoord: time / (days since 0001-01-01 00:00:00)  [0121-04-23 12:00:00]+bounds>"
      ]
     },
     "execution_count": 22,
     "metadata": {},
     "output_type": "execute_result"
    },
    {
     "data": {
      "text/plain": [
       "<DimCoord: time / (days since 0001-01-01 00:00:00)  [1972-01-22 00:00:00]+bounds>"
      ]
     },
     "execution_count": 22,
     "metadata": {},
     "output_type": "execute_result"
    },
    {
     "name": "stdout",
     "output_type": "stream",
     "text": [
      "22\n"
     ]
    },
    {
     "data": {
      "text/plain": [
       "<DimCoord: time / (days since 0001-01-01 00:00:00)  [0121-04-24 12:00:00]+bounds>"
      ]
     },
     "execution_count": 22,
     "metadata": {},
     "output_type": "execute_result"
    },
    {
     "data": {
      "text/plain": [
       "<DimCoord: time / (days since 0001-01-01 00:00:00)  [1972-01-23 00:00:00]+bounds>"
      ]
     },
     "execution_count": 22,
     "metadata": {},
     "output_type": "execute_result"
    },
    {
     "name": "stdout",
     "output_type": "stream",
     "text": [
      "23\n"
     ]
    },
    {
     "data": {
      "text/plain": [
       "<DimCoord: time / (days since 0001-01-01 00:00:00)  [0121-04-25 12:00:00]+bounds>"
      ]
     },
     "execution_count": 22,
     "metadata": {},
     "output_type": "execute_result"
    },
    {
     "data": {
      "text/plain": [
       "<DimCoord: time / (days since 0001-01-01 00:00:00)  [1972-01-24 00:00:00]+bounds>"
      ]
     },
     "execution_count": 22,
     "metadata": {},
     "output_type": "execute_result"
    },
    {
     "name": "stdout",
     "output_type": "stream",
     "text": [
      "24\n"
     ]
    },
    {
     "data": {
      "text/plain": [
       "<DimCoord: time / (days since 0001-01-01 00:00:00)  [0121-04-26 12:00:00]+bounds>"
      ]
     },
     "execution_count": 22,
     "metadata": {},
     "output_type": "execute_result"
    },
    {
     "data": {
      "text/plain": [
       "<DimCoord: time / (days since 0001-01-01 00:00:00)  [1972-01-25 00:00:00]+bounds>"
      ]
     },
     "execution_count": 22,
     "metadata": {},
     "output_type": "execute_result"
    },
    {
     "name": "stdout",
     "output_type": "stream",
     "text": [
      "25\n"
     ]
    },
    {
     "data": {
      "text/plain": [
       "<DimCoord: time / (days since 0001-01-01 00:00:00)  [0121-04-27 12:00:00]+bounds>"
      ]
     },
     "execution_count": 22,
     "metadata": {},
     "output_type": "execute_result"
    },
    {
     "data": {
      "text/plain": [
       "<DimCoord: time / (days since 0001-01-01 00:00:00)  [1972-01-26 00:00:00]+bounds>"
      ]
     },
     "execution_count": 22,
     "metadata": {},
     "output_type": "execute_result"
    },
    {
     "name": "stdout",
     "output_type": "stream",
     "text": [
      "26\n"
     ]
    },
    {
     "data": {
      "text/plain": [
       "<DimCoord: time / (days since 0001-01-01 00:00:00)  [0121-04-28 12:00:00]+bounds>"
      ]
     },
     "execution_count": 22,
     "metadata": {},
     "output_type": "execute_result"
    },
    {
     "data": {
      "text/plain": [
       "<DimCoord: time / (days since 0001-01-01 00:00:00)  [1972-01-27 00:00:00]+bounds>"
      ]
     },
     "execution_count": 22,
     "metadata": {},
     "output_type": "execute_result"
    },
    {
     "name": "stdout",
     "output_type": "stream",
     "text": [
      "27\n"
     ]
    },
    {
     "data": {
      "text/plain": [
       "<DimCoord: time / (days since 0001-01-01 00:00:00)  [0121-04-29 12:00:00]+bounds>"
      ]
     },
     "execution_count": 22,
     "metadata": {},
     "output_type": "execute_result"
    },
    {
     "data": {
      "text/plain": [
       "<DimCoord: time / (days since 0001-01-01 00:00:00)  [1972-01-28 00:00:00]+bounds>"
      ]
     },
     "execution_count": 22,
     "metadata": {},
     "output_type": "execute_result"
    },
    {
     "name": "stdout",
     "output_type": "stream",
     "text": [
      "28\n"
     ]
    },
    {
     "data": {
      "text/plain": [
       "<DimCoord: time / (days since 0001-01-01 00:00:00)  [0121-04-30 12:00:00]+bounds>"
      ]
     },
     "execution_count": 22,
     "metadata": {},
     "output_type": "execute_result"
    },
    {
     "data": {
      "text/plain": [
       "<DimCoord: time / (days since 0001-01-01 00:00:00)  [1972-01-29 00:00:00]+bounds>"
      ]
     },
     "execution_count": 22,
     "metadata": {},
     "output_type": "execute_result"
    },
    {
     "name": "stdout",
     "output_type": "stream",
     "text": [
      "29\n"
     ]
    },
    {
     "data": {
      "text/plain": [
       "<DimCoord: time / (days since 0001-01-01 00:00:00)  [0121-05-01 12:00:00]+bounds>"
      ]
     },
     "execution_count": 22,
     "metadata": {},
     "output_type": "execute_result"
    },
    {
     "data": {
      "text/plain": [
       "<DimCoord: time / (days since 0001-01-01 00:00:00)  [1972-01-30 00:00:00]+bounds>"
      ]
     },
     "execution_count": 22,
     "metadata": {},
     "output_type": "execute_result"
    },
    {
     "name": "stdout",
     "output_type": "stream",
     "text": [
      "30\n"
     ]
    },
    {
     "data": {
      "text/plain": [
       "<DimCoord: time / (days since 0001-01-01 00:00:00)  [0121-05-02 12:00:00]+bounds>"
      ]
     },
     "execution_count": 22,
     "metadata": {},
     "output_type": "execute_result"
    },
    {
     "data": {
      "text/plain": [
       "<DimCoord: time / (days since 0001-01-01 00:00:00)  [1972-01-31 00:00:00]+bounds>"
      ]
     },
     "execution_count": 22,
     "metadata": {},
     "output_type": "execute_result"
    },
    {
     "name": "stdout",
     "output_type": "stream",
     "text": [
      "31\n"
     ]
    },
    {
     "data": {
      "text/plain": [
       "<DimCoord: time / (days since 0001-01-01 00:00:00)  [0121-05-03 12:00:00]+bounds>"
      ]
     },
     "execution_count": 22,
     "metadata": {},
     "output_type": "execute_result"
    },
    {
     "data": {
      "text/plain": [
       "<DimCoord: time / (days since 0001-01-01 00:00:00)  [1972-02-01 00:00:00]+bounds>"
      ]
     },
     "execution_count": 22,
     "metadata": {},
     "output_type": "execute_result"
    },
    {
     "name": "stdout",
     "output_type": "stream",
     "text": [
      "32\n"
     ]
    },
    {
     "data": {
      "text/plain": [
       "<DimCoord: time / (days since 0001-01-01 00:00:00)  [0121-05-04 12:00:00]+bounds>"
      ]
     },
     "execution_count": 22,
     "metadata": {},
     "output_type": "execute_result"
    },
    {
     "data": {
      "text/plain": [
       "<DimCoord: time / (days since 0001-01-01 00:00:00)  [1972-02-02 00:00:00]+bounds>"
      ]
     },
     "execution_count": 22,
     "metadata": {},
     "output_type": "execute_result"
    },
    {
     "name": "stdout",
     "output_type": "stream",
     "text": [
      "33\n"
     ]
    },
    {
     "data": {
      "text/plain": [
       "<DimCoord: time / (days since 0001-01-01 00:00:00)  [0121-05-05 12:00:00]+bounds>"
      ]
     },
     "execution_count": 22,
     "metadata": {},
     "output_type": "execute_result"
    },
    {
     "data": {
      "text/plain": [
       "<DimCoord: time / (days since 0001-01-01 00:00:00)  [1972-02-03 00:00:00]+bounds>"
      ]
     },
     "execution_count": 22,
     "metadata": {},
     "output_type": "execute_result"
    },
    {
     "name": "stdout",
     "output_type": "stream",
     "text": [
      "34\n"
     ]
    },
    {
     "data": {
      "text/plain": [
       "<DimCoord: time / (days since 0001-01-01 00:00:00)  [0121-05-06 12:00:00]+bounds>"
      ]
     },
     "execution_count": 22,
     "metadata": {},
     "output_type": "execute_result"
    },
    {
     "data": {
      "text/plain": [
       "<DimCoord: time / (days since 0001-01-01 00:00:00)  [1972-02-04 00:00:00]+bounds>"
      ]
     },
     "execution_count": 22,
     "metadata": {},
     "output_type": "execute_result"
    },
    {
     "name": "stdout",
     "output_type": "stream",
     "text": [
      "35\n"
     ]
    },
    {
     "data": {
      "text/plain": [
       "<DimCoord: time / (days since 0001-01-01 00:00:00)  [0121-05-07 12:00:00]+bounds>"
      ]
     },
     "execution_count": 22,
     "metadata": {},
     "output_type": "execute_result"
    },
    {
     "data": {
      "text/plain": [
       "<DimCoord: time / (days since 0001-01-01 00:00:00)  [1972-02-05 00:00:00]+bounds>"
      ]
     },
     "execution_count": 22,
     "metadata": {},
     "output_type": "execute_result"
    },
    {
     "name": "stdout",
     "output_type": "stream",
     "text": [
      "36\n"
     ]
    },
    {
     "data": {
      "text/plain": [
       "<DimCoord: time / (days since 0001-01-01 00:00:00)  [0121-05-08 12:00:00]+bounds>"
      ]
     },
     "execution_count": 22,
     "metadata": {},
     "output_type": "execute_result"
    },
    {
     "data": {
      "text/plain": [
       "<DimCoord: time / (days since 0001-01-01 00:00:00)  [1972-02-06 00:00:00]+bounds>"
      ]
     },
     "execution_count": 22,
     "metadata": {},
     "output_type": "execute_result"
    },
    {
     "name": "stdout",
     "output_type": "stream",
     "text": [
      "37\n"
     ]
    },
    {
     "data": {
      "text/plain": [
       "<DimCoord: time / (days since 0001-01-01 00:00:00)  [0121-05-09 12:00:00]+bounds>"
      ]
     },
     "execution_count": 22,
     "metadata": {},
     "output_type": "execute_result"
    },
    {
     "data": {
      "text/plain": [
       "<DimCoord: time / (days since 0001-01-01 00:00:00)  [1972-02-07 00:00:00]+bounds>"
      ]
     },
     "execution_count": 22,
     "metadata": {},
     "output_type": "execute_result"
    },
    {
     "name": "stdout",
     "output_type": "stream",
     "text": [
      "38\n"
     ]
    },
    {
     "data": {
      "text/plain": [
       "<DimCoord: time / (days since 0001-01-01 00:00:00)  [0121-05-10 12:00:00]+bounds>"
      ]
     },
     "execution_count": 22,
     "metadata": {},
     "output_type": "execute_result"
    },
    {
     "data": {
      "text/plain": [
       "<DimCoord: time / (days since 0001-01-01 00:00:00)  [1972-02-08 00:00:00]+bounds>"
      ]
     },
     "execution_count": 22,
     "metadata": {},
     "output_type": "execute_result"
    },
    {
     "name": "stdout",
     "output_type": "stream",
     "text": [
      "39\n"
     ]
    },
    {
     "data": {
      "text/plain": [
       "<DimCoord: time / (days since 0001-01-01 00:00:00)  [0121-05-11 12:00:00]+bounds>"
      ]
     },
     "execution_count": 22,
     "metadata": {},
     "output_type": "execute_result"
    },
    {
     "data": {
      "text/plain": [
       "<DimCoord: time / (days since 0001-01-01 00:00:00)  [1972-02-09 00:00:00]+bounds>"
      ]
     },
     "execution_count": 22,
     "metadata": {},
     "output_type": "execute_result"
    },
    {
     "name": "stdout",
     "output_type": "stream",
     "text": [
      "40\n"
     ]
    },
    {
     "data": {
      "text/plain": [
       "<DimCoord: time / (days since 0001-01-01 00:00:00)  [0121-05-12 12:00:00]+bounds>"
      ]
     },
     "execution_count": 22,
     "metadata": {},
     "output_type": "execute_result"
    },
    {
     "data": {
      "text/plain": [
       "<DimCoord: time / (days since 0001-01-01 00:00:00)  [1972-02-10 00:00:00]+bounds>"
      ]
     },
     "execution_count": 22,
     "metadata": {},
     "output_type": "execute_result"
    },
    {
     "name": "stdout",
     "output_type": "stream",
     "text": [
      "41\n"
     ]
    },
    {
     "data": {
      "text/plain": [
       "<DimCoord: time / (days since 0001-01-01 00:00:00)  [0121-05-13 12:00:00]+bounds>"
      ]
     },
     "execution_count": 22,
     "metadata": {},
     "output_type": "execute_result"
    },
    {
     "data": {
      "text/plain": [
       "<DimCoord: time / (days since 0001-01-01 00:00:00)  [1972-02-11 00:00:00]+bounds>"
      ]
     },
     "execution_count": 22,
     "metadata": {},
     "output_type": "execute_result"
    },
    {
     "name": "stdout",
     "output_type": "stream",
     "text": [
      "42\n"
     ]
    },
    {
     "data": {
      "text/plain": [
       "<DimCoord: time / (days since 0001-01-01 00:00:00)  [0121-05-14 12:00:00]+bounds>"
      ]
     },
     "execution_count": 22,
     "metadata": {},
     "output_type": "execute_result"
    },
    {
     "data": {
      "text/plain": [
       "<DimCoord: time / (days since 0001-01-01 00:00:00)  [1972-02-12 00:00:00]+bounds>"
      ]
     },
     "execution_count": 22,
     "metadata": {},
     "output_type": "execute_result"
    },
    {
     "name": "stdout",
     "output_type": "stream",
     "text": [
      "43\n"
     ]
    },
    {
     "data": {
      "text/plain": [
       "<DimCoord: time / (days since 0001-01-01 00:00:00)  [0121-05-15 12:00:00]+bounds>"
      ]
     },
     "execution_count": 22,
     "metadata": {},
     "output_type": "execute_result"
    },
    {
     "data": {
      "text/plain": [
       "<DimCoord: time / (days since 0001-01-01 00:00:00)  [1972-02-13 00:00:00]+bounds>"
      ]
     },
     "execution_count": 22,
     "metadata": {},
     "output_type": "execute_result"
    },
    {
     "name": "stdout",
     "output_type": "stream",
     "text": [
      "44\n"
     ]
    },
    {
     "data": {
      "text/plain": [
       "<DimCoord: time / (days since 0001-01-01 00:00:00)  [0121-05-16 12:00:00]+bounds>"
      ]
     },
     "execution_count": 22,
     "metadata": {},
     "output_type": "execute_result"
    },
    {
     "data": {
      "text/plain": [
       "<DimCoord: time / (days since 0001-01-01 00:00:00)  [1972-02-14 00:00:00]+bounds>"
      ]
     },
     "execution_count": 22,
     "metadata": {},
     "output_type": "execute_result"
    },
    {
     "name": "stdout",
     "output_type": "stream",
     "text": [
      "45\n"
     ]
    },
    {
     "data": {
      "text/plain": [
       "<DimCoord: time / (days since 0001-01-01 00:00:00)  [0121-05-17 12:00:00]+bounds>"
      ]
     },
     "execution_count": 22,
     "metadata": {},
     "output_type": "execute_result"
    },
    {
     "data": {
      "text/plain": [
       "<DimCoord: time / (days since 0001-01-01 00:00:00)  [1972-02-15 00:00:00]+bounds>"
      ]
     },
     "execution_count": 22,
     "metadata": {},
     "output_type": "execute_result"
    },
    {
     "name": "stdout",
     "output_type": "stream",
     "text": [
      "46\n"
     ]
    },
    {
     "data": {
      "text/plain": [
       "<DimCoord: time / (days since 0001-01-01 00:00:00)  [0121-05-18 12:00:00]+bounds>"
      ]
     },
     "execution_count": 22,
     "metadata": {},
     "output_type": "execute_result"
    },
    {
     "data": {
      "text/plain": [
       "<DimCoord: time / (days since 0001-01-01 00:00:00)  [1972-02-16 00:00:00]+bounds>"
      ]
     },
     "execution_count": 22,
     "metadata": {},
     "output_type": "execute_result"
    },
    {
     "name": "stdout",
     "output_type": "stream",
     "text": [
      "47\n"
     ]
    },
    {
     "data": {
      "text/plain": [
       "<DimCoord: time / (days since 0001-01-01 00:00:00)  [0121-05-19 12:00:00]+bounds>"
      ]
     },
     "execution_count": 22,
     "metadata": {},
     "output_type": "execute_result"
    },
    {
     "data": {
      "text/plain": [
       "<DimCoord: time / (days since 0001-01-01 00:00:00)  [1972-02-17 00:00:00]+bounds>"
      ]
     },
     "execution_count": 22,
     "metadata": {},
     "output_type": "execute_result"
    },
    {
     "name": "stdout",
     "output_type": "stream",
     "text": [
      "48\n"
     ]
    },
    {
     "data": {
      "text/plain": [
       "<DimCoord: time / (days since 0001-01-01 00:00:00)  [0121-05-20 12:00:00]+bounds>"
      ]
     },
     "execution_count": 22,
     "metadata": {},
     "output_type": "execute_result"
    },
    {
     "data": {
      "text/plain": [
       "<DimCoord: time / (days since 0001-01-01 00:00:00)  [1972-02-18 00:00:00]+bounds>"
      ]
     },
     "execution_count": 22,
     "metadata": {},
     "output_type": "execute_result"
    },
    {
     "name": "stdout",
     "output_type": "stream",
     "text": [
      "49\n"
     ]
    },
    {
     "data": {
      "text/plain": [
       "<DimCoord: time / (days since 0001-01-01 00:00:00)  [0121-05-21 12:00:00]+bounds>"
      ]
     },
     "execution_count": 22,
     "metadata": {},
     "output_type": "execute_result"
    },
    {
     "data": {
      "text/plain": [
       "<DimCoord: time / (days since 0001-01-01 00:00:00)  [1972-02-19 00:00:00]+bounds>"
      ]
     },
     "execution_count": 22,
     "metadata": {},
     "output_type": "execute_result"
    },
    {
     "name": "stdout",
     "output_type": "stream",
     "text": [
      "50\n"
     ]
    },
    {
     "data": {
      "text/plain": [
       "<DimCoord: time / (days since 0001-01-01 00:00:00)  [0121-05-22 12:00:00]+bounds>"
      ]
     },
     "execution_count": 22,
     "metadata": {},
     "output_type": "execute_result"
    },
    {
     "data": {
      "text/plain": [
       "<DimCoord: time / (days since 0001-01-01 00:00:00)  [1972-02-20 00:00:00]+bounds>"
      ]
     },
     "execution_count": 22,
     "metadata": {},
     "output_type": "execute_result"
    },
    {
     "name": "stdout",
     "output_type": "stream",
     "text": [
      "51\n"
     ]
    },
    {
     "data": {
      "text/plain": [
       "<DimCoord: time / (days since 0001-01-01 00:00:00)  [0121-05-23 12:00:00]+bounds>"
      ]
     },
     "execution_count": 22,
     "metadata": {},
     "output_type": "execute_result"
    },
    {
     "data": {
      "text/plain": [
       "<DimCoord: time / (days since 0001-01-01 00:00:00)  [1972-02-21 00:00:00]+bounds>"
      ]
     },
     "execution_count": 22,
     "metadata": {},
     "output_type": "execute_result"
    },
    {
     "name": "stdout",
     "output_type": "stream",
     "text": [
      "52\n"
     ]
    },
    {
     "data": {
      "text/plain": [
       "<DimCoord: time / (days since 0001-01-01 00:00:00)  [0121-05-24 12:00:00]+bounds>"
      ]
     },
     "execution_count": 22,
     "metadata": {},
     "output_type": "execute_result"
    },
    {
     "data": {
      "text/plain": [
       "<DimCoord: time / (days since 0001-01-01 00:00:00)  [1972-02-22 00:00:00]+bounds>"
      ]
     },
     "execution_count": 22,
     "metadata": {},
     "output_type": "execute_result"
    },
    {
     "name": "stdout",
     "output_type": "stream",
     "text": [
      "53\n"
     ]
    },
    {
     "data": {
      "text/plain": [
       "<DimCoord: time / (days since 0001-01-01 00:00:00)  [0121-05-25 12:00:00]+bounds>"
      ]
     },
     "execution_count": 22,
     "metadata": {},
     "output_type": "execute_result"
    },
    {
     "data": {
      "text/plain": [
       "<DimCoord: time / (days since 0001-01-01 00:00:00)  [1972-02-23 00:00:00]+bounds>"
      ]
     },
     "execution_count": 22,
     "metadata": {},
     "output_type": "execute_result"
    },
    {
     "name": "stdout",
     "output_type": "stream",
     "text": [
      "54\n"
     ]
    },
    {
     "data": {
      "text/plain": [
       "<DimCoord: time / (days since 0001-01-01 00:00:00)  [0121-05-26 12:00:00]+bounds>"
      ]
     },
     "execution_count": 22,
     "metadata": {},
     "output_type": "execute_result"
    },
    {
     "data": {
      "text/plain": [
       "<DimCoord: time / (days since 0001-01-01 00:00:00)  [1972-02-24 00:00:00]+bounds>"
      ]
     },
     "execution_count": 22,
     "metadata": {},
     "output_type": "execute_result"
    },
    {
     "name": "stdout",
     "output_type": "stream",
     "text": [
      "55\n"
     ]
    },
    {
     "data": {
      "text/plain": [
       "<DimCoord: time / (days since 0001-01-01 00:00:00)  [0121-05-27 12:00:00]+bounds>"
      ]
     },
     "execution_count": 22,
     "metadata": {},
     "output_type": "execute_result"
    },
    {
     "data": {
      "text/plain": [
       "<DimCoord: time / (days since 0001-01-01 00:00:00)  [1972-02-25 00:00:00]+bounds>"
      ]
     },
     "execution_count": 22,
     "metadata": {},
     "output_type": "execute_result"
    },
    {
     "name": "stdout",
     "output_type": "stream",
     "text": [
      "56\n"
     ]
    },
    {
     "data": {
      "text/plain": [
       "<DimCoord: time / (days since 0001-01-01 00:00:00)  [0121-05-28 12:00:00]+bounds>"
      ]
     },
     "execution_count": 22,
     "metadata": {},
     "output_type": "execute_result"
    },
    {
     "data": {
      "text/plain": [
       "<DimCoord: time / (days since 0001-01-01 00:00:00)  [1972-02-26 00:00:00]+bounds>"
      ]
     },
     "execution_count": 22,
     "metadata": {},
     "output_type": "execute_result"
    },
    {
     "name": "stdout",
     "output_type": "stream",
     "text": [
      "57\n"
     ]
    },
    {
     "data": {
      "text/plain": [
       "<DimCoord: time / (days since 0001-01-01 00:00:00)  [0121-05-29 12:00:00]+bounds>"
      ]
     },
     "execution_count": 22,
     "metadata": {},
     "output_type": "execute_result"
    },
    {
     "data": {
      "text/plain": [
       "<DimCoord: time / (days since 0001-01-01 00:00:00)  [1972-02-27 00:00:00]+bounds>"
      ]
     },
     "execution_count": 22,
     "metadata": {},
     "output_type": "execute_result"
    },
    {
     "name": "stdout",
     "output_type": "stream",
     "text": [
      "58\n"
     ]
    },
    {
     "data": {
      "text/plain": [
       "<DimCoord: time / (days since 0001-01-01 00:00:00)  [0121-05-30 12:00:00]+bounds>"
      ]
     },
     "execution_count": 22,
     "metadata": {},
     "output_type": "execute_result"
    },
    {
     "data": {
      "text/plain": [
       "<DimCoord: time / (days since 0001-01-01 00:00:00)  [1972-02-28 00:00:00]+bounds>"
      ]
     },
     "execution_count": 22,
     "metadata": {},
     "output_type": "execute_result"
    },
    {
     "name": "stdout",
     "output_type": "stream",
     "text": [
      "59\n"
     ]
    },
    {
     "data": {
      "text/plain": [
       "<DimCoord: time / (days since 0001-01-01 00:00:00)  [0121-05-31 12:00:00]+bounds>"
      ]
     },
     "execution_count": 22,
     "metadata": {},
     "output_type": "execute_result"
    },
    {
     "data": {
      "text/plain": [
       "<DimCoord: time / (days since 0001-01-01 00:00:00)  [1972-02-29 00:00:00]+bounds>"
      ]
     },
     "execution_count": 22,
     "metadata": {},
     "output_type": "execute_result"
    },
    {
     "name": "stdout",
     "output_type": "stream",
     "text": [
      "60\n"
     ]
    },
    {
     "data": {
      "text/plain": [
       "<DimCoord: time / (days since 0001-01-01 00:00:00)  [0121-06-01 12:00:00]+bounds>"
      ]
     },
     "execution_count": 22,
     "metadata": {},
     "output_type": "execute_result"
    },
    {
     "data": {
      "text/plain": [
       "<DimCoord: time / (days since 0001-01-01 00:00:00)  [1972-03-01 00:00:00]+bounds>"
      ]
     },
     "execution_count": 22,
     "metadata": {},
     "output_type": "execute_result"
    },
    {
     "name": "stdout",
     "output_type": "stream",
     "text": [
      "61\n"
     ]
    },
    {
     "data": {
      "text/plain": [
       "<DimCoord: time / (days since 0001-01-01 00:00:00)  [0121-06-02 12:00:00]+bounds>"
      ]
     },
     "execution_count": 22,
     "metadata": {},
     "output_type": "execute_result"
    },
    {
     "data": {
      "text/plain": [
       "<DimCoord: time / (days since 0001-01-01 00:00:00)  [1972-03-02 00:00:00]+bounds>"
      ]
     },
     "execution_count": 22,
     "metadata": {},
     "output_type": "execute_result"
    },
    {
     "name": "stdout",
     "output_type": "stream",
     "text": [
      "62\n"
     ]
    },
    {
     "data": {
      "text/plain": [
       "<DimCoord: time / (days since 0001-01-01 00:00:00)  [0121-06-03 12:00:00]+bounds>"
      ]
     },
     "execution_count": 22,
     "metadata": {},
     "output_type": "execute_result"
    },
    {
     "data": {
      "text/plain": [
       "<DimCoord: time / (days since 0001-01-01 00:00:00)  [1972-03-03 00:00:00]+bounds>"
      ]
     },
     "execution_count": 22,
     "metadata": {},
     "output_type": "execute_result"
    },
    {
     "name": "stdout",
     "output_type": "stream",
     "text": [
      "63\n"
     ]
    },
    {
     "data": {
      "text/plain": [
       "<DimCoord: time / (days since 0001-01-01 00:00:00)  [0121-06-04 12:00:00]+bounds>"
      ]
     },
     "execution_count": 22,
     "metadata": {},
     "output_type": "execute_result"
    },
    {
     "data": {
      "text/plain": [
       "<DimCoord: time / (days since 0001-01-01 00:00:00)  [1972-03-04 00:00:00]+bounds>"
      ]
     },
     "execution_count": 22,
     "metadata": {},
     "output_type": "execute_result"
    },
    {
     "name": "stdout",
     "output_type": "stream",
     "text": [
      "64\n"
     ]
    },
    {
     "data": {
      "text/plain": [
       "<DimCoord: time / (days since 0001-01-01 00:00:00)  [0121-06-05 12:00:00]+bounds>"
      ]
     },
     "execution_count": 22,
     "metadata": {},
     "output_type": "execute_result"
    },
    {
     "data": {
      "text/plain": [
       "<DimCoord: time / (days since 0001-01-01 00:00:00)  [1972-03-05 00:00:00]+bounds>"
      ]
     },
     "execution_count": 22,
     "metadata": {},
     "output_type": "execute_result"
    },
    {
     "name": "stdout",
     "output_type": "stream",
     "text": [
      "65\n"
     ]
    },
    {
     "data": {
      "text/plain": [
       "<DimCoord: time / (days since 0001-01-01 00:00:00)  [0121-06-06 12:00:00]+bounds>"
      ]
     },
     "execution_count": 22,
     "metadata": {},
     "output_type": "execute_result"
    },
    {
     "data": {
      "text/plain": [
       "<DimCoord: time / (days since 0001-01-01 00:00:00)  [1972-03-06 00:00:00]+bounds>"
      ]
     },
     "execution_count": 22,
     "metadata": {},
     "output_type": "execute_result"
    },
    {
     "name": "stdout",
     "output_type": "stream",
     "text": [
      "66\n"
     ]
    },
    {
     "data": {
      "text/plain": [
       "<DimCoord: time / (days since 0001-01-01 00:00:00)  [0121-06-07 12:00:00]+bounds>"
      ]
     },
     "execution_count": 22,
     "metadata": {},
     "output_type": "execute_result"
    },
    {
     "data": {
      "text/plain": [
       "<DimCoord: time / (days since 0001-01-01 00:00:00)  [1972-03-07 00:00:00]+bounds>"
      ]
     },
     "execution_count": 22,
     "metadata": {},
     "output_type": "execute_result"
    },
    {
     "name": "stdout",
     "output_type": "stream",
     "text": [
      "67\n"
     ]
    },
    {
     "data": {
      "text/plain": [
       "<DimCoord: time / (days since 0001-01-01 00:00:00)  [0121-06-08 12:00:00]+bounds>"
      ]
     },
     "execution_count": 22,
     "metadata": {},
     "output_type": "execute_result"
    },
    {
     "data": {
      "text/plain": [
       "<DimCoord: time / (days since 0001-01-01 00:00:00)  [1972-03-08 00:00:00]+bounds>"
      ]
     },
     "execution_count": 22,
     "metadata": {},
     "output_type": "execute_result"
    },
    {
     "name": "stdout",
     "output_type": "stream",
     "text": [
      "68\n"
     ]
    },
    {
     "data": {
      "text/plain": [
       "<DimCoord: time / (days since 0001-01-01 00:00:00)  [0121-06-09 12:00:00]+bounds>"
      ]
     },
     "execution_count": 22,
     "metadata": {},
     "output_type": "execute_result"
    },
    {
     "data": {
      "text/plain": [
       "<DimCoord: time / (days since 0001-01-01 00:00:00)  [1972-03-09 00:00:00]+bounds>"
      ]
     },
     "execution_count": 22,
     "metadata": {},
     "output_type": "execute_result"
    },
    {
     "name": "stdout",
     "output_type": "stream",
     "text": [
      "69\n"
     ]
    },
    {
     "data": {
      "text/plain": [
       "<DimCoord: time / (days since 0001-01-01 00:00:00)  [0121-06-10 12:00:00]+bounds>"
      ]
     },
     "execution_count": 22,
     "metadata": {},
     "output_type": "execute_result"
    },
    {
     "data": {
      "text/plain": [
       "<DimCoord: time / (days since 0001-01-01 00:00:00)  [1972-03-10 00:00:00]+bounds>"
      ]
     },
     "execution_count": 22,
     "metadata": {},
     "output_type": "execute_result"
    },
    {
     "name": "stdout",
     "output_type": "stream",
     "text": [
      "70\n"
     ]
    },
    {
     "data": {
      "text/plain": [
       "<DimCoord: time / (days since 0001-01-01 00:00:00)  [0121-06-11 12:00:00]+bounds>"
      ]
     },
     "execution_count": 22,
     "metadata": {},
     "output_type": "execute_result"
    },
    {
     "data": {
      "text/plain": [
       "<DimCoord: time / (days since 0001-01-01 00:00:00)  [1972-03-11 00:00:00]+bounds>"
      ]
     },
     "execution_count": 22,
     "metadata": {},
     "output_type": "execute_result"
    },
    {
     "name": "stdout",
     "output_type": "stream",
     "text": [
      "71\n"
     ]
    },
    {
     "data": {
      "text/plain": [
       "<DimCoord: time / (days since 0001-01-01 00:00:00)  [0121-06-12 12:00:00]+bounds>"
      ]
     },
     "execution_count": 22,
     "metadata": {},
     "output_type": "execute_result"
    },
    {
     "data": {
      "text/plain": [
       "<DimCoord: time / (days since 0001-01-01 00:00:00)  [1972-03-12 00:00:00]+bounds>"
      ]
     },
     "execution_count": 22,
     "metadata": {},
     "output_type": "execute_result"
    },
    {
     "name": "stdout",
     "output_type": "stream",
     "text": [
      "72\n"
     ]
    },
    {
     "data": {
      "text/plain": [
       "<DimCoord: time / (days since 0001-01-01 00:00:00)  [0121-06-13 12:00:00]+bounds>"
      ]
     },
     "execution_count": 22,
     "metadata": {},
     "output_type": "execute_result"
    },
    {
     "data": {
      "text/plain": [
       "<DimCoord: time / (days since 0001-01-01 00:00:00)  [1972-03-13 00:00:00]+bounds>"
      ]
     },
     "execution_count": 22,
     "metadata": {},
     "output_type": "execute_result"
    },
    {
     "name": "stdout",
     "output_type": "stream",
     "text": [
      "73\n"
     ]
    },
    {
     "data": {
      "text/plain": [
       "<DimCoord: time / (days since 0001-01-01 00:00:00)  [0121-06-14 12:00:00]+bounds>"
      ]
     },
     "execution_count": 22,
     "metadata": {},
     "output_type": "execute_result"
    },
    {
     "data": {
      "text/plain": [
       "<DimCoord: time / (days since 0001-01-01 00:00:00)  [1972-03-14 00:00:00]+bounds>"
      ]
     },
     "execution_count": 22,
     "metadata": {},
     "output_type": "execute_result"
    },
    {
     "name": "stdout",
     "output_type": "stream",
     "text": [
      "74\n"
     ]
    },
    {
     "data": {
      "text/plain": [
       "<DimCoord: time / (days since 0001-01-01 00:00:00)  [0121-06-15 12:00:00]+bounds>"
      ]
     },
     "execution_count": 22,
     "metadata": {},
     "output_type": "execute_result"
    },
    {
     "data": {
      "text/plain": [
       "<DimCoord: time / (days since 0001-01-01 00:00:00)  [1972-03-15 00:00:00]+bounds>"
      ]
     },
     "execution_count": 22,
     "metadata": {},
     "output_type": "execute_result"
    },
    {
     "name": "stdout",
     "output_type": "stream",
     "text": [
      "75\n"
     ]
    },
    {
     "data": {
      "text/plain": [
       "<DimCoord: time / (days since 0001-01-01 00:00:00)  [0121-06-16 12:00:00]+bounds>"
      ]
     },
     "execution_count": 22,
     "metadata": {},
     "output_type": "execute_result"
    },
    {
     "data": {
      "text/plain": [
       "<DimCoord: time / (days since 0001-01-01 00:00:00)  [1972-03-16 00:00:00]+bounds>"
      ]
     },
     "execution_count": 22,
     "metadata": {},
     "output_type": "execute_result"
    },
    {
     "name": "stdout",
     "output_type": "stream",
     "text": [
      "76\n"
     ]
    },
    {
     "data": {
      "text/plain": [
       "<DimCoord: time / (days since 0001-01-01 00:00:00)  [0121-06-17 12:00:00]+bounds>"
      ]
     },
     "execution_count": 22,
     "metadata": {},
     "output_type": "execute_result"
    },
    {
     "data": {
      "text/plain": [
       "<DimCoord: time / (days since 0001-01-01 00:00:00)  [1972-03-17 00:00:00]+bounds>"
      ]
     },
     "execution_count": 22,
     "metadata": {},
     "output_type": "execute_result"
    },
    {
     "name": "stdout",
     "output_type": "stream",
     "text": [
      "77\n"
     ]
    },
    {
     "data": {
      "text/plain": [
       "<DimCoord: time / (days since 0001-01-01 00:00:00)  [0121-06-18 12:00:00]+bounds>"
      ]
     },
     "execution_count": 22,
     "metadata": {},
     "output_type": "execute_result"
    },
    {
     "data": {
      "text/plain": [
       "<DimCoord: time / (days since 0001-01-01 00:00:00)  [1972-03-18 00:00:00]+bounds>"
      ]
     },
     "execution_count": 22,
     "metadata": {},
     "output_type": "execute_result"
    },
    {
     "name": "stdout",
     "output_type": "stream",
     "text": [
      "78\n"
     ]
    },
    {
     "data": {
      "text/plain": [
       "<DimCoord: time / (days since 0001-01-01 00:00:00)  [0121-06-19 12:00:00]+bounds>"
      ]
     },
     "execution_count": 22,
     "metadata": {},
     "output_type": "execute_result"
    },
    {
     "data": {
      "text/plain": [
       "<DimCoord: time / (days since 0001-01-01 00:00:00)  [1972-03-19 00:00:00]+bounds>"
      ]
     },
     "execution_count": 22,
     "metadata": {},
     "output_type": "execute_result"
    },
    {
     "name": "stdout",
     "output_type": "stream",
     "text": [
      "79\n"
     ]
    },
    {
     "data": {
      "text/plain": [
       "<DimCoord: time / (days since 0001-01-01 00:00:00)  [0121-06-20 12:00:00]+bounds>"
      ]
     },
     "execution_count": 22,
     "metadata": {},
     "output_type": "execute_result"
    },
    {
     "data": {
      "text/plain": [
       "<DimCoord: time / (days since 0001-01-01 00:00:00)  [1972-03-20 00:00:00]+bounds>"
      ]
     },
     "execution_count": 22,
     "metadata": {},
     "output_type": "execute_result"
    },
    {
     "name": "stdout",
     "output_type": "stream",
     "text": [
      "80\n"
     ]
    },
    {
     "data": {
      "text/plain": [
       "<DimCoord: time / (days since 0001-01-01 00:00:00)  [0121-06-21 12:00:00]+bounds>"
      ]
     },
     "execution_count": 22,
     "metadata": {},
     "output_type": "execute_result"
    },
    {
     "data": {
      "text/plain": [
       "<DimCoord: time / (days since 0001-01-01 00:00:00)  [1972-03-21 00:00:00]+bounds>"
      ]
     },
     "execution_count": 22,
     "metadata": {},
     "output_type": "execute_result"
    },
    {
     "name": "stdout",
     "output_type": "stream",
     "text": [
      "81\n"
     ]
    },
    {
     "data": {
      "text/plain": [
       "<DimCoord: time / (days since 0001-01-01 00:00:00)  [0121-06-22 12:00:00]+bounds>"
      ]
     },
     "execution_count": 22,
     "metadata": {},
     "output_type": "execute_result"
    },
    {
     "data": {
      "text/plain": [
       "<DimCoord: time / (days since 0001-01-01 00:00:00)  [1972-03-22 00:00:00]+bounds>"
      ]
     },
     "execution_count": 22,
     "metadata": {},
     "output_type": "execute_result"
    },
    {
     "name": "stdout",
     "output_type": "stream",
     "text": [
      "82\n"
     ]
    },
    {
     "data": {
      "text/plain": [
       "<DimCoord: time / (days since 0001-01-01 00:00:00)  [0121-06-23 12:00:00]+bounds>"
      ]
     },
     "execution_count": 22,
     "metadata": {},
     "output_type": "execute_result"
    },
    {
     "data": {
      "text/plain": [
       "<DimCoord: time / (days since 0001-01-01 00:00:00)  [1972-03-23 00:00:00]+bounds>"
      ]
     },
     "execution_count": 22,
     "metadata": {},
     "output_type": "execute_result"
    },
    {
     "name": "stdout",
     "output_type": "stream",
     "text": [
      "83\n"
     ]
    },
    {
     "data": {
      "text/plain": [
       "<DimCoord: time / (days since 0001-01-01 00:00:00)  [0121-06-24 12:00:00]+bounds>"
      ]
     },
     "execution_count": 22,
     "metadata": {},
     "output_type": "execute_result"
    },
    {
     "data": {
      "text/plain": [
       "<DimCoord: time / (days since 0001-01-01 00:00:00)  [1972-03-24 00:00:00]+bounds>"
      ]
     },
     "execution_count": 22,
     "metadata": {},
     "output_type": "execute_result"
    },
    {
     "name": "stdout",
     "output_type": "stream",
     "text": [
      "84\n"
     ]
    },
    {
     "data": {
      "text/plain": [
       "<DimCoord: time / (days since 0001-01-01 00:00:00)  [0121-06-25 12:00:00]+bounds>"
      ]
     },
     "execution_count": 22,
     "metadata": {},
     "output_type": "execute_result"
    },
    {
     "data": {
      "text/plain": [
       "<DimCoord: time / (days since 0001-01-01 00:00:00)  [1972-03-25 00:00:00]+bounds>"
      ]
     },
     "execution_count": 22,
     "metadata": {},
     "output_type": "execute_result"
    },
    {
     "name": "stdout",
     "output_type": "stream",
     "text": [
      "85\n"
     ]
    },
    {
     "data": {
      "text/plain": [
       "<DimCoord: time / (days since 0001-01-01 00:00:00)  [0121-06-26 12:00:00]+bounds>"
      ]
     },
     "execution_count": 22,
     "metadata": {},
     "output_type": "execute_result"
    },
    {
     "data": {
      "text/plain": [
       "<DimCoord: time / (days since 0001-01-01 00:00:00)  [1972-03-26 00:00:00]+bounds>"
      ]
     },
     "execution_count": 22,
     "metadata": {},
     "output_type": "execute_result"
    },
    {
     "name": "stdout",
     "output_type": "stream",
     "text": [
      "86\n"
     ]
    },
    {
     "data": {
      "text/plain": [
       "<DimCoord: time / (days since 0001-01-01 00:00:00)  [0121-06-27 12:00:00]+bounds>"
      ]
     },
     "execution_count": 22,
     "metadata": {},
     "output_type": "execute_result"
    },
    {
     "data": {
      "text/plain": [
       "<DimCoord: time / (days since 0001-01-01 00:00:00)  [1972-03-27 00:00:00]+bounds>"
      ]
     },
     "execution_count": 22,
     "metadata": {},
     "output_type": "execute_result"
    },
    {
     "name": "stdout",
     "output_type": "stream",
     "text": [
      "87\n"
     ]
    },
    {
     "data": {
      "text/plain": [
       "<DimCoord: time / (days since 0001-01-01 00:00:00)  [0121-06-28 12:00:00]+bounds>"
      ]
     },
     "execution_count": 22,
     "metadata": {},
     "output_type": "execute_result"
    },
    {
     "data": {
      "text/plain": [
       "<DimCoord: time / (days since 0001-01-01 00:00:00)  [1972-03-28 00:00:00]+bounds>"
      ]
     },
     "execution_count": 22,
     "metadata": {},
     "output_type": "execute_result"
    },
    {
     "name": "stdout",
     "output_type": "stream",
     "text": [
      "88\n"
     ]
    },
    {
     "data": {
      "text/plain": [
       "<DimCoord: time / (days since 0001-01-01 00:00:00)  [0121-06-29 12:00:00]+bounds>"
      ]
     },
     "execution_count": 22,
     "metadata": {},
     "output_type": "execute_result"
    },
    {
     "data": {
      "text/plain": [
       "<DimCoord: time / (days since 0001-01-01 00:00:00)  [1972-03-29 00:00:00]+bounds>"
      ]
     },
     "execution_count": 22,
     "metadata": {},
     "output_type": "execute_result"
    },
    {
     "name": "stdout",
     "output_type": "stream",
     "text": [
      "89\n"
     ]
    },
    {
     "data": {
      "text/plain": [
       "<DimCoord: time / (days since 0001-01-01 00:00:00)  [0121-06-30 12:00:00]+bounds>"
      ]
     },
     "execution_count": 22,
     "metadata": {},
     "output_type": "execute_result"
    },
    {
     "data": {
      "text/plain": [
       "<DimCoord: time / (days since 0001-01-01 00:00:00)  [1972-03-30 00:00:00]+bounds>"
      ]
     },
     "execution_count": 22,
     "metadata": {},
     "output_type": "execute_result"
    },
    {
     "name": "stdout",
     "output_type": "stream",
     "text": [
      "90\n"
     ]
    },
    {
     "data": {
      "text/plain": [
       "<DimCoord: time / (days since 0001-01-01 00:00:00)  [0121-07-01 12:00:00]+bounds>"
      ]
     },
     "execution_count": 22,
     "metadata": {},
     "output_type": "execute_result"
    },
    {
     "data": {
      "text/plain": [
       "<DimCoord: time / (days since 0001-01-01 00:00:00)  [1972-03-31 00:00:00]+bounds>"
      ]
     },
     "execution_count": 22,
     "metadata": {},
     "output_type": "execute_result"
    },
    {
     "name": "stdout",
     "output_type": "stream",
     "text": [
      "91\n"
     ]
    },
    {
     "data": {
      "text/plain": [
       "<DimCoord: time / (days since 0001-01-01 00:00:00)  [0121-07-02 12:00:00]+bounds>"
      ]
     },
     "execution_count": 22,
     "metadata": {},
     "output_type": "execute_result"
    },
    {
     "data": {
      "text/plain": [
       "<DimCoord: time / (days since 0001-01-01 00:00:00)  [1972-04-01 00:00:00]+bounds>"
      ]
     },
     "execution_count": 22,
     "metadata": {},
     "output_type": "execute_result"
    },
    {
     "name": "stdout",
     "output_type": "stream",
     "text": [
      "92\n"
     ]
    },
    {
     "data": {
      "text/plain": [
       "<DimCoord: time / (days since 0001-01-01 00:00:00)  [0121-07-03 12:00:00]+bounds>"
      ]
     },
     "execution_count": 22,
     "metadata": {},
     "output_type": "execute_result"
    },
    {
     "data": {
      "text/plain": [
       "<DimCoord: time / (days since 0001-01-01 00:00:00)  [1972-04-02 00:00:00]+bounds>"
      ]
     },
     "execution_count": 22,
     "metadata": {},
     "output_type": "execute_result"
    },
    {
     "name": "stdout",
     "output_type": "stream",
     "text": [
      "93\n"
     ]
    },
    {
     "data": {
      "text/plain": [
       "<DimCoord: time / (days since 0001-01-01 00:00:00)  [0121-07-04 12:00:00]+bounds>"
      ]
     },
     "execution_count": 22,
     "metadata": {},
     "output_type": "execute_result"
    },
    {
     "data": {
      "text/plain": [
       "<DimCoord: time / (days since 0001-01-01 00:00:00)  [1972-04-03 00:00:00]+bounds>"
      ]
     },
     "execution_count": 22,
     "metadata": {},
     "output_type": "execute_result"
    },
    {
     "name": "stdout",
     "output_type": "stream",
     "text": [
      "94\n"
     ]
    },
    {
     "data": {
      "text/plain": [
       "<DimCoord: time / (days since 0001-01-01 00:00:00)  [0121-07-05 12:00:00]+bounds>"
      ]
     },
     "execution_count": 22,
     "metadata": {},
     "output_type": "execute_result"
    },
    {
     "data": {
      "text/plain": [
       "<DimCoord: time / (days since 0001-01-01 00:00:00)  [1972-04-04 00:00:00]+bounds>"
      ]
     },
     "execution_count": 22,
     "metadata": {},
     "output_type": "execute_result"
    },
    {
     "name": "stdout",
     "output_type": "stream",
     "text": [
      "95\n"
     ]
    },
    {
     "data": {
      "text/plain": [
       "<DimCoord: time / (days since 0001-01-01 00:00:00)  [0121-07-06 12:00:00]+bounds>"
      ]
     },
     "execution_count": 22,
     "metadata": {},
     "output_type": "execute_result"
    },
    {
     "data": {
      "text/plain": [
       "<DimCoord: time / (days since 0001-01-01 00:00:00)  [1972-04-05 00:00:00]+bounds>"
      ]
     },
     "execution_count": 22,
     "metadata": {},
     "output_type": "execute_result"
    },
    {
     "name": "stdout",
     "output_type": "stream",
     "text": [
      "96\n"
     ]
    },
    {
     "data": {
      "text/plain": [
       "<DimCoord: time / (days since 0001-01-01 00:00:00)  [0121-07-07 12:00:00]+bounds>"
      ]
     },
     "execution_count": 22,
     "metadata": {},
     "output_type": "execute_result"
    },
    {
     "data": {
      "text/plain": [
       "<DimCoord: time / (days since 0001-01-01 00:00:00)  [1972-04-06 00:00:00]+bounds>"
      ]
     },
     "execution_count": 22,
     "metadata": {},
     "output_type": "execute_result"
    },
    {
     "name": "stdout",
     "output_type": "stream",
     "text": [
      "97\n"
     ]
    },
    {
     "data": {
      "text/plain": [
       "<DimCoord: time / (days since 0001-01-01 00:00:00)  [0121-07-08 12:00:00]+bounds>"
      ]
     },
     "execution_count": 22,
     "metadata": {},
     "output_type": "execute_result"
    },
    {
     "data": {
      "text/plain": [
       "<DimCoord: time / (days since 0001-01-01 00:00:00)  [1972-04-07 00:00:00]+bounds>"
      ]
     },
     "execution_count": 22,
     "metadata": {},
     "output_type": "execute_result"
    },
    {
     "name": "stdout",
     "output_type": "stream",
     "text": [
      "98\n"
     ]
    },
    {
     "data": {
      "text/plain": [
       "<DimCoord: time / (days since 0001-01-01 00:00:00)  [0121-07-09 12:00:00]+bounds>"
      ]
     },
     "execution_count": 22,
     "metadata": {},
     "output_type": "execute_result"
    },
    {
     "data": {
      "text/plain": [
       "<DimCoord: time / (days since 0001-01-01 00:00:00)  [1972-04-08 00:00:00]+bounds>"
      ]
     },
     "execution_count": 22,
     "metadata": {},
     "output_type": "execute_result"
    },
    {
     "name": "stdout",
     "output_type": "stream",
     "text": [
      "99\n"
     ]
    },
    {
     "data": {
      "text/plain": [
       "<DimCoord: time / (days since 0001-01-01 00:00:00)  [0121-07-10 12:00:00]+bounds>"
      ]
     },
     "execution_count": 22,
     "metadata": {},
     "output_type": "execute_result"
    },
    {
     "data": {
      "text/plain": [
       "<DimCoord: time / (days since 0001-01-01 00:00:00)  [1972-04-09 00:00:00]+bounds>"
      ]
     },
     "execution_count": 22,
     "metadata": {},
     "output_type": "execute_result"
    },
    {
     "name": "stdout",
     "output_type": "stream",
     "text": [
      "100\n"
     ]
    },
    {
     "data": {
      "text/plain": [
       "<DimCoord: time / (days since 0001-01-01 00:00:00)  [0121-07-11 12:00:00]+bounds>"
      ]
     },
     "execution_count": 22,
     "metadata": {},
     "output_type": "execute_result"
    },
    {
     "data": {
      "text/plain": [
       "<DimCoord: time / (days since 0001-01-01 00:00:00)  [1972-04-10 00:00:00]+bounds>"
      ]
     },
     "execution_count": 22,
     "metadata": {},
     "output_type": "execute_result"
    },
    {
     "name": "stdout",
     "output_type": "stream",
     "text": [
      "101\n"
     ]
    },
    {
     "data": {
      "text/plain": [
       "<DimCoord: time / (days since 0001-01-01 00:00:00)  [0121-07-12 12:00:00]+bounds>"
      ]
     },
     "execution_count": 22,
     "metadata": {},
     "output_type": "execute_result"
    },
    {
     "data": {
      "text/plain": [
       "<DimCoord: time / (days since 0001-01-01 00:00:00)  [1972-04-11 00:00:00]+bounds>"
      ]
     },
     "execution_count": 22,
     "metadata": {},
     "output_type": "execute_result"
    },
    {
     "name": "stdout",
     "output_type": "stream",
     "text": [
      "102\n"
     ]
    },
    {
     "data": {
      "text/plain": [
       "<DimCoord: time / (days since 0001-01-01 00:00:00)  [0121-07-13 12:00:00]+bounds>"
      ]
     },
     "execution_count": 22,
     "metadata": {},
     "output_type": "execute_result"
    },
    {
     "data": {
      "text/plain": [
       "<DimCoord: time / (days since 0001-01-01 00:00:00)  [1972-04-12 00:00:00]+bounds>"
      ]
     },
     "execution_count": 22,
     "metadata": {},
     "output_type": "execute_result"
    },
    {
     "name": "stdout",
     "output_type": "stream",
     "text": [
      "103\n"
     ]
    },
    {
     "data": {
      "text/plain": [
       "<DimCoord: time / (days since 0001-01-01 00:00:00)  [0121-07-14 12:00:00]+bounds>"
      ]
     },
     "execution_count": 22,
     "metadata": {},
     "output_type": "execute_result"
    },
    {
     "data": {
      "text/plain": [
       "<DimCoord: time / (days since 0001-01-01 00:00:00)  [1972-04-13 00:00:00]+bounds>"
      ]
     },
     "execution_count": 22,
     "metadata": {},
     "output_type": "execute_result"
    },
    {
     "name": "stdout",
     "output_type": "stream",
     "text": [
      "104\n"
     ]
    },
    {
     "data": {
      "text/plain": [
       "<DimCoord: time / (days since 0001-01-01 00:00:00)  [0121-07-15 12:00:00]+bounds>"
      ]
     },
     "execution_count": 22,
     "metadata": {},
     "output_type": "execute_result"
    },
    {
     "data": {
      "text/plain": [
       "<DimCoord: time / (days since 0001-01-01 00:00:00)  [1972-04-14 00:00:00]+bounds>"
      ]
     },
     "execution_count": 22,
     "metadata": {},
     "output_type": "execute_result"
    },
    {
     "name": "stdout",
     "output_type": "stream",
     "text": [
      "105\n"
     ]
    },
    {
     "data": {
      "text/plain": [
       "<DimCoord: time / (days since 0001-01-01 00:00:00)  [0121-07-16 12:00:00]+bounds>"
      ]
     },
     "execution_count": 22,
     "metadata": {},
     "output_type": "execute_result"
    },
    {
     "data": {
      "text/plain": [
       "<DimCoord: time / (days since 0001-01-01 00:00:00)  [1972-04-15 00:00:00]+bounds>"
      ]
     },
     "execution_count": 22,
     "metadata": {},
     "output_type": "execute_result"
    },
    {
     "name": "stdout",
     "output_type": "stream",
     "text": [
      "106\n"
     ]
    },
    {
     "data": {
      "text/plain": [
       "<DimCoord: time / (days since 0001-01-01 00:00:00)  [0121-07-17 12:00:00]+bounds>"
      ]
     },
     "execution_count": 22,
     "metadata": {},
     "output_type": "execute_result"
    },
    {
     "data": {
      "text/plain": [
       "<DimCoord: time / (days since 0001-01-01 00:00:00)  [1972-04-16 00:00:00]+bounds>"
      ]
     },
     "execution_count": 22,
     "metadata": {},
     "output_type": "execute_result"
    },
    {
     "name": "stdout",
     "output_type": "stream",
     "text": [
      "107\n"
     ]
    },
    {
     "data": {
      "text/plain": [
       "<DimCoord: time / (days since 0001-01-01 00:00:00)  [0121-07-18 12:00:00]+bounds>"
      ]
     },
     "execution_count": 22,
     "metadata": {},
     "output_type": "execute_result"
    },
    {
     "data": {
      "text/plain": [
       "<DimCoord: time / (days since 0001-01-01 00:00:00)  [1972-04-17 00:00:00]+bounds>"
      ]
     },
     "execution_count": 22,
     "metadata": {},
     "output_type": "execute_result"
    },
    {
     "name": "stdout",
     "output_type": "stream",
     "text": [
      "108\n"
     ]
    },
    {
     "data": {
      "text/plain": [
       "<DimCoord: time / (days since 0001-01-01 00:00:00)  [0121-07-19 12:00:00]+bounds>"
      ]
     },
     "execution_count": 22,
     "metadata": {},
     "output_type": "execute_result"
    },
    {
     "data": {
      "text/plain": [
       "<DimCoord: time / (days since 0001-01-01 00:00:00)  [1972-04-18 00:00:00]+bounds>"
      ]
     },
     "execution_count": 22,
     "metadata": {},
     "output_type": "execute_result"
    },
    {
     "name": "stdout",
     "output_type": "stream",
     "text": [
      "109\n"
     ]
    },
    {
     "data": {
      "text/plain": [
       "<DimCoord: time / (days since 0001-01-01 00:00:00)  [0121-07-20 12:00:00]+bounds>"
      ]
     },
     "execution_count": 22,
     "metadata": {},
     "output_type": "execute_result"
    },
    {
     "data": {
      "text/plain": [
       "<DimCoord: time / (days since 0001-01-01 00:00:00)  [1972-04-19 00:00:00]+bounds>"
      ]
     },
     "execution_count": 22,
     "metadata": {},
     "output_type": "execute_result"
    },
    {
     "name": "stdout",
     "output_type": "stream",
     "text": [
      "110\n"
     ]
    },
    {
     "data": {
      "text/plain": [
       "<DimCoord: time / (days since 0001-01-01 00:00:00)  [0121-07-21 12:00:00]+bounds>"
      ]
     },
     "execution_count": 22,
     "metadata": {},
     "output_type": "execute_result"
    },
    {
     "data": {
      "text/plain": [
       "<DimCoord: time / (days since 0001-01-01 00:00:00)  [1972-04-20 00:00:00]+bounds>"
      ]
     },
     "execution_count": 22,
     "metadata": {},
     "output_type": "execute_result"
    },
    {
     "name": "stdout",
     "output_type": "stream",
     "text": [
      "111\n"
     ]
    },
    {
     "data": {
      "text/plain": [
       "<DimCoord: time / (days since 0001-01-01 00:00:00)  [0121-07-22 12:00:00]+bounds>"
      ]
     },
     "execution_count": 22,
     "metadata": {},
     "output_type": "execute_result"
    },
    {
     "data": {
      "text/plain": [
       "<DimCoord: time / (days since 0001-01-01 00:00:00)  [1972-04-21 00:00:00]+bounds>"
      ]
     },
     "execution_count": 22,
     "metadata": {},
     "output_type": "execute_result"
    },
    {
     "name": "stdout",
     "output_type": "stream",
     "text": [
      "112\n"
     ]
    },
    {
     "data": {
      "text/plain": [
       "<DimCoord: time / (days since 0001-01-01 00:00:00)  [0121-07-23 12:00:00]+bounds>"
      ]
     },
     "execution_count": 22,
     "metadata": {},
     "output_type": "execute_result"
    },
    {
     "data": {
      "text/plain": [
       "<DimCoord: time / (days since 0001-01-01 00:00:00)  [1972-04-22 00:00:00]+bounds>"
      ]
     },
     "execution_count": 22,
     "metadata": {},
     "output_type": "execute_result"
    },
    {
     "name": "stdout",
     "output_type": "stream",
     "text": [
      "113\n"
     ]
    },
    {
     "data": {
      "text/plain": [
       "<DimCoord: time / (days since 0001-01-01 00:00:00)  [0121-07-24 12:00:00]+bounds>"
      ]
     },
     "execution_count": 22,
     "metadata": {},
     "output_type": "execute_result"
    },
    {
     "data": {
      "text/plain": [
       "<DimCoord: time / (days since 0001-01-01 00:00:00)  [1972-04-23 00:00:00]+bounds>"
      ]
     },
     "execution_count": 22,
     "metadata": {},
     "output_type": "execute_result"
    },
    {
     "name": "stdout",
     "output_type": "stream",
     "text": [
      "114\n"
     ]
    },
    {
     "data": {
      "text/plain": [
       "<DimCoord: time / (days since 0001-01-01 00:00:00)  [0121-07-25 12:00:00]+bounds>"
      ]
     },
     "execution_count": 22,
     "metadata": {},
     "output_type": "execute_result"
    },
    {
     "data": {
      "text/plain": [
       "<DimCoord: time / (days since 0001-01-01 00:00:00)  [1972-04-24 00:00:00]+bounds>"
      ]
     },
     "execution_count": 22,
     "metadata": {},
     "output_type": "execute_result"
    },
    {
     "name": "stdout",
     "output_type": "stream",
     "text": [
      "115\n"
     ]
    },
    {
     "data": {
      "text/plain": [
       "<DimCoord: time / (days since 0001-01-01 00:00:00)  [0121-07-26 12:00:00]+bounds>"
      ]
     },
     "execution_count": 22,
     "metadata": {},
     "output_type": "execute_result"
    },
    {
     "data": {
      "text/plain": [
       "<DimCoord: time / (days since 0001-01-01 00:00:00)  [1972-04-25 00:00:00]+bounds>"
      ]
     },
     "execution_count": 22,
     "metadata": {},
     "output_type": "execute_result"
    },
    {
     "name": "stdout",
     "output_type": "stream",
     "text": [
      "116\n"
     ]
    },
    {
     "data": {
      "text/plain": [
       "<DimCoord: time / (days since 0001-01-01 00:00:00)  [0121-07-27 12:00:00]+bounds>"
      ]
     },
     "execution_count": 22,
     "metadata": {},
     "output_type": "execute_result"
    },
    {
     "data": {
      "text/plain": [
       "<DimCoord: time / (days since 0001-01-01 00:00:00)  [1972-04-26 00:00:00]+bounds>"
      ]
     },
     "execution_count": 22,
     "metadata": {},
     "output_type": "execute_result"
    },
    {
     "name": "stdout",
     "output_type": "stream",
     "text": [
      "117\n"
     ]
    },
    {
     "data": {
      "text/plain": [
       "<DimCoord: time / (days since 0001-01-01 00:00:00)  [0121-07-28 12:00:00]+bounds>"
      ]
     },
     "execution_count": 22,
     "metadata": {},
     "output_type": "execute_result"
    },
    {
     "data": {
      "text/plain": [
       "<DimCoord: time / (days since 0001-01-01 00:00:00)  [1972-04-27 00:00:00]+bounds>"
      ]
     },
     "execution_count": 22,
     "metadata": {},
     "output_type": "execute_result"
    },
    {
     "name": "stdout",
     "output_type": "stream",
     "text": [
      "118\n"
     ]
    },
    {
     "data": {
      "text/plain": [
       "<DimCoord: time / (days since 0001-01-01 00:00:00)  [0121-07-29 12:00:00]+bounds>"
      ]
     },
     "execution_count": 22,
     "metadata": {},
     "output_type": "execute_result"
    },
    {
     "data": {
      "text/plain": [
       "<DimCoord: time / (days since 0001-01-01 00:00:00)  [1972-04-28 00:00:00]+bounds>"
      ]
     },
     "execution_count": 22,
     "metadata": {},
     "output_type": "execute_result"
    },
    {
     "name": "stdout",
     "output_type": "stream",
     "text": [
      "119\n"
     ]
    },
    {
     "data": {
      "text/plain": [
       "<DimCoord: time / (days since 0001-01-01 00:00:00)  [0121-07-30 12:00:00]+bounds>"
      ]
     },
     "execution_count": 22,
     "metadata": {},
     "output_type": "execute_result"
    },
    {
     "data": {
      "text/plain": [
       "<DimCoord: time / (days since 0001-01-01 00:00:00)  [1972-04-29 00:00:00]+bounds>"
      ]
     },
     "execution_count": 22,
     "metadata": {},
     "output_type": "execute_result"
    },
    {
     "name": "stdout",
     "output_type": "stream",
     "text": [
      "120\n"
     ]
    },
    {
     "data": {
      "text/plain": [
       "<DimCoord: time / (days since 0001-01-01 00:00:00)  [0121-07-31 12:00:00]+bounds>"
      ]
     },
     "execution_count": 22,
     "metadata": {},
     "output_type": "execute_result"
    },
    {
     "data": {
      "text/plain": [
       "<DimCoord: time / (days since 0001-01-01 00:00:00)  [1972-04-30 00:00:00]+bounds>"
      ]
     },
     "execution_count": 22,
     "metadata": {},
     "output_type": "execute_result"
    },
    {
     "name": "stdout",
     "output_type": "stream",
     "text": [
      "121\n"
     ]
    },
    {
     "data": {
      "text/plain": [
       "<DimCoord: time / (days since 0001-01-01 00:00:00)  [0121-08-01 12:00:00]+bounds>"
      ]
     },
     "execution_count": 22,
     "metadata": {},
     "output_type": "execute_result"
    },
    {
     "data": {
      "text/plain": [
       "<DimCoord: time / (days since 0001-01-01 00:00:00)  [1972-05-01 00:00:00]+bounds>"
      ]
     },
     "execution_count": 22,
     "metadata": {},
     "output_type": "execute_result"
    },
    {
     "name": "stdout",
     "output_type": "stream",
     "text": [
      "122\n"
     ]
    },
    {
     "data": {
      "text/plain": [
       "<DimCoord: time / (days since 0001-01-01 00:00:00)  [0121-08-02 12:00:00]+bounds>"
      ]
     },
     "execution_count": 22,
     "metadata": {},
     "output_type": "execute_result"
    },
    {
     "data": {
      "text/plain": [
       "<DimCoord: time / (days since 0001-01-01 00:00:00)  [1972-05-02 00:00:00]+bounds>"
      ]
     },
     "execution_count": 22,
     "metadata": {},
     "output_type": "execute_result"
    },
    {
     "name": "stdout",
     "output_type": "stream",
     "text": [
      "123\n"
     ]
    },
    {
     "data": {
      "text/plain": [
       "<DimCoord: time / (days since 0001-01-01 00:00:00)  [0121-08-03 12:00:00]+bounds>"
      ]
     },
     "execution_count": 22,
     "metadata": {},
     "output_type": "execute_result"
    },
    {
     "data": {
      "text/plain": [
       "<DimCoord: time / (days since 0001-01-01 00:00:00)  [1972-05-03 00:00:00]+bounds>"
      ]
     },
     "execution_count": 22,
     "metadata": {},
     "output_type": "execute_result"
    },
    {
     "name": "stdout",
     "output_type": "stream",
     "text": [
      "124\n"
     ]
    },
    {
     "data": {
      "text/plain": [
       "<DimCoord: time / (days since 0001-01-01 00:00:00)  [0121-08-04 12:00:00]+bounds>"
      ]
     },
     "execution_count": 22,
     "metadata": {},
     "output_type": "execute_result"
    },
    {
     "data": {
      "text/plain": [
       "<DimCoord: time / (days since 0001-01-01 00:00:00)  [1972-05-04 00:00:00]+bounds>"
      ]
     },
     "execution_count": 22,
     "metadata": {},
     "output_type": "execute_result"
    },
    {
     "name": "stdout",
     "output_type": "stream",
     "text": [
      "125\n"
     ]
    },
    {
     "data": {
      "text/plain": [
       "<DimCoord: time / (days since 0001-01-01 00:00:00)  [0121-08-05 12:00:00]+bounds>"
      ]
     },
     "execution_count": 22,
     "metadata": {},
     "output_type": "execute_result"
    },
    {
     "data": {
      "text/plain": [
       "<DimCoord: time / (days since 0001-01-01 00:00:00)  [1972-05-05 00:00:00]+bounds>"
      ]
     },
     "execution_count": 22,
     "metadata": {},
     "output_type": "execute_result"
    },
    {
     "name": "stdout",
     "output_type": "stream",
     "text": [
      "126\n"
     ]
    },
    {
     "data": {
      "text/plain": [
       "<DimCoord: time / (days since 0001-01-01 00:00:00)  [0121-08-06 12:00:00]+bounds>"
      ]
     },
     "execution_count": 22,
     "metadata": {},
     "output_type": "execute_result"
    },
    {
     "data": {
      "text/plain": [
       "<DimCoord: time / (days since 0001-01-01 00:00:00)  [1972-05-06 00:00:00]+bounds>"
      ]
     },
     "execution_count": 22,
     "metadata": {},
     "output_type": "execute_result"
    },
    {
     "name": "stdout",
     "output_type": "stream",
     "text": [
      "127\n"
     ]
    },
    {
     "data": {
      "text/plain": [
       "<DimCoord: time / (days since 0001-01-01 00:00:00)  [0121-08-07 12:00:00]+bounds>"
      ]
     },
     "execution_count": 22,
     "metadata": {},
     "output_type": "execute_result"
    },
    {
     "data": {
      "text/plain": [
       "<DimCoord: time / (days since 0001-01-01 00:00:00)  [1972-05-07 00:00:00]+bounds>"
      ]
     },
     "execution_count": 22,
     "metadata": {},
     "output_type": "execute_result"
    },
    {
     "name": "stdout",
     "output_type": "stream",
     "text": [
      "128\n"
     ]
    },
    {
     "data": {
      "text/plain": [
       "<DimCoord: time / (days since 0001-01-01 00:00:00)  [0121-08-08 12:00:00]+bounds>"
      ]
     },
     "execution_count": 22,
     "metadata": {},
     "output_type": "execute_result"
    },
    {
     "data": {
      "text/plain": [
       "<DimCoord: time / (days since 0001-01-01 00:00:00)  [1972-05-08 00:00:00]+bounds>"
      ]
     },
     "execution_count": 22,
     "metadata": {},
     "output_type": "execute_result"
    },
    {
     "name": "stdout",
     "output_type": "stream",
     "text": [
      "129\n"
     ]
    },
    {
     "data": {
      "text/plain": [
       "<DimCoord: time / (days since 0001-01-01 00:00:00)  [0121-08-09 12:00:00]+bounds>"
      ]
     },
     "execution_count": 22,
     "metadata": {},
     "output_type": "execute_result"
    },
    {
     "data": {
      "text/plain": [
       "<DimCoord: time / (days since 0001-01-01 00:00:00)  [1972-05-09 00:00:00]+bounds>"
      ]
     },
     "execution_count": 22,
     "metadata": {},
     "output_type": "execute_result"
    },
    {
     "name": "stdout",
     "output_type": "stream",
     "text": [
      "130\n"
     ]
    },
    {
     "data": {
      "text/plain": [
       "<DimCoord: time / (days since 0001-01-01 00:00:00)  [0121-08-10 12:00:00]+bounds>"
      ]
     },
     "execution_count": 22,
     "metadata": {},
     "output_type": "execute_result"
    },
    {
     "data": {
      "text/plain": [
       "<DimCoord: time / (days since 0001-01-01 00:00:00)  [1972-05-10 00:00:00]+bounds>"
      ]
     },
     "execution_count": 22,
     "metadata": {},
     "output_type": "execute_result"
    },
    {
     "name": "stdout",
     "output_type": "stream",
     "text": [
      "131\n"
     ]
    },
    {
     "data": {
      "text/plain": [
       "<DimCoord: time / (days since 0001-01-01 00:00:00)  [0121-08-11 12:00:00]+bounds>"
      ]
     },
     "execution_count": 22,
     "metadata": {},
     "output_type": "execute_result"
    },
    {
     "data": {
      "text/plain": [
       "<DimCoord: time / (days since 0001-01-01 00:00:00)  [1972-05-11 00:00:00]+bounds>"
      ]
     },
     "execution_count": 22,
     "metadata": {},
     "output_type": "execute_result"
    },
    {
     "name": "stdout",
     "output_type": "stream",
     "text": [
      "132\n"
     ]
    },
    {
     "data": {
      "text/plain": [
       "<DimCoord: time / (days since 0001-01-01 00:00:00)  [0121-08-12 12:00:00]+bounds>"
      ]
     },
     "execution_count": 22,
     "metadata": {},
     "output_type": "execute_result"
    },
    {
     "data": {
      "text/plain": [
       "<DimCoord: time / (days since 0001-01-01 00:00:00)  [1972-05-12 00:00:00]+bounds>"
      ]
     },
     "execution_count": 22,
     "metadata": {},
     "output_type": "execute_result"
    },
    {
     "name": "stdout",
     "output_type": "stream",
     "text": [
      "133\n"
     ]
    },
    {
     "data": {
      "text/plain": [
       "<DimCoord: time / (days since 0001-01-01 00:00:00)  [0121-08-13 12:00:00]+bounds>"
      ]
     },
     "execution_count": 22,
     "metadata": {},
     "output_type": "execute_result"
    },
    {
     "data": {
      "text/plain": [
       "<DimCoord: time / (days since 0001-01-01 00:00:00)  [1972-05-13 00:00:00]+bounds>"
      ]
     },
     "execution_count": 22,
     "metadata": {},
     "output_type": "execute_result"
    },
    {
     "name": "stdout",
     "output_type": "stream",
     "text": [
      "134\n"
     ]
    },
    {
     "data": {
      "text/plain": [
       "<DimCoord: time / (days since 0001-01-01 00:00:00)  [0121-08-14 12:00:00]+bounds>"
      ]
     },
     "execution_count": 22,
     "metadata": {},
     "output_type": "execute_result"
    },
    {
     "data": {
      "text/plain": [
       "<DimCoord: time / (days since 0001-01-01 00:00:00)  [1972-05-14 00:00:00]+bounds>"
      ]
     },
     "execution_count": 22,
     "metadata": {},
     "output_type": "execute_result"
    },
    {
     "name": "stdout",
     "output_type": "stream",
     "text": [
      "135\n"
     ]
    },
    {
     "data": {
      "text/plain": [
       "<DimCoord: time / (days since 0001-01-01 00:00:00)  [0121-08-15 12:00:00]+bounds>"
      ]
     },
     "execution_count": 22,
     "metadata": {},
     "output_type": "execute_result"
    },
    {
     "data": {
      "text/plain": [
       "<DimCoord: time / (days since 0001-01-01 00:00:00)  [1972-05-15 00:00:00]+bounds>"
      ]
     },
     "execution_count": 22,
     "metadata": {},
     "output_type": "execute_result"
    },
    {
     "name": "stdout",
     "output_type": "stream",
     "text": [
      "136\n"
     ]
    },
    {
     "data": {
      "text/plain": [
       "<DimCoord: time / (days since 0001-01-01 00:00:00)  [0121-08-16 12:00:00]+bounds>"
      ]
     },
     "execution_count": 22,
     "metadata": {},
     "output_type": "execute_result"
    },
    {
     "data": {
      "text/plain": [
       "<DimCoord: time / (days since 0001-01-01 00:00:00)  [1972-05-16 00:00:00]+bounds>"
      ]
     },
     "execution_count": 22,
     "metadata": {},
     "output_type": "execute_result"
    },
    {
     "name": "stdout",
     "output_type": "stream",
     "text": [
      "137\n"
     ]
    },
    {
     "data": {
      "text/plain": [
       "<DimCoord: time / (days since 0001-01-01 00:00:00)  [0121-08-17 12:00:00]+bounds>"
      ]
     },
     "execution_count": 22,
     "metadata": {},
     "output_type": "execute_result"
    },
    {
     "data": {
      "text/plain": [
       "<DimCoord: time / (days since 0001-01-01 00:00:00)  [1972-05-17 00:00:00]+bounds>"
      ]
     },
     "execution_count": 22,
     "metadata": {},
     "output_type": "execute_result"
    },
    {
     "name": "stdout",
     "output_type": "stream",
     "text": [
      "138\n"
     ]
    },
    {
     "data": {
      "text/plain": [
       "<DimCoord: time / (days since 0001-01-01 00:00:00)  [0121-08-18 12:00:00]+bounds>"
      ]
     },
     "execution_count": 22,
     "metadata": {},
     "output_type": "execute_result"
    },
    {
     "data": {
      "text/plain": [
       "<DimCoord: time / (days since 0001-01-01 00:00:00)  [1972-05-18 00:00:00]+bounds>"
      ]
     },
     "execution_count": 22,
     "metadata": {},
     "output_type": "execute_result"
    },
    {
     "name": "stdout",
     "output_type": "stream",
     "text": [
      "139\n"
     ]
    },
    {
     "data": {
      "text/plain": [
       "<DimCoord: time / (days since 0001-01-01 00:00:00)  [0121-08-19 12:00:00]+bounds>"
      ]
     },
     "execution_count": 22,
     "metadata": {},
     "output_type": "execute_result"
    },
    {
     "data": {
      "text/plain": [
       "<DimCoord: time / (days since 0001-01-01 00:00:00)  [1972-05-19 00:00:00]+bounds>"
      ]
     },
     "execution_count": 22,
     "metadata": {},
     "output_type": "execute_result"
    },
    {
     "name": "stdout",
     "output_type": "stream",
     "text": [
      "140\n"
     ]
    },
    {
     "data": {
      "text/plain": [
       "<DimCoord: time / (days since 0001-01-01 00:00:00)  [0121-08-20 12:00:00]+bounds>"
      ]
     },
     "execution_count": 22,
     "metadata": {},
     "output_type": "execute_result"
    },
    {
     "data": {
      "text/plain": [
       "<DimCoord: time / (days since 0001-01-01 00:00:00)  [1972-05-20 00:00:00]+bounds>"
      ]
     },
     "execution_count": 22,
     "metadata": {},
     "output_type": "execute_result"
    },
    {
     "name": "stdout",
     "output_type": "stream",
     "text": [
      "141\n"
     ]
    },
    {
     "data": {
      "text/plain": [
       "<DimCoord: time / (days since 0001-01-01 00:00:00)  [0121-08-21 12:00:00]+bounds>"
      ]
     },
     "execution_count": 22,
     "metadata": {},
     "output_type": "execute_result"
    },
    {
     "data": {
      "text/plain": [
       "<DimCoord: time / (days since 0001-01-01 00:00:00)  [1972-05-21 00:00:00]+bounds>"
      ]
     },
     "execution_count": 22,
     "metadata": {},
     "output_type": "execute_result"
    },
    {
     "name": "stdout",
     "output_type": "stream",
     "text": [
      "142\n"
     ]
    },
    {
     "data": {
      "text/plain": [
       "<DimCoord: time / (days since 0001-01-01 00:00:00)  [0121-08-22 12:00:00]+bounds>"
      ]
     },
     "execution_count": 22,
     "metadata": {},
     "output_type": "execute_result"
    },
    {
     "data": {
      "text/plain": [
       "<DimCoord: time / (days since 0001-01-01 00:00:00)  [1972-05-22 00:00:00]+bounds>"
      ]
     },
     "execution_count": 22,
     "metadata": {},
     "output_type": "execute_result"
    },
    {
     "name": "stdout",
     "output_type": "stream",
     "text": [
      "143\n"
     ]
    },
    {
     "data": {
      "text/plain": [
       "<DimCoord: time / (days since 0001-01-01 00:00:00)  [0121-08-23 12:00:00]+bounds>"
      ]
     },
     "execution_count": 22,
     "metadata": {},
     "output_type": "execute_result"
    },
    {
     "data": {
      "text/plain": [
       "<DimCoord: time / (days since 0001-01-01 00:00:00)  [1972-05-23 00:00:00]+bounds>"
      ]
     },
     "execution_count": 22,
     "metadata": {},
     "output_type": "execute_result"
    },
    {
     "name": "stdout",
     "output_type": "stream",
     "text": [
      "144\n"
     ]
    },
    {
     "data": {
      "text/plain": [
       "<DimCoord: time / (days since 0001-01-01 00:00:00)  [0121-08-24 12:00:00]+bounds>"
      ]
     },
     "execution_count": 22,
     "metadata": {},
     "output_type": "execute_result"
    },
    {
     "data": {
      "text/plain": [
       "<DimCoord: time / (days since 0001-01-01 00:00:00)  [1972-05-24 00:00:00]+bounds>"
      ]
     },
     "execution_count": 22,
     "metadata": {},
     "output_type": "execute_result"
    },
    {
     "name": "stdout",
     "output_type": "stream",
     "text": [
      "145\n"
     ]
    },
    {
     "data": {
      "text/plain": [
       "<DimCoord: time / (days since 0001-01-01 00:00:00)  [0121-08-25 12:00:00]+bounds>"
      ]
     },
     "execution_count": 22,
     "metadata": {},
     "output_type": "execute_result"
    },
    {
     "data": {
      "text/plain": [
       "<DimCoord: time / (days since 0001-01-01 00:00:00)  [1972-05-25 00:00:00]+bounds>"
      ]
     },
     "execution_count": 22,
     "metadata": {},
     "output_type": "execute_result"
    },
    {
     "name": "stdout",
     "output_type": "stream",
     "text": [
      "146\n"
     ]
    },
    {
     "data": {
      "text/plain": [
       "<DimCoord: time / (days since 0001-01-01 00:00:00)  [0121-08-26 12:00:00]+bounds>"
      ]
     },
     "execution_count": 22,
     "metadata": {},
     "output_type": "execute_result"
    },
    {
     "data": {
      "text/plain": [
       "<DimCoord: time / (days since 0001-01-01 00:00:00)  [1972-05-26 00:00:00]+bounds>"
      ]
     },
     "execution_count": 22,
     "metadata": {},
     "output_type": "execute_result"
    },
    {
     "name": "stdout",
     "output_type": "stream",
     "text": [
      "147\n"
     ]
    },
    {
     "data": {
      "text/plain": [
       "<DimCoord: time / (days since 0001-01-01 00:00:00)  [0121-08-27 12:00:00]+bounds>"
      ]
     },
     "execution_count": 22,
     "metadata": {},
     "output_type": "execute_result"
    },
    {
     "data": {
      "text/plain": [
       "<DimCoord: time / (days since 0001-01-01 00:00:00)  [1972-05-27 00:00:00]+bounds>"
      ]
     },
     "execution_count": 22,
     "metadata": {},
     "output_type": "execute_result"
    },
    {
     "name": "stdout",
     "output_type": "stream",
     "text": [
      "148\n"
     ]
    },
    {
     "data": {
      "text/plain": [
       "<DimCoord: time / (days since 0001-01-01 00:00:00)  [0121-08-28 12:00:00]+bounds>"
      ]
     },
     "execution_count": 22,
     "metadata": {},
     "output_type": "execute_result"
    },
    {
     "data": {
      "text/plain": [
       "<DimCoord: time / (days since 0001-01-01 00:00:00)  [1972-05-28 00:00:00]+bounds>"
      ]
     },
     "execution_count": 22,
     "metadata": {},
     "output_type": "execute_result"
    },
    {
     "name": "stdout",
     "output_type": "stream",
     "text": [
      "149\n"
     ]
    },
    {
     "data": {
      "text/plain": [
       "<DimCoord: time / (days since 0001-01-01 00:00:00)  [0121-08-29 12:00:00]+bounds>"
      ]
     },
     "execution_count": 22,
     "metadata": {},
     "output_type": "execute_result"
    },
    {
     "data": {
      "text/plain": [
       "<DimCoord: time / (days since 0001-01-01 00:00:00)  [1972-05-29 00:00:00]+bounds>"
      ]
     },
     "execution_count": 22,
     "metadata": {},
     "output_type": "execute_result"
    },
    {
     "name": "stdout",
     "output_type": "stream",
     "text": [
      "150\n"
     ]
    },
    {
     "data": {
      "text/plain": [
       "<DimCoord: time / (days since 0001-01-01 00:00:00)  [0121-08-30 12:00:00]+bounds>"
      ]
     },
     "execution_count": 22,
     "metadata": {},
     "output_type": "execute_result"
    },
    {
     "data": {
      "text/plain": [
       "<DimCoord: time / (days since 0001-01-01 00:00:00)  [1972-05-30 00:00:00]+bounds>"
      ]
     },
     "execution_count": 22,
     "metadata": {},
     "output_type": "execute_result"
    },
    {
     "name": "stdout",
     "output_type": "stream",
     "text": [
      "151\n"
     ]
    },
    {
     "data": {
      "text/plain": [
       "<DimCoord: time / (days since 0001-01-01 00:00:00)  [0121-08-31 12:00:00]+bounds>"
      ]
     },
     "execution_count": 22,
     "metadata": {},
     "output_type": "execute_result"
    },
    {
     "data": {
      "text/plain": [
       "<DimCoord: time / (days since 0001-01-01 00:00:00)  [1972-05-31 00:00:00]+bounds>"
      ]
     },
     "execution_count": 22,
     "metadata": {},
     "output_type": "execute_result"
    },
    {
     "name": "stdout",
     "output_type": "stream",
     "text": [
      "152\n"
     ]
    },
    {
     "data": {
      "text/plain": [
       "<DimCoord: time / (days since 0001-01-01 00:00:00)  [0121-09-01 12:00:00]+bounds>"
      ]
     },
     "execution_count": 22,
     "metadata": {},
     "output_type": "execute_result"
    },
    {
     "data": {
      "text/plain": [
       "<DimCoord: time / (days since 0001-01-01 00:00:00)  [1972-06-01 00:00:00]+bounds>"
      ]
     },
     "execution_count": 22,
     "metadata": {},
     "output_type": "execute_result"
    },
    {
     "name": "stdout",
     "output_type": "stream",
     "text": [
      "153\n"
     ]
    },
    {
     "data": {
      "text/plain": [
       "<DimCoord: time / (days since 0001-01-01 00:00:00)  [0121-09-02 12:00:00]+bounds>"
      ]
     },
     "execution_count": 22,
     "metadata": {},
     "output_type": "execute_result"
    },
    {
     "data": {
      "text/plain": [
       "<DimCoord: time / (days since 0001-01-01 00:00:00)  [1972-06-02 00:00:00]+bounds>"
      ]
     },
     "execution_count": 22,
     "metadata": {},
     "output_type": "execute_result"
    },
    {
     "name": "stdout",
     "output_type": "stream",
     "text": [
      "154\n"
     ]
    },
    {
     "data": {
      "text/plain": [
       "<DimCoord: time / (days since 0001-01-01 00:00:00)  [0121-09-03 12:00:00]+bounds>"
      ]
     },
     "execution_count": 22,
     "metadata": {},
     "output_type": "execute_result"
    },
    {
     "data": {
      "text/plain": [
       "<DimCoord: time / (days since 0001-01-01 00:00:00)  [1972-06-03 00:00:00]+bounds>"
      ]
     },
     "execution_count": 22,
     "metadata": {},
     "output_type": "execute_result"
    },
    {
     "name": "stdout",
     "output_type": "stream",
     "text": [
      "155\n"
     ]
    },
    {
     "data": {
      "text/plain": [
       "<DimCoord: time / (days since 0001-01-01 00:00:00)  [0121-09-04 12:00:00]+bounds>"
      ]
     },
     "execution_count": 22,
     "metadata": {},
     "output_type": "execute_result"
    },
    {
     "data": {
      "text/plain": [
       "<DimCoord: time / (days since 0001-01-01 00:00:00)  [1972-06-04 00:00:00]+bounds>"
      ]
     },
     "execution_count": 22,
     "metadata": {},
     "output_type": "execute_result"
    },
    {
     "name": "stdout",
     "output_type": "stream",
     "text": [
      "156\n"
     ]
    },
    {
     "data": {
      "text/plain": [
       "<DimCoord: time / (days since 0001-01-01 00:00:00)  [0121-09-05 12:00:00]+bounds>"
      ]
     },
     "execution_count": 22,
     "metadata": {},
     "output_type": "execute_result"
    },
    {
     "data": {
      "text/plain": [
       "<DimCoord: time / (days since 0001-01-01 00:00:00)  [1972-06-05 00:00:00]+bounds>"
      ]
     },
     "execution_count": 22,
     "metadata": {},
     "output_type": "execute_result"
    },
    {
     "name": "stdout",
     "output_type": "stream",
     "text": [
      "157\n"
     ]
    },
    {
     "data": {
      "text/plain": [
       "<DimCoord: time / (days since 0001-01-01 00:00:00)  [0121-09-06 12:00:00]+bounds>"
      ]
     },
     "execution_count": 22,
     "metadata": {},
     "output_type": "execute_result"
    },
    {
     "data": {
      "text/plain": [
       "<DimCoord: time / (days since 0001-01-01 00:00:00)  [1972-06-06 00:00:00]+bounds>"
      ]
     },
     "execution_count": 22,
     "metadata": {},
     "output_type": "execute_result"
    },
    {
     "name": "stdout",
     "output_type": "stream",
     "text": [
      "158\n"
     ]
    },
    {
     "data": {
      "text/plain": [
       "<DimCoord: time / (days since 0001-01-01 00:00:00)  [0121-09-07 12:00:00]+bounds>"
      ]
     },
     "execution_count": 22,
     "metadata": {},
     "output_type": "execute_result"
    },
    {
     "data": {
      "text/plain": [
       "<DimCoord: time / (days since 0001-01-01 00:00:00)  [1972-06-07 00:00:00]+bounds>"
      ]
     },
     "execution_count": 22,
     "metadata": {},
     "output_type": "execute_result"
    },
    {
     "name": "stdout",
     "output_type": "stream",
     "text": [
      "159\n"
     ]
    },
    {
     "data": {
      "text/plain": [
       "<DimCoord: time / (days since 0001-01-01 00:00:00)  [0121-09-08 12:00:00]+bounds>"
      ]
     },
     "execution_count": 22,
     "metadata": {},
     "output_type": "execute_result"
    },
    {
     "data": {
      "text/plain": [
       "<DimCoord: time / (days since 0001-01-01 00:00:00)  [1972-06-08 00:00:00]+bounds>"
      ]
     },
     "execution_count": 22,
     "metadata": {},
     "output_type": "execute_result"
    },
    {
     "name": "stdout",
     "output_type": "stream",
     "text": [
      "160\n"
     ]
    },
    {
     "data": {
      "text/plain": [
       "<DimCoord: time / (days since 0001-01-01 00:00:00)  [0121-09-09 12:00:00]+bounds>"
      ]
     },
     "execution_count": 22,
     "metadata": {},
     "output_type": "execute_result"
    },
    {
     "data": {
      "text/plain": [
       "<DimCoord: time / (days since 0001-01-01 00:00:00)  [1972-06-09 00:00:00]+bounds>"
      ]
     },
     "execution_count": 22,
     "metadata": {},
     "output_type": "execute_result"
    },
    {
     "name": "stdout",
     "output_type": "stream",
     "text": [
      "161\n"
     ]
    },
    {
     "data": {
      "text/plain": [
       "<DimCoord: time / (days since 0001-01-01 00:00:00)  [0121-09-10 12:00:00]+bounds>"
      ]
     },
     "execution_count": 22,
     "metadata": {},
     "output_type": "execute_result"
    },
    {
     "data": {
      "text/plain": [
       "<DimCoord: time / (days since 0001-01-01 00:00:00)  [1972-06-10 00:00:00]+bounds>"
      ]
     },
     "execution_count": 22,
     "metadata": {},
     "output_type": "execute_result"
    },
    {
     "name": "stdout",
     "output_type": "stream",
     "text": [
      "162\n"
     ]
    },
    {
     "data": {
      "text/plain": [
       "<DimCoord: time / (days since 0001-01-01 00:00:00)  [0121-09-11 12:00:00]+bounds>"
      ]
     },
     "execution_count": 22,
     "metadata": {},
     "output_type": "execute_result"
    },
    {
     "data": {
      "text/plain": [
       "<DimCoord: time / (days since 0001-01-01 00:00:00)  [1972-06-11 00:00:00]+bounds>"
      ]
     },
     "execution_count": 22,
     "metadata": {},
     "output_type": "execute_result"
    },
    {
     "name": "stdout",
     "output_type": "stream",
     "text": [
      "163\n"
     ]
    },
    {
     "data": {
      "text/plain": [
       "<DimCoord: time / (days since 0001-01-01 00:00:00)  [0121-09-12 12:00:00]+bounds>"
      ]
     },
     "execution_count": 22,
     "metadata": {},
     "output_type": "execute_result"
    },
    {
     "data": {
      "text/plain": [
       "<DimCoord: time / (days since 0001-01-01 00:00:00)  [1972-06-12 00:00:00]+bounds>"
      ]
     },
     "execution_count": 22,
     "metadata": {},
     "output_type": "execute_result"
    },
    {
     "name": "stdout",
     "output_type": "stream",
     "text": [
      "164\n"
     ]
    },
    {
     "data": {
      "text/plain": [
       "<DimCoord: time / (days since 0001-01-01 00:00:00)  [0121-09-13 12:00:00]+bounds>"
      ]
     },
     "execution_count": 22,
     "metadata": {},
     "output_type": "execute_result"
    },
    {
     "data": {
      "text/plain": [
       "<DimCoord: time / (days since 0001-01-01 00:00:00)  [1972-06-13 00:00:00]+bounds>"
      ]
     },
     "execution_count": 22,
     "metadata": {},
     "output_type": "execute_result"
    },
    {
     "name": "stdout",
     "output_type": "stream",
     "text": [
      "165\n"
     ]
    },
    {
     "data": {
      "text/plain": [
       "<DimCoord: time / (days since 0001-01-01 00:00:00)  [0121-09-14 12:00:00]+bounds>"
      ]
     },
     "execution_count": 22,
     "metadata": {},
     "output_type": "execute_result"
    },
    {
     "data": {
      "text/plain": [
       "<DimCoord: time / (days since 0001-01-01 00:00:00)  [1972-06-14 00:00:00]+bounds>"
      ]
     },
     "execution_count": 22,
     "metadata": {},
     "output_type": "execute_result"
    },
    {
     "name": "stdout",
     "output_type": "stream",
     "text": [
      "166\n"
     ]
    },
    {
     "data": {
      "text/plain": [
       "<DimCoord: time / (days since 0001-01-01 00:00:00)  [0121-09-15 12:00:00]+bounds>"
      ]
     },
     "execution_count": 22,
     "metadata": {},
     "output_type": "execute_result"
    },
    {
     "data": {
      "text/plain": [
       "<DimCoord: time / (days since 0001-01-01 00:00:00)  [1972-06-15 00:00:00]+bounds>"
      ]
     },
     "execution_count": 22,
     "metadata": {},
     "output_type": "execute_result"
    },
    {
     "name": "stdout",
     "output_type": "stream",
     "text": [
      "167\n"
     ]
    },
    {
     "data": {
      "text/plain": [
       "<DimCoord: time / (days since 0001-01-01 00:00:00)  [0121-09-16 12:00:00]+bounds>"
      ]
     },
     "execution_count": 22,
     "metadata": {},
     "output_type": "execute_result"
    },
    {
     "data": {
      "text/plain": [
       "<DimCoord: time / (days since 0001-01-01 00:00:00)  [1972-06-16 00:00:00]+bounds>"
      ]
     },
     "execution_count": 22,
     "metadata": {},
     "output_type": "execute_result"
    },
    {
     "name": "stdout",
     "output_type": "stream",
     "text": [
      "168\n"
     ]
    },
    {
     "data": {
      "text/plain": [
       "<DimCoord: time / (days since 0001-01-01 00:00:00)  [0121-09-17 12:00:00]+bounds>"
      ]
     },
     "execution_count": 22,
     "metadata": {},
     "output_type": "execute_result"
    },
    {
     "data": {
      "text/plain": [
       "<DimCoord: time / (days since 0001-01-01 00:00:00)  [1972-06-17 00:00:00]+bounds>"
      ]
     },
     "execution_count": 22,
     "metadata": {},
     "output_type": "execute_result"
    },
    {
     "name": "stdout",
     "output_type": "stream",
     "text": [
      "169\n"
     ]
    },
    {
     "data": {
      "text/plain": [
       "<DimCoord: time / (days since 0001-01-01 00:00:00)  [0121-09-18 12:00:00]+bounds>"
      ]
     },
     "execution_count": 22,
     "metadata": {},
     "output_type": "execute_result"
    },
    {
     "data": {
      "text/plain": [
       "<DimCoord: time / (days since 0001-01-01 00:00:00)  [1972-06-18 00:00:00]+bounds>"
      ]
     },
     "execution_count": 22,
     "metadata": {},
     "output_type": "execute_result"
    },
    {
     "name": "stdout",
     "output_type": "stream",
     "text": [
      "170\n"
     ]
    },
    {
     "data": {
      "text/plain": [
       "<DimCoord: time / (days since 0001-01-01 00:00:00)  [0121-09-19 12:00:00]+bounds>"
      ]
     },
     "execution_count": 22,
     "metadata": {},
     "output_type": "execute_result"
    },
    {
     "data": {
      "text/plain": [
       "<DimCoord: time / (days since 0001-01-01 00:00:00)  [1972-06-19 00:00:00]+bounds>"
      ]
     },
     "execution_count": 22,
     "metadata": {},
     "output_type": "execute_result"
    },
    {
     "name": "stdout",
     "output_type": "stream",
     "text": [
      "171\n"
     ]
    },
    {
     "data": {
      "text/plain": [
       "<DimCoord: time / (days since 0001-01-01 00:00:00)  [0121-09-20 12:00:00]+bounds>"
      ]
     },
     "execution_count": 22,
     "metadata": {},
     "output_type": "execute_result"
    },
    {
     "data": {
      "text/plain": [
       "<DimCoord: time / (days since 0001-01-01 00:00:00)  [1972-06-20 00:00:00]+bounds>"
      ]
     },
     "execution_count": 22,
     "metadata": {},
     "output_type": "execute_result"
    },
    {
     "name": "stdout",
     "output_type": "stream",
     "text": [
      "172\n"
     ]
    },
    {
     "data": {
      "text/plain": [
       "<DimCoord: time / (days since 0001-01-01 00:00:00)  [0121-09-21 12:00:00]+bounds>"
      ]
     },
     "execution_count": 22,
     "metadata": {},
     "output_type": "execute_result"
    },
    {
     "data": {
      "text/plain": [
       "<DimCoord: time / (days since 0001-01-01 00:00:00)  [1972-06-21 00:00:00]+bounds>"
      ]
     },
     "execution_count": 22,
     "metadata": {},
     "output_type": "execute_result"
    },
    {
     "name": "stdout",
     "output_type": "stream",
     "text": [
      "173\n"
     ]
    },
    {
     "data": {
      "text/plain": [
       "<DimCoord: time / (days since 0001-01-01 00:00:00)  [0121-09-22 12:00:00]+bounds>"
      ]
     },
     "execution_count": 22,
     "metadata": {},
     "output_type": "execute_result"
    },
    {
     "data": {
      "text/plain": [
       "<DimCoord: time / (days since 0001-01-01 00:00:00)  [1972-06-22 00:00:00]+bounds>"
      ]
     },
     "execution_count": 22,
     "metadata": {},
     "output_type": "execute_result"
    },
    {
     "name": "stdout",
     "output_type": "stream",
     "text": [
      "174\n"
     ]
    },
    {
     "data": {
      "text/plain": [
       "<DimCoord: time / (days since 0001-01-01 00:00:00)  [0121-09-23 12:00:00]+bounds>"
      ]
     },
     "execution_count": 22,
     "metadata": {},
     "output_type": "execute_result"
    },
    {
     "data": {
      "text/plain": [
       "<DimCoord: time / (days since 0001-01-01 00:00:00)  [1972-06-23 00:00:00]+bounds>"
      ]
     },
     "execution_count": 22,
     "metadata": {},
     "output_type": "execute_result"
    },
    {
     "name": "stdout",
     "output_type": "stream",
     "text": [
      "175\n"
     ]
    },
    {
     "data": {
      "text/plain": [
       "<DimCoord: time / (days since 0001-01-01 00:00:00)  [0121-09-24 12:00:00]+bounds>"
      ]
     },
     "execution_count": 22,
     "metadata": {},
     "output_type": "execute_result"
    },
    {
     "data": {
      "text/plain": [
       "<DimCoord: time / (days since 0001-01-01 00:00:00)  [1972-06-24 00:00:00]+bounds>"
      ]
     },
     "execution_count": 22,
     "metadata": {},
     "output_type": "execute_result"
    },
    {
     "name": "stdout",
     "output_type": "stream",
     "text": [
      "176\n"
     ]
    },
    {
     "data": {
      "text/plain": [
       "<DimCoord: time / (days since 0001-01-01 00:00:00)  [0121-09-25 12:00:00]+bounds>"
      ]
     },
     "execution_count": 22,
     "metadata": {},
     "output_type": "execute_result"
    },
    {
     "data": {
      "text/plain": [
       "<DimCoord: time / (days since 0001-01-01 00:00:00)  [1972-06-25 00:00:00]+bounds>"
      ]
     },
     "execution_count": 22,
     "metadata": {},
     "output_type": "execute_result"
    },
    {
     "name": "stdout",
     "output_type": "stream",
     "text": [
      "177\n"
     ]
    },
    {
     "data": {
      "text/plain": [
       "<DimCoord: time / (days since 0001-01-01 00:00:00)  [0121-09-26 12:00:00]+bounds>"
      ]
     },
     "execution_count": 22,
     "metadata": {},
     "output_type": "execute_result"
    },
    {
     "data": {
      "text/plain": [
       "<DimCoord: time / (days since 0001-01-01 00:00:00)  [1972-06-26 00:00:00]+bounds>"
      ]
     },
     "execution_count": 22,
     "metadata": {},
     "output_type": "execute_result"
    },
    {
     "name": "stdout",
     "output_type": "stream",
     "text": [
      "178\n"
     ]
    },
    {
     "data": {
      "text/plain": [
       "<DimCoord: time / (days since 0001-01-01 00:00:00)  [0121-09-27 12:00:00]+bounds>"
      ]
     },
     "execution_count": 22,
     "metadata": {},
     "output_type": "execute_result"
    },
    {
     "data": {
      "text/plain": [
       "<DimCoord: time / (days since 0001-01-01 00:00:00)  [1972-06-27 00:00:00]+bounds>"
      ]
     },
     "execution_count": 22,
     "metadata": {},
     "output_type": "execute_result"
    },
    {
     "name": "stdout",
     "output_type": "stream",
     "text": [
      "179\n"
     ]
    },
    {
     "data": {
      "text/plain": [
       "<DimCoord: time / (days since 0001-01-01 00:00:00)  [0121-09-28 12:00:00]+bounds>"
      ]
     },
     "execution_count": 22,
     "metadata": {},
     "output_type": "execute_result"
    },
    {
     "data": {
      "text/plain": [
       "<DimCoord: time / (days since 0001-01-01 00:00:00)  [1972-06-28 00:00:00]+bounds>"
      ]
     },
     "execution_count": 22,
     "metadata": {},
     "output_type": "execute_result"
    },
    {
     "name": "stdout",
     "output_type": "stream",
     "text": [
      "180\n"
     ]
    },
    {
     "data": {
      "text/plain": [
       "<DimCoord: time / (days since 0001-01-01 00:00:00)  [0121-09-29 12:00:00]+bounds>"
      ]
     },
     "execution_count": 22,
     "metadata": {},
     "output_type": "execute_result"
    },
    {
     "data": {
      "text/plain": [
       "<DimCoord: time / (days since 0001-01-01 00:00:00)  [1972-06-29 00:00:00]+bounds>"
      ]
     },
     "execution_count": 22,
     "metadata": {},
     "output_type": "execute_result"
    },
    {
     "name": "stdout",
     "output_type": "stream",
     "text": [
      "181\n"
     ]
    },
    {
     "data": {
      "text/plain": [
       "<DimCoord: time / (days since 0001-01-01 00:00:00)  [0121-09-30 12:00:00]+bounds>"
      ]
     },
     "execution_count": 22,
     "metadata": {},
     "output_type": "execute_result"
    },
    {
     "data": {
      "text/plain": [
       "<DimCoord: time / (days since 0001-01-01 00:00:00)  [1972-06-30 00:00:00]+bounds>"
      ]
     },
     "execution_count": 22,
     "metadata": {},
     "output_type": "execute_result"
    },
    {
     "name": "stdout",
     "output_type": "stream",
     "text": [
      "182\n"
     ]
    },
    {
     "data": {
      "text/plain": [
       "<DimCoord: time / (days since 0001-01-01 00:00:00)  [0121-10-01 12:00:00]+bounds>"
      ]
     },
     "execution_count": 22,
     "metadata": {},
     "output_type": "execute_result"
    },
    {
     "data": {
      "text/plain": [
       "<DimCoord: time / (days since 0001-01-01 00:00:00)  [1972-07-01 00:00:00]+bounds>"
      ]
     },
     "execution_count": 22,
     "metadata": {},
     "output_type": "execute_result"
    },
    {
     "name": "stdout",
     "output_type": "stream",
     "text": [
      "183\n"
     ]
    },
    {
     "data": {
      "text/plain": [
       "<DimCoord: time / (days since 0001-01-01 00:00:00)  [0121-10-02 12:00:00]+bounds>"
      ]
     },
     "execution_count": 22,
     "metadata": {},
     "output_type": "execute_result"
    },
    {
     "data": {
      "text/plain": [
       "<DimCoord: time / (days since 0001-01-01 00:00:00)  [1972-07-02 00:00:00]+bounds>"
      ]
     },
     "execution_count": 22,
     "metadata": {},
     "output_type": "execute_result"
    },
    {
     "name": "stdout",
     "output_type": "stream",
     "text": [
      "184\n"
     ]
    },
    {
     "data": {
      "text/plain": [
       "<DimCoord: time / (days since 0001-01-01 00:00:00)  [0121-10-03 12:00:00]+bounds>"
      ]
     },
     "execution_count": 22,
     "metadata": {},
     "output_type": "execute_result"
    },
    {
     "data": {
      "text/plain": [
       "<DimCoord: time / (days since 0001-01-01 00:00:00)  [1972-07-03 00:00:00]+bounds>"
      ]
     },
     "execution_count": 22,
     "metadata": {},
     "output_type": "execute_result"
    },
    {
     "name": "stdout",
     "output_type": "stream",
     "text": [
      "185\n"
     ]
    },
    {
     "data": {
      "text/plain": [
       "<DimCoord: time / (days since 0001-01-01 00:00:00)  [0121-10-04 12:00:00]+bounds>"
      ]
     },
     "execution_count": 22,
     "metadata": {},
     "output_type": "execute_result"
    },
    {
     "data": {
      "text/plain": [
       "<DimCoord: time / (days since 0001-01-01 00:00:00)  [1972-07-04 00:00:00]+bounds>"
      ]
     },
     "execution_count": 22,
     "metadata": {},
     "output_type": "execute_result"
    },
    {
     "name": "stdout",
     "output_type": "stream",
     "text": [
      "186\n"
     ]
    },
    {
     "data": {
      "text/plain": [
       "<DimCoord: time / (days since 0001-01-01 00:00:00)  [0121-10-05 12:00:00]+bounds>"
      ]
     },
     "execution_count": 22,
     "metadata": {},
     "output_type": "execute_result"
    },
    {
     "data": {
      "text/plain": [
       "<DimCoord: time / (days since 0001-01-01 00:00:00)  [1972-07-05 00:00:00]+bounds>"
      ]
     },
     "execution_count": 22,
     "metadata": {},
     "output_type": "execute_result"
    },
    {
     "name": "stdout",
     "output_type": "stream",
     "text": [
      "187\n"
     ]
    },
    {
     "data": {
      "text/plain": [
       "<DimCoord: time / (days since 0001-01-01 00:00:00)  [0121-10-06 12:00:00]+bounds>"
      ]
     },
     "execution_count": 22,
     "metadata": {},
     "output_type": "execute_result"
    },
    {
     "data": {
      "text/plain": [
       "<DimCoord: time / (days since 0001-01-01 00:00:00)  [1972-07-06 00:00:00]+bounds>"
      ]
     },
     "execution_count": 22,
     "metadata": {},
     "output_type": "execute_result"
    },
    {
     "name": "stdout",
     "output_type": "stream",
     "text": [
      "188\n"
     ]
    },
    {
     "data": {
      "text/plain": [
       "<DimCoord: time / (days since 0001-01-01 00:00:00)  [0121-10-07 12:00:00]+bounds>"
      ]
     },
     "execution_count": 22,
     "metadata": {},
     "output_type": "execute_result"
    },
    {
     "data": {
      "text/plain": [
       "<DimCoord: time / (days since 0001-01-01 00:00:00)  [1972-07-07 00:00:00]+bounds>"
      ]
     },
     "execution_count": 22,
     "metadata": {},
     "output_type": "execute_result"
    },
    {
     "name": "stdout",
     "output_type": "stream",
     "text": [
      "189\n"
     ]
    },
    {
     "data": {
      "text/plain": [
       "<DimCoord: time / (days since 0001-01-01 00:00:00)  [0121-10-08 12:00:00]+bounds>"
      ]
     },
     "execution_count": 22,
     "metadata": {},
     "output_type": "execute_result"
    },
    {
     "data": {
      "text/plain": [
       "<DimCoord: time / (days since 0001-01-01 00:00:00)  [1972-07-08 00:00:00]+bounds>"
      ]
     },
     "execution_count": 22,
     "metadata": {},
     "output_type": "execute_result"
    },
    {
     "name": "stdout",
     "output_type": "stream",
     "text": [
      "190\n"
     ]
    },
    {
     "data": {
      "text/plain": [
       "<DimCoord: time / (days since 0001-01-01 00:00:00)  [0121-10-09 12:00:00]+bounds>"
      ]
     },
     "execution_count": 22,
     "metadata": {},
     "output_type": "execute_result"
    },
    {
     "data": {
      "text/plain": [
       "<DimCoord: time / (days since 0001-01-01 00:00:00)  [1972-07-09 00:00:00]+bounds>"
      ]
     },
     "execution_count": 22,
     "metadata": {},
     "output_type": "execute_result"
    },
    {
     "name": "stdout",
     "output_type": "stream",
     "text": [
      "191\n"
     ]
    },
    {
     "data": {
      "text/plain": [
       "<DimCoord: time / (days since 0001-01-01 00:00:00)  [0121-10-10 12:00:00]+bounds>"
      ]
     },
     "execution_count": 22,
     "metadata": {},
     "output_type": "execute_result"
    },
    {
     "data": {
      "text/plain": [
       "<DimCoord: time / (days since 0001-01-01 00:00:00)  [1972-07-10 00:00:00]+bounds>"
      ]
     },
     "execution_count": 22,
     "metadata": {},
     "output_type": "execute_result"
    },
    {
     "name": "stdout",
     "output_type": "stream",
     "text": [
      "192\n"
     ]
    },
    {
     "data": {
      "text/plain": [
       "<DimCoord: time / (days since 0001-01-01 00:00:00)  [0121-10-11 12:00:00]+bounds>"
      ]
     },
     "execution_count": 22,
     "metadata": {},
     "output_type": "execute_result"
    },
    {
     "data": {
      "text/plain": [
       "<DimCoord: time / (days since 0001-01-01 00:00:00)  [1972-07-11 00:00:00]+bounds>"
      ]
     },
     "execution_count": 22,
     "metadata": {},
     "output_type": "execute_result"
    },
    {
     "name": "stdout",
     "output_type": "stream",
     "text": [
      "193\n"
     ]
    },
    {
     "data": {
      "text/plain": [
       "<DimCoord: time / (days since 0001-01-01 00:00:00)  [0121-10-12 12:00:00]+bounds>"
      ]
     },
     "execution_count": 22,
     "metadata": {},
     "output_type": "execute_result"
    },
    {
     "data": {
      "text/plain": [
       "<DimCoord: time / (days since 0001-01-01 00:00:00)  [1972-07-12 00:00:00]+bounds>"
      ]
     },
     "execution_count": 22,
     "metadata": {},
     "output_type": "execute_result"
    },
    {
     "name": "stdout",
     "output_type": "stream",
     "text": [
      "194\n"
     ]
    },
    {
     "data": {
      "text/plain": [
       "<DimCoord: time / (days since 0001-01-01 00:00:00)  [0121-10-13 12:00:00]+bounds>"
      ]
     },
     "execution_count": 22,
     "metadata": {},
     "output_type": "execute_result"
    },
    {
     "data": {
      "text/plain": [
       "<DimCoord: time / (days since 0001-01-01 00:00:00)  [1972-07-13 00:00:00]+bounds>"
      ]
     },
     "execution_count": 22,
     "metadata": {},
     "output_type": "execute_result"
    },
    {
     "name": "stdout",
     "output_type": "stream",
     "text": [
      "195\n"
     ]
    },
    {
     "data": {
      "text/plain": [
       "<DimCoord: time / (days since 0001-01-01 00:00:00)  [0121-10-14 12:00:00]+bounds>"
      ]
     },
     "execution_count": 22,
     "metadata": {},
     "output_type": "execute_result"
    },
    {
     "data": {
      "text/plain": [
       "<DimCoord: time / (days since 0001-01-01 00:00:00)  [1972-07-14 00:00:00]+bounds>"
      ]
     },
     "execution_count": 22,
     "metadata": {},
     "output_type": "execute_result"
    },
    {
     "name": "stdout",
     "output_type": "stream",
     "text": [
      "196\n"
     ]
    },
    {
     "data": {
      "text/plain": [
       "<DimCoord: time / (days since 0001-01-01 00:00:00)  [0121-10-15 12:00:00]+bounds>"
      ]
     },
     "execution_count": 22,
     "metadata": {},
     "output_type": "execute_result"
    },
    {
     "data": {
      "text/plain": [
       "<DimCoord: time / (days since 0001-01-01 00:00:00)  [1972-07-15 00:00:00]+bounds>"
      ]
     },
     "execution_count": 22,
     "metadata": {},
     "output_type": "execute_result"
    },
    {
     "name": "stdout",
     "output_type": "stream",
     "text": [
      "197\n"
     ]
    },
    {
     "data": {
      "text/plain": [
       "<DimCoord: time / (days since 0001-01-01 00:00:00)  [0121-10-16 12:00:00]+bounds>"
      ]
     },
     "execution_count": 22,
     "metadata": {},
     "output_type": "execute_result"
    },
    {
     "data": {
      "text/plain": [
       "<DimCoord: time / (days since 0001-01-01 00:00:00)  [1972-07-16 00:00:00]+bounds>"
      ]
     },
     "execution_count": 22,
     "metadata": {},
     "output_type": "execute_result"
    },
    {
     "name": "stdout",
     "output_type": "stream",
     "text": [
      "198\n"
     ]
    },
    {
     "data": {
      "text/plain": [
       "<DimCoord: time / (days since 0001-01-01 00:00:00)  [0121-10-17 12:00:00]+bounds>"
      ]
     },
     "execution_count": 22,
     "metadata": {},
     "output_type": "execute_result"
    },
    {
     "data": {
      "text/plain": [
       "<DimCoord: time / (days since 0001-01-01 00:00:00)  [1972-07-17 00:00:00]+bounds>"
      ]
     },
     "execution_count": 22,
     "metadata": {},
     "output_type": "execute_result"
    },
    {
     "name": "stdout",
     "output_type": "stream",
     "text": [
      "199\n"
     ]
    },
    {
     "data": {
      "text/plain": [
       "<DimCoord: time / (days since 0001-01-01 00:00:00)  [0121-10-18 12:00:00]+bounds>"
      ]
     },
     "execution_count": 22,
     "metadata": {},
     "output_type": "execute_result"
    },
    {
     "data": {
      "text/plain": [
       "<DimCoord: time / (days since 0001-01-01 00:00:00)  [1972-07-18 00:00:00]+bounds>"
      ]
     },
     "execution_count": 22,
     "metadata": {},
     "output_type": "execute_result"
    },
    {
     "name": "stdout",
     "output_type": "stream",
     "text": [
      "200\n"
     ]
    },
    {
     "data": {
      "text/plain": [
       "<DimCoord: time / (days since 0001-01-01 00:00:00)  [0121-10-19 12:00:00]+bounds>"
      ]
     },
     "execution_count": 22,
     "metadata": {},
     "output_type": "execute_result"
    },
    {
     "data": {
      "text/plain": [
       "<DimCoord: time / (days since 0001-01-01 00:00:00)  [1972-07-19 00:00:00]+bounds>"
      ]
     },
     "execution_count": 22,
     "metadata": {},
     "output_type": "execute_result"
    },
    {
     "name": "stdout",
     "output_type": "stream",
     "text": [
      "201\n"
     ]
    },
    {
     "data": {
      "text/plain": [
       "<DimCoord: time / (days since 0001-01-01 00:00:00)  [0121-10-20 12:00:00]+bounds>"
      ]
     },
     "execution_count": 22,
     "metadata": {},
     "output_type": "execute_result"
    },
    {
     "data": {
      "text/plain": [
       "<DimCoord: time / (days since 0001-01-01 00:00:00)  [1972-07-20 00:00:00]+bounds>"
      ]
     },
     "execution_count": 22,
     "metadata": {},
     "output_type": "execute_result"
    },
    {
     "name": "stdout",
     "output_type": "stream",
     "text": [
      "202\n"
     ]
    },
    {
     "data": {
      "text/plain": [
       "<DimCoord: time / (days since 0001-01-01 00:00:00)  [0121-10-21 12:00:00]+bounds>"
      ]
     },
     "execution_count": 22,
     "metadata": {},
     "output_type": "execute_result"
    },
    {
     "data": {
      "text/plain": [
       "<DimCoord: time / (days since 0001-01-01 00:00:00)  [1972-07-21 00:00:00]+bounds>"
      ]
     },
     "execution_count": 22,
     "metadata": {},
     "output_type": "execute_result"
    },
    {
     "name": "stdout",
     "output_type": "stream",
     "text": [
      "203\n"
     ]
    },
    {
     "data": {
      "text/plain": [
       "<DimCoord: time / (days since 0001-01-01 00:00:00)  [0121-10-22 12:00:00]+bounds>"
      ]
     },
     "execution_count": 22,
     "metadata": {},
     "output_type": "execute_result"
    },
    {
     "data": {
      "text/plain": [
       "<DimCoord: time / (days since 0001-01-01 00:00:00)  [1972-07-22 00:00:00]+bounds>"
      ]
     },
     "execution_count": 22,
     "metadata": {},
     "output_type": "execute_result"
    },
    {
     "name": "stdout",
     "output_type": "stream",
     "text": [
      "204\n"
     ]
    },
    {
     "data": {
      "text/plain": [
       "<DimCoord: time / (days since 0001-01-01 00:00:00)  [0121-10-23 12:00:00]+bounds>"
      ]
     },
     "execution_count": 22,
     "metadata": {},
     "output_type": "execute_result"
    },
    {
     "data": {
      "text/plain": [
       "<DimCoord: time / (days since 0001-01-01 00:00:00)  [1972-07-23 00:00:00]+bounds>"
      ]
     },
     "execution_count": 22,
     "metadata": {},
     "output_type": "execute_result"
    },
    {
     "name": "stdout",
     "output_type": "stream",
     "text": [
      "205\n"
     ]
    },
    {
     "data": {
      "text/plain": [
       "<DimCoord: time / (days since 0001-01-01 00:00:00)  [0121-10-24 12:00:00]+bounds>"
      ]
     },
     "execution_count": 22,
     "metadata": {},
     "output_type": "execute_result"
    },
    {
     "data": {
      "text/plain": [
       "<DimCoord: time / (days since 0001-01-01 00:00:00)  [1972-07-24 00:00:00]+bounds>"
      ]
     },
     "execution_count": 22,
     "metadata": {},
     "output_type": "execute_result"
    },
    {
     "name": "stdout",
     "output_type": "stream",
     "text": [
      "206\n"
     ]
    },
    {
     "data": {
      "text/plain": [
       "<DimCoord: time / (days since 0001-01-01 00:00:00)  [0121-10-25 12:00:00]+bounds>"
      ]
     },
     "execution_count": 22,
     "metadata": {},
     "output_type": "execute_result"
    },
    {
     "data": {
      "text/plain": [
       "<DimCoord: time / (days since 0001-01-01 00:00:00)  [1972-07-25 00:00:00]+bounds>"
      ]
     },
     "execution_count": 22,
     "metadata": {},
     "output_type": "execute_result"
    },
    {
     "name": "stdout",
     "output_type": "stream",
     "text": [
      "207\n"
     ]
    },
    {
     "data": {
      "text/plain": [
       "<DimCoord: time / (days since 0001-01-01 00:00:00)  [0121-10-26 12:00:00]+bounds>"
      ]
     },
     "execution_count": 22,
     "metadata": {},
     "output_type": "execute_result"
    },
    {
     "data": {
      "text/plain": [
       "<DimCoord: time / (days since 0001-01-01 00:00:00)  [1972-07-26 00:00:00]+bounds>"
      ]
     },
     "execution_count": 22,
     "metadata": {},
     "output_type": "execute_result"
    },
    {
     "name": "stdout",
     "output_type": "stream",
     "text": [
      "208\n"
     ]
    },
    {
     "data": {
      "text/plain": [
       "<DimCoord: time / (days since 0001-01-01 00:00:00)  [0121-10-27 12:00:00]+bounds>"
      ]
     },
     "execution_count": 22,
     "metadata": {},
     "output_type": "execute_result"
    },
    {
     "data": {
      "text/plain": [
       "<DimCoord: time / (days since 0001-01-01 00:00:00)  [1972-07-27 00:00:00]+bounds>"
      ]
     },
     "execution_count": 22,
     "metadata": {},
     "output_type": "execute_result"
    },
    {
     "name": "stdout",
     "output_type": "stream",
     "text": [
      "209\n"
     ]
    },
    {
     "data": {
      "text/plain": [
       "<DimCoord: time / (days since 0001-01-01 00:00:00)  [0121-10-28 12:00:00]+bounds>"
      ]
     },
     "execution_count": 22,
     "metadata": {},
     "output_type": "execute_result"
    },
    {
     "data": {
      "text/plain": [
       "<DimCoord: time / (days since 0001-01-01 00:00:00)  [1972-07-28 00:00:00]+bounds>"
      ]
     },
     "execution_count": 22,
     "metadata": {},
     "output_type": "execute_result"
    },
    {
     "name": "stdout",
     "output_type": "stream",
     "text": [
      "210\n"
     ]
    },
    {
     "data": {
      "text/plain": [
       "<DimCoord: time / (days since 0001-01-01 00:00:00)  [0121-10-29 12:00:00]+bounds>"
      ]
     },
     "execution_count": 22,
     "metadata": {},
     "output_type": "execute_result"
    },
    {
     "data": {
      "text/plain": [
       "<DimCoord: time / (days since 0001-01-01 00:00:00)  [1972-07-29 00:00:00]+bounds>"
      ]
     },
     "execution_count": 22,
     "metadata": {},
     "output_type": "execute_result"
    },
    {
     "name": "stdout",
     "output_type": "stream",
     "text": [
      "211\n"
     ]
    },
    {
     "data": {
      "text/plain": [
       "<DimCoord: time / (days since 0001-01-01 00:00:00)  [0121-10-30 12:00:00]+bounds>"
      ]
     },
     "execution_count": 22,
     "metadata": {},
     "output_type": "execute_result"
    },
    {
     "data": {
      "text/plain": [
       "<DimCoord: time / (days since 0001-01-01 00:00:00)  [1972-07-30 00:00:00]+bounds>"
      ]
     },
     "execution_count": 22,
     "metadata": {},
     "output_type": "execute_result"
    },
    {
     "name": "stdout",
     "output_type": "stream",
     "text": [
      "212\n"
     ]
    },
    {
     "data": {
      "text/plain": [
       "<DimCoord: time / (days since 0001-01-01 00:00:00)  [0121-10-31 12:00:00]+bounds>"
      ]
     },
     "execution_count": 22,
     "metadata": {},
     "output_type": "execute_result"
    },
    {
     "data": {
      "text/plain": [
       "<DimCoord: time / (days since 0001-01-01 00:00:00)  [1972-07-31 00:00:00]+bounds>"
      ]
     },
     "execution_count": 22,
     "metadata": {},
     "output_type": "execute_result"
    },
    {
     "name": "stdout",
     "output_type": "stream",
     "text": [
      "213\n"
     ]
    },
    {
     "data": {
      "text/plain": [
       "<DimCoord: time / (days since 0001-01-01 00:00:00)  [0121-11-01 12:00:00]+bounds>"
      ]
     },
     "execution_count": 22,
     "metadata": {},
     "output_type": "execute_result"
    },
    {
     "data": {
      "text/plain": [
       "<DimCoord: time / (days since 0001-01-01 00:00:00)  [1972-08-01 00:00:00]+bounds>"
      ]
     },
     "execution_count": 22,
     "metadata": {},
     "output_type": "execute_result"
    },
    {
     "name": "stdout",
     "output_type": "stream",
     "text": [
      "214\n"
     ]
    },
    {
     "data": {
      "text/plain": [
       "<DimCoord: time / (days since 0001-01-01 00:00:00)  [0121-11-02 12:00:00]+bounds>"
      ]
     },
     "execution_count": 22,
     "metadata": {},
     "output_type": "execute_result"
    },
    {
     "data": {
      "text/plain": [
       "<DimCoord: time / (days since 0001-01-01 00:00:00)  [1972-08-02 00:00:00]+bounds>"
      ]
     },
     "execution_count": 22,
     "metadata": {},
     "output_type": "execute_result"
    },
    {
     "name": "stdout",
     "output_type": "stream",
     "text": [
      "215\n"
     ]
    },
    {
     "data": {
      "text/plain": [
       "<DimCoord: time / (days since 0001-01-01 00:00:00)  [0121-11-03 12:00:00]+bounds>"
      ]
     },
     "execution_count": 22,
     "metadata": {},
     "output_type": "execute_result"
    },
    {
     "data": {
      "text/plain": [
       "<DimCoord: time / (days since 0001-01-01 00:00:00)  [1972-08-03 00:00:00]+bounds>"
      ]
     },
     "execution_count": 22,
     "metadata": {},
     "output_type": "execute_result"
    },
    {
     "name": "stdout",
     "output_type": "stream",
     "text": [
      "216\n"
     ]
    },
    {
     "data": {
      "text/plain": [
       "<DimCoord: time / (days since 0001-01-01 00:00:00)  [0121-11-04 12:00:00]+bounds>"
      ]
     },
     "execution_count": 22,
     "metadata": {},
     "output_type": "execute_result"
    },
    {
     "data": {
      "text/plain": [
       "<DimCoord: time / (days since 0001-01-01 00:00:00)  [1972-08-04 00:00:00]+bounds>"
      ]
     },
     "execution_count": 22,
     "metadata": {},
     "output_type": "execute_result"
    },
    {
     "name": "stdout",
     "output_type": "stream",
     "text": [
      "217\n"
     ]
    },
    {
     "data": {
      "text/plain": [
       "<DimCoord: time / (days since 0001-01-01 00:00:00)  [0121-11-05 12:00:00]+bounds>"
      ]
     },
     "execution_count": 22,
     "metadata": {},
     "output_type": "execute_result"
    },
    {
     "data": {
      "text/plain": [
       "<DimCoord: time / (days since 0001-01-01 00:00:00)  [1972-08-05 00:00:00]+bounds>"
      ]
     },
     "execution_count": 22,
     "metadata": {},
     "output_type": "execute_result"
    },
    {
     "name": "stdout",
     "output_type": "stream",
     "text": [
      "218\n"
     ]
    },
    {
     "data": {
      "text/plain": [
       "<DimCoord: time / (days since 0001-01-01 00:00:00)  [0121-11-06 12:00:00]+bounds>"
      ]
     },
     "execution_count": 22,
     "metadata": {},
     "output_type": "execute_result"
    },
    {
     "data": {
      "text/plain": [
       "<DimCoord: time / (days since 0001-01-01 00:00:00)  [1972-08-06 00:00:00]+bounds>"
      ]
     },
     "execution_count": 22,
     "metadata": {},
     "output_type": "execute_result"
    },
    {
     "name": "stdout",
     "output_type": "stream",
     "text": [
      "219\n"
     ]
    },
    {
     "data": {
      "text/plain": [
       "<DimCoord: time / (days since 0001-01-01 00:00:00)  [0121-11-07 12:00:00]+bounds>"
      ]
     },
     "execution_count": 22,
     "metadata": {},
     "output_type": "execute_result"
    },
    {
     "data": {
      "text/plain": [
       "<DimCoord: time / (days since 0001-01-01 00:00:00)  [1972-08-07 00:00:00]+bounds>"
      ]
     },
     "execution_count": 22,
     "metadata": {},
     "output_type": "execute_result"
    },
    {
     "name": "stdout",
     "output_type": "stream",
     "text": [
      "220\n"
     ]
    },
    {
     "data": {
      "text/plain": [
       "<DimCoord: time / (days since 0001-01-01 00:00:00)  [0121-11-08 12:00:00]+bounds>"
      ]
     },
     "execution_count": 22,
     "metadata": {},
     "output_type": "execute_result"
    },
    {
     "data": {
      "text/plain": [
       "<DimCoord: time / (days since 0001-01-01 00:00:00)  [1972-08-08 00:00:00]+bounds>"
      ]
     },
     "execution_count": 22,
     "metadata": {},
     "output_type": "execute_result"
    },
    {
     "name": "stdout",
     "output_type": "stream",
     "text": [
      "221\n"
     ]
    },
    {
     "data": {
      "text/plain": [
       "<DimCoord: time / (days since 0001-01-01 00:00:00)  [0121-11-09 12:00:00]+bounds>"
      ]
     },
     "execution_count": 22,
     "metadata": {},
     "output_type": "execute_result"
    },
    {
     "data": {
      "text/plain": [
       "<DimCoord: time / (days since 0001-01-01 00:00:00)  [1972-08-09 00:00:00]+bounds>"
      ]
     },
     "execution_count": 22,
     "metadata": {},
     "output_type": "execute_result"
    },
    {
     "name": "stdout",
     "output_type": "stream",
     "text": [
      "222\n"
     ]
    },
    {
     "data": {
      "text/plain": [
       "<DimCoord: time / (days since 0001-01-01 00:00:00)  [0121-11-10 12:00:00]+bounds>"
      ]
     },
     "execution_count": 22,
     "metadata": {},
     "output_type": "execute_result"
    },
    {
     "data": {
      "text/plain": [
       "<DimCoord: time / (days since 0001-01-01 00:00:00)  [1972-08-10 00:00:00]+bounds>"
      ]
     },
     "execution_count": 22,
     "metadata": {},
     "output_type": "execute_result"
    },
    {
     "name": "stdout",
     "output_type": "stream",
     "text": [
      "223\n"
     ]
    },
    {
     "data": {
      "text/plain": [
       "<DimCoord: time / (days since 0001-01-01 00:00:00)  [0121-11-11 12:00:00]+bounds>"
      ]
     },
     "execution_count": 22,
     "metadata": {},
     "output_type": "execute_result"
    },
    {
     "data": {
      "text/plain": [
       "<DimCoord: time / (days since 0001-01-01 00:00:00)  [1972-08-11 00:00:00]+bounds>"
      ]
     },
     "execution_count": 22,
     "metadata": {},
     "output_type": "execute_result"
    },
    {
     "name": "stdout",
     "output_type": "stream",
     "text": [
      "224\n"
     ]
    },
    {
     "data": {
      "text/plain": [
       "<DimCoord: time / (days since 0001-01-01 00:00:00)  [0121-11-12 12:00:00]+bounds>"
      ]
     },
     "execution_count": 22,
     "metadata": {},
     "output_type": "execute_result"
    },
    {
     "data": {
      "text/plain": [
       "<DimCoord: time / (days since 0001-01-01 00:00:00)  [1972-08-12 00:00:00]+bounds>"
      ]
     },
     "execution_count": 22,
     "metadata": {},
     "output_type": "execute_result"
    },
    {
     "name": "stdout",
     "output_type": "stream",
     "text": [
      "225\n"
     ]
    },
    {
     "data": {
      "text/plain": [
       "<DimCoord: time / (days since 0001-01-01 00:00:00)  [0121-11-13 12:00:00]+bounds>"
      ]
     },
     "execution_count": 22,
     "metadata": {},
     "output_type": "execute_result"
    },
    {
     "data": {
      "text/plain": [
       "<DimCoord: time / (days since 0001-01-01 00:00:00)  [1972-08-13 00:00:00]+bounds>"
      ]
     },
     "execution_count": 22,
     "metadata": {},
     "output_type": "execute_result"
    },
    {
     "name": "stdout",
     "output_type": "stream",
     "text": [
      "226\n"
     ]
    },
    {
     "data": {
      "text/plain": [
       "<DimCoord: time / (days since 0001-01-01 00:00:00)  [0121-11-14 12:00:00]+bounds>"
      ]
     },
     "execution_count": 22,
     "metadata": {},
     "output_type": "execute_result"
    },
    {
     "data": {
      "text/plain": [
       "<DimCoord: time / (days since 0001-01-01 00:00:00)  [1972-08-14 00:00:00]+bounds>"
      ]
     },
     "execution_count": 22,
     "metadata": {},
     "output_type": "execute_result"
    },
    {
     "name": "stdout",
     "output_type": "stream",
     "text": [
      "227\n"
     ]
    },
    {
     "data": {
      "text/plain": [
       "<DimCoord: time / (days since 0001-01-01 00:00:00)  [0121-11-15 12:00:00]+bounds>"
      ]
     },
     "execution_count": 22,
     "metadata": {},
     "output_type": "execute_result"
    },
    {
     "data": {
      "text/plain": [
       "<DimCoord: time / (days since 0001-01-01 00:00:00)  [1972-08-15 00:00:00]+bounds>"
      ]
     },
     "execution_count": 22,
     "metadata": {},
     "output_type": "execute_result"
    },
    {
     "name": "stdout",
     "output_type": "stream",
     "text": [
      "228\n"
     ]
    },
    {
     "data": {
      "text/plain": [
       "<DimCoord: time / (days since 0001-01-01 00:00:00)  [0121-11-16 12:00:00]+bounds>"
      ]
     },
     "execution_count": 22,
     "metadata": {},
     "output_type": "execute_result"
    },
    {
     "data": {
      "text/plain": [
       "<DimCoord: time / (days since 0001-01-01 00:00:00)  [1972-08-16 00:00:00]+bounds>"
      ]
     },
     "execution_count": 22,
     "metadata": {},
     "output_type": "execute_result"
    },
    {
     "name": "stdout",
     "output_type": "stream",
     "text": [
      "229\n"
     ]
    },
    {
     "data": {
      "text/plain": [
       "<DimCoord: time / (days since 0001-01-01 00:00:00)  [0121-11-17 12:00:00]+bounds>"
      ]
     },
     "execution_count": 22,
     "metadata": {},
     "output_type": "execute_result"
    },
    {
     "data": {
      "text/plain": [
       "<DimCoord: time / (days since 0001-01-01 00:00:00)  [1972-08-17 00:00:00]+bounds>"
      ]
     },
     "execution_count": 22,
     "metadata": {},
     "output_type": "execute_result"
    },
    {
     "name": "stdout",
     "output_type": "stream",
     "text": [
      "230\n"
     ]
    },
    {
     "data": {
      "text/plain": [
       "<DimCoord: time / (days since 0001-01-01 00:00:00)  [0121-11-18 12:00:00]+bounds>"
      ]
     },
     "execution_count": 22,
     "metadata": {},
     "output_type": "execute_result"
    },
    {
     "data": {
      "text/plain": [
       "<DimCoord: time / (days since 0001-01-01 00:00:00)  [1972-08-18 00:00:00]+bounds>"
      ]
     },
     "execution_count": 22,
     "metadata": {},
     "output_type": "execute_result"
    },
    {
     "name": "stdout",
     "output_type": "stream",
     "text": [
      "231\n"
     ]
    },
    {
     "data": {
      "text/plain": [
       "<DimCoord: time / (days since 0001-01-01 00:00:00)  [0121-11-19 12:00:00]+bounds>"
      ]
     },
     "execution_count": 22,
     "metadata": {},
     "output_type": "execute_result"
    },
    {
     "data": {
      "text/plain": [
       "<DimCoord: time / (days since 0001-01-01 00:00:00)  [1972-08-19 00:00:00]+bounds>"
      ]
     },
     "execution_count": 22,
     "metadata": {},
     "output_type": "execute_result"
    },
    {
     "name": "stdout",
     "output_type": "stream",
     "text": [
      "232\n"
     ]
    },
    {
     "data": {
      "text/plain": [
       "<DimCoord: time / (days since 0001-01-01 00:00:00)  [0121-11-20 12:00:00]+bounds>"
      ]
     },
     "execution_count": 22,
     "metadata": {},
     "output_type": "execute_result"
    },
    {
     "data": {
      "text/plain": [
       "<DimCoord: time / (days since 0001-01-01 00:00:00)  [1972-08-20 00:00:00]+bounds>"
      ]
     },
     "execution_count": 22,
     "metadata": {},
     "output_type": "execute_result"
    },
    {
     "name": "stdout",
     "output_type": "stream",
     "text": [
      "233\n"
     ]
    },
    {
     "data": {
      "text/plain": [
       "<DimCoord: time / (days since 0001-01-01 00:00:00)  [0121-11-21 12:00:00]+bounds>"
      ]
     },
     "execution_count": 22,
     "metadata": {},
     "output_type": "execute_result"
    },
    {
     "data": {
      "text/plain": [
       "<DimCoord: time / (days since 0001-01-01 00:00:00)  [1972-08-21 00:00:00]+bounds>"
      ]
     },
     "execution_count": 22,
     "metadata": {},
     "output_type": "execute_result"
    },
    {
     "name": "stdout",
     "output_type": "stream",
     "text": [
      "234\n"
     ]
    },
    {
     "data": {
      "text/plain": [
       "<DimCoord: time / (days since 0001-01-01 00:00:00)  [0121-11-22 12:00:00]+bounds>"
      ]
     },
     "execution_count": 22,
     "metadata": {},
     "output_type": "execute_result"
    },
    {
     "data": {
      "text/plain": [
       "<DimCoord: time / (days since 0001-01-01 00:00:00)  [1972-08-22 00:00:00]+bounds>"
      ]
     },
     "execution_count": 22,
     "metadata": {},
     "output_type": "execute_result"
    },
    {
     "name": "stdout",
     "output_type": "stream",
     "text": [
      "235\n"
     ]
    },
    {
     "data": {
      "text/plain": [
       "<DimCoord: time / (days since 0001-01-01 00:00:00)  [0121-11-23 12:00:00]+bounds>"
      ]
     },
     "execution_count": 22,
     "metadata": {},
     "output_type": "execute_result"
    },
    {
     "data": {
      "text/plain": [
       "<DimCoord: time / (days since 0001-01-01 00:00:00)  [1972-08-23 00:00:00]+bounds>"
      ]
     },
     "execution_count": 22,
     "metadata": {},
     "output_type": "execute_result"
    },
    {
     "name": "stdout",
     "output_type": "stream",
     "text": [
      "236\n"
     ]
    },
    {
     "data": {
      "text/plain": [
       "<DimCoord: time / (days since 0001-01-01 00:00:00)  [0121-11-24 12:00:00]+bounds>"
      ]
     },
     "execution_count": 22,
     "metadata": {},
     "output_type": "execute_result"
    },
    {
     "data": {
      "text/plain": [
       "<DimCoord: time / (days since 0001-01-01 00:00:00)  [1972-08-24 00:00:00]+bounds>"
      ]
     },
     "execution_count": 22,
     "metadata": {},
     "output_type": "execute_result"
    },
    {
     "name": "stdout",
     "output_type": "stream",
     "text": [
      "237\n"
     ]
    },
    {
     "data": {
      "text/plain": [
       "<DimCoord: time / (days since 0001-01-01 00:00:00)  [0121-11-25 12:00:00]+bounds>"
      ]
     },
     "execution_count": 22,
     "metadata": {},
     "output_type": "execute_result"
    },
    {
     "data": {
      "text/plain": [
       "<DimCoord: time / (days since 0001-01-01 00:00:00)  [1972-08-25 00:00:00]+bounds>"
      ]
     },
     "execution_count": 22,
     "metadata": {},
     "output_type": "execute_result"
    },
    {
     "name": "stdout",
     "output_type": "stream",
     "text": [
      "238\n"
     ]
    },
    {
     "data": {
      "text/plain": [
       "<DimCoord: time / (days since 0001-01-01 00:00:00)  [0121-11-26 12:00:00]+bounds>"
      ]
     },
     "execution_count": 22,
     "metadata": {},
     "output_type": "execute_result"
    },
    {
     "data": {
      "text/plain": [
       "<DimCoord: time / (days since 0001-01-01 00:00:00)  [1972-08-26 00:00:00]+bounds>"
      ]
     },
     "execution_count": 22,
     "metadata": {},
     "output_type": "execute_result"
    },
    {
     "name": "stdout",
     "output_type": "stream",
     "text": [
      "239\n"
     ]
    },
    {
     "data": {
      "text/plain": [
       "<DimCoord: time / (days since 0001-01-01 00:00:00)  [0121-11-27 12:00:00]+bounds>"
      ]
     },
     "execution_count": 22,
     "metadata": {},
     "output_type": "execute_result"
    },
    {
     "data": {
      "text/plain": [
       "<DimCoord: time / (days since 0001-01-01 00:00:00)  [1972-08-27 00:00:00]+bounds>"
      ]
     },
     "execution_count": 22,
     "metadata": {},
     "output_type": "execute_result"
    },
    {
     "name": "stdout",
     "output_type": "stream",
     "text": [
      "240\n"
     ]
    },
    {
     "data": {
      "text/plain": [
       "<DimCoord: time / (days since 0001-01-01 00:00:00)  [0121-11-28 12:00:00]+bounds>"
      ]
     },
     "execution_count": 22,
     "metadata": {},
     "output_type": "execute_result"
    },
    {
     "data": {
      "text/plain": [
       "<DimCoord: time / (days since 0001-01-01 00:00:00)  [1972-08-28 00:00:00]+bounds>"
      ]
     },
     "execution_count": 22,
     "metadata": {},
     "output_type": "execute_result"
    },
    {
     "name": "stdout",
     "output_type": "stream",
     "text": [
      "241\n"
     ]
    },
    {
     "data": {
      "text/plain": [
       "<DimCoord: time / (days since 0001-01-01 00:00:00)  [0121-11-29 12:00:00]+bounds>"
      ]
     },
     "execution_count": 22,
     "metadata": {},
     "output_type": "execute_result"
    },
    {
     "data": {
      "text/plain": [
       "<DimCoord: time / (days since 0001-01-01 00:00:00)  [1972-08-29 00:00:00]+bounds>"
      ]
     },
     "execution_count": 22,
     "metadata": {},
     "output_type": "execute_result"
    },
    {
     "name": "stdout",
     "output_type": "stream",
     "text": [
      "242\n"
     ]
    },
    {
     "data": {
      "text/plain": [
       "<DimCoord: time / (days since 0001-01-01 00:00:00)  [0121-11-30 12:00:00]+bounds>"
      ]
     },
     "execution_count": 22,
     "metadata": {},
     "output_type": "execute_result"
    },
    {
     "data": {
      "text/plain": [
       "<DimCoord: time / (days since 0001-01-01 00:00:00)  [1972-08-30 00:00:00]+bounds>"
      ]
     },
     "execution_count": 22,
     "metadata": {},
     "output_type": "execute_result"
    },
    {
     "name": "stdout",
     "output_type": "stream",
     "text": [
      "243\n"
     ]
    },
    {
     "data": {
      "text/plain": [
       "<DimCoord: time / (days since 0001-01-01 00:00:00)  [0121-12-01 12:00:00]+bounds>"
      ]
     },
     "execution_count": 22,
     "metadata": {},
     "output_type": "execute_result"
    },
    {
     "data": {
      "text/plain": [
       "<DimCoord: time / (days since 0001-01-01 00:00:00)  [1972-08-31 00:00:00]+bounds>"
      ]
     },
     "execution_count": 22,
     "metadata": {},
     "output_type": "execute_result"
    },
    {
     "name": "stdout",
     "output_type": "stream",
     "text": [
      "244\n"
     ]
    },
    {
     "data": {
      "text/plain": [
       "<DimCoord: time / (days since 0001-01-01 00:00:00)  [0121-12-02 12:00:00]+bounds>"
      ]
     },
     "execution_count": 22,
     "metadata": {},
     "output_type": "execute_result"
    },
    {
     "data": {
      "text/plain": [
       "<DimCoord: time / (days since 0001-01-01 00:00:00)  [1972-09-01 00:00:00]+bounds>"
      ]
     },
     "execution_count": 22,
     "metadata": {},
     "output_type": "execute_result"
    },
    {
     "name": "stdout",
     "output_type": "stream",
     "text": [
      "245\n"
     ]
    },
    {
     "data": {
      "text/plain": [
       "<DimCoord: time / (days since 0001-01-01 00:00:00)  [0121-12-03 12:00:00]+bounds>"
      ]
     },
     "execution_count": 22,
     "metadata": {},
     "output_type": "execute_result"
    },
    {
     "data": {
      "text/plain": [
       "<DimCoord: time / (days since 0001-01-01 00:00:00)  [1972-09-02 00:00:00]+bounds>"
      ]
     },
     "execution_count": 22,
     "metadata": {},
     "output_type": "execute_result"
    },
    {
     "name": "stdout",
     "output_type": "stream",
     "text": [
      "246\n"
     ]
    },
    {
     "data": {
      "text/plain": [
       "<DimCoord: time / (days since 0001-01-01 00:00:00)  [0121-12-04 12:00:00]+bounds>"
      ]
     },
     "execution_count": 22,
     "metadata": {},
     "output_type": "execute_result"
    },
    {
     "data": {
      "text/plain": [
       "<DimCoord: time / (days since 0001-01-01 00:00:00)  [1972-09-03 00:00:00]+bounds>"
      ]
     },
     "execution_count": 22,
     "metadata": {},
     "output_type": "execute_result"
    },
    {
     "name": "stdout",
     "output_type": "stream",
     "text": [
      "247\n"
     ]
    },
    {
     "data": {
      "text/plain": [
       "<DimCoord: time / (days since 0001-01-01 00:00:00)  [0121-12-05 12:00:00]+bounds>"
      ]
     },
     "execution_count": 22,
     "metadata": {},
     "output_type": "execute_result"
    },
    {
     "data": {
      "text/plain": [
       "<DimCoord: time / (days since 0001-01-01 00:00:00)  [1972-09-04 00:00:00]+bounds>"
      ]
     },
     "execution_count": 22,
     "metadata": {},
     "output_type": "execute_result"
    },
    {
     "name": "stdout",
     "output_type": "stream",
     "text": [
      "248\n"
     ]
    },
    {
     "data": {
      "text/plain": [
       "<DimCoord: time / (days since 0001-01-01 00:00:00)  [0121-12-06 12:00:00]+bounds>"
      ]
     },
     "execution_count": 22,
     "metadata": {},
     "output_type": "execute_result"
    },
    {
     "data": {
      "text/plain": [
       "<DimCoord: time / (days since 0001-01-01 00:00:00)  [1972-09-05 00:00:00]+bounds>"
      ]
     },
     "execution_count": 22,
     "metadata": {},
     "output_type": "execute_result"
    },
    {
     "name": "stdout",
     "output_type": "stream",
     "text": [
      "249\n"
     ]
    },
    {
     "data": {
      "text/plain": [
       "<DimCoord: time / (days since 0001-01-01 00:00:00)  [0121-12-07 12:00:00]+bounds>"
      ]
     },
     "execution_count": 22,
     "metadata": {},
     "output_type": "execute_result"
    },
    {
     "data": {
      "text/plain": [
       "<DimCoord: time / (days since 0001-01-01 00:00:00)  [1972-09-06 00:00:00]+bounds>"
      ]
     },
     "execution_count": 22,
     "metadata": {},
     "output_type": "execute_result"
    },
    {
     "name": "stdout",
     "output_type": "stream",
     "text": [
      "250\n"
     ]
    },
    {
     "data": {
      "text/plain": [
       "<DimCoord: time / (days since 0001-01-01 00:00:00)  [0121-12-08 12:00:00]+bounds>"
      ]
     },
     "execution_count": 22,
     "metadata": {},
     "output_type": "execute_result"
    },
    {
     "data": {
      "text/plain": [
       "<DimCoord: time / (days since 0001-01-01 00:00:00)  [1972-09-07 00:00:00]+bounds>"
      ]
     },
     "execution_count": 22,
     "metadata": {},
     "output_type": "execute_result"
    },
    {
     "name": "stdout",
     "output_type": "stream",
     "text": [
      "251\n"
     ]
    },
    {
     "data": {
      "text/plain": [
       "<DimCoord: time / (days since 0001-01-01 00:00:00)  [0121-12-09 12:00:00]+bounds>"
      ]
     },
     "execution_count": 22,
     "metadata": {},
     "output_type": "execute_result"
    },
    {
     "data": {
      "text/plain": [
       "<DimCoord: time / (days since 0001-01-01 00:00:00)  [1972-09-08 00:00:00]+bounds>"
      ]
     },
     "execution_count": 22,
     "metadata": {},
     "output_type": "execute_result"
    },
    {
     "name": "stdout",
     "output_type": "stream",
     "text": [
      "252\n"
     ]
    },
    {
     "data": {
      "text/plain": [
       "<DimCoord: time / (days since 0001-01-01 00:00:00)  [0121-12-10 12:00:00]+bounds>"
      ]
     },
     "execution_count": 22,
     "metadata": {},
     "output_type": "execute_result"
    },
    {
     "data": {
      "text/plain": [
       "<DimCoord: time / (days since 0001-01-01 00:00:00)  [1972-09-09 00:00:00]+bounds>"
      ]
     },
     "execution_count": 22,
     "metadata": {},
     "output_type": "execute_result"
    },
    {
     "name": "stdout",
     "output_type": "stream",
     "text": [
      "253\n"
     ]
    },
    {
     "data": {
      "text/plain": [
       "<DimCoord: time / (days since 0001-01-01 00:00:00)  [0121-12-11 12:00:00]+bounds>"
      ]
     },
     "execution_count": 22,
     "metadata": {},
     "output_type": "execute_result"
    },
    {
     "data": {
      "text/plain": [
       "<DimCoord: time / (days since 0001-01-01 00:00:00)  [1972-09-10 00:00:00]+bounds>"
      ]
     },
     "execution_count": 22,
     "metadata": {},
     "output_type": "execute_result"
    },
    {
     "name": "stdout",
     "output_type": "stream",
     "text": [
      "254\n"
     ]
    },
    {
     "data": {
      "text/plain": [
       "<DimCoord: time / (days since 0001-01-01 00:00:00)  [0121-12-12 12:00:00]+bounds>"
      ]
     },
     "execution_count": 22,
     "metadata": {},
     "output_type": "execute_result"
    },
    {
     "data": {
      "text/plain": [
       "<DimCoord: time / (days since 0001-01-01 00:00:00)  [1972-09-11 00:00:00]+bounds>"
      ]
     },
     "execution_count": 22,
     "metadata": {},
     "output_type": "execute_result"
    },
    {
     "name": "stdout",
     "output_type": "stream",
     "text": [
      "255\n"
     ]
    },
    {
     "data": {
      "text/plain": [
       "<DimCoord: time / (days since 0001-01-01 00:00:00)  [0121-12-13 12:00:00]+bounds>"
      ]
     },
     "execution_count": 22,
     "metadata": {},
     "output_type": "execute_result"
    },
    {
     "data": {
      "text/plain": [
       "<DimCoord: time / (days since 0001-01-01 00:00:00)  [1972-09-12 00:00:00]+bounds>"
      ]
     },
     "execution_count": 22,
     "metadata": {},
     "output_type": "execute_result"
    },
    {
     "name": "stdout",
     "output_type": "stream",
     "text": [
      "256\n"
     ]
    },
    {
     "data": {
      "text/plain": [
       "<DimCoord: time / (days since 0001-01-01 00:00:00)  [0121-12-14 12:00:00]+bounds>"
      ]
     },
     "execution_count": 22,
     "metadata": {},
     "output_type": "execute_result"
    },
    {
     "data": {
      "text/plain": [
       "<DimCoord: time / (days since 0001-01-01 00:00:00)  [1972-09-13 00:00:00]+bounds>"
      ]
     },
     "execution_count": 22,
     "metadata": {},
     "output_type": "execute_result"
    },
    {
     "name": "stdout",
     "output_type": "stream",
     "text": [
      "257\n"
     ]
    },
    {
     "data": {
      "text/plain": [
       "<DimCoord: time / (days since 0001-01-01 00:00:00)  [0121-12-15 12:00:00]+bounds>"
      ]
     },
     "execution_count": 22,
     "metadata": {},
     "output_type": "execute_result"
    },
    {
     "data": {
      "text/plain": [
       "<DimCoord: time / (days since 0001-01-01 00:00:00)  [1972-09-14 00:00:00]+bounds>"
      ]
     },
     "execution_count": 22,
     "metadata": {},
     "output_type": "execute_result"
    },
    {
     "name": "stdout",
     "output_type": "stream",
     "text": [
      "258\n"
     ]
    },
    {
     "data": {
      "text/plain": [
       "<DimCoord: time / (days since 0001-01-01 00:00:00)  [0121-12-16 12:00:00]+bounds>"
      ]
     },
     "execution_count": 22,
     "metadata": {},
     "output_type": "execute_result"
    },
    {
     "data": {
      "text/plain": [
       "<DimCoord: time / (days since 0001-01-01 00:00:00)  [1972-09-15 00:00:00]+bounds>"
      ]
     },
     "execution_count": 22,
     "metadata": {},
     "output_type": "execute_result"
    },
    {
     "name": "stdout",
     "output_type": "stream",
     "text": [
      "259\n"
     ]
    },
    {
     "data": {
      "text/plain": [
       "<DimCoord: time / (days since 0001-01-01 00:00:00)  [0121-12-17 12:00:00]+bounds>"
      ]
     },
     "execution_count": 22,
     "metadata": {},
     "output_type": "execute_result"
    },
    {
     "data": {
      "text/plain": [
       "<DimCoord: time / (days since 0001-01-01 00:00:00)  [1972-09-16 00:00:00]+bounds>"
      ]
     },
     "execution_count": 22,
     "metadata": {},
     "output_type": "execute_result"
    },
    {
     "name": "stdout",
     "output_type": "stream",
     "text": [
      "260\n"
     ]
    },
    {
     "data": {
      "text/plain": [
       "<DimCoord: time / (days since 0001-01-01 00:00:00)  [0121-12-18 12:00:00]+bounds>"
      ]
     },
     "execution_count": 22,
     "metadata": {},
     "output_type": "execute_result"
    },
    {
     "data": {
      "text/plain": [
       "<DimCoord: time / (days since 0001-01-01 00:00:00)  [1972-09-17 00:00:00]+bounds>"
      ]
     },
     "execution_count": 22,
     "metadata": {},
     "output_type": "execute_result"
    },
    {
     "name": "stdout",
     "output_type": "stream",
     "text": [
      "261\n"
     ]
    },
    {
     "data": {
      "text/plain": [
       "<DimCoord: time / (days since 0001-01-01 00:00:00)  [0121-12-19 12:00:00]+bounds>"
      ]
     },
     "execution_count": 22,
     "metadata": {},
     "output_type": "execute_result"
    },
    {
     "data": {
      "text/plain": [
       "<DimCoord: time / (days since 0001-01-01 00:00:00)  [1972-09-18 00:00:00]+bounds>"
      ]
     },
     "execution_count": 22,
     "metadata": {},
     "output_type": "execute_result"
    },
    {
     "name": "stdout",
     "output_type": "stream",
     "text": [
      "262\n"
     ]
    },
    {
     "data": {
      "text/plain": [
       "<DimCoord: time / (days since 0001-01-01 00:00:00)  [0121-12-20 12:00:00]+bounds>"
      ]
     },
     "execution_count": 22,
     "metadata": {},
     "output_type": "execute_result"
    },
    {
     "data": {
      "text/plain": [
       "<DimCoord: time / (days since 0001-01-01 00:00:00)  [1972-09-19 00:00:00]+bounds>"
      ]
     },
     "execution_count": 22,
     "metadata": {},
     "output_type": "execute_result"
    },
    {
     "name": "stdout",
     "output_type": "stream",
     "text": [
      "263\n"
     ]
    },
    {
     "data": {
      "text/plain": [
       "<DimCoord: time / (days since 0001-01-01 00:00:00)  [0121-12-21 12:00:00]+bounds>"
      ]
     },
     "execution_count": 22,
     "metadata": {},
     "output_type": "execute_result"
    },
    {
     "data": {
      "text/plain": [
       "<DimCoord: time / (days since 0001-01-01 00:00:00)  [1972-09-20 00:00:00]+bounds>"
      ]
     },
     "execution_count": 22,
     "metadata": {},
     "output_type": "execute_result"
    },
    {
     "name": "stdout",
     "output_type": "stream",
     "text": [
      "264\n"
     ]
    },
    {
     "data": {
      "text/plain": [
       "<DimCoord: time / (days since 0001-01-01 00:00:00)  [0121-12-22 12:00:00]+bounds>"
      ]
     },
     "execution_count": 22,
     "metadata": {},
     "output_type": "execute_result"
    },
    {
     "data": {
      "text/plain": [
       "<DimCoord: time / (days since 0001-01-01 00:00:00)  [1972-09-21 00:00:00]+bounds>"
      ]
     },
     "execution_count": 22,
     "metadata": {},
     "output_type": "execute_result"
    },
    {
     "name": "stdout",
     "output_type": "stream",
     "text": [
      "265\n"
     ]
    },
    {
     "data": {
      "text/plain": [
       "<DimCoord: time / (days since 0001-01-01 00:00:00)  [0121-12-23 12:00:00]+bounds>"
      ]
     },
     "execution_count": 22,
     "metadata": {},
     "output_type": "execute_result"
    },
    {
     "data": {
      "text/plain": [
       "<DimCoord: time / (days since 0001-01-01 00:00:00)  [1972-09-22 00:00:00]+bounds>"
      ]
     },
     "execution_count": 22,
     "metadata": {},
     "output_type": "execute_result"
    },
    {
     "name": "stdout",
     "output_type": "stream",
     "text": [
      "266\n"
     ]
    },
    {
     "data": {
      "text/plain": [
       "<DimCoord: time / (days since 0001-01-01 00:00:00)  [0121-12-24 12:00:00]+bounds>"
      ]
     },
     "execution_count": 22,
     "metadata": {},
     "output_type": "execute_result"
    },
    {
     "data": {
      "text/plain": [
       "<DimCoord: time / (days since 0001-01-01 00:00:00)  [1972-09-23 00:00:00]+bounds>"
      ]
     },
     "execution_count": 22,
     "metadata": {},
     "output_type": "execute_result"
    },
    {
     "name": "stdout",
     "output_type": "stream",
     "text": [
      "267\n"
     ]
    },
    {
     "data": {
      "text/plain": [
       "<DimCoord: time / (days since 0001-01-01 00:00:00)  [0121-12-25 12:00:00]+bounds>"
      ]
     },
     "execution_count": 22,
     "metadata": {},
     "output_type": "execute_result"
    },
    {
     "data": {
      "text/plain": [
       "<DimCoord: time / (days since 0001-01-01 00:00:00)  [1972-09-24 00:00:00]+bounds>"
      ]
     },
     "execution_count": 22,
     "metadata": {},
     "output_type": "execute_result"
    },
    {
     "name": "stdout",
     "output_type": "stream",
     "text": [
      "268\n"
     ]
    },
    {
     "data": {
      "text/plain": [
       "<DimCoord: time / (days since 0001-01-01 00:00:00)  [0121-12-26 12:00:00]+bounds>"
      ]
     },
     "execution_count": 22,
     "metadata": {},
     "output_type": "execute_result"
    },
    {
     "data": {
      "text/plain": [
       "<DimCoord: time / (days since 0001-01-01 00:00:00)  [1972-09-25 00:00:00]+bounds>"
      ]
     },
     "execution_count": 22,
     "metadata": {},
     "output_type": "execute_result"
    },
    {
     "name": "stdout",
     "output_type": "stream",
     "text": [
      "269\n"
     ]
    },
    {
     "data": {
      "text/plain": [
       "<DimCoord: time / (days since 0001-01-01 00:00:00)  [0121-12-27 12:00:00]+bounds>"
      ]
     },
     "execution_count": 22,
     "metadata": {},
     "output_type": "execute_result"
    },
    {
     "data": {
      "text/plain": [
       "<DimCoord: time / (days since 0001-01-01 00:00:00)  [1972-09-26 00:00:00]+bounds>"
      ]
     },
     "execution_count": 22,
     "metadata": {},
     "output_type": "execute_result"
    },
    {
     "name": "stdout",
     "output_type": "stream",
     "text": [
      "270\n"
     ]
    },
    {
     "data": {
      "text/plain": [
       "<DimCoord: time / (days since 0001-01-01 00:00:00)  [0121-12-28 12:00:00]+bounds>"
      ]
     },
     "execution_count": 22,
     "metadata": {},
     "output_type": "execute_result"
    },
    {
     "data": {
      "text/plain": [
       "<DimCoord: time / (days since 0001-01-01 00:00:00)  [1972-09-27 00:00:00]+bounds>"
      ]
     },
     "execution_count": 22,
     "metadata": {},
     "output_type": "execute_result"
    },
    {
     "name": "stdout",
     "output_type": "stream",
     "text": [
      "271\n"
     ]
    },
    {
     "data": {
      "text/plain": [
       "<DimCoord: time / (days since 0001-01-01 00:00:00)  [0121-12-29 12:00:00]+bounds>"
      ]
     },
     "execution_count": 22,
     "metadata": {},
     "output_type": "execute_result"
    },
    {
     "data": {
      "text/plain": [
       "<DimCoord: time / (days since 0001-01-01 00:00:00)  [1972-09-28 00:00:00]+bounds>"
      ]
     },
     "execution_count": 22,
     "metadata": {},
     "output_type": "execute_result"
    },
    {
     "name": "stdout",
     "output_type": "stream",
     "text": [
      "272\n"
     ]
    },
    {
     "data": {
      "text/plain": [
       "<DimCoord: time / (days since 0001-01-01 00:00:00)  [0121-12-30 12:00:00]+bounds>"
      ]
     },
     "execution_count": 22,
     "metadata": {},
     "output_type": "execute_result"
    },
    {
     "data": {
      "text/plain": [
       "<DimCoord: time / (days since 0001-01-01 00:00:00)  [1972-09-29 00:00:00]+bounds>"
      ]
     },
     "execution_count": 22,
     "metadata": {},
     "output_type": "execute_result"
    },
    {
     "name": "stdout",
     "output_type": "stream",
     "text": [
      "273\n"
     ]
    },
    {
     "data": {
      "text/plain": [
       "<DimCoord: time / (days since 0001-01-01 00:00:00)  [0121-12-31 12:00:00]+bounds>"
      ]
     },
     "execution_count": 22,
     "metadata": {},
     "output_type": "execute_result"
    },
    {
     "data": {
      "text/plain": [
       "<DimCoord: time / (days since 0001-01-01 00:00:00)  [1972-09-30 00:00:00]+bounds>"
      ]
     },
     "execution_count": 22,
     "metadata": {},
     "output_type": "execute_result"
    },
    {
     "name": "stdout",
     "output_type": "stream",
     "text": [
      "274\n"
     ]
    },
    {
     "data": {
      "text/plain": [
       "<DimCoord: time / (days since 0001-01-01 00:00:00)  [0122-01-01 12:00:00]+bounds>"
      ]
     },
     "execution_count": 22,
     "metadata": {},
     "output_type": "execute_result"
    },
    {
     "data": {
      "text/plain": [
       "<DimCoord: time / (days since 0001-01-01 00:00:00)  [1972-10-01 00:00:00]+bounds>"
      ]
     },
     "execution_count": 22,
     "metadata": {},
     "output_type": "execute_result"
    },
    {
     "name": "stdout",
     "output_type": "stream",
     "text": [
      "275\n"
     ]
    },
    {
     "data": {
      "text/plain": [
       "<DimCoord: time / (days since 0001-01-01 00:00:00)  [0122-01-02 12:00:00]+bounds>"
      ]
     },
     "execution_count": 22,
     "metadata": {},
     "output_type": "execute_result"
    },
    {
     "data": {
      "text/plain": [
       "<DimCoord: time / (days since 0001-01-01 00:00:00)  [1972-10-02 00:00:00]+bounds>"
      ]
     },
     "execution_count": 22,
     "metadata": {},
     "output_type": "execute_result"
    },
    {
     "name": "stdout",
     "output_type": "stream",
     "text": [
      "276\n"
     ]
    },
    {
     "data": {
      "text/plain": [
       "<DimCoord: time / (days since 0001-01-01 00:00:00)  [0122-01-03 12:00:00]+bounds>"
      ]
     },
     "execution_count": 22,
     "metadata": {},
     "output_type": "execute_result"
    },
    {
     "data": {
      "text/plain": [
       "<DimCoord: time / (days since 0001-01-01 00:00:00)  [1972-10-03 00:00:00]+bounds>"
      ]
     },
     "execution_count": 22,
     "metadata": {},
     "output_type": "execute_result"
    },
    {
     "name": "stdout",
     "output_type": "stream",
     "text": [
      "277\n"
     ]
    },
    {
     "data": {
      "text/plain": [
       "<DimCoord: time / (days since 0001-01-01 00:00:00)  [0122-01-04 12:00:00]+bounds>"
      ]
     },
     "execution_count": 22,
     "metadata": {},
     "output_type": "execute_result"
    },
    {
     "data": {
      "text/plain": [
       "<DimCoord: time / (days since 0001-01-01 00:00:00)  [1972-10-04 00:00:00]+bounds>"
      ]
     },
     "execution_count": 22,
     "metadata": {},
     "output_type": "execute_result"
    },
    {
     "name": "stdout",
     "output_type": "stream",
     "text": [
      "278\n"
     ]
    },
    {
     "data": {
      "text/plain": [
       "<DimCoord: time / (days since 0001-01-01 00:00:00)  [0122-01-05 12:00:00]+bounds>"
      ]
     },
     "execution_count": 22,
     "metadata": {},
     "output_type": "execute_result"
    },
    {
     "data": {
      "text/plain": [
       "<DimCoord: time / (days since 0001-01-01 00:00:00)  [1972-10-05 00:00:00]+bounds>"
      ]
     },
     "execution_count": 22,
     "metadata": {},
     "output_type": "execute_result"
    },
    {
     "name": "stdout",
     "output_type": "stream",
     "text": [
      "279\n"
     ]
    },
    {
     "data": {
      "text/plain": [
       "<DimCoord: time / (days since 0001-01-01 00:00:00)  [0122-01-06 12:00:00]+bounds>"
      ]
     },
     "execution_count": 22,
     "metadata": {},
     "output_type": "execute_result"
    },
    {
     "data": {
      "text/plain": [
       "<DimCoord: time / (days since 0001-01-01 00:00:00)  [1972-10-06 00:00:00]+bounds>"
      ]
     },
     "execution_count": 22,
     "metadata": {},
     "output_type": "execute_result"
    },
    {
     "name": "stdout",
     "output_type": "stream",
     "text": [
      "280\n"
     ]
    },
    {
     "data": {
      "text/plain": [
       "<DimCoord: time / (days since 0001-01-01 00:00:00)  [0122-01-07 12:00:00]+bounds>"
      ]
     },
     "execution_count": 22,
     "metadata": {},
     "output_type": "execute_result"
    },
    {
     "data": {
      "text/plain": [
       "<DimCoord: time / (days since 0001-01-01 00:00:00)  [1972-10-07 00:00:00]+bounds>"
      ]
     },
     "execution_count": 22,
     "metadata": {},
     "output_type": "execute_result"
    },
    {
     "name": "stdout",
     "output_type": "stream",
     "text": [
      "281\n"
     ]
    },
    {
     "data": {
      "text/plain": [
       "<DimCoord: time / (days since 0001-01-01 00:00:00)  [0122-01-08 12:00:00]+bounds>"
      ]
     },
     "execution_count": 22,
     "metadata": {},
     "output_type": "execute_result"
    },
    {
     "data": {
      "text/plain": [
       "<DimCoord: time / (days since 0001-01-01 00:00:00)  [1972-10-08 00:00:00]+bounds>"
      ]
     },
     "execution_count": 22,
     "metadata": {},
     "output_type": "execute_result"
    },
    {
     "name": "stdout",
     "output_type": "stream",
     "text": [
      "282\n"
     ]
    },
    {
     "data": {
      "text/plain": [
       "<DimCoord: time / (days since 0001-01-01 00:00:00)  [0122-01-09 12:00:00]+bounds>"
      ]
     },
     "execution_count": 22,
     "metadata": {},
     "output_type": "execute_result"
    },
    {
     "data": {
      "text/plain": [
       "<DimCoord: time / (days since 0001-01-01 00:00:00)  [1972-10-09 00:00:00]+bounds>"
      ]
     },
     "execution_count": 22,
     "metadata": {},
     "output_type": "execute_result"
    },
    {
     "name": "stdout",
     "output_type": "stream",
     "text": [
      "283\n"
     ]
    },
    {
     "data": {
      "text/plain": [
       "<DimCoord: time / (days since 0001-01-01 00:00:00)  [0122-01-10 12:00:00]+bounds>"
      ]
     },
     "execution_count": 22,
     "metadata": {},
     "output_type": "execute_result"
    },
    {
     "data": {
      "text/plain": [
       "<DimCoord: time / (days since 0001-01-01 00:00:00)  [1972-10-10 00:00:00]+bounds>"
      ]
     },
     "execution_count": 22,
     "metadata": {},
     "output_type": "execute_result"
    },
    {
     "name": "stdout",
     "output_type": "stream",
     "text": [
      "284\n"
     ]
    },
    {
     "data": {
      "text/plain": [
       "<DimCoord: time / (days since 0001-01-01 00:00:00)  [0122-01-11 12:00:00]+bounds>"
      ]
     },
     "execution_count": 22,
     "metadata": {},
     "output_type": "execute_result"
    },
    {
     "data": {
      "text/plain": [
       "<DimCoord: time / (days since 0001-01-01 00:00:00)  [1972-10-11 00:00:00]+bounds>"
      ]
     },
     "execution_count": 22,
     "metadata": {},
     "output_type": "execute_result"
    },
    {
     "name": "stdout",
     "output_type": "stream",
     "text": [
      "285\n"
     ]
    },
    {
     "data": {
      "text/plain": [
       "<DimCoord: time / (days since 0001-01-01 00:00:00)  [0122-01-12 12:00:00]+bounds>"
      ]
     },
     "execution_count": 22,
     "metadata": {},
     "output_type": "execute_result"
    },
    {
     "data": {
      "text/plain": [
       "<DimCoord: time / (days since 0001-01-01 00:00:00)  [1972-10-12 00:00:00]+bounds>"
      ]
     },
     "execution_count": 22,
     "metadata": {},
     "output_type": "execute_result"
    },
    {
     "name": "stdout",
     "output_type": "stream",
     "text": [
      "286\n"
     ]
    },
    {
     "data": {
      "text/plain": [
       "<DimCoord: time / (days since 0001-01-01 00:00:00)  [0122-01-13 12:00:00]+bounds>"
      ]
     },
     "execution_count": 22,
     "metadata": {},
     "output_type": "execute_result"
    },
    {
     "data": {
      "text/plain": [
       "<DimCoord: time / (days since 0001-01-01 00:00:00)  [1972-10-13 00:00:00]+bounds>"
      ]
     },
     "execution_count": 22,
     "metadata": {},
     "output_type": "execute_result"
    },
    {
     "name": "stdout",
     "output_type": "stream",
     "text": [
      "287\n"
     ]
    },
    {
     "data": {
      "text/plain": [
       "<DimCoord: time / (days since 0001-01-01 00:00:00)  [0122-01-14 12:00:00]+bounds>"
      ]
     },
     "execution_count": 22,
     "metadata": {},
     "output_type": "execute_result"
    },
    {
     "data": {
      "text/plain": [
       "<DimCoord: time / (days since 0001-01-01 00:00:00)  [1972-10-14 00:00:00]+bounds>"
      ]
     },
     "execution_count": 22,
     "metadata": {},
     "output_type": "execute_result"
    },
    {
     "name": "stdout",
     "output_type": "stream",
     "text": [
      "288\n"
     ]
    },
    {
     "data": {
      "text/plain": [
       "<DimCoord: time / (days since 0001-01-01 00:00:00)  [0122-01-15 12:00:00]+bounds>"
      ]
     },
     "execution_count": 22,
     "metadata": {},
     "output_type": "execute_result"
    },
    {
     "data": {
      "text/plain": [
       "<DimCoord: time / (days since 0001-01-01 00:00:00)  [1972-10-15 00:00:00]+bounds>"
      ]
     },
     "execution_count": 22,
     "metadata": {},
     "output_type": "execute_result"
    },
    {
     "name": "stdout",
     "output_type": "stream",
     "text": [
      "289\n"
     ]
    },
    {
     "data": {
      "text/plain": [
       "<DimCoord: time / (days since 0001-01-01 00:00:00)  [0122-01-16 12:00:00]+bounds>"
      ]
     },
     "execution_count": 22,
     "metadata": {},
     "output_type": "execute_result"
    },
    {
     "data": {
      "text/plain": [
       "<DimCoord: time / (days since 0001-01-01 00:00:00)  [1972-10-16 00:00:00]+bounds>"
      ]
     },
     "execution_count": 22,
     "metadata": {},
     "output_type": "execute_result"
    },
    {
     "name": "stdout",
     "output_type": "stream",
     "text": [
      "290\n"
     ]
    },
    {
     "data": {
      "text/plain": [
       "<DimCoord: time / (days since 0001-01-01 00:00:00)  [0122-01-17 12:00:00]+bounds>"
      ]
     },
     "execution_count": 22,
     "metadata": {},
     "output_type": "execute_result"
    },
    {
     "data": {
      "text/plain": [
       "<DimCoord: time / (days since 0001-01-01 00:00:00)  [1972-10-17 00:00:00]+bounds>"
      ]
     },
     "execution_count": 22,
     "metadata": {},
     "output_type": "execute_result"
    },
    {
     "name": "stdout",
     "output_type": "stream",
     "text": [
      "291\n"
     ]
    },
    {
     "data": {
      "text/plain": [
       "<DimCoord: time / (days since 0001-01-01 00:00:00)  [0122-01-18 12:00:00]+bounds>"
      ]
     },
     "execution_count": 22,
     "metadata": {},
     "output_type": "execute_result"
    },
    {
     "data": {
      "text/plain": [
       "<DimCoord: time / (days since 0001-01-01 00:00:00)  [1972-10-18 00:00:00]+bounds>"
      ]
     },
     "execution_count": 22,
     "metadata": {},
     "output_type": "execute_result"
    },
    {
     "name": "stdout",
     "output_type": "stream",
     "text": [
      "292\n"
     ]
    },
    {
     "data": {
      "text/plain": [
       "<DimCoord: time / (days since 0001-01-01 00:00:00)  [0122-01-19 12:00:00]+bounds>"
      ]
     },
     "execution_count": 22,
     "metadata": {},
     "output_type": "execute_result"
    },
    {
     "data": {
      "text/plain": [
       "<DimCoord: time / (days since 0001-01-01 00:00:00)  [1972-10-19 00:00:00]+bounds>"
      ]
     },
     "execution_count": 22,
     "metadata": {},
     "output_type": "execute_result"
    },
    {
     "name": "stdout",
     "output_type": "stream",
     "text": [
      "293\n"
     ]
    },
    {
     "data": {
      "text/plain": [
       "<DimCoord: time / (days since 0001-01-01 00:00:00)  [0122-01-20 12:00:00]+bounds>"
      ]
     },
     "execution_count": 22,
     "metadata": {},
     "output_type": "execute_result"
    },
    {
     "data": {
      "text/plain": [
       "<DimCoord: time / (days since 0001-01-01 00:00:00)  [1972-10-20 00:00:00]+bounds>"
      ]
     },
     "execution_count": 22,
     "metadata": {},
     "output_type": "execute_result"
    },
    {
     "name": "stdout",
     "output_type": "stream",
     "text": [
      "294\n"
     ]
    },
    {
     "data": {
      "text/plain": [
       "<DimCoord: time / (days since 0001-01-01 00:00:00)  [0122-01-21 12:00:00]+bounds>"
      ]
     },
     "execution_count": 22,
     "metadata": {},
     "output_type": "execute_result"
    },
    {
     "data": {
      "text/plain": [
       "<DimCoord: time / (days since 0001-01-01 00:00:00)  [1972-10-21 00:00:00]+bounds>"
      ]
     },
     "execution_count": 22,
     "metadata": {},
     "output_type": "execute_result"
    },
    {
     "name": "stdout",
     "output_type": "stream",
     "text": [
      "295\n"
     ]
    },
    {
     "data": {
      "text/plain": [
       "<DimCoord: time / (days since 0001-01-01 00:00:00)  [0122-01-22 12:00:00]+bounds>"
      ]
     },
     "execution_count": 22,
     "metadata": {},
     "output_type": "execute_result"
    },
    {
     "data": {
      "text/plain": [
       "<DimCoord: time / (days since 0001-01-01 00:00:00)  [1972-10-22 00:00:00]+bounds>"
      ]
     },
     "execution_count": 22,
     "metadata": {},
     "output_type": "execute_result"
    },
    {
     "name": "stdout",
     "output_type": "stream",
     "text": [
      "296\n"
     ]
    },
    {
     "data": {
      "text/plain": [
       "<DimCoord: time / (days since 0001-01-01 00:00:00)  [0122-01-23 12:00:00]+bounds>"
      ]
     },
     "execution_count": 22,
     "metadata": {},
     "output_type": "execute_result"
    },
    {
     "data": {
      "text/plain": [
       "<DimCoord: time / (days since 0001-01-01 00:00:00)  [1972-10-23 00:00:00]+bounds>"
      ]
     },
     "execution_count": 22,
     "metadata": {},
     "output_type": "execute_result"
    },
    {
     "name": "stdout",
     "output_type": "stream",
     "text": [
      "297\n"
     ]
    },
    {
     "data": {
      "text/plain": [
       "<DimCoord: time / (days since 0001-01-01 00:00:00)  [0122-01-24 12:00:00]+bounds>"
      ]
     },
     "execution_count": 22,
     "metadata": {},
     "output_type": "execute_result"
    },
    {
     "data": {
      "text/plain": [
       "<DimCoord: time / (days since 0001-01-01 00:00:00)  [1972-10-24 00:00:00]+bounds>"
      ]
     },
     "execution_count": 22,
     "metadata": {},
     "output_type": "execute_result"
    },
    {
     "name": "stdout",
     "output_type": "stream",
     "text": [
      "298\n"
     ]
    },
    {
     "data": {
      "text/plain": [
       "<DimCoord: time / (days since 0001-01-01 00:00:00)  [0122-01-25 12:00:00]+bounds>"
      ]
     },
     "execution_count": 22,
     "metadata": {},
     "output_type": "execute_result"
    },
    {
     "data": {
      "text/plain": [
       "<DimCoord: time / (days since 0001-01-01 00:00:00)  [1972-10-25 00:00:00]+bounds>"
      ]
     },
     "execution_count": 22,
     "metadata": {},
     "output_type": "execute_result"
    },
    {
     "name": "stdout",
     "output_type": "stream",
     "text": [
      "299\n"
     ]
    },
    {
     "data": {
      "text/plain": [
       "<DimCoord: time / (days since 0001-01-01 00:00:00)  [0122-01-26 12:00:00]+bounds>"
      ]
     },
     "execution_count": 22,
     "metadata": {},
     "output_type": "execute_result"
    },
    {
     "data": {
      "text/plain": [
       "<DimCoord: time / (days since 0001-01-01 00:00:00)  [1972-10-26 00:00:00]+bounds>"
      ]
     },
     "execution_count": 22,
     "metadata": {},
     "output_type": "execute_result"
    },
    {
     "name": "stdout",
     "output_type": "stream",
     "text": [
      "300\n"
     ]
    },
    {
     "data": {
      "text/plain": [
       "<DimCoord: time / (days since 0001-01-01 00:00:00)  [0122-01-27 12:00:00]+bounds>"
      ]
     },
     "execution_count": 22,
     "metadata": {},
     "output_type": "execute_result"
    },
    {
     "data": {
      "text/plain": [
       "<DimCoord: time / (days since 0001-01-01 00:00:00)  [1972-10-27 00:00:00]+bounds>"
      ]
     },
     "execution_count": 22,
     "metadata": {},
     "output_type": "execute_result"
    },
    {
     "name": "stdout",
     "output_type": "stream",
     "text": [
      "301\n"
     ]
    },
    {
     "data": {
      "text/plain": [
       "<DimCoord: time / (days since 0001-01-01 00:00:00)  [0122-01-28 12:00:00]+bounds>"
      ]
     },
     "execution_count": 22,
     "metadata": {},
     "output_type": "execute_result"
    },
    {
     "data": {
      "text/plain": [
       "<DimCoord: time / (days since 0001-01-01 00:00:00)  [1972-10-28 00:00:00]+bounds>"
      ]
     },
     "execution_count": 22,
     "metadata": {},
     "output_type": "execute_result"
    },
    {
     "name": "stdout",
     "output_type": "stream",
     "text": [
      "302\n"
     ]
    },
    {
     "data": {
      "text/plain": [
       "<DimCoord: time / (days since 0001-01-01 00:00:00)  [0122-01-29 12:00:00]+bounds>"
      ]
     },
     "execution_count": 22,
     "metadata": {},
     "output_type": "execute_result"
    },
    {
     "data": {
      "text/plain": [
       "<DimCoord: time / (days since 0001-01-01 00:00:00)  [1972-10-29 00:00:00]+bounds>"
      ]
     },
     "execution_count": 22,
     "metadata": {},
     "output_type": "execute_result"
    },
    {
     "name": "stdout",
     "output_type": "stream",
     "text": [
      "303\n"
     ]
    },
    {
     "data": {
      "text/plain": [
       "<DimCoord: time / (days since 0001-01-01 00:00:00)  [0122-01-30 12:00:00]+bounds>"
      ]
     },
     "execution_count": 22,
     "metadata": {},
     "output_type": "execute_result"
    },
    {
     "data": {
      "text/plain": [
       "<DimCoord: time / (days since 0001-01-01 00:00:00)  [1972-10-30 00:00:00]+bounds>"
      ]
     },
     "execution_count": 22,
     "metadata": {},
     "output_type": "execute_result"
    },
    {
     "name": "stdout",
     "output_type": "stream",
     "text": [
      "304\n"
     ]
    },
    {
     "data": {
      "text/plain": [
       "<DimCoord: time / (days since 0001-01-01 00:00:00)  [0122-01-31 12:00:00]+bounds>"
      ]
     },
     "execution_count": 22,
     "metadata": {},
     "output_type": "execute_result"
    },
    {
     "data": {
      "text/plain": [
       "<DimCoord: time / (days since 0001-01-01 00:00:00)  [1972-10-31 00:00:00]+bounds>"
      ]
     },
     "execution_count": 22,
     "metadata": {},
     "output_type": "execute_result"
    },
    {
     "name": "stdout",
     "output_type": "stream",
     "text": [
      "305\n"
     ]
    },
    {
     "data": {
      "text/plain": [
       "<DimCoord: time / (days since 0001-01-01 00:00:00)  [0122-02-01 12:00:00]+bounds>"
      ]
     },
     "execution_count": 22,
     "metadata": {},
     "output_type": "execute_result"
    },
    {
     "data": {
      "text/plain": [
       "<DimCoord: time / (days since 0001-01-01 00:00:00)  [1972-11-01 00:00:00]+bounds>"
      ]
     },
     "execution_count": 22,
     "metadata": {},
     "output_type": "execute_result"
    },
    {
     "name": "stdout",
     "output_type": "stream",
     "text": [
      "306\n"
     ]
    },
    {
     "data": {
      "text/plain": [
       "<DimCoord: time / (days since 0001-01-01 00:00:00)  [0122-02-02 12:00:00]+bounds>"
      ]
     },
     "execution_count": 22,
     "metadata": {},
     "output_type": "execute_result"
    },
    {
     "data": {
      "text/plain": [
       "<DimCoord: time / (days since 0001-01-01 00:00:00)  [1972-11-02 00:00:00]+bounds>"
      ]
     },
     "execution_count": 22,
     "metadata": {},
     "output_type": "execute_result"
    },
    {
     "name": "stdout",
     "output_type": "stream",
     "text": [
      "307\n"
     ]
    },
    {
     "data": {
      "text/plain": [
       "<DimCoord: time / (days since 0001-01-01 00:00:00)  [0122-02-03 12:00:00]+bounds>"
      ]
     },
     "execution_count": 22,
     "metadata": {},
     "output_type": "execute_result"
    },
    {
     "data": {
      "text/plain": [
       "<DimCoord: time / (days since 0001-01-01 00:00:00)  [1972-11-03 00:00:00]+bounds>"
      ]
     },
     "execution_count": 22,
     "metadata": {},
     "output_type": "execute_result"
    },
    {
     "name": "stdout",
     "output_type": "stream",
     "text": [
      "308\n"
     ]
    },
    {
     "data": {
      "text/plain": [
       "<DimCoord: time / (days since 0001-01-01 00:00:00)  [0122-02-04 12:00:00]+bounds>"
      ]
     },
     "execution_count": 22,
     "metadata": {},
     "output_type": "execute_result"
    },
    {
     "data": {
      "text/plain": [
       "<DimCoord: time / (days since 0001-01-01 00:00:00)  [1972-11-04 00:00:00]+bounds>"
      ]
     },
     "execution_count": 22,
     "metadata": {},
     "output_type": "execute_result"
    },
    {
     "name": "stdout",
     "output_type": "stream",
     "text": [
      "309\n"
     ]
    },
    {
     "data": {
      "text/plain": [
       "<DimCoord: time / (days since 0001-01-01 00:00:00)  [0122-02-05 12:00:00]+bounds>"
      ]
     },
     "execution_count": 22,
     "metadata": {},
     "output_type": "execute_result"
    },
    {
     "data": {
      "text/plain": [
       "<DimCoord: time / (days since 0001-01-01 00:00:00)  [1972-11-05 00:00:00]+bounds>"
      ]
     },
     "execution_count": 22,
     "metadata": {},
     "output_type": "execute_result"
    },
    {
     "name": "stdout",
     "output_type": "stream",
     "text": [
      "310\n"
     ]
    },
    {
     "data": {
      "text/plain": [
       "<DimCoord: time / (days since 0001-01-01 00:00:00)  [0122-02-06 12:00:00]+bounds>"
      ]
     },
     "execution_count": 22,
     "metadata": {},
     "output_type": "execute_result"
    },
    {
     "data": {
      "text/plain": [
       "<DimCoord: time / (days since 0001-01-01 00:00:00)  [1972-11-06 00:00:00]+bounds>"
      ]
     },
     "execution_count": 22,
     "metadata": {},
     "output_type": "execute_result"
    },
    {
     "name": "stdout",
     "output_type": "stream",
     "text": [
      "311\n"
     ]
    },
    {
     "data": {
      "text/plain": [
       "<DimCoord: time / (days since 0001-01-01 00:00:00)  [0122-02-07 12:00:00]+bounds>"
      ]
     },
     "execution_count": 22,
     "metadata": {},
     "output_type": "execute_result"
    },
    {
     "data": {
      "text/plain": [
       "<DimCoord: time / (days since 0001-01-01 00:00:00)  [1972-11-07 00:00:00]+bounds>"
      ]
     },
     "execution_count": 22,
     "metadata": {},
     "output_type": "execute_result"
    },
    {
     "name": "stdout",
     "output_type": "stream",
     "text": [
      "312\n"
     ]
    },
    {
     "data": {
      "text/plain": [
       "<DimCoord: time / (days since 0001-01-01 00:00:00)  [0122-02-08 12:00:00]+bounds>"
      ]
     },
     "execution_count": 22,
     "metadata": {},
     "output_type": "execute_result"
    },
    {
     "data": {
      "text/plain": [
       "<DimCoord: time / (days since 0001-01-01 00:00:00)  [1972-11-08 00:00:00]+bounds>"
      ]
     },
     "execution_count": 22,
     "metadata": {},
     "output_type": "execute_result"
    },
    {
     "name": "stdout",
     "output_type": "stream",
     "text": [
      "313\n"
     ]
    },
    {
     "data": {
      "text/plain": [
       "<DimCoord: time / (days since 0001-01-01 00:00:00)  [0122-02-09 12:00:00]+bounds>"
      ]
     },
     "execution_count": 22,
     "metadata": {},
     "output_type": "execute_result"
    },
    {
     "data": {
      "text/plain": [
       "<DimCoord: time / (days since 0001-01-01 00:00:00)  [1972-11-09 00:00:00]+bounds>"
      ]
     },
     "execution_count": 22,
     "metadata": {},
     "output_type": "execute_result"
    },
    {
     "name": "stdout",
     "output_type": "stream",
     "text": [
      "314\n"
     ]
    },
    {
     "data": {
      "text/plain": [
       "<DimCoord: time / (days since 0001-01-01 00:00:00)  [0122-02-10 12:00:00]+bounds>"
      ]
     },
     "execution_count": 22,
     "metadata": {},
     "output_type": "execute_result"
    },
    {
     "data": {
      "text/plain": [
       "<DimCoord: time / (days since 0001-01-01 00:00:00)  [1972-11-10 00:00:00]+bounds>"
      ]
     },
     "execution_count": 22,
     "metadata": {},
     "output_type": "execute_result"
    },
    {
     "name": "stdout",
     "output_type": "stream",
     "text": [
      "315\n"
     ]
    },
    {
     "data": {
      "text/plain": [
       "<DimCoord: time / (days since 0001-01-01 00:00:00)  [0122-02-11 12:00:00]+bounds>"
      ]
     },
     "execution_count": 22,
     "metadata": {},
     "output_type": "execute_result"
    },
    {
     "data": {
      "text/plain": [
       "<DimCoord: time / (days since 0001-01-01 00:00:00)  [1972-11-11 00:00:00]+bounds>"
      ]
     },
     "execution_count": 22,
     "metadata": {},
     "output_type": "execute_result"
    },
    {
     "name": "stdout",
     "output_type": "stream",
     "text": [
      "316\n"
     ]
    },
    {
     "data": {
      "text/plain": [
       "<DimCoord: time / (days since 0001-01-01 00:00:00)  [0122-02-12 12:00:00]+bounds>"
      ]
     },
     "execution_count": 22,
     "metadata": {},
     "output_type": "execute_result"
    },
    {
     "data": {
      "text/plain": [
       "<DimCoord: time / (days since 0001-01-01 00:00:00)  [1972-11-12 00:00:00]+bounds>"
      ]
     },
     "execution_count": 22,
     "metadata": {},
     "output_type": "execute_result"
    },
    {
     "name": "stdout",
     "output_type": "stream",
     "text": [
      "317\n"
     ]
    },
    {
     "data": {
      "text/plain": [
       "<DimCoord: time / (days since 0001-01-01 00:00:00)  [0122-02-13 12:00:00]+bounds>"
      ]
     },
     "execution_count": 22,
     "metadata": {},
     "output_type": "execute_result"
    },
    {
     "data": {
      "text/plain": [
       "<DimCoord: time / (days since 0001-01-01 00:00:00)  [1972-11-13 00:00:00]+bounds>"
      ]
     },
     "execution_count": 22,
     "metadata": {},
     "output_type": "execute_result"
    },
    {
     "name": "stdout",
     "output_type": "stream",
     "text": [
      "318\n"
     ]
    },
    {
     "data": {
      "text/plain": [
       "<DimCoord: time / (days since 0001-01-01 00:00:00)  [0122-02-14 12:00:00]+bounds>"
      ]
     },
     "execution_count": 22,
     "metadata": {},
     "output_type": "execute_result"
    },
    {
     "data": {
      "text/plain": [
       "<DimCoord: time / (days since 0001-01-01 00:00:00)  [1972-11-14 00:00:00]+bounds>"
      ]
     },
     "execution_count": 22,
     "metadata": {},
     "output_type": "execute_result"
    },
    {
     "name": "stdout",
     "output_type": "stream",
     "text": [
      "319\n"
     ]
    },
    {
     "data": {
      "text/plain": [
       "<DimCoord: time / (days since 0001-01-01 00:00:00)  [0122-02-15 12:00:00]+bounds>"
      ]
     },
     "execution_count": 22,
     "metadata": {},
     "output_type": "execute_result"
    },
    {
     "data": {
      "text/plain": [
       "<DimCoord: time / (days since 0001-01-01 00:00:00)  [1972-11-15 00:00:00]+bounds>"
      ]
     },
     "execution_count": 22,
     "metadata": {},
     "output_type": "execute_result"
    },
    {
     "name": "stdout",
     "output_type": "stream",
     "text": [
      "320\n"
     ]
    },
    {
     "data": {
      "text/plain": [
       "<DimCoord: time / (days since 0001-01-01 00:00:00)  [0122-02-16 12:00:00]+bounds>"
      ]
     },
     "execution_count": 22,
     "metadata": {},
     "output_type": "execute_result"
    },
    {
     "data": {
      "text/plain": [
       "<DimCoord: time / (days since 0001-01-01 00:00:00)  [1972-11-16 00:00:00]+bounds>"
      ]
     },
     "execution_count": 22,
     "metadata": {},
     "output_type": "execute_result"
    },
    {
     "name": "stdout",
     "output_type": "stream",
     "text": [
      "321\n"
     ]
    },
    {
     "data": {
      "text/plain": [
       "<DimCoord: time / (days since 0001-01-01 00:00:00)  [0122-02-17 12:00:00]+bounds>"
      ]
     },
     "execution_count": 22,
     "metadata": {},
     "output_type": "execute_result"
    },
    {
     "data": {
      "text/plain": [
       "<DimCoord: time / (days since 0001-01-01 00:00:00)  [1972-11-17 00:00:00]+bounds>"
      ]
     },
     "execution_count": 22,
     "metadata": {},
     "output_type": "execute_result"
    },
    {
     "name": "stdout",
     "output_type": "stream",
     "text": [
      "322\n"
     ]
    },
    {
     "data": {
      "text/plain": [
       "<DimCoord: time / (days since 0001-01-01 00:00:00)  [0122-02-18 12:00:00]+bounds>"
      ]
     },
     "execution_count": 22,
     "metadata": {},
     "output_type": "execute_result"
    },
    {
     "data": {
      "text/plain": [
       "<DimCoord: time / (days since 0001-01-01 00:00:00)  [1972-11-18 00:00:00]+bounds>"
      ]
     },
     "execution_count": 22,
     "metadata": {},
     "output_type": "execute_result"
    },
    {
     "name": "stdout",
     "output_type": "stream",
     "text": [
      "323\n"
     ]
    },
    {
     "data": {
      "text/plain": [
       "<DimCoord: time / (days since 0001-01-01 00:00:00)  [0122-02-19 12:00:00]+bounds>"
      ]
     },
     "execution_count": 22,
     "metadata": {},
     "output_type": "execute_result"
    },
    {
     "data": {
      "text/plain": [
       "<DimCoord: time / (days since 0001-01-01 00:00:00)  [1972-11-19 00:00:00]+bounds>"
      ]
     },
     "execution_count": 22,
     "metadata": {},
     "output_type": "execute_result"
    },
    {
     "name": "stdout",
     "output_type": "stream",
     "text": [
      "324\n"
     ]
    },
    {
     "data": {
      "text/plain": [
       "<DimCoord: time / (days since 0001-01-01 00:00:00)  [0122-02-20 12:00:00]+bounds>"
      ]
     },
     "execution_count": 22,
     "metadata": {},
     "output_type": "execute_result"
    },
    {
     "data": {
      "text/plain": [
       "<DimCoord: time / (days since 0001-01-01 00:00:00)  [1972-11-20 00:00:00]+bounds>"
      ]
     },
     "execution_count": 22,
     "metadata": {},
     "output_type": "execute_result"
    },
    {
     "name": "stdout",
     "output_type": "stream",
     "text": [
      "325\n"
     ]
    },
    {
     "data": {
      "text/plain": [
       "<DimCoord: time / (days since 0001-01-01 00:00:00)  [0122-02-21 12:00:00]+bounds>"
      ]
     },
     "execution_count": 22,
     "metadata": {},
     "output_type": "execute_result"
    },
    {
     "data": {
      "text/plain": [
       "<DimCoord: time / (days since 0001-01-01 00:00:00)  [1972-11-21 00:00:00]+bounds>"
      ]
     },
     "execution_count": 22,
     "metadata": {},
     "output_type": "execute_result"
    },
    {
     "name": "stdout",
     "output_type": "stream",
     "text": [
      "326\n"
     ]
    },
    {
     "data": {
      "text/plain": [
       "<DimCoord: time / (days since 0001-01-01 00:00:00)  [0122-02-22 12:00:00]+bounds>"
      ]
     },
     "execution_count": 22,
     "metadata": {},
     "output_type": "execute_result"
    },
    {
     "data": {
      "text/plain": [
       "<DimCoord: time / (days since 0001-01-01 00:00:00)  [1972-11-22 00:00:00]+bounds>"
      ]
     },
     "execution_count": 22,
     "metadata": {},
     "output_type": "execute_result"
    },
    {
     "name": "stdout",
     "output_type": "stream",
     "text": [
      "327\n"
     ]
    },
    {
     "data": {
      "text/plain": [
       "<DimCoord: time / (days since 0001-01-01 00:00:00)  [0122-02-23 12:00:00]+bounds>"
      ]
     },
     "execution_count": 22,
     "metadata": {},
     "output_type": "execute_result"
    },
    {
     "data": {
      "text/plain": [
       "<DimCoord: time / (days since 0001-01-01 00:00:00)  [1972-11-23 00:00:00]+bounds>"
      ]
     },
     "execution_count": 22,
     "metadata": {},
     "output_type": "execute_result"
    },
    {
     "name": "stdout",
     "output_type": "stream",
     "text": [
      "328\n"
     ]
    },
    {
     "data": {
      "text/plain": [
       "<DimCoord: time / (days since 0001-01-01 00:00:00)  [0122-02-24 12:00:00]+bounds>"
      ]
     },
     "execution_count": 22,
     "metadata": {},
     "output_type": "execute_result"
    },
    {
     "data": {
      "text/plain": [
       "<DimCoord: time / (days since 0001-01-01 00:00:00)  [1972-11-24 00:00:00]+bounds>"
      ]
     },
     "execution_count": 22,
     "metadata": {},
     "output_type": "execute_result"
    },
    {
     "name": "stdout",
     "output_type": "stream",
     "text": [
      "329\n"
     ]
    },
    {
     "data": {
      "text/plain": [
       "<DimCoord: time / (days since 0001-01-01 00:00:00)  [0122-02-25 12:00:00]+bounds>"
      ]
     },
     "execution_count": 22,
     "metadata": {},
     "output_type": "execute_result"
    },
    {
     "data": {
      "text/plain": [
       "<DimCoord: time / (days since 0001-01-01 00:00:00)  [1972-11-25 00:00:00]+bounds>"
      ]
     },
     "execution_count": 22,
     "metadata": {},
     "output_type": "execute_result"
    },
    {
     "name": "stdout",
     "output_type": "stream",
     "text": [
      "330\n"
     ]
    },
    {
     "data": {
      "text/plain": [
       "<DimCoord: time / (days since 0001-01-01 00:00:00)  [0122-02-26 12:00:00]+bounds>"
      ]
     },
     "execution_count": 22,
     "metadata": {},
     "output_type": "execute_result"
    },
    {
     "data": {
      "text/plain": [
       "<DimCoord: time / (days since 0001-01-01 00:00:00)  [1972-11-26 00:00:00]+bounds>"
      ]
     },
     "execution_count": 22,
     "metadata": {},
     "output_type": "execute_result"
    },
    {
     "name": "stdout",
     "output_type": "stream",
     "text": [
      "331\n"
     ]
    },
    {
     "data": {
      "text/plain": [
       "<DimCoord: time / (days since 0001-01-01 00:00:00)  [0122-02-27 12:00:00]+bounds>"
      ]
     },
     "execution_count": 22,
     "metadata": {},
     "output_type": "execute_result"
    },
    {
     "data": {
      "text/plain": [
       "<DimCoord: time / (days since 0001-01-01 00:00:00)  [1972-11-27 00:00:00]+bounds>"
      ]
     },
     "execution_count": 22,
     "metadata": {},
     "output_type": "execute_result"
    },
    {
     "name": "stdout",
     "output_type": "stream",
     "text": [
      "332\n"
     ]
    },
    {
     "data": {
      "text/plain": [
       "<DimCoord: time / (days since 0001-01-01 00:00:00)  [0122-02-28 12:00:00]+bounds>"
      ]
     },
     "execution_count": 22,
     "metadata": {},
     "output_type": "execute_result"
    },
    {
     "data": {
      "text/plain": [
       "<DimCoord: time / (days since 0001-01-01 00:00:00)  [1972-11-28 00:00:00]+bounds>"
      ]
     },
     "execution_count": 22,
     "metadata": {},
     "output_type": "execute_result"
    },
    {
     "name": "stdout",
     "output_type": "stream",
     "text": [
      "333\n"
     ]
    },
    {
     "data": {
      "text/plain": [
       "<DimCoord: time / (days since 0001-01-01 00:00:00)  [0122-03-01 12:00:00]+bounds>"
      ]
     },
     "execution_count": 22,
     "metadata": {},
     "output_type": "execute_result"
    },
    {
     "data": {
      "text/plain": [
       "<DimCoord: time / (days since 0001-01-01 00:00:00)  [1972-11-29 00:00:00]+bounds>"
      ]
     },
     "execution_count": 22,
     "metadata": {},
     "output_type": "execute_result"
    },
    {
     "name": "stdout",
     "output_type": "stream",
     "text": [
      "334\n"
     ]
    },
    {
     "data": {
      "text/plain": [
       "<DimCoord: time / (days since 0001-01-01 00:00:00)  [0122-03-02 12:00:00]+bounds>"
      ]
     },
     "execution_count": 22,
     "metadata": {},
     "output_type": "execute_result"
    },
    {
     "data": {
      "text/plain": [
       "<DimCoord: time / (days since 0001-01-01 00:00:00)  [1972-11-30 00:00:00]+bounds>"
      ]
     },
     "execution_count": 22,
     "metadata": {},
     "output_type": "execute_result"
    },
    {
     "name": "stdout",
     "output_type": "stream",
     "text": [
      "335\n"
     ]
    },
    {
     "data": {
      "text/plain": [
       "<DimCoord: time / (days since 0001-01-01 00:00:00)  [0122-03-03 12:00:00]+bounds>"
      ]
     },
     "execution_count": 22,
     "metadata": {},
     "output_type": "execute_result"
    },
    {
     "data": {
      "text/plain": [
       "<DimCoord: time / (days since 0001-01-01 00:00:00)  [1972-12-01 00:00:00]+bounds>"
      ]
     },
     "execution_count": 22,
     "metadata": {},
     "output_type": "execute_result"
    },
    {
     "name": "stdout",
     "output_type": "stream",
     "text": [
      "336\n"
     ]
    },
    {
     "data": {
      "text/plain": [
       "<DimCoord: time / (days since 0001-01-01 00:00:00)  [0122-03-04 12:00:00]+bounds>"
      ]
     },
     "execution_count": 22,
     "metadata": {},
     "output_type": "execute_result"
    },
    {
     "data": {
      "text/plain": [
       "<DimCoord: time / (days since 0001-01-01 00:00:00)  [1972-12-02 00:00:00]+bounds>"
      ]
     },
     "execution_count": 22,
     "metadata": {},
     "output_type": "execute_result"
    },
    {
     "name": "stdout",
     "output_type": "stream",
     "text": [
      "337\n"
     ]
    },
    {
     "data": {
      "text/plain": [
       "<DimCoord: time / (days since 0001-01-01 00:00:00)  [0122-03-05 12:00:00]+bounds>"
      ]
     },
     "execution_count": 22,
     "metadata": {},
     "output_type": "execute_result"
    },
    {
     "data": {
      "text/plain": [
       "<DimCoord: time / (days since 0001-01-01 00:00:00)  [1972-12-03 00:00:00]+bounds>"
      ]
     },
     "execution_count": 22,
     "metadata": {},
     "output_type": "execute_result"
    },
    {
     "name": "stdout",
     "output_type": "stream",
     "text": [
      "338\n"
     ]
    },
    {
     "data": {
      "text/plain": [
       "<DimCoord: time / (days since 0001-01-01 00:00:00)  [0122-03-06 12:00:00]+bounds>"
      ]
     },
     "execution_count": 22,
     "metadata": {},
     "output_type": "execute_result"
    },
    {
     "data": {
      "text/plain": [
       "<DimCoord: time / (days since 0001-01-01 00:00:00)  [1972-12-04 00:00:00]+bounds>"
      ]
     },
     "execution_count": 22,
     "metadata": {},
     "output_type": "execute_result"
    },
    {
     "name": "stdout",
     "output_type": "stream",
     "text": [
      "339\n"
     ]
    },
    {
     "data": {
      "text/plain": [
       "<DimCoord: time / (days since 0001-01-01 00:00:00)  [0122-03-07 12:00:00]+bounds>"
      ]
     },
     "execution_count": 22,
     "metadata": {},
     "output_type": "execute_result"
    },
    {
     "data": {
      "text/plain": [
       "<DimCoord: time / (days since 0001-01-01 00:00:00)  [1972-12-05 00:00:00]+bounds>"
      ]
     },
     "execution_count": 22,
     "metadata": {},
     "output_type": "execute_result"
    },
    {
     "name": "stdout",
     "output_type": "stream",
     "text": [
      "340\n"
     ]
    },
    {
     "data": {
      "text/plain": [
       "<DimCoord: time / (days since 0001-01-01 00:00:00)  [0122-03-08 12:00:00]+bounds>"
      ]
     },
     "execution_count": 22,
     "metadata": {},
     "output_type": "execute_result"
    },
    {
     "data": {
      "text/plain": [
       "<DimCoord: time / (days since 0001-01-01 00:00:00)  [1972-12-06 00:00:00]+bounds>"
      ]
     },
     "execution_count": 22,
     "metadata": {},
     "output_type": "execute_result"
    },
    {
     "name": "stdout",
     "output_type": "stream",
     "text": [
      "341\n"
     ]
    },
    {
     "data": {
      "text/plain": [
       "<DimCoord: time / (days since 0001-01-01 00:00:00)  [0122-03-09 12:00:00]+bounds>"
      ]
     },
     "execution_count": 22,
     "metadata": {},
     "output_type": "execute_result"
    },
    {
     "data": {
      "text/plain": [
       "<DimCoord: time / (days since 0001-01-01 00:00:00)  [1972-12-07 00:00:00]+bounds>"
      ]
     },
     "execution_count": 22,
     "metadata": {},
     "output_type": "execute_result"
    },
    {
     "name": "stdout",
     "output_type": "stream",
     "text": [
      "342\n"
     ]
    },
    {
     "data": {
      "text/plain": [
       "<DimCoord: time / (days since 0001-01-01 00:00:00)  [0122-03-10 12:00:00]+bounds>"
      ]
     },
     "execution_count": 22,
     "metadata": {},
     "output_type": "execute_result"
    },
    {
     "data": {
      "text/plain": [
       "<DimCoord: time / (days since 0001-01-01 00:00:00)  [1972-12-08 00:00:00]+bounds>"
      ]
     },
     "execution_count": 22,
     "metadata": {},
     "output_type": "execute_result"
    },
    {
     "name": "stdout",
     "output_type": "stream",
     "text": [
      "343\n"
     ]
    },
    {
     "data": {
      "text/plain": [
       "<DimCoord: time / (days since 0001-01-01 00:00:00)  [0122-03-11 12:00:00]+bounds>"
      ]
     },
     "execution_count": 22,
     "metadata": {},
     "output_type": "execute_result"
    },
    {
     "data": {
      "text/plain": [
       "<DimCoord: time / (days since 0001-01-01 00:00:00)  [1972-12-09 00:00:00]+bounds>"
      ]
     },
     "execution_count": 22,
     "metadata": {},
     "output_type": "execute_result"
    },
    {
     "name": "stdout",
     "output_type": "stream",
     "text": [
      "344\n"
     ]
    },
    {
     "data": {
      "text/plain": [
       "<DimCoord: time / (days since 0001-01-01 00:00:00)  [0122-03-12 12:00:00]+bounds>"
      ]
     },
     "execution_count": 22,
     "metadata": {},
     "output_type": "execute_result"
    },
    {
     "data": {
      "text/plain": [
       "<DimCoord: time / (days since 0001-01-01 00:00:00)  [1972-12-10 00:00:00]+bounds>"
      ]
     },
     "execution_count": 22,
     "metadata": {},
     "output_type": "execute_result"
    },
    {
     "name": "stdout",
     "output_type": "stream",
     "text": [
      "345\n"
     ]
    },
    {
     "data": {
      "text/plain": [
       "<DimCoord: time / (days since 0001-01-01 00:00:00)  [0122-03-13 12:00:00]+bounds>"
      ]
     },
     "execution_count": 22,
     "metadata": {},
     "output_type": "execute_result"
    },
    {
     "data": {
      "text/plain": [
       "<DimCoord: time / (days since 0001-01-01 00:00:00)  [1972-12-11 00:00:00]+bounds>"
      ]
     },
     "execution_count": 22,
     "metadata": {},
     "output_type": "execute_result"
    },
    {
     "name": "stdout",
     "output_type": "stream",
     "text": [
      "346\n"
     ]
    },
    {
     "data": {
      "text/plain": [
       "<DimCoord: time / (days since 0001-01-01 00:00:00)  [0122-03-14 12:00:00]+bounds>"
      ]
     },
     "execution_count": 22,
     "metadata": {},
     "output_type": "execute_result"
    },
    {
     "data": {
      "text/plain": [
       "<DimCoord: time / (days since 0001-01-01 00:00:00)  [1972-12-12 00:00:00]+bounds>"
      ]
     },
     "execution_count": 22,
     "metadata": {},
     "output_type": "execute_result"
    },
    {
     "name": "stdout",
     "output_type": "stream",
     "text": [
      "347\n"
     ]
    },
    {
     "data": {
      "text/plain": [
       "<DimCoord: time / (days since 0001-01-01 00:00:00)  [0122-03-15 12:00:00]+bounds>"
      ]
     },
     "execution_count": 22,
     "metadata": {},
     "output_type": "execute_result"
    },
    {
     "data": {
      "text/plain": [
       "<DimCoord: time / (days since 0001-01-01 00:00:00)  [1972-12-13 00:00:00]+bounds>"
      ]
     },
     "execution_count": 22,
     "metadata": {},
     "output_type": "execute_result"
    },
    {
     "name": "stdout",
     "output_type": "stream",
     "text": [
      "348\n"
     ]
    },
    {
     "data": {
      "text/plain": [
       "<DimCoord: time / (days since 0001-01-01 00:00:00)  [0122-03-16 12:00:00]+bounds>"
      ]
     },
     "execution_count": 22,
     "metadata": {},
     "output_type": "execute_result"
    },
    {
     "data": {
      "text/plain": [
       "<DimCoord: time / (days since 0001-01-01 00:00:00)  [1972-12-14 00:00:00]+bounds>"
      ]
     },
     "execution_count": 22,
     "metadata": {},
     "output_type": "execute_result"
    },
    {
     "name": "stdout",
     "output_type": "stream",
     "text": [
      "349\n"
     ]
    },
    {
     "data": {
      "text/plain": [
       "<DimCoord: time / (days since 0001-01-01 00:00:00)  [0122-03-17 12:00:00]+bounds>"
      ]
     },
     "execution_count": 22,
     "metadata": {},
     "output_type": "execute_result"
    },
    {
     "data": {
      "text/plain": [
       "<DimCoord: time / (days since 0001-01-01 00:00:00)  [1972-12-15 00:00:00]+bounds>"
      ]
     },
     "execution_count": 22,
     "metadata": {},
     "output_type": "execute_result"
    },
    {
     "name": "stdout",
     "output_type": "stream",
     "text": [
      "350\n"
     ]
    },
    {
     "data": {
      "text/plain": [
       "<DimCoord: time / (days since 0001-01-01 00:00:00)  [0122-03-18 12:00:00]+bounds>"
      ]
     },
     "execution_count": 22,
     "metadata": {},
     "output_type": "execute_result"
    },
    {
     "data": {
      "text/plain": [
       "<DimCoord: time / (days since 0001-01-01 00:00:00)  [1972-12-16 00:00:00]+bounds>"
      ]
     },
     "execution_count": 22,
     "metadata": {},
     "output_type": "execute_result"
    },
    {
     "name": "stdout",
     "output_type": "stream",
     "text": [
      "351\n"
     ]
    },
    {
     "data": {
      "text/plain": [
       "<DimCoord: time / (days since 0001-01-01 00:00:00)  [0122-03-19 12:00:00]+bounds>"
      ]
     },
     "execution_count": 22,
     "metadata": {},
     "output_type": "execute_result"
    },
    {
     "data": {
      "text/plain": [
       "<DimCoord: time / (days since 0001-01-01 00:00:00)  [1972-12-17 00:00:00]+bounds>"
      ]
     },
     "execution_count": 22,
     "metadata": {},
     "output_type": "execute_result"
    },
    {
     "name": "stdout",
     "output_type": "stream",
     "text": [
      "352\n"
     ]
    },
    {
     "data": {
      "text/plain": [
       "<DimCoord: time / (days since 0001-01-01 00:00:00)  [0122-03-20 12:00:00]+bounds>"
      ]
     },
     "execution_count": 22,
     "metadata": {},
     "output_type": "execute_result"
    },
    {
     "data": {
      "text/plain": [
       "<DimCoord: time / (days since 0001-01-01 00:00:00)  [1972-12-18 00:00:00]+bounds>"
      ]
     },
     "execution_count": 22,
     "metadata": {},
     "output_type": "execute_result"
    },
    {
     "name": "stdout",
     "output_type": "stream",
     "text": [
      "353\n"
     ]
    },
    {
     "data": {
      "text/plain": [
       "<DimCoord: time / (days since 0001-01-01 00:00:00)  [0122-03-21 12:00:00]+bounds>"
      ]
     },
     "execution_count": 22,
     "metadata": {},
     "output_type": "execute_result"
    },
    {
     "data": {
      "text/plain": [
       "<DimCoord: time / (days since 0001-01-01 00:00:00)  [1972-12-19 00:00:00]+bounds>"
      ]
     },
     "execution_count": 22,
     "metadata": {},
     "output_type": "execute_result"
    },
    {
     "name": "stdout",
     "output_type": "stream",
     "text": [
      "354\n"
     ]
    },
    {
     "data": {
      "text/plain": [
       "<DimCoord: time / (days since 0001-01-01 00:00:00)  [0122-03-22 12:00:00]+bounds>"
      ]
     },
     "execution_count": 22,
     "metadata": {},
     "output_type": "execute_result"
    },
    {
     "data": {
      "text/plain": [
       "<DimCoord: time / (days since 0001-01-01 00:00:00)  [1972-12-20 00:00:00]+bounds>"
      ]
     },
     "execution_count": 22,
     "metadata": {},
     "output_type": "execute_result"
    },
    {
     "name": "stdout",
     "output_type": "stream",
     "text": [
      "355\n"
     ]
    },
    {
     "data": {
      "text/plain": [
       "<DimCoord: time / (days since 0001-01-01 00:00:00)  [0122-03-23 12:00:00]+bounds>"
      ]
     },
     "execution_count": 22,
     "metadata": {},
     "output_type": "execute_result"
    },
    {
     "data": {
      "text/plain": [
       "<DimCoord: time / (days since 0001-01-01 00:00:00)  [1972-12-21 00:00:00]+bounds>"
      ]
     },
     "execution_count": 22,
     "metadata": {},
     "output_type": "execute_result"
    },
    {
     "name": "stdout",
     "output_type": "stream",
     "text": [
      "356\n"
     ]
    },
    {
     "data": {
      "text/plain": [
       "<DimCoord: time / (days since 0001-01-01 00:00:00)  [0122-03-24 12:00:00]+bounds>"
      ]
     },
     "execution_count": 22,
     "metadata": {},
     "output_type": "execute_result"
    },
    {
     "data": {
      "text/plain": [
       "<DimCoord: time / (days since 0001-01-01 00:00:00)  [1972-12-22 00:00:00]+bounds>"
      ]
     },
     "execution_count": 22,
     "metadata": {},
     "output_type": "execute_result"
    },
    {
     "name": "stdout",
     "output_type": "stream",
     "text": [
      "357\n"
     ]
    },
    {
     "data": {
      "text/plain": [
       "<DimCoord: time / (days since 0001-01-01 00:00:00)  [0122-03-25 12:00:00]+bounds>"
      ]
     },
     "execution_count": 22,
     "metadata": {},
     "output_type": "execute_result"
    },
    {
     "data": {
      "text/plain": [
       "<DimCoord: time / (days since 0001-01-01 00:00:00)  [1972-12-23 00:00:00]+bounds>"
      ]
     },
     "execution_count": 22,
     "metadata": {},
     "output_type": "execute_result"
    },
    {
     "name": "stdout",
     "output_type": "stream",
     "text": [
      "358\n"
     ]
    },
    {
     "data": {
      "text/plain": [
       "<DimCoord: time / (days since 0001-01-01 00:00:00)  [0122-03-26 12:00:00]+bounds>"
      ]
     },
     "execution_count": 22,
     "metadata": {},
     "output_type": "execute_result"
    },
    {
     "data": {
      "text/plain": [
       "<DimCoord: time / (days since 0001-01-01 00:00:00)  [1972-12-24 00:00:00]+bounds>"
      ]
     },
     "execution_count": 22,
     "metadata": {},
     "output_type": "execute_result"
    },
    {
     "name": "stdout",
     "output_type": "stream",
     "text": [
      "359\n"
     ]
    },
    {
     "data": {
      "text/plain": [
       "<DimCoord: time / (days since 0001-01-01 00:00:00)  [0122-03-27 12:00:00]+bounds>"
      ]
     },
     "execution_count": 22,
     "metadata": {},
     "output_type": "execute_result"
    },
    {
     "data": {
      "text/plain": [
       "<DimCoord: time / (days since 0001-01-01 00:00:00)  [1972-12-25 00:00:00]+bounds>"
      ]
     },
     "execution_count": 22,
     "metadata": {},
     "output_type": "execute_result"
    },
    {
     "name": "stdout",
     "output_type": "stream",
     "text": [
      "time: 1.71 s (started: 2023-06-07 03:53:03 +00:00)\n"
     ]
    }
   ],
   "source": [
    "counter = 0\n",
    "\n",
    "for month in range(12):\n",
    "\n",
    "    for day in range(30):\n",
    "        \n",
    "        print(counter)\n",
    "        \n",
    "        #following 2 lines from https://stackoverflow.com/a/53373130/6288682\n",
    "        tcoord = split_cube[str(counter)].coord('time')\n",
    "        tcoord.units = unit.Unit('days since 0001-01-01 00:00:00', calendar='proleptic_gregorian')\n",
    "\n",
    "        split_cube[str(counter)].coord('time')\n",
    "\n",
    "        split_cube[str(counter)].coord('time').points =  u.date2num(datetime.datetime(year, 1, 1)) + counter\n",
    "        split_cube[str(counter)].coord('time')\n",
    "        \n",
    "        counter += 1"
   ]
  },
  {
   "cell_type": "code",
   "execution_count": 23,
   "id": "0912ff90",
   "metadata": {},
   "outputs": [
    {
     "data": {
      "text/plain": [
       "[27, 109, 158, 218, 328]"
      ]
     },
     "execution_count": 23,
     "metadata": {},
     "output_type": "execute_result"
    },
    {
     "name": "stdout",
     "output_type": "stream",
     "text": [
      "time: 1.77 ms (started: 2023-06-07 03:53:05 +00:00)\n"
     ]
    }
   ],
   "source": [
    "rands"
   ]
  },
  {
   "cell_type": "code",
   "execution_count": null,
   "id": "5d1be006",
   "metadata": {},
   "outputs": [],
   "source": []
  },
  {
   "cell_type": "code",
   "execution_count": 24,
   "id": "6a24cce1",
   "metadata": {},
   "outputs": [
    {
     "name": "stderr",
     "output_type": "stream",
     "text": [
      "100%|████████████████████████████████████████████████████████████████████████████████| 5/5 [00:00<00:00,  7.30it/s]"
     ]
    },
    {
     "name": "stdout",
     "output_type": "stream",
     "text": [
      "time: 691 ms (started: 2023-06-07 03:53:05 +00:00)\n"
     ]
    },
    {
     "name": "stderr",
     "output_type": "stream",
     "text": [
      "\n"
     ]
    }
   ],
   "source": [
    "split_cube_shifted = {}\n",
    "\n",
    "for j in tqdm(range(5)):\n",
    "\n",
    "    for i in range(72*j,72*(j+1)):\n",
    "\n",
    "        if i < rands[j]:\n",
    "\n",
    "            split_cube_shifted[str(i+j).zfill(3)] = copy.deepcopy(split_cube[str(i)])\n",
    "\n",
    "        if i == rands[j]:\n",
    "\n",
    "            pass\n",
    "\n",
    "        if i >= rands[j]:\n",
    "\n",
    "            split_cube_shifted[str(i+j+1).zfill(3)] = copy.deepcopy(split_cube[str(i)])\n",
    "\n",
    "\n",
    "    split_cube_shifted[str(rands[j]+j).zfill(3)] = ( copy.deepcopy(split_cube[str(rands[j])]) +\n",
    "                                          copy.deepcopy(split_cube[str(rands[j]+1)]) )/2."
   ]
  },
  {
   "cell_type": "code",
   "execution_count": 25,
   "id": "f11eb50b",
   "metadata": {},
   "outputs": [
    {
     "data": {
      "text/plain": [
       "360"
      ]
     },
     "execution_count": 25,
     "metadata": {},
     "output_type": "execute_result"
    },
    {
     "data": {
      "text/plain": [
       "365"
      ]
     },
     "execution_count": 25,
     "metadata": {},
     "output_type": "execute_result"
    },
    {
     "name": "stdout",
     "output_type": "stream",
     "text": [
      "time: 5.63 ms (started: 2023-06-07 03:53:06 +00:00)\n"
     ]
    }
   ],
   "source": [
    "len(split_cube)\n",
    "len(split_cube_shifted)\n"
   ]
  },
  {
   "cell_type": "code",
   "execution_count": 26,
   "id": "0c34bb81",
   "metadata": {},
   "outputs": [
    {
     "data": {
      "text/plain": [
       "[27, 109, 158, 218, 328]"
      ]
     },
     "execution_count": 26,
     "metadata": {},
     "output_type": "execute_result"
    },
    {
     "name": "stdout",
     "output_type": "stream",
     "text": [
      "time: 6.7 ms (started: 2023-06-07 03:53:06 +00:00)\n"
     ]
    }
   ],
   "source": [
    "rands"
   ]
  },
  {
   "cell_type": "code",
   "execution_count": 27,
   "id": "c7cd9483",
   "metadata": {},
   "outputs": [
    {
     "data": {
      "text/plain": [
       "dict_keys(['000', '001', '002', '003', '004', '005', '006', '007', '008', '009', '010', '011', '012', '013', '014', '015', '016', '017', '018', '019', '020', '021', '022', '023', '024', '025', '026', '028', '029', '030', '031', '032', '033', '034', '035', '036', '037', '038', '039', '040', '041', '042', '043', '044', '045', '046', '047', '048', '049', '050', '051', '052', '053', '054', '055', '056', '057', '058', '059', '060', '061', '062', '063', '064', '065', '066', '067', '068', '069', '070', '071', '072', '027', '073', '074', '075', '076', '077', '078', '079', '080', '081', '082', '083', '084', '085', '086', '087', '088', '089', '090', '091', '092', '093', '094', '095', '096', '097', '098', '099', '100', '101', '102', '103', '104', '105', '106', '107', '108', '109', '111', '112', '113', '114', '115', '116', '117', '118', '119', '120', '121', '122', '123', '124', '125', '126', '127', '128', '129', '130', '131', '132', '133', '134', '135', '136', '137', '138', '139', '140', '141', '142', '143', '144', '145', '110', '146', '147', '148', '149', '150', '151', '152', '153', '154', '155', '156', '157', '158', '159', '161', '162', '163', '164', '165', '166', '167', '168', '169', '170', '171', '172', '173', '174', '175', '176', '177', '178', '179', '180', '181', '182', '183', '184', '185', '186', '187', '188', '189', '190', '191', '192', '193', '194', '195', '196', '197', '198', '199', '200', '201', '202', '203', '204', '205', '206', '207', '208', '209', '210', '211', '212', '213', '214', '215', '216', '217', '218', '160', '219', '220', '222', '223', '224', '225', '226', '227', '228', '229', '230', '231', '232', '233', '234', '235', '236', '237', '238', '239', '240', '241', '242', '243', '244', '245', '246', '247', '248', '249', '250', '251', '252', '253', '254', '255', '256', '257', '258', '259', '260', '261', '262', '263', '264', '265', '266', '267', '268', '269', '270', '271', '272', '273', '274', '275', '276', '277', '278', '279', '280', '281', '282', '283', '284', '285', '286', '287', '288', '289', '290', '291', '221', '292', '293', '294', '295', '296', '297', '298', '299', '300', '301', '302', '303', '304', '305', '306', '307', '308', '309', '310', '311', '312', '313', '314', '315', '316', '317', '318', '319', '320', '321', '322', '323', '324', '325', '326', '327', '328', '329', '330', '331', '333', '334', '335', '336', '337', '338', '339', '340', '341', '342', '343', '344', '345', '346', '347', '348', '349', '350', '351', '352', '353', '354', '355', '356', '357', '358', '359', '360', '361', '362', '363', '364', '332'])"
      ]
     },
     "execution_count": 27,
     "metadata": {},
     "output_type": "execute_result"
    },
    {
     "name": "stdout",
     "output_type": "stream",
     "text": [
      "time: 3.56 ms (started: 2023-06-07 03:53:06 +00:00)\n"
     ]
    }
   ],
   "source": [
    "split_cube_shifted.keys()\n"
   ]
  },
  {
   "cell_type": "code",
   "execution_count": 28,
   "id": "f08e02e1",
   "metadata": {},
   "outputs": [
    {
     "name": "stdout",
     "output_type": "stream",
     "text": [
      "time: 556 µs (started: 2023-06-07 03:53:06 +00:00)\n"
     ]
    }
   ],
   "source": [
    "split_cube_shifted_ordered = {}"
   ]
  },
  {
   "cell_type": "code",
   "execution_count": 29,
   "id": "fb894545",
   "metadata": {},
   "outputs": [
    {
     "name": "stderr",
     "output_type": "stream",
     "text": [
      "100%|████████████████████████████████████████████████████████████████████████| 365/365 [00:00<00:00, 169781.63it/s]"
     ]
    },
    {
     "name": "stdout",
     "output_type": "stream",
     "text": [
      "time: 11.8 ms (started: 2023-06-07 03:53:06 +00:00)\n"
     ]
    },
    {
     "name": "stderr",
     "output_type": "stream",
     "text": [
      "\n"
     ]
    }
   ],
   "source": [
    "for i in tqdm(range(365)):\n",
    "    split_cube_shifted_ordered[str(i).zfill(3)] = split_cube_shifted[str(i).zfill(3)]"
   ]
  },
  {
   "cell_type": "code",
   "execution_count": null,
   "id": "a0a6802a",
   "metadata": {},
   "outputs": [],
   "source": []
  },
  {
   "cell_type": "code",
   "execution_count": 30,
   "id": "09d2ad40",
   "metadata": {},
   "outputs": [
    {
     "data": {
      "text/plain": [
       "dict_keys(['000', '001', '002', '003', '004', '005', '006', '007', '008', '009', '010', '011', '012', '013', '014', '015', '016', '017', '018', '019', '020', '021', '022', '023', '024', '025', '026', '027', '028', '029', '030', '031', '032', '033', '034', '035', '036', '037', '038', '039', '040', '041', '042', '043', '044', '045', '046', '047', '048', '049', '050', '051', '052', '053', '054', '055', '056', '057', '058', '059', '060', '061', '062', '063', '064', '065', '066', '067', '068', '069', '070', '071', '072', '073', '074', '075', '076', '077', '078', '079', '080', '081', '082', '083', '084', '085', '086', '087', '088', '089', '090', '091', '092', '093', '094', '095', '096', '097', '098', '099', '100', '101', '102', '103', '104', '105', '106', '107', '108', '109', '110', '111', '112', '113', '114', '115', '116', '117', '118', '119', '120', '121', '122', '123', '124', '125', '126', '127', '128', '129', '130', '131', '132', '133', '134', '135', '136', '137', '138', '139', '140', '141', '142', '143', '144', '145', '146', '147', '148', '149', '150', '151', '152', '153', '154', '155', '156', '157', '158', '159', '160', '161', '162', '163', '164', '165', '166', '167', '168', '169', '170', '171', '172', '173', '174', '175', '176', '177', '178', '179', '180', '181', '182', '183', '184', '185', '186', '187', '188', '189', '190', '191', '192', '193', '194', '195', '196', '197', '198', '199', '200', '201', '202', '203', '204', '205', '206', '207', '208', '209', '210', '211', '212', '213', '214', '215', '216', '217', '218', '219', '220', '221', '222', '223', '224', '225', '226', '227', '228', '229', '230', '231', '232', '233', '234', '235', '236', '237', '238', '239', '240', '241', '242', '243', '244', '245', '246', '247', '248', '249', '250', '251', '252', '253', '254', '255', '256', '257', '258', '259', '260', '261', '262', '263', '264', '265', '266', '267', '268', '269', '270', '271', '272', '273', '274', '275', '276', '277', '278', '279', '280', '281', '282', '283', '284', '285', '286', '287', '288', '289', '290', '291', '292', '293', '294', '295', '296', '297', '298', '299', '300', '301', '302', '303', '304', '305', '306', '307', '308', '309', '310', '311', '312', '313', '314', '315', '316', '317', '318', '319', '320', '321', '322', '323', '324', '325', '326', '327', '328', '329', '330', '331', '332', '333', '334', '335', '336', '337', '338', '339', '340', '341', '342', '343', '344', '345', '346', '347', '348', '349', '350', '351', '352', '353', '354', '355', '356', '357', '358', '359', '360', '361', '362', '363', '364'])"
      ]
     },
     "execution_count": 30,
     "metadata": {},
     "output_type": "execute_result"
    },
    {
     "name": "stdout",
     "output_type": "stream",
     "text": [
      "time: 3.96 ms (started: 2023-06-07 03:53:06 +00:00)\n"
     ]
    }
   ],
   "source": [
    "split_cube_shifted_ordered.keys()"
   ]
  },
  {
   "cell_type": "code",
   "execution_count": 31,
   "id": "57a768ba",
   "metadata": {},
   "outputs": [
    {
     "name": "stdout",
     "output_type": "stream",
     "text": [
      "[cftime.DatetimeProlepticGregorian(1972, 1, 1, 0, 0, 0, 0, has_year_zero=True)]\n",
      "time: 2.97 ms (started: 2023-06-07 03:53:06 +00:00)\n"
     ]
    }
   ],
   "source": [
    "time = list(split_cube.values())[0].coord('time')\n",
    "dates = time.units.num2date(time.points)\n",
    "print(dates)"
   ]
  },
  {
   "cell_type": "code",
   "execution_count": 32,
   "id": "9d7e8dc4",
   "metadata": {},
   "outputs": [
    {
     "name": "stderr",
     "output_type": "stream",
     "text": [
      "100%|████████████████████████████████████████████████████████████████████████████| 360/360 [05:41<00:00,  1.05it/s]\n",
      "100%|████████████████████████████████████████████████████████████████████████████| 365/365 [05:37<00:00,  1.08it/s]\n",
      "100%|████████████████████████████████████████████████████████████████████████████| 365/365 [05:39<00:00,  1.08it/s]\n"
     ]
    },
    {
     "data": {
      "image/png": "[encoded data removed]",
      "text/plain": [
       "<Figure size 432x288 with 1 Axes>"
      ]
     },
     "metadata": {
      "needs_background": "light"
     },
     "output_type": "display_data"
    },
    {
     "name": "stdout",
     "output_type": "stream",
     "text": [
      "time: 16min 58s (started: 2023-06-07 03:53:06 +00:00)\n"
     ]
    }
   ],
   "source": [
    "series = []\n",
    "\n",
    "for i in tqdm(range(360)):\n",
    "    series.append(list(split_cube.values())[i].collapsed(('latitude','longitude'),iris.analysis.MEAN).data)\n",
    "    \n",
    "plt.plot( series,'-')\n",
    "\n",
    "#\n",
    "\n",
    "series_shifted = []\n",
    "\n",
    "\n",
    "for i in tqdm(range(365)):\n",
    "    series_shifted.append(list(split_cube_shifted.values())[i].\\\n",
    "                  collapsed(('latitude','longitude'),iris.analysis.MEAN).data)\n",
    "   \n",
    "plt.plot( series_shifted,'-')\n",
    "\n",
    "#\n",
    "\n",
    "series_shifted_ordered = []\n",
    "\n",
    "for i in tqdm(range(365)):\n",
    "    series_shifted_ordered.append(list(split_cube_shifted_ordered.values())[i].\\\n",
    "                  collapsed(('latitude','longitude'),iris.analysis.MEAN).data)\n",
    "      \n",
    "plt.plot( series_shifted_ordered,'-')\n",
    "\n",
    "plt.show();"
   ]
  },
  {
   "cell_type": "raw",
   "id": "a2f1bf3c",
   "metadata": {},
   "source": [
    "make sure series are different (both outputs from next cell should be False)..."
   ]
  },
  {
   "cell_type": "code",
   "execution_count": 33,
   "id": "3e536380",
   "metadata": {},
   "outputs": [
    {
     "data": {
      "text/plain": [
       "False"
      ]
     },
     "execution_count": 33,
     "metadata": {},
     "output_type": "execute_result"
    },
    {
     "data": {
      "text/plain": [
       "False"
      ]
     },
     "execution_count": 33,
     "metadata": {},
     "output_type": "execute_result"
    },
    {
     "name": "stdout",
     "output_type": "stream",
     "text": [
      "time: 4.86 ms (started: 2023-06-07 04:10:04 +00:00)\n"
     ]
    }
   ],
   "source": [
    "series == series_shifted\n",
    "series_shifted == series_shifted_ordered"
   ]
  },
  {
   "cell_type": "code",
   "execution_count": 34,
   "id": "2bf501a1",
   "metadata": {},
   "outputs": [
    {
     "data": {
      "image/png": "[encoded data removed]",
      "text/plain": [
       "<Figure size 1080x720 with 1 Axes>"
      ]
     },
     "metadata": {
      "needs_background": "light"
     },
     "output_type": "display_data"
    },
    {
     "name": "stdout",
     "output_type": "stream",
     "text": [
      "time: 5.58 s (started: 2023-06-07 04:10:04 +00:00)\n"
     ]
    }
   ],
   "source": [
    "fig = plt.figure(figsize=[15,10])\n",
    "\n",
    "plt.plot(series,'k-',label = 'series')\n",
    "plt.plot(series_shifted,'k--',label = 'series_shifted')\n",
    "plt.plot(series_shifted_ordered,'k:', label = 'series_shifted_ordered')\n",
    "\n",
    "for i in range(5):\n",
    "\n",
    "    plt.plot(rands[i], \n",
    "         list(split_cube.values())[rands[i]].collapsed(('latitude','longitude'),iris.analysis.MEAN).data,\n",
    "        'Xk',alpha=1, markersize = 20,)\n",
    "    \n",
    "plt.legend()\n",
    "\n",
    "plt.show();"
   ]
  },
  {
   "cell_type": "code",
   "execution_count": 35,
   "id": "27ffbb4c",
   "metadata": {},
   "outputs": [
    {
     "data": {
      "image/png": "[encoded data removed]",
      "text/plain": [
       "<Figure size 1080x720 with 1 Axes>"
      ]
     },
     "metadata": {
      "needs_background": "light"
     },
     "output_type": "display_data"
    },
    {
     "name": "stdout",
     "output_type": "stream",
     "text": [
      "time: 7.01 s (started: 2023-06-07 04:10:10 +00:00)\n"
     ]
    }
   ],
   "source": [
    "fig = plt.figure(figsize=[15,10])\n",
    "\n",
    "ax = plt.subplot(1,1,1)\n",
    "\n",
    "plt.plot(series,'b-',label = 'Original data', alpha = 0.25, linewidth = 5)\n",
    "plt.plot(series_shifted_ordered,'r-', label = 'Modified data')\n",
    "\n",
    "lims = ax.get_ylim()\n",
    "\n",
    "for i in range(5):\n",
    "\n",
    "    if i == 0:\n",
    "    \n",
    "        label = 'Random dates in each of the five\\n72 day periods in a 360 day year'\n",
    "    \n",
    "    else:\n",
    "        label = '_nolegend_'\n",
    "    plt.plot(rands[i], \n",
    "         list(split_cube.values())[rands[i]].collapsed(('latitude','longitude'),iris.analysis.MEAN).data,\n",
    "        'Xk',alpha=1, markersize = 20,label = label)\n",
    "    \n",
    "plt.legend(borderpad = 1, loc = 'upper left')\n",
    "\n",
    "plt.ticklabel_format(axis='y', style='sci', scilimits=(0,0))\n",
    "\n",
    "trans = transforms.blended_transform_factory(ax.transData, ax.transAxes)    \n",
    "    \n",
    "midpoints = (np.array(rands[1:]) + np.array(rands[:-1])) / 2\n",
    "ax.text(rands[0]/2,1.05,'no lag',ha = 'center', fontsize = fontsize*0.5,transform=trans)\n",
    "\n",
    "\n",
    "for j in range(4):\n",
    "    ax.text(midpoints[j],1.05,str(j+1)+' day lag',ha = 'center',transform = trans)\n",
    "ax.text(rands[-1]+(365-rands[-1])/2,1.05,str(len(rands))+' day lag',ha = 'center', fontsize = fontsize*0.5, \n",
    "       transform=trans)\n",
    "\n",
    "plt.xticks(fontsize=fontsize)\n",
    "plt.yticks(fontsize=fontsize)\n",
    "\n",
    "plt.xlabel('day of year', fontsize = fontsize)\n",
    "plt.ylabel('area mean of '+var+' \\nfor '+str(year)+' '+units,fontsize = fontsize)\n",
    "\n",
    "\n",
    "rect = Rectangle((rands[0],lims[0]),rands[1]-rands[0],lims[1]-lims[0], alpha = 0.1)\n",
    "ax.add_patch(rect)\n",
    "\n",
    "rect = Rectangle((rands[2],lims[0]),rands[3]-rands[2],lims[1]-lims[0], alpha = 0.1)\n",
    "ax.add_patch(rect)\n",
    "\n",
    "rect = Rectangle((rands[4],lims[0]),365-rands[4],lims[1]-lims[0], alpha = 0.1)\n",
    "ax.add_patch(rect)\n",
    "\n",
    "plt.xlim([0,365])\n",
    "\n",
    "plt.text(0.99,0.97,'created at '+str(datetime.datetime.now().replace(microsecond=0).isoformat()),\n",
    "         transform = ax.transAxes,ha = 'right')\n",
    "\n",
    "filenamestring = path+'/gregorian/pdfs/'+var+\\\n",
    "          '-'+str(year)+\\\n",
    "          '-360-to-365-day-calendar.pdf'\n",
    "\n",
    "plt.text(0.99,0.03, os.path.basename(filenamestring), transform = ax.transAxes, ha = 'right')\n",
    "\n",
    "plt.savefig(filenamestring)\n",
    "\n",
    "plt.show();\n",
    "\n"
   ]
  },
  {
   "cell_type": "code",
   "execution_count": null,
   "id": "89defe07",
   "metadata": {},
   "outputs": [],
   "source": []
  },
  {
   "cell_type": "code",
   "execution_count": 36,
   "id": "aa5b96ff",
   "metadata": {},
   "outputs": [
    {
     "name": "stdout",
     "output_type": "stream",
     "text": [
      "time: 1.98 ms (started: 2023-06-07 04:10:17 +00:00)\n"
     ]
    }
   ],
   "source": [
    "split_cube_shifted_ordered[str(rands[0]).zfill(3)].add_aux_coord(iris.coords.AuxCoord(0, long_name='time'))\n",
    "split_cube_shifted_ordered[str(rands[1]+1).zfill(3)].add_aux_coord(iris.coords.AuxCoord(0, long_name='time'))\n",
    "split_cube_shifted_ordered[str(rands[2]+2).zfill(3)].add_aux_coord(iris.coords.AuxCoord(0, long_name='time'))\n",
    "split_cube_shifted_ordered[str(rands[3]+3).zfill(3)].add_aux_coord(iris.coords.AuxCoord(0, long_name='time'))\n",
    "split_cube_shifted_ordered[str(rands[4]+4).zfill(3)].add_aux_coord(iris.coords.AuxCoord(0, long_name='time'))\n"
   ]
  },
  {
   "cell_type": "code",
   "execution_count": 37,
   "id": "53cdef5c",
   "metadata": {},
   "outputs": [
    {
     "name": "stderr",
     "output_type": "stream",
     "text": [
      "100%|██████████████████████████████████████████████████████████████████████████| 365/365 [00:00<00:00, 7924.51it/s]"
     ]
    },
    {
     "name": "stdout",
     "output_type": "stream",
     "text": [
      "time: 52.4 ms (started: 2023-06-07 04:10:17 +00:00)\n"
     ]
    },
    {
     "name": "stderr",
     "output_type": "stream",
     "text": [
      "\n"
     ]
    }
   ],
   "source": [
    "for i in tqdm(range(len(split_cube_shifted_ordered))):\n",
    "    \n",
    "    tcoord = split_cube_shifted_ordered[str(i).zfill(3)].coord('time')\n",
    "    tcoord.units = unit.Unit('days since 0001-01-01 00:00:00', calendar='proleptic_gregorian')\n",
    "\n",
    "    split_cube_shifted_ordered[str(i).zfill(3)].coord('time').points  = \\\n",
    "    u.date2num(datetime.datetime(year, 1, 1)) + i\n",
    "    \n",
    "    split_cube_shifted_ordered[str(i).zfill(3)].coord('time').bounds = None\n",
    "    \n"
   ]
  },
  {
   "cell_type": "code",
   "execution_count": 38,
   "id": "eb938ee6",
   "metadata": {},
   "outputs": [
    {
     "data": {
      "text/plain": [
       "<DimCoord: time / (days since 0001-01-01 00:00:00)  [1972-01-01 00:00:00]>"
      ]
     },
     "execution_count": 38,
     "metadata": {},
     "output_type": "execute_result"
    },
    {
     "name": "stdout",
     "output_type": "stream",
     "text": [
      "time: 3.05 ms (started: 2023-06-07 04:10:17 +00:00)\n"
     ]
    }
   ],
   "source": [
    "split_cube_shifted_ordered['000'].coord('time')"
   ]
  },
  {
   "cell_type": "raw",
   "id": "f851c980",
   "metadata": {},
   "source": [
    "this next cell is to make sure/illustrate that the 1st and last days of the year are 1/1 and 31/12 respectively\n",
    "for non-leap years and 1/1 and 30/12 respectively for leap years."
   ]
  },
  {
   "cell_type": "code",
   "execution_count": 39,
   "id": "cf8d5fcb",
   "metadata": {},
   "outputs": [
    {
     "name": "stdout",
     "output_type": "stream",
     "text": [
      "DimCoord :  time / (days since 0001-01-01 00:00:00, proleptic_gregorian calendar)\n",
      "    points: [1972-01-01 00:00:00]\n",
      "    shape: (1,)\n",
      "    dtype: int64\n",
      "    standard_name: 'time'\n",
      "    long_name: 'time'\n",
      "    var_name: 'time'\n",
      "--\n",
      "DimCoord :  time / (days since 0001-01-01 00:00:00, proleptic_gregorian calendar)\n",
      "    points: [1972-12-30 00:00:00]\n",
      "    shape: (1,)\n",
      "    dtype: int64\n",
      "    standard_name: 'time'\n",
      "    long_name: 'time'\n",
      "    var_name: 'time'\n",
      "time: 9.86 ms (started: 2023-06-07 04:10:17 +00:00)\n"
     ]
    }
   ],
   "source": [
    "print(list(split_cube_shifted_ordered.values())[0].coord('time'))\n",
    "print('--')\n",
    "print(list(split_cube_shifted_ordered.values())[-1].coord('time'))\n"
   ]
  },
  {
   "cell_type": "raw",
   "id": "1a988b8a",
   "metadata": {},
   "source": [
    "this next cell is to make sure/illustrate that feb 29th isn't there... "
   ]
  },
  {
   "cell_type": "code",
   "execution_count": 40,
   "id": "a269d58e",
   "metadata": {},
   "outputs": [
    {
     "data": {
      "text/plain": [
       "2"
      ]
     },
     "execution_count": 40,
     "metadata": {},
     "output_type": "execute_result"
    },
    {
     "data": {
      "text/plain": [
       "28"
      ]
     },
     "execution_count": 40,
     "metadata": {},
     "output_type": "execute_result"
    },
    {
     "name": "stdout",
     "output_type": "stream",
     "text": [
      "--\n"
     ]
    },
    {
     "data": {
      "text/plain": [
       "2"
      ]
     },
     "execution_count": 40,
     "metadata": {},
     "output_type": "execute_result"
    },
    {
     "data": {
      "text/plain": [
       "29"
      ]
     },
     "execution_count": 40,
     "metadata": {},
     "output_type": "execute_result"
    },
    {
     "name": "stdout",
     "output_type": "stream",
     "text": [
      "--\n",
      "time: 20.2 ms (started: 2023-06-07 04:10:17 +00:00)\n"
     ]
    }
   ],
   "source": [
    "for i in range(58,60):\n",
    "\n",
    "    u.num2date(split_cube_shifted_ordered[str(i).zfill(3)].coord('time').points)[0].month\n",
    "    u.num2date(split_cube_shifted_ordered[str(i).zfill(3)].coord('time').points)[0].day\n",
    "    print('--')\n",
    "    "
   ]
  },
  {
   "cell_type": "code",
   "execution_count": 41,
   "id": "6d1b7d70",
   "metadata": {},
   "outputs": [
    {
     "data": {
      "text/plain": [
       "1972"
      ]
     },
     "execution_count": 41,
     "metadata": {},
     "output_type": "execute_result"
    },
    {
     "name": "stdout",
     "output_type": "stream",
     "text": [
      "time: 1.9 ms (started: 2023-06-07 04:10:17 +00:00)\n"
     ]
    }
   ],
   "source": [
    "year"
   ]
  },
  {
   "cell_type": "code",
   "execution_count": 42,
   "id": "a0073f13",
   "metadata": {},
   "outputs": [
    {
     "name": "stdout",
     "output_type": "stream",
     "text": [
      "time: 3.66 ms (started: 2023-06-07 04:10:17 +00:00)\n"
     ]
    }
   ],
   "source": [
    "if calendar.isleap(year) == False:\n",
    "\n",
    "    cube_for_saving = copy.deepcopy(split_cube_shifted_ordered)\n",
    "\n",
    "    for i in tqdm(range(len(cube_for_saving))):\n",
    "\n",
    "        cube_for_saving[str(i).zfill(3)] = iris.util.new_axis(cube_for_saving[str(i).zfill(3)],'time')\n",
    "\n",
    "        file_for_saving = path+'/gregorian/'+\\\n",
    "                  var+\\\n",
    "          '-'+str(u.num2date(cube_for_saving[str(i).zfill(3)].coord('time').points)[0].year)+\\\n",
    "          '-'+str(u.num2date(cube_for_saving[str(i).zfill(3)].coord('time').points)[0].month).zfill(2)+\\\n",
    "          '-'+str(u.num2date(cube_for_saving[str(i).zfill(3)].coord('time').points)[0].day).zfill(2)+\\\n",
    "          '-gregorian.nc'\n",
    "\n",
    "        print(file_for_saving)    \n",
    "            \n",
    "        iris.save(cube_for_saving[str(i).zfill(3)],file_for_saving)\n",
    "    \n"
   ]
  },
  {
   "cell_type": "markdown",
   "id": "fec05880",
   "metadata": {},
   "source": [
    "## leap years..."
   ]
  },
  {
   "cell_type": "code",
   "execution_count": 43,
   "id": "ad38b82f",
   "metadata": {},
   "outputs": [
    {
     "name": "stdout",
     "output_type": "stream",
     "text": [
      "this is a leap year so need to insert february 29th\n",
      "time: 4.95 ms (started: 2023-06-07 04:10:17 +00:00)\n"
     ]
    }
   ],
   "source": [
    "if calendar.isleap(year):\n",
    "    print('this is a leap year so need to insert february 29th')\n",
    "else:\n",
    "    print('this isn\\'t a leap year so nothing more to do')\n",
    "\n"
   ]
  },
  {
   "cell_type": "raw",
   "id": "6b44c86d",
   "metadata": {},
   "source": [
    "need to shift everything from 29th february (inclusive) onward 1 day forward"
   ]
  },
  {
   "cell_type": "code",
   "execution_count": 44,
   "id": "e6564ac9",
   "metadata": {},
   "outputs": [
    {
     "name": "stderr",
     "output_type": "stream",
     "text": [
      "100%|███████████████████████████████████████████████████████████████████████████| 365/365 [00:00<00:00, 553.98it/s]"
     ]
    },
    {
     "name": "stdout",
     "output_type": "stream",
     "text": [
      "time: 664 ms (started: 2023-06-07 04:10:17 +00:00)\n"
     ]
    },
    {
     "name": "stderr",
     "output_type": "stream",
     "text": [
      "\n"
     ]
    }
   ],
   "source": [
    "if calendar.isleap(year) == True:\n",
    "\n",
    "    split_cube_shifted_ordered_leap = {}\n",
    "\n",
    "    for i in tqdm(range(365)):\n",
    "\n",
    "        if i <= 58:\n",
    "\n",
    "            split_cube_shifted_ordered_leap[str(i).zfill(3)] = \\\n",
    "                copy.deepcopy(split_cube_shifted_ordered[str(i).zfill(3)])\n",
    "\n",
    "        else:\n",
    "\n",
    "            split_cube_shifted_ordered_leap[str(i+1).zfill(3)] = \\\n",
    "            copy.deepcopy(split_cube_shifted_ordered[str(i).zfill(3)])\n",
    "\n"
   ]
  },
  {
   "cell_type": "code",
   "execution_count": 45,
   "id": "4650b583",
   "metadata": {},
   "outputs": [
    {
     "name": "stdout",
     "output_type": "stream",
     "text": [
      "dict_keys(['000', '001', '002', '003', '004', '005', '006', '007', '008', '009', '010', '011', '012', '013', '014', '015', '016', '017', '018', '019', '020', '021', '022', '023', '024', '025', '026', '027', '028', '029', '030', '031', '032', '033', '034', '035', '036', '037', '038', '039', '040', '041', '042', '043', '044', '045', '046', '047', '048', '049', '050', '051', '052', '053', '054', '055', '056', '057', '058', '060', '061', '062', '063', '064', '065', '066', '067', '068', '069', '070', '071', '072', '073', '074', '075', '076', '077', '078', '079', '080', '081', '082', '083', '084', '085', '086', '087', '088', '089', '090', '091', '092', '093', '094', '095', '096', '097', '098', '099', '100', '101', '102', '103', '104', '105', '106', '107', '108', '109', '110', '111', '112', '113', '114', '115', '116', '117', '118', '119', '120', '121', '122', '123', '124', '125', '126', '127', '128', '129', '130', '131', '132', '133', '134', '135', '136', '137', '138', '139', '140', '141', '142', '143', '144', '145', '146', '147', '148', '149', '150', '151', '152', '153', '154', '155', '156', '157', '158', '159', '160', '161', '162', '163', '164', '165', '166', '167', '168', '169', '170', '171', '172', '173', '174', '175', '176', '177', '178', '179', '180', '181', '182', '183', '184', '185', '186', '187', '188', '189', '190', '191', '192', '193', '194', '195', '196', '197', '198', '199', '200', '201', '202', '203', '204', '205', '206', '207', '208', '209', '210', '211', '212', '213', '214', '215', '216', '217', '218', '219', '220', '221', '222', '223', '224', '225', '226', '227', '228', '229', '230', '231', '232', '233', '234', '235', '236', '237', '238', '239', '240', '241', '242', '243', '244', '245', '246', '247', '248', '249', '250', '251', '252', '253', '254', '255', '256', '257', '258', '259', '260', '261', '262', '263', '264', '265', '266', '267', '268', '269', '270', '271', '272', '273', '274', '275', '276', '277', '278', '279', '280', '281', '282', '283', '284', '285', '286', '287', '288', '289', '290', '291', '292', '293', '294', '295', '296', '297', '298', '299', '300', '301', '302', '303', '304', '305', '306', '307', '308', '309', '310', '311', '312', '313', '314', '315', '316', '317', '318', '319', '320', '321', '322', '323', '324', '325', '326', '327', '328', '329', '330', '331', '332', '333', '334', '335', '336', '337', '338', '339', '340', '341', '342', '343', '344', '345', '346', '347', '348', '349', '350', '351', '352', '353', '354', '355', '356', '357', '358', '359', '360', '361', '362', '363', '364', '365'])\n",
      "time: 1.58 ms (started: 2023-06-07 04:10:18 +00:00)\n"
     ]
    }
   ],
   "source": [
    "if calendar.isleap(year) == True:\n",
    "    print(split_cube_shifted_ordered_leap.keys())"
   ]
  },
  {
   "cell_type": "raw",
   "id": "ca9becb1",
   "metadata": {},
   "source": [
    "now interpolate between 28/2 and 1/3 to give 29/2"
   ]
  },
  {
   "cell_type": "code",
   "execution_count": 46,
   "id": "e4e3a789",
   "metadata": {},
   "outputs": [
    {
     "name": "stdout",
     "output_type": "stream",
     "text": [
      "time: 24.5 ms (started: 2023-06-07 04:10:18 +00:00)\n"
     ]
    }
   ],
   "source": [
    "if calendar.isleap(year) == True:\n",
    "\n",
    "    split_cube_shifted_ordered_leap['059'] = ( copy.deepcopy(split_cube_shifted_ordered_leap['058']) +\n",
    "                                          copy.deepcopy(split_cube_shifted_ordered_leap['060']) )/2."
   ]
  },
  {
   "cell_type": "code",
   "execution_count": 47,
   "id": "4bdd3917",
   "metadata": {},
   "outputs": [
    {
     "data": {
      "text/plain": [
       "dict_keys(['000', '001', '002', '003', '004', '005', '006', '007', '008', '009', '010', '011', '012', '013', '014', '015', '016', '017', '018', '019', '020', '021', '022', '023', '024', '025', '026', '027', '028', '029', '030', '031', '032', '033', '034', '035', '036', '037', '038', '039', '040', '041', '042', '043', '044', '045', '046', '047', '048', '049', '050', '051', '052', '053', '054', '055', '056', '057', '058', '060', '061', '062', '063', '064', '065', '066', '067', '068', '069', '070', '071', '072', '073', '074', '075', '076', '077', '078', '079', '080', '081', '082', '083', '084', '085', '086', '087', '088', '089', '090', '091', '092', '093', '094', '095', '096', '097', '098', '099', '100', '101', '102', '103', '104', '105', '106', '107', '108', '109', '110', '111', '112', '113', '114', '115', '116', '117', '118', '119', '120', '121', '122', '123', '124', '125', '126', '127', '128', '129', '130', '131', '132', '133', '134', '135', '136', '137', '138', '139', '140', '141', '142', '143', '144', '145', '146', '147', '148', '149', '150', '151', '152', '153', '154', '155', '156', '157', '158', '159', '160', '161', '162', '163', '164', '165', '166', '167', '168', '169', '170', '171', '172', '173', '174', '175', '176', '177', '178', '179', '180', '181', '182', '183', '184', '185', '186', '187', '188', '189', '190', '191', '192', '193', '194', '195', '196', '197', '198', '199', '200', '201', '202', '203', '204', '205', '206', '207', '208', '209', '210', '211', '212', '213', '214', '215', '216', '217', '218', '219', '220', '221', '222', '223', '224', '225', '226', '227', '228', '229', '230', '231', '232', '233', '234', '235', '236', '237', '238', '239', '240', '241', '242', '243', '244', '245', '246', '247', '248', '249', '250', '251', '252', '253', '254', '255', '256', '257', '258', '259', '260', '261', '262', '263', '264', '265', '266', '267', '268', '269', '270', '271', '272', '273', '274', '275', '276', '277', '278', '279', '280', '281', '282', '283', '284', '285', '286', '287', '288', '289', '290', '291', '292', '293', '294', '295', '296', '297', '298', '299', '300', '301', '302', '303', '304', '305', '306', '307', '308', '309', '310', '311', '312', '313', '314', '315', '316', '317', '318', '319', '320', '321', '322', '323', '324', '325', '326', '327', '328', '329', '330', '331', '332', '333', '334', '335', '336', '337', '338', '339', '340', '341', '342', '343', '344', '345', '346', '347', '348', '349', '350', '351', '352', '353', '354', '355', '356', '357', '358', '359', '360', '361', '362', '363', '364', '365', '059'])"
      ]
     },
     "execution_count": 47,
     "metadata": {},
     "output_type": "execute_result"
    },
    {
     "name": "stdout",
     "output_type": "stream",
     "text": [
      "time: 11.5 ms (started: 2023-06-07 04:10:18 +00:00)\n"
     ]
    }
   ],
   "source": [
    "if calendar.isleap(year) == True:\n",
    "\n",
    "    split_cube_shifted_ordered_leap.keys()"
   ]
  },
  {
   "cell_type": "code",
   "execution_count": 48,
   "id": "5ab49bee",
   "metadata": {},
   "outputs": [
    {
     "name": "stdout",
     "output_type": "stream",
     "text": [
      "time: 2.14 ms (started: 2023-06-07 04:10:18 +00:00)\n"
     ]
    }
   ],
   "source": [
    "if calendar.isleap(year) == True:\n",
    "\n",
    "    split_cube_shifted_ordered_leap_ordered = {}"
   ]
  },
  {
   "cell_type": "code",
   "execution_count": 49,
   "id": "ebc06045",
   "metadata": {},
   "outputs": [
    {
     "name": "stderr",
     "output_type": "stream",
     "text": [
      "100%|████████████████████████████████████████████████████████████████████████| 366/366 [00:00<00:00, 274667.25it/s]"
     ]
    },
    {
     "name": "stdout",
     "output_type": "stream",
     "text": [
      "time: 11.5 ms (started: 2023-06-07 04:10:18 +00:00)\n"
     ]
    },
    {
     "name": "stderr",
     "output_type": "stream",
     "text": [
      "\n"
     ]
    }
   ],
   "source": [
    "if calendar.isleap(year) == True:\n",
    "\n",
    "    for i in tqdm(range(366)):\n",
    "        split_cube_shifted_ordered_leap_ordered[str(i).zfill(3)] = \\\n",
    "            split_cube_shifted_ordered_leap[str(i).zfill(3)] "
   ]
  },
  {
   "cell_type": "code",
   "execution_count": 50,
   "id": "c99d33d5",
   "metadata": {},
   "outputs": [
    {
     "name": "stdout",
     "output_type": "stream",
     "text": [
      "dict_keys(['000', '001', '002', '003', '004', '005', '006', '007', '008', '009', '010', '011', '012', '013', '014', '015', '016', '017', '018', '019', '020', '021', '022', '023', '024', '025', '026', '027', '028', '029', '030', '031', '032', '033', '034', '035', '036', '037', '038', '039', '040', '041', '042', '043', '044', '045', '046', '047', '048', '049', '050', '051', '052', '053', '054', '055', '056', '057', '058', '059', '060', '061', '062', '063', '064', '065', '066', '067', '068', '069', '070', '071', '072', '073', '074', '075', '076', '077', '078', '079', '080', '081', '082', '083', '084', '085', '086', '087', '088', '089', '090', '091', '092', '093', '094', '095', '096', '097', '098', '099', '100', '101', '102', '103', '104', '105', '106', '107', '108', '109', '110', '111', '112', '113', '114', '115', '116', '117', '118', '119', '120', '121', '122', '123', '124', '125', '126', '127', '128', '129', '130', '131', '132', '133', '134', '135', '136', '137', '138', '139', '140', '141', '142', '143', '144', '145', '146', '147', '148', '149', '150', '151', '152', '153', '154', '155', '156', '157', '158', '159', '160', '161', '162', '163', '164', '165', '166', '167', '168', '169', '170', '171', '172', '173', '174', '175', '176', '177', '178', '179', '180', '181', '182', '183', '184', '185', '186', '187', '188', '189', '190', '191', '192', '193', '194', '195', '196', '197', '198', '199', '200', '201', '202', '203', '204', '205', '206', '207', '208', '209', '210', '211', '212', '213', '214', '215', '216', '217', '218', '219', '220', '221', '222', '223', '224', '225', '226', '227', '228', '229', '230', '231', '232', '233', '234', '235', '236', '237', '238', '239', '240', '241', '242', '243', '244', '245', '246', '247', '248', '249', '250', '251', '252', '253', '254', '255', '256', '257', '258', '259', '260', '261', '262', '263', '264', '265', '266', '267', '268', '269', '270', '271', '272', '273', '274', '275', '276', '277', '278', '279', '280', '281', '282', '283', '284', '285', '286', '287', '288', '289', '290', '291', '292', '293', '294', '295', '296', '297', '298', '299', '300', '301', '302', '303', '304', '305', '306', '307', '308', '309', '310', '311', '312', '313', '314', '315', '316', '317', '318', '319', '320', '321', '322', '323', '324', '325', '326', '327', '328', '329', '330', '331', '332', '333', '334', '335', '336', '337', '338', '339', '340', '341', '342', '343', '344', '345', '346', '347', '348', '349', '350', '351', '352', '353', '354', '355', '356', '357', '358', '359', '360', '361', '362', '363', '364', '365'])\n",
      "time: 1.8 ms (started: 2023-06-07 04:10:18 +00:00)\n"
     ]
    }
   ],
   "source": [
    "if calendar.isleap(year) == True:\n",
    "\n",
    "    print(split_cube_shifted_ordered_leap_ordered.keys())"
   ]
  },
  {
   "cell_type": "code",
   "execution_count": 51,
   "id": "5af52c03",
   "metadata": {},
   "outputs": [
    {
     "name": "stdout",
     "output_type": "stream",
     "text": [
      "time: 4.59 ms (started: 2023-06-07 04:10:18 +00:00)\n"
     ]
    }
   ],
   "source": [
    "if calendar.isleap(year) == True:\n",
    "\n",
    "    split_cube_shifted_ordered_leap_ordered[str(59).zfill(3)].\\\n",
    "        add_aux_coord(iris.coords.AuxCoord(0, long_name='time'))\n"
   ]
  },
  {
   "cell_type": "code",
   "execution_count": 52,
   "id": "e0a17c6d",
   "metadata": {},
   "outputs": [
    {
     "name": "stderr",
     "output_type": "stream",
     "text": [
      "100%|██████████████████████████████████████████████████████████████████████████| 366/366 [00:00<00:00, 6672.09it/s]"
     ]
    },
    {
     "name": "stdout",
     "output_type": "stream",
     "text": [
      "time: 62.5 ms (started: 2023-06-07 04:10:18 +00:00)\n"
     ]
    },
    {
     "name": "stderr",
     "output_type": "stream",
     "text": [
      "\n"
     ]
    }
   ],
   "source": [
    "if calendar.isleap(year) == True:\n",
    "\n",
    "    for i in tqdm(range(len(split_cube_shifted_ordered_leap_ordered))):\n",
    "\n",
    "        tcoord = split_cube_shifted_ordered_leap_ordered[str(i).zfill(3)].coord('time')\n",
    "        tcoord.units = unit.Unit('days since 0001-01-01 00:00:00', calendar='proleptic_gregorian')\n",
    "\n",
    "        split_cube_shifted_ordered_leap_ordered[str(i).zfill(3)].coord('time').points  = \\\n",
    "        u.date2num(datetime.datetime(year, 1, 1)) + i\n",
    "\n",
    "        split_cube_shifted_ordered_leap_ordered[str(i).zfill(3)].coord('time').bounds = None"
   ]
  },
  {
   "cell_type": "raw",
   "id": "d1df2232",
   "metadata": {},
   "source": [
    "this next cell is to make sure/illustrate that the 1st and last days of the year are 1/1 and 31/12 respectively\n",
    "for non-leap years and 1/1 and 30/12 respectively for leap years."
   ]
  },
  {
   "cell_type": "code",
   "execution_count": 53,
   "id": "af279a4c",
   "metadata": {},
   "outputs": [
    {
     "name": "stdout",
     "output_type": "stream",
     "text": [
      "DimCoord :  time / (days since 0001-01-01 00:00:00, proleptic_gregorian calendar)\n",
      "    points: [1972-01-01 00:00:00]\n",
      "    shape: (1,)\n",
      "    dtype: int64\n",
      "    standard_name: 'time'\n",
      "    long_name: 'time'\n",
      "    var_name: 'time'\n",
      "--\n",
      "DimCoord :  time / (days since 0001-01-01 00:00:00, proleptic_gregorian calendar)\n",
      "    points: [1972-12-31 00:00:00]\n",
      "    shape: (1,)\n",
      "    dtype: int64\n",
      "    standard_name: 'time'\n",
      "    long_name: 'time'\n",
      "    var_name: 'time'\n",
      "time: 3.12 ms (started: 2023-06-07 04:10:18 +00:00)\n"
     ]
    }
   ],
   "source": [
    "if calendar.isleap(year) == True:\n",
    "\n",
    "    print(list(split_cube_shifted_ordered_leap_ordered.values())[0].coord('time'))\n",
    "    print('--')\n",
    "    print(list(split_cube_shifted_ordered_leap_ordered.values())[-1].coord('time'))\n"
   ]
  },
  {
   "cell_type": "raw",
   "id": "b0f0a50e",
   "metadata": {},
   "source": [
    "this next cell is to make sure/illustrate that feb 29th is there... "
   ]
  },
  {
   "cell_type": "code",
   "execution_count": 54,
   "id": "a1b9b669",
   "metadata": {},
   "outputs": [
    {
     "data": {
      "text/plain": [
       "2"
      ]
     },
     "execution_count": 54,
     "metadata": {},
     "output_type": "execute_result"
    },
    {
     "data": {
      "text/plain": [
       "28"
      ]
     },
     "execution_count": 54,
     "metadata": {},
     "output_type": "execute_result"
    },
    {
     "name": "stdout",
     "output_type": "stream",
     "text": [
      "--\n"
     ]
    },
    {
     "data": {
      "text/plain": [
       "2"
      ]
     },
     "execution_count": 54,
     "metadata": {},
     "output_type": "execute_result"
    },
    {
     "data": {
      "text/plain": [
       "29"
      ]
     },
     "execution_count": 54,
     "metadata": {},
     "output_type": "execute_result"
    },
    {
     "name": "stdout",
     "output_type": "stream",
     "text": [
      "--\n"
     ]
    },
    {
     "data": {
      "text/plain": [
       "3"
      ]
     },
     "execution_count": 54,
     "metadata": {},
     "output_type": "execute_result"
    },
    {
     "data": {
      "text/plain": [
       "1"
      ]
     },
     "execution_count": 54,
     "metadata": {},
     "output_type": "execute_result"
    },
    {
     "name": "stdout",
     "output_type": "stream",
     "text": [
      "--\n",
      "time: 26 ms (started: 2023-06-07 04:10:18 +00:00)\n"
     ]
    }
   ],
   "source": [
    "if calendar.isleap(year) == True:\n",
    "\n",
    "    for i in range(58,61):\n",
    "\n",
    "        u.num2date(split_cube_shifted_ordered_leap_ordered[str(i).zfill(3)].coord('time').points)[0].month\n",
    "        u.num2date(split_cube_shifted_ordered_leap_ordered[str(i).zfill(3)].coord('time').points)[0].day\n",
    "        print('--')\n"
   ]
  },
  {
   "cell_type": "code",
   "execution_count": 55,
   "id": "ef9ec33f",
   "metadata": {},
   "outputs": [
    {
     "name": "stderr",
     "output_type": "stream",
     "text": [
      "100%|████████████████████████████████████████████████████████████████████████████| 365/365 [05:40<00:00,  1.07it/s]\n",
      "100%|████████████████████████████████████████████████████████████████████████████| 366/366 [05:52<00:00,  1.04it/s]\n"
     ]
    },
    {
     "data": {
      "image/png": "[encoded data removed]",
      "text/plain": [
       "<Figure size 432x288 with 1 Axes>"
      ]
     },
     "metadata": {
      "needs_background": "light"
     },
     "output_type": "display_data"
    },
    {
     "name": "stdout",
     "output_type": "stream",
     "text": [
      "time: 11min 33s (started: 2023-06-07 04:10:18 +00:00)\n"
     ]
    }
   ],
   "source": [
    "if calendar.isleap(year) == True:\n",
    "\n",
    "    series_shifted_ordered = []\n",
    "\n",
    "    for i in tqdm(range(365)):\n",
    "        series_shifted_ordered.append(list(split_cube_shifted_ordered.values())[i].\\\n",
    "                      collapsed(('latitude','longitude'),iris.analysis.MEAN).data)\n",
    "\n",
    "    plt.plot(series_shifted_ordered)\n",
    "\n",
    "    #\n",
    "\n",
    "    series_shifted_ordered_leap_ordered = []\n",
    "\n",
    "    for i in tqdm(range(366)):\n",
    "        series_shifted_ordered_leap_ordered.append(list(split_cube_shifted_ordered_leap_ordered.values())[i].\\\n",
    "                      collapsed(('latitude','longitude'),iris.analysis.MEAN).data)\n",
    "\n",
    "    plt.plot(series_shifted_ordered_leap_ordered)\n",
    "\n",
    "plt.show();\n"
   ]
  },
  {
   "cell_type": "code",
   "execution_count": 56,
   "id": "843b613c",
   "metadata": {},
   "outputs": [
    {
     "data": {
      "text/plain": [
       "365"
      ]
     },
     "execution_count": 56,
     "metadata": {},
     "output_type": "execute_result"
    },
    {
     "data": {
      "text/plain": [
       "366"
      ]
     },
     "execution_count": 56,
     "metadata": {},
     "output_type": "execute_result"
    },
    {
     "name": "stdout",
     "output_type": "stream",
     "text": [
      "time: 16.8 ms (started: 2023-06-07 04:21:52 +00:00)\n"
     ]
    }
   ],
   "source": [
    "if calendar.isleap(year) == True:\n",
    "\n",
    "    len(series_shifted_ordered)\n",
    "    len(series_shifted_ordered_leap_ordered)\n"
   ]
  },
  {
   "cell_type": "code",
   "execution_count": 57,
   "id": "afb8832b",
   "metadata": {},
   "outputs": [
    {
     "data": {
      "image/png": "[encoded data removed]",
      "text/plain": [
       "<Figure size 1080x720 with 1 Axes>"
      ]
     },
     "metadata": {
      "needs_background": "light"
     },
     "output_type": "display_data"
    },
    {
     "name": "stdout",
     "output_type": "stream",
     "text": [
      "time: 163 ms (started: 2023-06-07 04:21:52 +00:00)\n"
     ]
    }
   ],
   "source": [
    "if calendar.isleap(year) == True:\n",
    "\n",
    "    fig = plt.figure(figsize=[15,10])\n",
    "\n",
    "    plt.plot(series_shifted_ordered,'k-',label = 'without leap day')\n",
    "    plt.plot(series_shifted_ordered_leap_ordered,'k--',label = 'with leap day')\n",
    "\n",
    "    plt.legend()\n",
    "\n",
    "plt.show();"
   ]
  },
  {
   "cell_type": "code",
   "execution_count": 58,
   "id": "5ae8419d",
   "metadata": {},
   "outputs": [
    {
     "data": {
      "image/png": "[encoded data removed]",
      "text/plain": [
       "<Figure size 1080x720 with 1 Axes>"
      ]
     },
     "metadata": {
      "needs_background": "light"
     },
     "output_type": "display_data"
    },
    {
     "name": "stdout",
     "output_type": "stream",
     "text": [
      "time: 1.29 s (started: 2023-06-07 04:21:52 +00:00)\n"
     ]
    }
   ],
   "source": [
    "if calendar.isleap(year) == True:\n",
    "\n",
    "    fig = plt.figure(figsize=[15,10])\n",
    "\n",
    "    ax = plt.subplot(1,1,1)\n",
    "\n",
    "    plt.plot(series_shifted_ordered,'b-',label = '365 day data', alpha = 0.25, linewidth = 5)\n",
    "    plt.plot(series_shifted_ordered_leap_ordered,'r-', label = '366 day data')\n",
    "\n",
    "    label = '29th February'\n",
    "    plt.plot(58, \n",
    "             list(split_cube_shifted_ordered.values())[58].collapsed(('latitude','longitude'),\n",
    "                                                                     iris.analysis.MEAN).data,\n",
    "            'Xk',alpha=1, markersize = 20,label = label)\n",
    "\n",
    "    plt.legend(borderpad = 1, loc = 'upper left')\n",
    "\n",
    "\n",
    "\n",
    "#     plt.grid()\n",
    "\n",
    "    plt.xticks(fontsize=fontsize)\n",
    "    plt.yticks(fontsize=fontsize)\n",
    "\n",
    "    \n",
    "    plt.xlabel('day of year', fontsize = fontsize)\n",
    "    plt.ylabel('area mean of '+var+' \\nfor '+str(year)+' '+units,fontsize = fontsize)\n",
    "    plt.ticklabel_format(axis='y', style='sci', scilimits=(0,0))\n",
    "\n",
    "    # inset axes....\n",
    "    axins = ax.inset_axes([0.35, 0.4, 0.3, 0.2])\n",
    "    axins.plot(np.arange(50,70),series_shifted_ordered[50:70],'b-',label = 'Original data', alpha = 0.25, linewidth = 5)\n",
    "    axins.plot(np.arange(50,70),series_shifted_ordered_leap_ordered[50:70],'r-', label = 'Modified data')\n",
    "    \n",
    "    axins.set_xticklabels([])\n",
    "    axins.set_yticklabels([])\n",
    "\n",
    "    rect = Rectangle((0,lims[0]),58,lims[1]-lims[0], alpha = 0.1)\n",
    "    ax.add_patch(rect)\n",
    "\n",
    "    plt.text(0.99,0.97,'created at '+str(datetime.datetime.now().replace(microsecond=0).isoformat()),\n",
    "         transform = ax.transAxes,ha = 'right')\n",
    "   \n",
    "\n",
    "    plt.xlim([0,366])\n",
    "\n",
    "\n",
    "    plt.title('Inset shows zoom in on February 29th to illustrate insertion of leap-day')\n",
    "    \n",
    "    filenamestring = path+'/gregorian/pdfs/'+var+\\\n",
    "              '-'+str(year)+\\\n",
    "              '-365-to-366-day-calendar.pdf'\n",
    "\n",
    "\n",
    "    plt.text(0.99,0.03, os.path.basename(filenamestring), transform = ax.transAxes, ha = 'right')\n",
    "\n",
    "    plt.savefig(filenamestring)\n",
    "\n",
    "\n",
    "plt.show();"
   ]
  },
  {
   "cell_type": "code",
   "execution_count": 59,
   "id": "a13a355f",
   "metadata": {},
   "outputs": [
    {
     "data": {
      "text/plain": [
       "array([0, 2, 4])"
      ]
     },
     "execution_count": 59,
     "metadata": {},
     "output_type": "execute_result"
    },
    {
     "name": "stdout",
     "output_type": "stream",
     "text": [
      "time: 2.88 ms (started: 2023-06-07 04:21:53 +00:00)\n"
     ]
    }
   ],
   "source": [
    "np.arange(0,6,2)"
   ]
  },
  {
   "cell_type": "code",
   "execution_count": 60,
   "id": "077b1fd7",
   "metadata": {},
   "outputs": [
    {
     "name": "stderr",
     "output_type": "stream",
     "text": [
      "100%|████████████████████████████████████████████████████████████████████████████| 366/366 [05:53<00:00,  1.04it/s]"
     ]
    },
    {
     "name": "stdout",
     "output_type": "stream",
     "text": [
      "time: 5min 53s (started: 2023-06-07 04:21:53 +00:00)\n"
     ]
    },
    {
     "name": "stderr",
     "output_type": "stream",
     "text": [
      "\n"
     ]
    }
   ],
   "source": [
    "if calendar.isleap(year) == True:\n",
    "\n",
    "    cube_for_saving = copy.deepcopy(split_cube_shifted_ordered_leap_ordered)\n",
    "\n",
    "    for i in tqdm(range(len(cube_for_saving))):\n",
    "\n",
    "        cube_for_saving[str(i).zfill(3)] = iris.util.new_axis(cube_for_saving[str(i).zfill(3)],'time')\n",
    "\n",
    "        file_for_saving = path+'/gregorian/'+\\\n",
    "                  var+\\\n",
    "          '-'+str(u.num2date(cube_for_saving[str(i).zfill(3)].coord('time').points)[0].year)+\\\n",
    "          '-'+str(u.num2date(cube_for_saving[str(i).zfill(3)].coord('time').points)[0].month).zfill(2)+\\\n",
    "          '-'+str(u.num2date(cube_for_saving[str(i).zfill(3)].coord('time').points)[0].day).zfill(2)+\\\n",
    "          '-gregorian.nc'\n",
    "        \n",
    "        iris.save(cube_for_saving[str(i).zfill(3)],file_for_saving      )\n",
    "\n"
   ]
  },
  {
   "cell_type": "markdown",
   "id": "1f733aad",
   "metadata": {},
   "source": [
    "## now use cdo mergetime to create single files"
   ]
  },
  {
   "cell_type": "raw",
   "id": "d0e516e3",
   "metadata": {},
   "source": [
    "module load CDO\n",
    "cd gregorian\n",
    "export year=1972\n",
    "export var=air_temperature\n",
    "cdo -O mergetime ${var}-${year}-??-??-gregorian.nc ${var}-${year}-gregorian.nc\n",
    "rm ${var}-${year}-??-??-gregorian.nc\n"
   ]
  },
  {
   "cell_type": "code",
   "execution_count": 61,
   "id": "2930d113",
   "metadata": {},
   "outputs": [
    {
     "name": "stdout",
     "output_type": "stream",
     "text": [
      "time: 459 µs (started: 2023-06-07 04:41:39 +00:00)\n"
     ]
    }
   ],
   "source": [
    "#cheese"
   ]
  },
  {
   "cell_type": "code",
   "execution_count": null,
   "id": "2dc8392e",
   "metadata": {},
   "outputs": [],
   "source": []
  },
  {
   "cell_type": "code",
   "execution_count": null,
   "id": "edf8330a",
   "metadata": {},
   "outputs": [],
   "source": []
  },
  {
   "cell_type": "code",
   "execution_count": null,
   "id": "5be8f106",
   "metadata": {},
   "outputs": [],
   "source": []
  }
 ],
 "metadata": {
  "celltoolbar": "Tags",
  "kernelspec": {
   "display_name": "Python 3 (ipykernel)",
   "language": "python",
   "name": "python3"
  },
  "language_info": {
   "codemirror_mode": {
    "name": "ipython",
    "version": 3
   },
   "file_extension": ".py",
   "mimetype": "text/x-python",
   "name": "python",
   "nbconvert_exporter": "python",
   "pygments_lexer": "ipython3",
   "version": "3.10.4"
  }
 },
 "nbformat": 4,
 "nbformat_minor": 5
}
